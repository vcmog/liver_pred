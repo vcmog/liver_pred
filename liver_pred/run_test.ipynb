{
 "cells": [
  {
   "cell_type": "code",
   "execution_count": 1,
   "metadata": {},
   "outputs": [
    {
     "ename": "ImportError",
     "evalue": "cannot import name 'linregresS' from 'scipy.stats' (c:\\Users\\victo\\anaconda3\\envs\\LIVER_PRED\\Lib\\site-packages\\scipy\\stats\\__init__.py)",
     "output_type": "error",
     "traceback": [
      "\u001b[1;31m---------------------------------------------------------------------------\u001b[0m",
      "\u001b[1;31mImportError\u001b[0m                               Traceback (most recent call last)",
      "Cell \u001b[1;32mIn[1], line 5\u001b[0m\n\u001b[0;32m      3\u001b[0m \u001b[38;5;28;01mimport\u001b[39;00m \u001b[38;5;21;01mutils\u001b[39;00m\u001b[38;5;21;01m.\u001b[39;00m\u001b[38;5;21;01mcolonflag\u001b[39;00m\u001b[38;5;21;01m.\u001b[39;00m\u001b[38;5;21;01mfeature_generation\u001b[39;00m \u001b[38;5;28;01mas\u001b[39;00m \u001b[38;5;21;01mfg\u001b[39;00m\n\u001b[0;32m      4\u001b[0m \u001b[38;5;28;01mimport\u001b[39;00m \u001b[38;5;21;01mmatplotlib\u001b[39;00m\u001b[38;5;21;01m.\u001b[39;00m\u001b[38;5;21;01mpyplot\u001b[39;00m \u001b[38;5;28;01mas\u001b[39;00m \u001b[38;5;21;01mplt\u001b[39;00m\n\u001b[1;32m----> 5\u001b[0m \u001b[38;5;28;01mfrom\u001b[39;00m \u001b[38;5;21;01mscipy\u001b[39;00m\u001b[38;5;21;01m.\u001b[39;00m\u001b[38;5;21;01mstats\u001b[39;00m \u001b[38;5;28;01mimport\u001b[39;00m linregresS\n",
      "\u001b[1;31mImportError\u001b[0m: cannot import name 'linregresS' from 'scipy.stats' (c:\\Users\\victo\\anaconda3\\envs\\LIVER_PRED\\Lib\\site-packages\\scipy\\stats\\__init__.py)"
     ]
    }
   ],
   "source": [
    "import pandas as pd\n",
    "import numpy as np\n",
    "import utils.colonflag.feature_generation as fg\n",
    "import matplotlib.pyplot as plt\n",
    "from scipy.stats import linregresS"
   ]
  },
  {
   "cell_type": "markdown",
   "metadata": {},
   "source": [
    "# Feature Engineering Model"
   ]
  },
  {
   "cell_type": "code",
   "execution_count": 5,
   "metadata": {},
   "outputs": [],
   "source": [
    "from sklearn.model_selection import train_test_split\n",
    "from sklearn.model_selection import train_test_split, GridSearchCV\n",
    "from sklearn.linear_model import LogisticRegression\n",
    "from sklearn.preprocessing import StandardScaler\n",
    "from sklearn.metrics import confusion_matrix, ConfusionMatrixDisplay, roc_auc_score, average_precision_score, f1_score, classification_report, precision_score, recall_score\n",
    "from sklearn.ensemble import RandomForestClassifier, GradientBoostingClassifier\n",
    "from sklearn.neural_network import MLPClassifier\n",
    "from sklearn.decomposition import PCA\n",
    "\n",
    "#from imblearn.over_sampling import SMOTE\n",
    "#from imblearn.under_sampling import RandomUnderSampler\n",
    "#from imblearn.pipeline import Pipeline\n"
   ]
  },
  {
   "cell_type": "code",
   "execution_count": 7,
   "metadata": {},
   "outputs": [],
   "source": [
    "dir = r\"C:\\Users\\victo\\OneDrive - University of Leeds\\Documents\\Uni Work\\Project\\MIMIC Work\\Liver Cancer Prediction\\liver_pred\\data\\interim\"\n",
    "#processed_labs = pd.read_csv(dir + r\"\\processed_lab_data.csv\", parse_dates=[\"charttime\", \"index_date\"], index_col=0)\n",
    "cohort_ids = pd.read_csv(dir + r\"\\matched_cohort_ids.csv\", index_col=0)\n",
    "processed_labs = pd.read_csv(dir + r\"\\processed_lab_data.csv\", parse_dates=[\"charttime\", \"index_date\"], index_col=0)"
   ]
  },
  {
   "cell_type": "code",
   "execution_count": 46,
   "metadata": {},
   "outputs": [],
   "source": [
    "current_df = fg.current_bloods_df(processed_labs, cohort_ids)\n",
    "historical_df = fg.historical_bloods(processed_labs, )"
   ]
  },
  {
   "cell_type": "code",
   "execution_count": null,
   "metadata": {},
   "outputs": [],
   "source": [
    "from sklearn.linear_model import LogisticRegression\n",
    "import utils.missing_data as md"
   ]
  },
  {
   "cell_type": "code",
   "execution_count": 448,
   "metadata": {},
   "outputs": [
    {
     "name": "stdout",
     "output_type": "stream",
     "text": [
      "Ref range missing: Urine Bacteria\n",
      "Ref range missing: Urine Epithelial Cells\n",
      "Ref range missing: Urine Length of Urine Collection\n",
      "Ref range missing: Blood Estimated GFR (MDRD equation)\n",
      "Ref range missing: Blood Green Top Hold (plasma)\n",
      "Ref range missing: Urine Bilirubin\n",
      "Ref range missing: Urine Blood\n",
      "Ref range missing: Urine Leukocytes\n",
      "Ref range missing: Urine Nitrite\n",
      "Ref range missing: Urine Urine Appearance\n",
      "Ref range missing: Urine Urine Color\n",
      "Ref range missing: Urine Yeast\n",
      "Removed 4048 subject_ids from current_labs and historical_labs\n",
      "Removed 430 positive outcomes from current_labs\n"
     ]
    }
   ],
   "source": [
    "current_df, historical_df, feature_df = fg.generate_features(processed_labs, cohort_ids, current_window_preindex=35, current_window_postindex=-21, historical_window=35)"
   ]
  },
  {
   "cell_type": "code",
   "execution_count": 475,
   "metadata": {},
   "outputs": [],
   "source": [
    "all_na_columns = feature_df.columns[feature_df.isna().sum()>len(feature_df)*0.8]\n",
    "feature_df = feature_df.drop(columns=all_na_columns)\n",
    "zero_mask = (feature_df == 0.0)\n",
    "#all_zero_columns = feature_df.columns[zero_mask.sum()>len(feature_df)*0.8]\n",
    "#all_zero_columns"
   ]
  },
  {
   "cell_type": "code",
   "execution_count": 477,
   "metadata": {},
   "outputs": [
    {
     "data": {
      "text/plain": [
       "proximal_trend_Urine Yeast                         2835\n",
       "distal_trend_Urine Yeast                           2835\n",
       "proximal_trend_Urine Bacteria                      2835\n",
       "distal_trend_Urine Bacteria                        2835\n",
       "Urine Epithelial Cells                             2832\n",
       "distal_trend_Blood Green Top Hold (plasma)         2775\n",
       "proximal_trend_Blood Green Top Hold (plasma)       2775\n",
       "proximal_trend_Urine Length of Urine Collection    2765\n",
       "distal_trend_Urine Length of Urine Collection      2761\n",
       "proximal_trend_Urine Epithelial Cells              2731\n",
       "dtype: int64"
      ]
     },
     "execution_count": 477,
     "metadata": {},
     "output_type": "execute_result"
    }
   ],
   "source": [
    "feature_df.isna().sum().sort_values(ascending=False).head(10)"
   ]
  },
  {
   "cell_type": "code",
   "execution_count": 478,
   "metadata": {},
   "outputs": [],
   "source": [
    "nas_removed = feature_df.fillna(0, inplace=False)"
   ]
  },
  {
   "cell_type": "code",
   "execution_count": 479,
   "metadata": {},
   "outputs": [],
   "source": [
    "feng_y = nas_removed['outcome']\n",
    "feng_X = nas_removed.drop(columns=[\"outcome\",\"subject_id\"])"
   ]
  },
  {
   "cell_type": "code",
   "execution_count": 480,
   "metadata": {},
   "outputs": [
    {
     "name": "stdout",
     "output_type": "stream",
     "text": [
      "Train Length: 2941        Train cases: 742    Proportion: 25.22951377082625 %\n",
      "Test Length: 736          Test cases: 178       Proportion: 24.184782608695652 %\n"
     ]
    }
   ],
   "source": [
    "X_train, X_test,y_train, y_test = train_test_split(feng_X, feng_y, train_size = 0.8)\n",
    "print(f\"Train Length: {len(X_train)}        Train cases: {len(y_train[y_train==1])}    Proportion: {len(y_train[y_train==1])/len(y_train)*100} %\")\n",
    "print(f\"Test Length: {len(X_test)}          Test cases: {len(y_test[y_test==1])}       Proportion: {len(y_test[y_test==1])/len(y_test)*100} %\")"
   ]
  },
  {
   "cell_type": "code",
   "execution_count": 481,
   "metadata": {},
   "outputs": [
    {
     "data": {
      "text/html": [
       "<div>\n",
       "<style scoped>\n",
       "    .dataframe tbody tr th:only-of-type {\n",
       "        vertical-align: middle;\n",
       "    }\n",
       "\n",
       "    .dataframe tbody tr th {\n",
       "        vertical-align: top;\n",
       "    }\n",
       "\n",
       "    .dataframe thead th {\n",
       "        text-align: right;\n",
       "    }\n",
       "</style>\n",
       "<table border=\"1\" class=\"dataframe\">\n",
       "  <thead>\n",
       "    <tr style=\"text-align: right;\">\n",
       "      <th></th>\n",
       "      <th>Blood Alanine Aminotransferase (ALT)</th>\n",
       "      <th>Blood Albumin</th>\n",
       "      <th>Blood Alkaline Phosphatase</th>\n",
       "      <th>Blood Anion Gap</th>\n",
       "      <th>Blood Asparate Aminotransferase (AST)</th>\n",
       "      <th>Blood Basophils</th>\n",
       "      <th>Blood Bicarbonate</th>\n",
       "      <th>Blood Bilirubin, Total</th>\n",
       "      <th>Blood Calcium, Total</th>\n",
       "      <th>Blood Chloride</th>\n",
       "      <th>...</th>\n",
       "      <th>proximal_trend_Urine Nitrite</th>\n",
       "      <th>proximal_trend_Urine Protein</th>\n",
       "      <th>proximal_trend_Urine RBC</th>\n",
       "      <th>proximal_trend_Urine Specific Gravity</th>\n",
       "      <th>proximal_trend_Urine Urine Appearance</th>\n",
       "      <th>proximal_trend_Urine Urine Color</th>\n",
       "      <th>proximal_trend_Urine Urobilinogen</th>\n",
       "      <th>proximal_trend_Urine WBC</th>\n",
       "      <th>proximal_trend_Urine Yeast</th>\n",
       "      <th>proximal_trend_Urine pH</th>\n",
       "    </tr>\n",
       "  </thead>\n",
       "  <tbody>\n",
       "    <tr>\n",
       "      <th>0</th>\n",
       "      <td>-0.121988</td>\n",
       "      <td>0.583122</td>\n",
       "      <td>-0.462991</td>\n",
       "      <td>0.808413</td>\n",
       "      <td>0.385934</td>\n",
       "      <td>-0.684748</td>\n",
       "      <td>-1.097407</td>\n",
       "      <td>-0.367540</td>\n",
       "      <td>-0.905074</td>\n",
       "      <td>0.985031</td>\n",
       "      <td>...</td>\n",
       "      <td>0.0</td>\n",
       "      <td>0.009312</td>\n",
       "      <td>-0.033427</td>\n",
       "      <td>-0.024486</td>\n",
       "      <td>0.0</td>\n",
       "      <td>0.0</td>\n",
       "      <td>-0.018811</td>\n",
       "      <td>-0.019948</td>\n",
       "      <td>0.0</td>\n",
       "      <td>0.178143</td>\n",
       "    </tr>\n",
       "    <tr>\n",
       "      <th>1</th>\n",
       "      <td>-0.268333</td>\n",
       "      <td>0.185048</td>\n",
       "      <td>0.040554</td>\n",
       "      <td>-0.059956</td>\n",
       "      <td>-0.273908</td>\n",
       "      <td>-1.110691</td>\n",
       "      <td>-1.339729</td>\n",
       "      <td>-0.413192</td>\n",
       "      <td>0.962960</td>\n",
       "      <td>1.291903</td>\n",
       "      <td>...</td>\n",
       "      <td>0.0</td>\n",
       "      <td>0.009312</td>\n",
       "      <td>-0.033427</td>\n",
       "      <td>0.040559</td>\n",
       "      <td>0.0</td>\n",
       "      <td>0.0</td>\n",
       "      <td>-0.018811</td>\n",
       "      <td>-0.019948</td>\n",
       "      <td>0.0</td>\n",
       "      <td>0.018358</td>\n",
       "    </tr>\n",
       "    <tr>\n",
       "      <th>2</th>\n",
       "      <td>0.390222</td>\n",
       "      <td>-0.856229</td>\n",
       "      <td>3.759362</td>\n",
       "      <td>0.916959</td>\n",
       "      <td>0.371589</td>\n",
       "      <td>-0.471777</td>\n",
       "      <td>0.259599</td>\n",
       "      <td>2.006341</td>\n",
       "      <td>0.094107</td>\n",
       "      <td>-0.779484</td>\n",
       "      <td>...</td>\n",
       "      <td>0.0</td>\n",
       "      <td>0.009312</td>\n",
       "      <td>-0.033427</td>\n",
       "      <td>0.040559</td>\n",
       "      <td>0.0</td>\n",
       "      <td>0.0</td>\n",
       "      <td>-0.018811</td>\n",
       "      <td>-0.019948</td>\n",
       "      <td>0.0</td>\n",
       "      <td>0.018358</td>\n",
       "    </tr>\n",
       "    <tr>\n",
       "      <th>3</th>\n",
       "      <td>-0.135593</td>\n",
       "      <td>0.442309</td>\n",
       "      <td>-0.371333</td>\n",
       "      <td>0.265682</td>\n",
       "      <td>-0.328264</td>\n",
       "      <td>0.649888</td>\n",
       "      <td>-0.031188</td>\n",
       "      <td>-0.062512</td>\n",
       "      <td>0.354763</td>\n",
       "      <td>0.371287</td>\n",
       "      <td>...</td>\n",
       "      <td>0.0</td>\n",
       "      <td>0.009312</td>\n",
       "      <td>-0.033427</td>\n",
       "      <td>0.040559</td>\n",
       "      <td>0.0</td>\n",
       "      <td>0.0</td>\n",
       "      <td>-0.018811</td>\n",
       "      <td>-0.019948</td>\n",
       "      <td>0.0</td>\n",
       "      <td>0.018358</td>\n",
       "    </tr>\n",
       "    <tr>\n",
       "      <th>4</th>\n",
       "      <td>-0.134183</td>\n",
       "      <td>-0.707475</td>\n",
       "      <td>-0.351551</td>\n",
       "      <td>-0.222776</td>\n",
       "      <td>-0.230875</td>\n",
       "      <td>0.593081</td>\n",
       "      <td>0.550386</td>\n",
       "      <td>-0.321889</td>\n",
       "      <td>-1.078844</td>\n",
       "      <td>0.141133</td>\n",
       "      <td>...</td>\n",
       "      <td>0.0</td>\n",
       "      <td>0.009312</td>\n",
       "      <td>-0.033427</td>\n",
       "      <td>0.040559</td>\n",
       "      <td>0.0</td>\n",
       "      <td>0.0</td>\n",
       "      <td>-0.018811</td>\n",
       "      <td>-0.019948</td>\n",
       "      <td>0.0</td>\n",
       "      <td>0.018358</td>\n",
       "    </tr>\n",
       "    <tr>\n",
       "      <th>...</th>\n",
       "      <td>...</td>\n",
       "      <td>...</td>\n",
       "      <td>...</td>\n",
       "      <td>...</td>\n",
       "      <td>...</td>\n",
       "      <td>...</td>\n",
       "      <td>...</td>\n",
       "      <td>...</td>\n",
       "      <td>...</td>\n",
       "      <td>...</td>\n",
       "      <td>...</td>\n",
       "      <td>...</td>\n",
       "      <td>...</td>\n",
       "      <td>...</td>\n",
       "      <td>...</td>\n",
       "      <td>...</td>\n",
       "      <td>...</td>\n",
       "      <td>...</td>\n",
       "      <td>...</td>\n",
       "      <td>...</td>\n",
       "      <td>...</td>\n",
       "    </tr>\n",
       "    <tr>\n",
       "      <th>731</th>\n",
       "      <td>-0.176794</td>\n",
       "      <td>0.072537</td>\n",
       "      <td>-0.334508</td>\n",
       "      <td>1.568236</td>\n",
       "      <td>-0.209507</td>\n",
       "      <td>1.231996</td>\n",
       "      <td>-0.321975</td>\n",
       "      <td>0.014433</td>\n",
       "      <td>1.920173</td>\n",
       "      <td>-0.779484</td>\n",
       "      <td>...</td>\n",
       "      <td>0.0</td>\n",
       "      <td>0.009312</td>\n",
       "      <td>-0.033427</td>\n",
       "      <td>0.040559</td>\n",
       "      <td>0.0</td>\n",
       "      <td>0.0</td>\n",
       "      <td>-0.018811</td>\n",
       "      <td>-0.019948</td>\n",
       "      <td>0.0</td>\n",
       "      <td>0.018358</td>\n",
       "    </tr>\n",
       "    <tr>\n",
       "      <th>732</th>\n",
       "      <td>-0.233634</td>\n",
       "      <td>0.074172</td>\n",
       "      <td>-0.589443</td>\n",
       "      <td>-0.385595</td>\n",
       "      <td>-0.326044</td>\n",
       "      <td>-0.684748</td>\n",
       "      <td>-0.225046</td>\n",
       "      <td>-0.118992</td>\n",
       "      <td>-1.600156</td>\n",
       "      <td>1.368621</td>\n",
       "      <td>...</td>\n",
       "      <td>0.0</td>\n",
       "      <td>0.009312</td>\n",
       "      <td>-0.033427</td>\n",
       "      <td>0.040559</td>\n",
       "      <td>0.0</td>\n",
       "      <td>0.0</td>\n",
       "      <td>-0.018811</td>\n",
       "      <td>-0.019948</td>\n",
       "      <td>0.0</td>\n",
       "      <td>0.018358</td>\n",
       "    </tr>\n",
       "    <tr>\n",
       "      <th>733</th>\n",
       "      <td>-0.471374</td>\n",
       "      <td>0.665224</td>\n",
       "      <td>-0.153019</td>\n",
       "      <td>0.265682</td>\n",
       "      <td>-0.189934</td>\n",
       "      <td>-0.414272</td>\n",
       "      <td>0.453457</td>\n",
       "      <td>-0.242467</td>\n",
       "      <td>0.528534</td>\n",
       "      <td>0.371287</td>\n",
       "      <td>...</td>\n",
       "      <td>0.0</td>\n",
       "      <td>0.009312</td>\n",
       "      <td>-0.033427</td>\n",
       "      <td>0.040559</td>\n",
       "      <td>0.0</td>\n",
       "      <td>0.0</td>\n",
       "      <td>-0.018811</td>\n",
       "      <td>-0.019948</td>\n",
       "      <td>0.0</td>\n",
       "      <td>0.018358</td>\n",
       "    </tr>\n",
       "    <tr>\n",
       "      <th>734</th>\n",
       "      <td>-0.219551</td>\n",
       "      <td>1.523833</td>\n",
       "      <td>0.246925</td>\n",
       "      <td>1.161188</td>\n",
       "      <td>-0.216530</td>\n",
       "      <td>1.979368</td>\n",
       "      <td>0.259599</td>\n",
       "      <td>-0.367540</td>\n",
       "      <td>0.126689</td>\n",
       "      <td>-2.045331</td>\n",
       "      <td>...</td>\n",
       "      <td>0.0</td>\n",
       "      <td>0.009312</td>\n",
       "      <td>-0.033427</td>\n",
       "      <td>0.040559</td>\n",
       "      <td>0.0</td>\n",
       "      <td>0.0</td>\n",
       "      <td>-0.018811</td>\n",
       "      <td>-0.019948</td>\n",
       "      <td>0.0</td>\n",
       "      <td>0.018358</td>\n",
       "    </tr>\n",
       "    <tr>\n",
       "      <th>735</th>\n",
       "      <td>-0.217092</td>\n",
       "      <td>0.220832</td>\n",
       "      <td>-0.159157</td>\n",
       "      <td>0.916959</td>\n",
       "      <td>-0.299994</td>\n",
       "      <td>1.657939</td>\n",
       "      <td>-0.612762</td>\n",
       "      <td>-0.238360</td>\n",
       "      <td>0.344816</td>\n",
       "      <td>0.371287</td>\n",
       "      <td>...</td>\n",
       "      <td>0.0</td>\n",
       "      <td>0.009312</td>\n",
       "      <td>-0.033427</td>\n",
       "      <td>-0.102171</td>\n",
       "      <td>0.0</td>\n",
       "      <td>0.0</td>\n",
       "      <td>-0.018811</td>\n",
       "      <td>-0.019948</td>\n",
       "      <td>0.0</td>\n",
       "      <td>-0.066330</td>\n",
       "    </tr>\n",
       "  </tbody>\n",
       "</table>\n",
       "<p>736 rows × 151 columns</p>\n",
       "</div>"
      ],
      "text/plain": [
       "     Blood Alanine Aminotransferase (ALT)  Blood Albumin  \\\n",
       "0                               -0.121988       0.583122   \n",
       "1                               -0.268333       0.185048   \n",
       "2                                0.390222      -0.856229   \n",
       "3                               -0.135593       0.442309   \n",
       "4                               -0.134183      -0.707475   \n",
       "..                                    ...            ...   \n",
       "731                             -0.176794       0.072537   \n",
       "732                             -0.233634       0.074172   \n",
       "733                             -0.471374       0.665224   \n",
       "734                             -0.219551       1.523833   \n",
       "735                             -0.217092       0.220832   \n",
       "\n",
       "     Blood Alkaline Phosphatase  Blood Anion Gap  \\\n",
       "0                     -0.462991         0.808413   \n",
       "1                      0.040554        -0.059956   \n",
       "2                      3.759362         0.916959   \n",
       "3                     -0.371333         0.265682   \n",
       "4                     -0.351551        -0.222776   \n",
       "..                          ...              ...   \n",
       "731                   -0.334508         1.568236   \n",
       "732                   -0.589443        -0.385595   \n",
       "733                   -0.153019         0.265682   \n",
       "734                    0.246925         1.161188   \n",
       "735                   -0.159157         0.916959   \n",
       "\n",
       "     Blood Asparate Aminotransferase (AST)  Blood Basophils  \\\n",
       "0                                 0.385934        -0.684748   \n",
       "1                                -0.273908        -1.110691   \n",
       "2                                 0.371589        -0.471777   \n",
       "3                                -0.328264         0.649888   \n",
       "4                                -0.230875         0.593081   \n",
       "..                                     ...              ...   \n",
       "731                              -0.209507         1.231996   \n",
       "732                              -0.326044        -0.684748   \n",
       "733                              -0.189934        -0.414272   \n",
       "734                              -0.216530         1.979368   \n",
       "735                              -0.299994         1.657939   \n",
       "\n",
       "     Blood Bicarbonate  Blood Bilirubin, Total  Blood Calcium, Total  \\\n",
       "0            -1.097407               -0.367540             -0.905074   \n",
       "1            -1.339729               -0.413192              0.962960   \n",
       "2             0.259599                2.006341              0.094107   \n",
       "3            -0.031188               -0.062512              0.354763   \n",
       "4             0.550386               -0.321889             -1.078844   \n",
       "..                 ...                     ...                   ...   \n",
       "731          -0.321975                0.014433              1.920173   \n",
       "732          -0.225046               -0.118992             -1.600156   \n",
       "733           0.453457               -0.242467              0.528534   \n",
       "734           0.259599               -0.367540              0.126689   \n",
       "735          -0.612762               -0.238360              0.344816   \n",
       "\n",
       "     Blood Chloride  ...  proximal_trend_Urine Nitrite  \\\n",
       "0          0.985031  ...                           0.0   \n",
       "1          1.291903  ...                           0.0   \n",
       "2         -0.779484  ...                           0.0   \n",
       "3          0.371287  ...                           0.0   \n",
       "4          0.141133  ...                           0.0   \n",
       "..              ...  ...                           ...   \n",
       "731       -0.779484  ...                           0.0   \n",
       "732        1.368621  ...                           0.0   \n",
       "733        0.371287  ...                           0.0   \n",
       "734       -2.045331  ...                           0.0   \n",
       "735        0.371287  ...                           0.0   \n",
       "\n",
       "     proximal_trend_Urine Protein  proximal_trend_Urine RBC  \\\n",
       "0                        0.009312                 -0.033427   \n",
       "1                        0.009312                 -0.033427   \n",
       "2                        0.009312                 -0.033427   \n",
       "3                        0.009312                 -0.033427   \n",
       "4                        0.009312                 -0.033427   \n",
       "..                            ...                       ...   \n",
       "731                      0.009312                 -0.033427   \n",
       "732                      0.009312                 -0.033427   \n",
       "733                      0.009312                 -0.033427   \n",
       "734                      0.009312                 -0.033427   \n",
       "735                      0.009312                 -0.033427   \n",
       "\n",
       "     proximal_trend_Urine Specific Gravity  \\\n",
       "0                                -0.024486   \n",
       "1                                 0.040559   \n",
       "2                                 0.040559   \n",
       "3                                 0.040559   \n",
       "4                                 0.040559   \n",
       "..                                     ...   \n",
       "731                               0.040559   \n",
       "732                               0.040559   \n",
       "733                               0.040559   \n",
       "734                               0.040559   \n",
       "735                              -0.102171   \n",
       "\n",
       "     proximal_trend_Urine Urine Appearance  proximal_trend_Urine Urine Color  \\\n",
       "0                                      0.0                               0.0   \n",
       "1                                      0.0                               0.0   \n",
       "2                                      0.0                               0.0   \n",
       "3                                      0.0                               0.0   \n",
       "4                                      0.0                               0.0   \n",
       "..                                     ...                               ...   \n",
       "731                                    0.0                               0.0   \n",
       "732                                    0.0                               0.0   \n",
       "733                                    0.0                               0.0   \n",
       "734                                    0.0                               0.0   \n",
       "735                                    0.0                               0.0   \n",
       "\n",
       "     proximal_trend_Urine Urobilinogen  proximal_trend_Urine WBC  \\\n",
       "0                            -0.018811                 -0.019948   \n",
       "1                            -0.018811                 -0.019948   \n",
       "2                            -0.018811                 -0.019948   \n",
       "3                            -0.018811                 -0.019948   \n",
       "4                            -0.018811                 -0.019948   \n",
       "..                                 ...                       ...   \n",
       "731                          -0.018811                 -0.019948   \n",
       "732                          -0.018811                 -0.019948   \n",
       "733                          -0.018811                 -0.019948   \n",
       "734                          -0.018811                 -0.019948   \n",
       "735                          -0.018811                 -0.019948   \n",
       "\n",
       "     proximal_trend_Urine Yeast  proximal_trend_Urine pH  \n",
       "0                           0.0                 0.178143  \n",
       "1                           0.0                 0.018358  \n",
       "2                           0.0                 0.018358  \n",
       "3                           0.0                 0.018358  \n",
       "4                           0.0                 0.018358  \n",
       "..                          ...                      ...  \n",
       "731                         0.0                 0.018358  \n",
       "732                         0.0                 0.018358  \n",
       "733                         0.0                 0.018358  \n",
       "734                         0.0                 0.018358  \n",
       "735                         0.0                -0.066330  \n",
       "\n",
       "[736 rows x 151 columns]"
      ]
     },
     "execution_count": 481,
     "metadata": {},
     "output_type": "execute_result"
    }
   ],
   "source": [
    "#### Scale training #####\n",
    "scaler = StandardScaler()\n",
    "X_train_scaled = pd.DataFrame(scaler.fit_transform(X_train))\n",
    "X_train_scaled = X_train_scaled.set_axis(X_train.columns,axis=1)\n",
    "\n",
    "#### Scale Test using training scaler ####\n",
    "X_test_scaled = pd.DataFrame(scaler.transform(X_test))\n",
    "X_test_scaled.set_axis(X_test.columns,axis=1)\n"
   ]
  },
  {
   "cell_type": "code",
   "execution_count": 462,
   "metadata": {},
   "outputs": [
    {
     "data": {
      "text/html": [
       "<div>\n",
       "<style scoped>\n",
       "    .dataframe tbody tr th:only-of-type {\n",
       "        vertical-align: middle;\n",
       "    }\n",
       "\n",
       "    .dataframe tbody tr th {\n",
       "        vertical-align: top;\n",
       "    }\n",
       "\n",
       "    .dataframe thead th {\n",
       "        text-align: right;\n",
       "    }\n",
       "</style>\n",
       "<table border=\"1\" class=\"dataframe\">\n",
       "  <thead>\n",
       "    <tr style=\"text-align: right;\">\n",
       "      <th></th>\n",
       "      <th>subject_id</th>\n",
       "      <th>Blood Alanine Aminotransferase (ALT)</th>\n",
       "      <th>Blood Albumin</th>\n",
       "      <th>Blood Alkaline Phosphatase</th>\n",
       "      <th>Blood Anion Gap</th>\n",
       "      <th>Blood Asparate Aminotransferase (AST)</th>\n",
       "      <th>Blood Basophils</th>\n",
       "      <th>Blood Bicarbonate</th>\n",
       "      <th>Blood Bilirubin, Total</th>\n",
       "      <th>Blood Calcium, Total</th>\n",
       "      <th>...</th>\n",
       "      <th>proximal_trend_Urine Nitrite</th>\n",
       "      <th>proximal_trend_Urine Protein</th>\n",
       "      <th>proximal_trend_Urine RBC</th>\n",
       "      <th>proximal_trend_Urine Specific Gravity</th>\n",
       "      <th>proximal_trend_Urine Urine Appearance</th>\n",
       "      <th>proximal_trend_Urine Urine Color</th>\n",
       "      <th>proximal_trend_Urine Urobilinogen</th>\n",
       "      <th>proximal_trend_Urine WBC</th>\n",
       "      <th>proximal_trend_Urine Yeast</th>\n",
       "      <th>proximal_trend_Urine pH</th>\n",
       "    </tr>\n",
       "  </thead>\n",
       "  <tbody>\n",
       "    <tr>\n",
       "      <th>1472</th>\n",
       "      <td>13309430</td>\n",
       "      <td>23.000000</td>\n",
       "      <td>3.993018</td>\n",
       "      <td>88.000000</td>\n",
       "      <td>13.500000</td>\n",
       "      <td>28.000000</td>\n",
       "      <td>0.100000</td>\n",
       "      <td>24.500000</td>\n",
       "      <td>0.500000</td>\n",
       "      <td>8.500000</td>\n",
       "      <td>...</td>\n",
       "      <td>0.0</td>\n",
       "      <td>0.0</td>\n",
       "      <td>0.974095</td>\n",
       "      <td>0.003187</td>\n",
       "      <td>0.0</td>\n",
       "      <td>0.0</td>\n",
       "      <td>0.0</td>\n",
       "      <td>0.000000</td>\n",
       "      <td>0.0</td>\n",
       "      <td>0.792917</td>\n",
       "    </tr>\n",
       "    <tr>\n",
       "      <th>2674</th>\n",
       "      <td>16449806</td>\n",
       "      <td>107.666667</td>\n",
       "      <td>3.450000</td>\n",
       "      <td>84.333333</td>\n",
       "      <td>13.000000</td>\n",
       "      <td>87.666667</td>\n",
       "      <td>0.800000</td>\n",
       "      <td>24.333333</td>\n",
       "      <td>0.566667</td>\n",
       "      <td>8.250000</td>\n",
       "      <td>...</td>\n",
       "      <td>0.0</td>\n",
       "      <td>0.0</td>\n",
       "      <td>0.000000</td>\n",
       "      <td>0.000000</td>\n",
       "      <td>0.0</td>\n",
       "      <td>0.0</td>\n",
       "      <td>0.0</td>\n",
       "      <td>0.000000</td>\n",
       "      <td>0.0</td>\n",
       "      <td>0.000000</td>\n",
       "    </tr>\n",
       "    <tr>\n",
       "      <th>1855</th>\n",
       "      <td>14252818</td>\n",
       "      <td>16.000000</td>\n",
       "      <td>3.550000</td>\n",
       "      <td>81.500000</td>\n",
       "      <td>12.500000</td>\n",
       "      <td>15.000000</td>\n",
       "      <td>1.274264</td>\n",
       "      <td>30.000000</td>\n",
       "      <td>0.300000</td>\n",
       "      <td>8.850000</td>\n",
       "      <td>...</td>\n",
       "      <td>0.0</td>\n",
       "      <td>0.0</td>\n",
       "      <td>0.000000</td>\n",
       "      <td>0.000000</td>\n",
       "      <td>0.0</td>\n",
       "      <td>0.0</td>\n",
       "      <td>0.0</td>\n",
       "      <td>0.000000</td>\n",
       "      <td>0.0</td>\n",
       "      <td>0.000000</td>\n",
       "    </tr>\n",
       "    <tr>\n",
       "      <th>3283</th>\n",
       "      <td>18336221</td>\n",
       "      <td>9.000000</td>\n",
       "      <td>2.900000</td>\n",
       "      <td>88.000000</td>\n",
       "      <td>13.000000</td>\n",
       "      <td>13.000000</td>\n",
       "      <td>1.000000</td>\n",
       "      <td>25.500000</td>\n",
       "      <td>0.400000</td>\n",
       "      <td>11.400000</td>\n",
       "      <td>...</td>\n",
       "      <td>0.0</td>\n",
       "      <td>0.0</td>\n",
       "      <td>0.000000</td>\n",
       "      <td>0.001123</td>\n",
       "      <td>0.0</td>\n",
       "      <td>0.0</td>\n",
       "      <td>0.0</td>\n",
       "      <td>0.000000</td>\n",
       "      <td>0.0</td>\n",
       "      <td>-0.835706</td>\n",
       "    </tr>\n",
       "    <tr>\n",
       "      <th>1968</th>\n",
       "      <td>14518036</td>\n",
       "      <td>15.739454</td>\n",
       "      <td>3.608894</td>\n",
       "      <td>95.529014</td>\n",
       "      <td>16.000000</td>\n",
       "      <td>9.211115</td>\n",
       "      <td>0.100000</td>\n",
       "      <td>21.000000</td>\n",
       "      <td>0.493584</td>\n",
       "      <td>9.600000</td>\n",
       "      <td>...</td>\n",
       "      <td>0.0</td>\n",
       "      <td>0.0</td>\n",
       "      <td>-154.142857</td>\n",
       "      <td>0.007429</td>\n",
       "      <td>0.0</td>\n",
       "      <td>0.0</td>\n",
       "      <td>0.0</td>\n",
       "      <td>0.000000</td>\n",
       "      <td>0.0</td>\n",
       "      <td>0.500000</td>\n",
       "    </tr>\n",
       "    <tr>\n",
       "      <th>...</th>\n",
       "      <td>...</td>\n",
       "      <td>...</td>\n",
       "      <td>...</td>\n",
       "      <td>...</td>\n",
       "      <td>...</td>\n",
       "      <td>...</td>\n",
       "      <td>...</td>\n",
       "      <td>...</td>\n",
       "      <td>...</td>\n",
       "      <td>...</td>\n",
       "      <td>...</td>\n",
       "      <td>...</td>\n",
       "      <td>...</td>\n",
       "      <td>...</td>\n",
       "      <td>...</td>\n",
       "      <td>...</td>\n",
       "      <td>...</td>\n",
       "      <td>...</td>\n",
       "      <td>...</td>\n",
       "      <td>...</td>\n",
       "      <td>...</td>\n",
       "    </tr>\n",
       "    <tr>\n",
       "      <th>3108</th>\n",
       "      <td>17725722</td>\n",
       "      <td>20.000000</td>\n",
       "      <td>3.600000</td>\n",
       "      <td>103.000000</td>\n",
       "      <td>12.500000</td>\n",
       "      <td>38.000000</td>\n",
       "      <td>0.400000</td>\n",
       "      <td>26.000000</td>\n",
       "      <td>2.100000</td>\n",
       "      <td>8.300000</td>\n",
       "      <td>...</td>\n",
       "      <td>0.0</td>\n",
       "      <td>0.0</td>\n",
       "      <td>0.000000</td>\n",
       "      <td>0.000000</td>\n",
       "      <td>0.0</td>\n",
       "      <td>0.0</td>\n",
       "      <td>0.0</td>\n",
       "      <td>0.000000</td>\n",
       "      <td>0.0</td>\n",
       "      <td>0.000000</td>\n",
       "    </tr>\n",
       "    <tr>\n",
       "      <th>1655</th>\n",
       "      <td>13779191</td>\n",
       "      <td>25.628310</td>\n",
       "      <td>3.661093</td>\n",
       "      <td>73.590711</td>\n",
       "      <td>16.000000</td>\n",
       "      <td>37.944328</td>\n",
       "      <td>0.400000</td>\n",
       "      <td>22.500000</td>\n",
       "      <td>1.783638</td>\n",
       "      <td>8.400000</td>\n",
       "      <td>...</td>\n",
       "      <td>0.0</td>\n",
       "      <td>0.0</td>\n",
       "      <td>0.000000</td>\n",
       "      <td>-0.000160</td>\n",
       "      <td>0.0</td>\n",
       "      <td>0.0</td>\n",
       "      <td>0.0</td>\n",
       "      <td>-1.615105</td>\n",
       "      <td>0.0</td>\n",
       "      <td>0.468212</td>\n",
       "    </tr>\n",
       "    <tr>\n",
       "      <th>2435</th>\n",
       "      <td>15678150</td>\n",
       "      <td>25.000000</td>\n",
       "      <td>2.500000</td>\n",
       "      <td>118.000000</td>\n",
       "      <td>10.000000</td>\n",
       "      <td>42.000000</td>\n",
       "      <td>0.800000</td>\n",
       "      <td>29.500000</td>\n",
       "      <td>1.200000</td>\n",
       "      <td>8.150000</td>\n",
       "      <td>...</td>\n",
       "      <td>0.0</td>\n",
       "      <td>0.0</td>\n",
       "      <td>0.000000</td>\n",
       "      <td>0.000000</td>\n",
       "      <td>0.0</td>\n",
       "      <td>0.0</td>\n",
       "      <td>0.0</td>\n",
       "      <td>0.000000</td>\n",
       "      <td>0.0</td>\n",
       "      <td>0.000000</td>\n",
       "    </tr>\n",
       "    <tr>\n",
       "      <th>1900</th>\n",
       "      <td>14350079</td>\n",
       "      <td>32.500000</td>\n",
       "      <td>4.050000</td>\n",
       "      <td>55.000000</td>\n",
       "      <td>18.666667</td>\n",
       "      <td>19.500000</td>\n",
       "      <td>0.400000</td>\n",
       "      <td>21.666667</td>\n",
       "      <td>0.450000</td>\n",
       "      <td>9.066667</td>\n",
       "      <td>...</td>\n",
       "      <td>0.0</td>\n",
       "      <td>0.0</td>\n",
       "      <td>4.686813</td>\n",
       "      <td>0.002656</td>\n",
       "      <td>0.0</td>\n",
       "      <td>0.0</td>\n",
       "      <td>0.0</td>\n",
       "      <td>9.373626</td>\n",
       "      <td>0.0</td>\n",
       "      <td>0.013898</td>\n",
       "    </tr>\n",
       "    <tr>\n",
       "      <th>1872</th>\n",
       "      <td>14288958</td>\n",
       "      <td>30.000000</td>\n",
       "      <td>4.100000</td>\n",
       "      <td>81.000000</td>\n",
       "      <td>16.500000</td>\n",
       "      <td>17.000000</td>\n",
       "      <td>0.800000</td>\n",
       "      <td>26.000000</td>\n",
       "      <td>0.300000</td>\n",
       "      <td>9.300000</td>\n",
       "      <td>...</td>\n",
       "      <td>0.0</td>\n",
       "      <td>0.0</td>\n",
       "      <td>0.403821</td>\n",
       "      <td>-0.016018</td>\n",
       "      <td>0.0</td>\n",
       "      <td>0.0</td>\n",
       "      <td>0.0</td>\n",
       "      <td>8.256659</td>\n",
       "      <td>0.0</td>\n",
       "      <td>1.541986</td>\n",
       "    </tr>\n",
       "  </tbody>\n",
       "</table>\n",
       "<p>2941 rows × 152 columns</p>\n",
       "</div>"
      ],
      "text/plain": [
       "      subject_id  Blood Alanine Aminotransferase (ALT)  Blood Albumin  \\\n",
       "1472    13309430                             23.000000       3.993018   \n",
       "2674    16449806                            107.666667       3.450000   \n",
       "1855    14252818                             16.000000       3.550000   \n",
       "3283    18336221                              9.000000       2.900000   \n",
       "1968    14518036                             15.739454       3.608894   \n",
       "...          ...                                   ...            ...   \n",
       "3108    17725722                             20.000000       3.600000   \n",
       "1655    13779191                             25.628310       3.661093   \n",
       "2435    15678150                             25.000000       2.500000   \n",
       "1900    14350079                             32.500000       4.050000   \n",
       "1872    14288958                             30.000000       4.100000   \n",
       "\n",
       "      Blood Alkaline Phosphatase  Blood Anion Gap  \\\n",
       "1472                   88.000000        13.500000   \n",
       "2674                   84.333333        13.000000   \n",
       "1855                   81.500000        12.500000   \n",
       "3283                   88.000000        13.000000   \n",
       "1968                   95.529014        16.000000   \n",
       "...                          ...              ...   \n",
       "3108                  103.000000        12.500000   \n",
       "1655                   73.590711        16.000000   \n",
       "2435                  118.000000        10.000000   \n",
       "1900                   55.000000        18.666667   \n",
       "1872                   81.000000        16.500000   \n",
       "\n",
       "      Blood Asparate Aminotransferase (AST)  Blood Basophils  \\\n",
       "1472                              28.000000         0.100000   \n",
       "2674                              87.666667         0.800000   \n",
       "1855                              15.000000         1.274264   \n",
       "3283                              13.000000         1.000000   \n",
       "1968                               9.211115         0.100000   \n",
       "...                                     ...              ...   \n",
       "3108                              38.000000         0.400000   \n",
       "1655                              37.944328         0.400000   \n",
       "2435                              42.000000         0.800000   \n",
       "1900                              19.500000         0.400000   \n",
       "1872                              17.000000         0.800000   \n",
       "\n",
       "      Blood Bicarbonate  Blood Bilirubin, Total  Blood Calcium, Total  ...  \\\n",
       "1472          24.500000                0.500000              8.500000  ...   \n",
       "2674          24.333333                0.566667              8.250000  ...   \n",
       "1855          30.000000                0.300000              8.850000  ...   \n",
       "3283          25.500000                0.400000             11.400000  ...   \n",
       "1968          21.000000                0.493584              9.600000  ...   \n",
       "...                 ...                     ...                   ...  ...   \n",
       "3108          26.000000                2.100000              8.300000  ...   \n",
       "1655          22.500000                1.783638              8.400000  ...   \n",
       "2435          29.500000                1.200000              8.150000  ...   \n",
       "1900          21.666667                0.450000              9.066667  ...   \n",
       "1872          26.000000                0.300000              9.300000  ...   \n",
       "\n",
       "      proximal_trend_Urine Nitrite  proximal_trend_Urine Protein  \\\n",
       "1472                           0.0                           0.0   \n",
       "2674                           0.0                           0.0   \n",
       "1855                           0.0                           0.0   \n",
       "3283                           0.0                           0.0   \n",
       "1968                           0.0                           0.0   \n",
       "...                            ...                           ...   \n",
       "3108                           0.0                           0.0   \n",
       "1655                           0.0                           0.0   \n",
       "2435                           0.0                           0.0   \n",
       "1900                           0.0                           0.0   \n",
       "1872                           0.0                           0.0   \n",
       "\n",
       "      proximal_trend_Urine RBC  proximal_trend_Urine Specific Gravity  \\\n",
       "1472                  0.974095                               0.003187   \n",
       "2674                  0.000000                               0.000000   \n",
       "1855                  0.000000                               0.000000   \n",
       "3283                  0.000000                               0.001123   \n",
       "1968               -154.142857                               0.007429   \n",
       "...                        ...                                    ...   \n",
       "3108                  0.000000                               0.000000   \n",
       "1655                  0.000000                              -0.000160   \n",
       "2435                  0.000000                               0.000000   \n",
       "1900                  4.686813                               0.002656   \n",
       "1872                  0.403821                              -0.016018   \n",
       "\n",
       "      proximal_trend_Urine Urine Appearance  proximal_trend_Urine Urine Color  \\\n",
       "1472                                    0.0                               0.0   \n",
       "2674                                    0.0                               0.0   \n",
       "1855                                    0.0                               0.0   \n",
       "3283                                    0.0                               0.0   \n",
       "1968                                    0.0                               0.0   \n",
       "...                                     ...                               ...   \n",
       "3108                                    0.0                               0.0   \n",
       "1655                                    0.0                               0.0   \n",
       "2435                                    0.0                               0.0   \n",
       "1900                                    0.0                               0.0   \n",
       "1872                                    0.0                               0.0   \n",
       "\n",
       "      proximal_trend_Urine Urobilinogen  proximal_trend_Urine WBC  \\\n",
       "1472                                0.0                  0.000000   \n",
       "2674                                0.0                  0.000000   \n",
       "1855                                0.0                  0.000000   \n",
       "3283                                0.0                  0.000000   \n",
       "1968                                0.0                  0.000000   \n",
       "...                                 ...                       ...   \n",
       "3108                                0.0                  0.000000   \n",
       "1655                                0.0                 -1.615105   \n",
       "2435                                0.0                  0.000000   \n",
       "1900                                0.0                  9.373626   \n",
       "1872                                0.0                  8.256659   \n",
       "\n",
       "      proximal_trend_Urine Yeast  proximal_trend_Urine pH  \n",
       "1472                         0.0                 0.792917  \n",
       "2674                         0.0                 0.000000  \n",
       "1855                         0.0                 0.000000  \n",
       "3283                         0.0                -0.835706  \n",
       "1968                         0.0                 0.500000  \n",
       "...                          ...                      ...  \n",
       "3108                         0.0                 0.000000  \n",
       "1655                         0.0                 0.468212  \n",
       "2435                         0.0                 0.000000  \n",
       "1900                         0.0                 0.013898  \n",
       "1872                         0.0                 1.541986  \n",
       "\n",
       "[2941 rows x 152 columns]"
      ]
     },
     "execution_count": 462,
     "metadata": {},
     "output_type": "execute_result"
    }
   ],
   "source": [
    "X_train"
   ]
  },
  {
   "cell_type": "code",
   "execution_count": 482,
   "metadata": {},
   "outputs": [],
   "source": [
    "param_grid_boost = {'max_depth': [2,5,15],\n",
    "    'max_features': [20,26,30],\n",
    "    'min_samples_leaf': [10,50],\n",
    "    'min_samples_split': [4,50],\n",
    "    'n_estimators': [200, 500]\n",
    "}"
   ]
  },
  {
   "cell_type": "code",
   "execution_count": 483,
   "metadata": {},
   "outputs": [
    {
     "name": "stdout",
     "output_type": "stream",
     "text": [
      "Fitting 5 folds for each of 72 candidates, totalling 360 fits\n",
      "[CV] END max_depth=2, max_features=20, min_samples_leaf=10, min_samples_split=4, n_estimators=200; total time=  12.7s\n",
      "[CV] END max_depth=2, max_features=20, min_samples_leaf=10, min_samples_split=4, n_estimators=200; total time=  10.9s\n",
      "[CV] END max_depth=2, max_features=20, min_samples_leaf=10, min_samples_split=4, n_estimators=200; total time=   5.8s\n",
      "[CV] END max_depth=2, max_features=20, min_samples_leaf=10, min_samples_split=4, n_estimators=200; total time=   9.0s\n",
      "[CV] END max_depth=2, max_features=20, min_samples_leaf=10, min_samples_split=4, n_estimators=200; total time=   6.9s\n",
      "[CV] END max_depth=2, max_features=20, min_samples_leaf=10, min_samples_split=4, n_estimators=500; total time=  17.7s\n",
      "[CV] END max_depth=2, max_features=20, min_samples_leaf=10, min_samples_split=4, n_estimators=500; total time=  23.6s\n",
      "[CV] END max_depth=2, max_features=20, min_samples_leaf=10, min_samples_split=4, n_estimators=500; total time=  26.5s\n",
      "[CV] END max_depth=2, max_features=20, min_samples_leaf=10, min_samples_split=4, n_estimators=500; total time=  20.0s\n",
      "[CV] END max_depth=2, max_features=20, min_samples_leaf=10, min_samples_split=4, n_estimators=500; total time=  15.8s\n",
      "[CV] END max_depth=2, max_features=20, min_samples_leaf=10, min_samples_split=50, n_estimators=200; total time=   9.5s\n",
      "[CV] END max_depth=2, max_features=20, min_samples_leaf=10, min_samples_split=50, n_estimators=200; total time=   9.7s\n",
      "[CV] END max_depth=2, max_features=20, min_samples_leaf=10, min_samples_split=50, n_estimators=200; total time=  10.7s\n",
      "[CV] END max_depth=2, max_features=20, min_samples_leaf=10, min_samples_split=50, n_estimators=200; total time=  10.2s\n",
      "[CV] END max_depth=2, max_features=20, min_samples_leaf=10, min_samples_split=50, n_estimators=200; total time=  10.0s\n",
      "[CV] END max_depth=2, max_features=20, min_samples_leaf=10, min_samples_split=50, n_estimators=500; total time=  37.0s\n",
      "[CV] END max_depth=2, max_features=20, min_samples_leaf=10, min_samples_split=50, n_estimators=500; total time=  25.9s\n",
      "[CV] END max_depth=2, max_features=20, min_samples_leaf=10, min_samples_split=50, n_estimators=500; total time=  26.7s\n",
      "[CV] END max_depth=2, max_features=20, min_samples_leaf=10, min_samples_split=50, n_estimators=500; total time=  25.7s\n",
      "[CV] END max_depth=2, max_features=20, min_samples_leaf=10, min_samples_split=50, n_estimators=500; total time=  25.7s\n",
      "[CV] END max_depth=2, max_features=20, min_samples_leaf=50, min_samples_split=4, n_estimators=200; total time=   9.9s\n",
      "[CV] END max_depth=2, max_features=20, min_samples_leaf=50, min_samples_split=4, n_estimators=200; total time=   9.9s\n",
      "[CV] END max_depth=2, max_features=20, min_samples_leaf=50, min_samples_split=4, n_estimators=200; total time=   9.9s\n",
      "[CV] END max_depth=2, max_features=20, min_samples_leaf=50, min_samples_split=4, n_estimators=200; total time=   9.9s\n",
      "[CV] END max_depth=2, max_features=20, min_samples_leaf=50, min_samples_split=4, n_estimators=200; total time=  10.0s\n",
      "[CV] END max_depth=2, max_features=20, min_samples_leaf=50, min_samples_split=4, n_estimators=500; total time=  24.9s\n",
      "[CV] END max_depth=2, max_features=20, min_samples_leaf=50, min_samples_split=4, n_estimators=500; total time=  11.5s\n",
      "[CV] END max_depth=2, max_features=20, min_samples_leaf=50, min_samples_split=4, n_estimators=500; total time=   9.7s\n",
      "[CV] END max_depth=2, max_features=20, min_samples_leaf=50, min_samples_split=4, n_estimators=500; total time=  12.9s\n",
      "[CV] END max_depth=2, max_features=20, min_samples_leaf=50, min_samples_split=4, n_estimators=500; total time=  14.0s\n",
      "[CV] END max_depth=2, max_features=20, min_samples_leaf=50, min_samples_split=50, n_estimators=200; total time=   5.2s\n",
      "[CV] END max_depth=2, max_features=20, min_samples_leaf=50, min_samples_split=50, n_estimators=200; total time=   4.7s\n",
      "[CV] END max_depth=2, max_features=20, min_samples_leaf=50, min_samples_split=50, n_estimators=200; total time=   4.8s\n",
      "[CV] END max_depth=2, max_features=20, min_samples_leaf=50, min_samples_split=50, n_estimators=200; total time=   4.8s\n",
      "[CV] END max_depth=2, max_features=20, min_samples_leaf=50, min_samples_split=50, n_estimators=200; total time=   4.7s\n",
      "[CV] END max_depth=2, max_features=20, min_samples_leaf=50, min_samples_split=50, n_estimators=500; total time=  11.3s\n",
      "[CV] END max_depth=2, max_features=20, min_samples_leaf=50, min_samples_split=50, n_estimators=500; total time=   9.4s\n",
      "[CV] END max_depth=2, max_features=20, min_samples_leaf=50, min_samples_split=50, n_estimators=500; total time=   8.6s\n",
      "[CV] END max_depth=2, max_features=20, min_samples_leaf=50, min_samples_split=50, n_estimators=500; total time=   7.6s\n",
      "[CV] END max_depth=2, max_features=20, min_samples_leaf=50, min_samples_split=50, n_estimators=500; total time=   9.3s\n",
      "[CV] END max_depth=2, max_features=26, min_samples_leaf=10, min_samples_split=4, n_estimators=200; total time=   5.5s\n",
      "[CV] END max_depth=2, max_features=26, min_samples_leaf=10, min_samples_split=4, n_estimators=200; total time=   4.7s\n",
      "[CV] END max_depth=2, max_features=26, min_samples_leaf=10, min_samples_split=4, n_estimators=200; total time=   4.3s\n",
      "[CV] END max_depth=2, max_features=26, min_samples_leaf=10, min_samples_split=4, n_estimators=200; total time=   4.3s\n",
      "[CV] END max_depth=2, max_features=26, min_samples_leaf=10, min_samples_split=4, n_estimators=200; total time=   4.7s\n",
      "[CV] END max_depth=2, max_features=26, min_samples_leaf=10, min_samples_split=4, n_estimators=500; total time=  10.1s\n",
      "[CV] END max_depth=2, max_features=26, min_samples_leaf=10, min_samples_split=4, n_estimators=500; total time=  10.3s\n",
      "[CV] END max_depth=2, max_features=26, min_samples_leaf=10, min_samples_split=4, n_estimators=500; total time=  28.9s\n",
      "[CV] END max_depth=2, max_features=26, min_samples_leaf=10, min_samples_split=4, n_estimators=500; total time=  31.8s\n",
      "[CV] END max_depth=2, max_features=26, min_samples_leaf=10, min_samples_split=4, n_estimators=500; total time=  32.4s\n",
      "[CV] END max_depth=2, max_features=26, min_samples_leaf=10, min_samples_split=50, n_estimators=200; total time=  12.6s\n",
      "[CV] END max_depth=2, max_features=26, min_samples_leaf=10, min_samples_split=50, n_estimators=200; total time=  12.9s\n",
      "[CV] END max_depth=2, max_features=26, min_samples_leaf=10, min_samples_split=50, n_estimators=200; total time=  12.6s\n",
      "[CV] END max_depth=2, max_features=26, min_samples_leaf=10, min_samples_split=50, n_estimators=200; total time=  12.8s\n",
      "[CV] END max_depth=2, max_features=26, min_samples_leaf=10, min_samples_split=50, n_estimators=200; total time=  12.9s\n",
      "[CV] END max_depth=2, max_features=26, min_samples_leaf=10, min_samples_split=50, n_estimators=500; total time=  31.9s\n",
      "[CV] END max_depth=2, max_features=26, min_samples_leaf=10, min_samples_split=50, n_estimators=500; total time=  31.6s\n",
      "[CV] END max_depth=2, max_features=26, min_samples_leaf=10, min_samples_split=50, n_estimators=500; total time= 2.0min\n",
      "[CV] END max_depth=2, max_features=26, min_samples_leaf=10, min_samples_split=50, n_estimators=500; total time=  32.9s\n",
      "[CV] END max_depth=2, max_features=26, min_samples_leaf=10, min_samples_split=50, n_estimators=500; total time=  32.4s\n",
      "[CV] END max_depth=2, max_features=26, min_samples_leaf=50, min_samples_split=4, n_estimators=200; total time=  12.4s\n",
      "[CV] END max_depth=2, max_features=26, min_samples_leaf=50, min_samples_split=4, n_estimators=200; total time=  12.2s\n",
      "[CV] END max_depth=2, max_features=26, min_samples_leaf=50, min_samples_split=4, n_estimators=200; total time=  12.3s\n",
      "[CV] END max_depth=2, max_features=26, min_samples_leaf=50, min_samples_split=4, n_estimators=200; total time=  12.4s\n",
      "[CV] END max_depth=2, max_features=26, min_samples_leaf=50, min_samples_split=4, n_estimators=200; total time=  12.5s\n",
      "[CV] END max_depth=2, max_features=26, min_samples_leaf=50, min_samples_split=4, n_estimators=500; total time=  31.0s\n",
      "[CV] END max_depth=2, max_features=26, min_samples_leaf=50, min_samples_split=4, n_estimators=500; total time=  31.0s\n",
      "[CV] END max_depth=2, max_features=26, min_samples_leaf=50, min_samples_split=4, n_estimators=500; total time=  31.2s\n",
      "[CV] END max_depth=2, max_features=26, min_samples_leaf=50, min_samples_split=4, n_estimators=500; total time=  31.3s\n",
      "[CV] END max_depth=2, max_features=26, min_samples_leaf=50, min_samples_split=4, n_estimators=500; total time=  32.2s\n",
      "[CV] END max_depth=2, max_features=26, min_samples_leaf=50, min_samples_split=50, n_estimators=200; total time=  12.5s\n",
      "[CV] END max_depth=2, max_features=26, min_samples_leaf=50, min_samples_split=50, n_estimators=200; total time=  12.4s\n",
      "[CV] END max_depth=2, max_features=26, min_samples_leaf=50, min_samples_split=50, n_estimators=200; total time=  12.4s\n",
      "[CV] END max_depth=2, max_features=26, min_samples_leaf=50, min_samples_split=50, n_estimators=200; total time=  12.3s\n",
      "[CV] END max_depth=2, max_features=26, min_samples_leaf=50, min_samples_split=50, n_estimators=200; total time=  12.5s\n",
      "[CV] END max_depth=2, max_features=26, min_samples_leaf=50, min_samples_split=50, n_estimators=500; total time=  31.3s\n",
      "[CV] END max_depth=2, max_features=26, min_samples_leaf=50, min_samples_split=50, n_estimators=500; total time=  30.7s\n",
      "[CV] END max_depth=2, max_features=26, min_samples_leaf=50, min_samples_split=50, n_estimators=500; total time=  30.8s\n",
      "[CV] END max_depth=2, max_features=26, min_samples_leaf=50, min_samples_split=50, n_estimators=500; total time=  31.9s\n",
      "[CV] END max_depth=2, max_features=26, min_samples_leaf=50, min_samples_split=50, n_estimators=500; total time=  32.3s\n",
      "[CV] END max_depth=2, max_features=30, min_samples_leaf=10, min_samples_split=4, n_estimators=200; total time=  14.8s\n",
      "[CV] END max_depth=2, max_features=30, min_samples_leaf=10, min_samples_split=4, n_estimators=200; total time=  14.6s\n",
      "[CV] END max_depth=2, max_features=30, min_samples_leaf=10, min_samples_split=4, n_estimators=200; total time=  14.7s\n",
      "[CV] END max_depth=2, max_features=30, min_samples_leaf=10, min_samples_split=4, n_estimators=200; total time=  14.5s\n",
      "[CV] END max_depth=2, max_features=30, min_samples_leaf=10, min_samples_split=4, n_estimators=200; total time=  14.6s\n",
      "[CV] END max_depth=2, max_features=30, min_samples_leaf=10, min_samples_split=4, n_estimators=500; total time=  36.8s\n",
      "[CV] END max_depth=2, max_features=30, min_samples_leaf=10, min_samples_split=4, n_estimators=500; total time=  36.5s\n",
      "[CV] END max_depth=2, max_features=30, min_samples_leaf=10, min_samples_split=4, n_estimators=500; total time=  25.3s\n",
      "[CV] END max_depth=2, max_features=30, min_samples_leaf=10, min_samples_split=4, n_estimators=500; total time=  34.8s\n",
      "[CV] END max_depth=2, max_features=30, min_samples_leaf=10, min_samples_split=4, n_estimators=500; total time=  31.3s\n",
      "[CV] END max_depth=2, max_features=30, min_samples_leaf=10, min_samples_split=50, n_estimators=200; total time=   5.4s\n",
      "[CV] END max_depth=2, max_features=30, min_samples_leaf=10, min_samples_split=50, n_estimators=200; total time=   4.9s\n",
      "[CV] END max_depth=2, max_features=30, min_samples_leaf=10, min_samples_split=50, n_estimators=200; total time=   4.9s\n",
      "[CV] END max_depth=2, max_features=30, min_samples_leaf=10, min_samples_split=50, n_estimators=200; total time=   4.8s\n",
      "[CV] END max_depth=2, max_features=30, min_samples_leaf=10, min_samples_split=50, n_estimators=200; total time=   4.9s\n",
      "[CV] END max_depth=2, max_features=30, min_samples_leaf=10, min_samples_split=50, n_estimators=500; total time=  12.1s\n",
      "[CV] END max_depth=2, max_features=30, min_samples_leaf=10, min_samples_split=50, n_estimators=500; total time=  12.1s\n",
      "[CV] END max_depth=2, max_features=30, min_samples_leaf=10, min_samples_split=50, n_estimators=500; total time=  12.4s\n",
      "[CV] END max_depth=2, max_features=30, min_samples_leaf=10, min_samples_split=50, n_estimators=500; total time=  15.6s\n",
      "[CV] END max_depth=2, max_features=30, min_samples_leaf=10, min_samples_split=50, n_estimators=500; total time=  15.1s\n",
      "[CV] END max_depth=2, max_features=30, min_samples_leaf=50, min_samples_split=4, n_estimators=200; total time=   5.1s\n",
      "[CV] END max_depth=2, max_features=30, min_samples_leaf=50, min_samples_split=4, n_estimators=200; total time=   5.3s\n",
      "[CV] END max_depth=2, max_features=30, min_samples_leaf=50, min_samples_split=4, n_estimators=200; total time=   5.3s\n",
      "[CV] END max_depth=2, max_features=30, min_samples_leaf=50, min_samples_split=4, n_estimators=200; total time=   5.1s\n",
      "[CV] END max_depth=2, max_features=30, min_samples_leaf=50, min_samples_split=4, n_estimators=200; total time=   5.1s\n",
      "[CV] END max_depth=2, max_features=30, min_samples_leaf=50, min_samples_split=4, n_estimators=500; total time=  11.7s\n",
      "[CV] END max_depth=2, max_features=30, min_samples_leaf=50, min_samples_split=4, n_estimators=500; total time=  11.5s\n",
      "[CV] END max_depth=2, max_features=30, min_samples_leaf=50, min_samples_split=4, n_estimators=500; total time=  13.1s\n",
      "[CV] END max_depth=2, max_features=30, min_samples_leaf=50, min_samples_split=4, n_estimators=500; total time=  11.7s\n",
      "[CV] END max_depth=2, max_features=30, min_samples_leaf=50, min_samples_split=4, n_estimators=500; total time=  11.9s\n",
      "[CV] END max_depth=2, max_features=30, min_samples_leaf=50, min_samples_split=50, n_estimators=200; total time=   4.7s\n",
      "[CV] END max_depth=2, max_features=30, min_samples_leaf=50, min_samples_split=50, n_estimators=200; total time=   4.7s\n",
      "[CV] END max_depth=2, max_features=30, min_samples_leaf=50, min_samples_split=50, n_estimators=200; total time=   4.6s\n",
      "[CV] END max_depth=2, max_features=30, min_samples_leaf=50, min_samples_split=50, n_estimators=200; total time=   4.6s\n",
      "[CV] END max_depth=2, max_features=30, min_samples_leaf=50, min_samples_split=50, n_estimators=200; total time=   4.6s\n",
      "[CV] END max_depth=2, max_features=30, min_samples_leaf=50, min_samples_split=50, n_estimators=500; total time=  12.6s\n",
      "[CV] END max_depth=2, max_features=30, min_samples_leaf=50, min_samples_split=50, n_estimators=500; total time=  12.4s\n",
      "[CV] END max_depth=2, max_features=30, min_samples_leaf=50, min_samples_split=50, n_estimators=500; total time=  11.8s\n",
      "[CV] END max_depth=2, max_features=30, min_samples_leaf=50, min_samples_split=50, n_estimators=500; total time=  11.6s\n",
      "[CV] END max_depth=2, max_features=30, min_samples_leaf=50, min_samples_split=50, n_estimators=500; total time=  11.9s\n",
      "[CV] END max_depth=5, max_features=20, min_samples_leaf=10, min_samples_split=4, n_estimators=200; total time=   8.0s\n",
      "[CV] END max_depth=5, max_features=20, min_samples_leaf=10, min_samples_split=4, n_estimators=200; total time=   8.0s\n",
      "[CV] END max_depth=5, max_features=20, min_samples_leaf=10, min_samples_split=4, n_estimators=200; total time=   8.7s\n",
      "[CV] END max_depth=5, max_features=20, min_samples_leaf=10, min_samples_split=4, n_estimators=200; total time=  17.3s\n",
      "[CV] END max_depth=5, max_features=20, min_samples_leaf=10, min_samples_split=4, n_estimators=200; total time=   7.4s\n",
      "[CV] END max_depth=5, max_features=20, min_samples_leaf=10, min_samples_split=4, n_estimators=500; total time=  31.2s\n",
      "[CV] END max_depth=5, max_features=20, min_samples_leaf=10, min_samples_split=4, n_estimators=500; total time=  25.3s\n",
      "[CV] END max_depth=5, max_features=20, min_samples_leaf=10, min_samples_split=4, n_estimators=500; total time=  19.5s\n",
      "[CV] END max_depth=5, max_features=20, min_samples_leaf=10, min_samples_split=4, n_estimators=500; total time=  22.8s\n",
      "[CV] END max_depth=5, max_features=20, min_samples_leaf=10, min_samples_split=4, n_estimators=500; total time=  21.8s\n",
      "[CV] END max_depth=5, max_features=20, min_samples_leaf=10, min_samples_split=50, n_estimators=200; total time=   7.9s\n",
      "[CV] END max_depth=5, max_features=20, min_samples_leaf=10, min_samples_split=50, n_estimators=200; total time=   7.9s\n",
      "[CV] END max_depth=5, max_features=20, min_samples_leaf=10, min_samples_split=50, n_estimators=200; total time=   8.3s\n",
      "[CV] END max_depth=5, max_features=20, min_samples_leaf=10, min_samples_split=50, n_estimators=200; total time=   7.8s\n",
      "[CV] END max_depth=5, max_features=20, min_samples_leaf=10, min_samples_split=50, n_estimators=200; total time=   9.1s\n",
      "[CV] END max_depth=5, max_features=20, min_samples_leaf=10, min_samples_split=50, n_estimators=500; total time=  19.9s\n",
      "[CV] END max_depth=5, max_features=20, min_samples_leaf=10, min_samples_split=50, n_estimators=500; total time=  19.9s\n",
      "[CV] END max_depth=5, max_features=20, min_samples_leaf=10, min_samples_split=50, n_estimators=500; total time=  24.2s\n",
      "[CV] END max_depth=5, max_features=20, min_samples_leaf=10, min_samples_split=50, n_estimators=500; total time=  20.0s\n",
      "[CV] END max_depth=5, max_features=20, min_samples_leaf=10, min_samples_split=50, n_estimators=500; total time=  20.1s\n",
      "[CV] END max_depth=5, max_features=20, min_samples_leaf=50, min_samples_split=4, n_estimators=200; total time=   7.0s\n",
      "[CV] END max_depth=5, max_features=20, min_samples_leaf=50, min_samples_split=4, n_estimators=200; total time=   7.0s\n",
      "[CV] END max_depth=5, max_features=20, min_samples_leaf=50, min_samples_split=4, n_estimators=200; total time=   7.0s\n",
      "[CV] END max_depth=5, max_features=20, min_samples_leaf=50, min_samples_split=4, n_estimators=200; total time=   7.0s\n",
      "[CV] END max_depth=5, max_features=20, min_samples_leaf=50, min_samples_split=4, n_estimators=200; total time=   6.9s\n",
      "[CV] END max_depth=5, max_features=20, min_samples_leaf=50, min_samples_split=4, n_estimators=500; total time=  17.7s\n",
      "[CV] END max_depth=5, max_features=20, min_samples_leaf=50, min_samples_split=4, n_estimators=500; total time=  17.6s\n",
      "[CV] END max_depth=5, max_features=20, min_samples_leaf=50, min_samples_split=4, n_estimators=500; total time=  18.3s\n",
      "[CV] END max_depth=5, max_features=20, min_samples_leaf=50, min_samples_split=4, n_estimators=500; total time=  17.7s\n",
      "[CV] END max_depth=5, max_features=20, min_samples_leaf=50, min_samples_split=4, n_estimators=500; total time=  29.7s\n",
      "[CV] END max_depth=5, max_features=20, min_samples_leaf=50, min_samples_split=50, n_estimators=200; total time=   7.9s\n",
      "[CV] END max_depth=5, max_features=20, min_samples_leaf=50, min_samples_split=50, n_estimators=200; total time=   7.0s\n",
      "[CV] END max_depth=5, max_features=20, min_samples_leaf=50, min_samples_split=50, n_estimators=200; total time=   7.1s\n",
      "[CV] END max_depth=5, max_features=20, min_samples_leaf=50, min_samples_split=50, n_estimators=200; total time=   7.1s\n",
      "[CV] END max_depth=5, max_features=20, min_samples_leaf=50, min_samples_split=50, n_estimators=200; total time=   7.3s\n",
      "[CV] END max_depth=5, max_features=20, min_samples_leaf=50, min_samples_split=50, n_estimators=500; total time=  17.7s\n",
      "[CV] END max_depth=5, max_features=20, min_samples_leaf=50, min_samples_split=50, n_estimators=500; total time=  17.5s\n",
      "[CV] END max_depth=5, max_features=20, min_samples_leaf=50, min_samples_split=50, n_estimators=500; total time=  17.9s\n",
      "[CV] END max_depth=5, max_features=20, min_samples_leaf=50, min_samples_split=50, n_estimators=500; total time=  17.8s\n",
      "[CV] END max_depth=5, max_features=20, min_samples_leaf=50, min_samples_split=50, n_estimators=500; total time=  29.5s\n",
      "[CV] END max_depth=5, max_features=26, min_samples_leaf=10, min_samples_split=4, n_estimators=200; total time=  12.5s\n",
      "[CV] END max_depth=5, max_features=26, min_samples_leaf=10, min_samples_split=4, n_estimators=200; total time=  10.3s\n",
      "[CV] END max_depth=5, max_features=26, min_samples_leaf=10, min_samples_split=4, n_estimators=200; total time=  10.3s\n",
      "[CV] END max_depth=5, max_features=26, min_samples_leaf=10, min_samples_split=4, n_estimators=200; total time=  11.6s\n",
      "[CV] END max_depth=5, max_features=26, min_samples_leaf=10, min_samples_split=4, n_estimators=200; total time=  10.9s\n",
      "[CV] END max_depth=5, max_features=26, min_samples_leaf=10, min_samples_split=4, n_estimators=500; total time=  26.1s\n",
      "[CV] END max_depth=5, max_features=26, min_samples_leaf=10, min_samples_split=4, n_estimators=500; total time=  26.3s\n",
      "[CV] END max_depth=5, max_features=26, min_samples_leaf=10, min_samples_split=4, n_estimators=500; total time=  25.8s\n",
      "[CV] END max_depth=5, max_features=26, min_samples_leaf=10, min_samples_split=4, n_estimators=500; total time=  25.9s\n",
      "[CV] END max_depth=5, max_features=26, min_samples_leaf=10, min_samples_split=4, n_estimators=500; total time=  29.4s\n",
      "[CV] END max_depth=5, max_features=26, min_samples_leaf=10, min_samples_split=50, n_estimators=200; total time=  11.9s\n",
      "[CV] END max_depth=5, max_features=26, min_samples_leaf=10, min_samples_split=50, n_estimators=200; total time=  11.3s\n",
      "[CV] END max_depth=5, max_features=26, min_samples_leaf=10, min_samples_split=50, n_estimators=200; total time=  10.5s\n",
      "[CV] END max_depth=5, max_features=26, min_samples_leaf=10, min_samples_split=50, n_estimators=200; total time=  10.3s\n",
      "[CV] END max_depth=5, max_features=26, min_samples_leaf=10, min_samples_split=50, n_estimators=200; total time=  10.2s\n",
      "[CV] END max_depth=5, max_features=26, min_samples_leaf=10, min_samples_split=50, n_estimators=500; total time=  26.4s\n",
      "[CV] END max_depth=5, max_features=26, min_samples_leaf=10, min_samples_split=50, n_estimators=500; total time=  27.8s\n",
      "[CV] END max_depth=5, max_features=26, min_samples_leaf=10, min_samples_split=50, n_estimators=500; total time=  31.0s\n",
      "[CV] END max_depth=5, max_features=26, min_samples_leaf=10, min_samples_split=50, n_estimators=500; total time=  26.1s\n",
      "[CV] END max_depth=5, max_features=26, min_samples_leaf=10, min_samples_split=50, n_estimators=500; total time=  24.3s\n",
      "[CV] END max_depth=5, max_features=26, min_samples_leaf=50, min_samples_split=4, n_estimators=200; total time=   8.7s\n",
      "[CV] END max_depth=5, max_features=26, min_samples_leaf=50, min_samples_split=4, n_estimators=200; total time=   9.3s\n",
      "[CV] END max_depth=5, max_features=26, min_samples_leaf=50, min_samples_split=4, n_estimators=200; total time=  10.1s\n",
      "[CV] END max_depth=5, max_features=26, min_samples_leaf=50, min_samples_split=4, n_estimators=200; total time=  11.5s\n",
      "[CV] END max_depth=5, max_features=26, min_samples_leaf=50, min_samples_split=4, n_estimators=200; total time=   9.0s\n",
      "[CV] END max_depth=5, max_features=26, min_samples_leaf=50, min_samples_split=4, n_estimators=500; total time=  22.5s\n",
      "[CV] END max_depth=5, max_features=26, min_samples_leaf=50, min_samples_split=4, n_estimators=500; total time=  22.4s\n",
      "[CV] END max_depth=5, max_features=26, min_samples_leaf=50, min_samples_split=4, n_estimators=500; total time=  22.3s\n",
      "[CV] END max_depth=5, max_features=26, min_samples_leaf=50, min_samples_split=4, n_estimators=500; total time=  21.8s\n",
      "[CV] END max_depth=5, max_features=26, min_samples_leaf=50, min_samples_split=4, n_estimators=500; total time=  21.2s\n",
      "[CV] END max_depth=5, max_features=26, min_samples_leaf=50, min_samples_split=50, n_estimators=200; total time=   8.5s\n",
      "[CV] END max_depth=5, max_features=26, min_samples_leaf=50, min_samples_split=50, n_estimators=200; total time=   8.6s\n",
      "[CV] END max_depth=5, max_features=26, min_samples_leaf=50, min_samples_split=50, n_estimators=200; total time=   8.8s\n",
      "[CV] END max_depth=5, max_features=26, min_samples_leaf=50, min_samples_split=50, n_estimators=200; total time=   8.7s\n",
      "[CV] END max_depth=5, max_features=26, min_samples_leaf=50, min_samples_split=50, n_estimators=200; total time=   8.9s\n",
      "[CV] END max_depth=5, max_features=26, min_samples_leaf=50, min_samples_split=50, n_estimators=500; total time=  23.8s\n",
      "[CV] END max_depth=5, max_features=26, min_samples_leaf=50, min_samples_split=50, n_estimators=500; total time=  22.8s\n",
      "[CV] END max_depth=5, max_features=26, min_samples_leaf=50, min_samples_split=50, n_estimators=500; total time=  22.6s\n",
      "[CV] END max_depth=5, max_features=26, min_samples_leaf=50, min_samples_split=50, n_estimators=500; total time=  22.6s\n",
      "[CV] END max_depth=5, max_features=26, min_samples_leaf=50, min_samples_split=50, n_estimators=500; total time=  41.0s\n",
      "[CV] END max_depth=5, max_features=30, min_samples_leaf=10, min_samples_split=4, n_estimators=200; total time=  11.4s\n",
      "[CV] END max_depth=5, max_features=30, min_samples_leaf=10, min_samples_split=4, n_estimators=200; total time=  12.1s\n",
      "[CV] END max_depth=5, max_features=30, min_samples_leaf=10, min_samples_split=4, n_estimators=200; total time=  25.3s\n",
      "[CV] END max_depth=5, max_features=30, min_samples_leaf=10, min_samples_split=4, n_estimators=200; total time=  31.2s\n",
      "[CV] END max_depth=5, max_features=30, min_samples_leaf=10, min_samples_split=4, n_estimators=200; total time=  29.4s\n",
      "[CV] END max_depth=5, max_features=30, min_samples_leaf=10, min_samples_split=4, n_estimators=500; total time= 1.3min\n",
      "[CV] END max_depth=5, max_features=30, min_samples_leaf=10, min_samples_split=4, n_estimators=500; total time= 1.1min\n",
      "[CV] END max_depth=5, max_features=30, min_samples_leaf=10, min_samples_split=4, n_estimators=500; total time= 1.0min\n",
      "[CV] END max_depth=5, max_features=30, min_samples_leaf=10, min_samples_split=4, n_estimators=500; total time=  52.6s\n",
      "[CV] END max_depth=5, max_features=30, min_samples_leaf=10, min_samples_split=4, n_estimators=500; total time=  53.7s\n",
      "[CV] END max_depth=5, max_features=30, min_samples_leaf=10, min_samples_split=50, n_estimators=200; total time=  21.0s\n",
      "[CV] END max_depth=5, max_features=30, min_samples_leaf=10, min_samples_split=50, n_estimators=200; total time=  21.1s\n",
      "[CV] END max_depth=5, max_features=30, min_samples_leaf=10, min_samples_split=50, n_estimators=200; total time=  20.7s\n",
      "[CV] END max_depth=5, max_features=30, min_samples_leaf=10, min_samples_split=50, n_estimators=200; total time=  21.6s\n",
      "[CV] END max_depth=5, max_features=30, min_samples_leaf=10, min_samples_split=50, n_estimators=200; total time=  25.5s\n",
      "[CV] END max_depth=5, max_features=30, min_samples_leaf=10, min_samples_split=50, n_estimators=500; total time=  52.3s\n",
      "[CV] END max_depth=5, max_features=30, min_samples_leaf=10, min_samples_split=50, n_estimators=500; total time=  53.4s\n",
      "[CV] END max_depth=5, max_features=30, min_samples_leaf=10, min_samples_split=50, n_estimators=500; total time=  53.4s\n",
      "[CV] END max_depth=5, max_features=30, min_samples_leaf=10, min_samples_split=50, n_estimators=500; total time=  52.2s\n",
      "[CV] END max_depth=5, max_features=30, min_samples_leaf=10, min_samples_split=50, n_estimators=500; total time= 1.3min\n",
      "[CV] END max_depth=5, max_features=30, min_samples_leaf=50, min_samples_split=4, n_estimators=200; total time=  25.6s\n",
      "[CV] END max_depth=5, max_features=30, min_samples_leaf=50, min_samples_split=4, n_estimators=200; total time=  27.3s\n",
      "[CV] END max_depth=5, max_features=30, min_samples_leaf=50, min_samples_split=4, n_estimators=200; total time=  38.0s\n",
      "[CV] END max_depth=5, max_features=30, min_samples_leaf=50, min_samples_split=4, n_estimators=200; total time=  43.9s\n",
      "[CV] END max_depth=5, max_features=30, min_samples_leaf=50, min_samples_split=4, n_estimators=200; total time=  44.0s\n",
      "[CV] END max_depth=5, max_features=30, min_samples_leaf=50, min_samples_split=4, n_estimators=500; total time= 1.2min\n",
      "[CV] END max_depth=5, max_features=30, min_samples_leaf=50, min_samples_split=4, n_estimators=500; total time= 1.1min\n",
      "[CV] END max_depth=5, max_features=30, min_samples_leaf=50, min_samples_split=4, n_estimators=500; total time= 1.2min\n",
      "[CV] END max_depth=5, max_features=30, min_samples_leaf=50, min_samples_split=4, n_estimators=500; total time= 1.2min\n",
      "[CV] END max_depth=5, max_features=30, min_samples_leaf=50, min_samples_split=4, n_estimators=500; total time= 1.2min\n",
      "[CV] END max_depth=5, max_features=30, min_samples_leaf=50, min_samples_split=50, n_estimators=200; total time=  15.0s\n",
      "[CV] END max_depth=5, max_features=30, min_samples_leaf=50, min_samples_split=50, n_estimators=200; total time=  15.0s\n",
      "[CV] END max_depth=5, max_features=30, min_samples_leaf=50, min_samples_split=50, n_estimators=200; total time=  15.8s\n",
      "[CV] END max_depth=5, max_features=30, min_samples_leaf=50, min_samples_split=50, n_estimators=200; total time=  17.0s\n",
      "[CV] END max_depth=5, max_features=30, min_samples_leaf=50, min_samples_split=50, n_estimators=200; total time=  19.9s\n",
      "[CV] END max_depth=5, max_features=30, min_samples_leaf=50, min_samples_split=50, n_estimators=500; total time=  58.1s\n",
      "[CV] END max_depth=5, max_features=30, min_samples_leaf=50, min_samples_split=50, n_estimators=500; total time=  58.2s\n",
      "[CV] END max_depth=5, max_features=30, min_samples_leaf=50, min_samples_split=50, n_estimators=500; total time=  48.7s\n",
      "[CV] END max_depth=5, max_features=30, min_samples_leaf=50, min_samples_split=50, n_estimators=500; total time=  48.8s\n",
      "[CV] END max_depth=5, max_features=30, min_samples_leaf=50, min_samples_split=50, n_estimators=500; total time=  51.1s\n",
      "[CV] END max_depth=15, max_features=20, min_samples_leaf=10, min_samples_split=4, n_estimators=200; total time=  35.7s\n",
      "[CV] END max_depth=15, max_features=20, min_samples_leaf=10, min_samples_split=4, n_estimators=200; total time=  37.1s\n",
      "[CV] END max_depth=15, max_features=20, min_samples_leaf=10, min_samples_split=4, n_estimators=200; total time=  26.3s\n",
      "[CV] END max_depth=15, max_features=20, min_samples_leaf=10, min_samples_split=4, n_estimators=200; total time= 1.1min\n",
      "[CV] END max_depth=15, max_features=20, min_samples_leaf=10, min_samples_split=4, n_estimators=200; total time=  40.7s\n",
      "[CV] END max_depth=15, max_features=20, min_samples_leaf=10, min_samples_split=4, n_estimators=500; total time= 1.4min\n",
      "[CV] END max_depth=15, max_features=20, min_samples_leaf=10, min_samples_split=4, n_estimators=500; total time=  56.1s\n",
      "[CV] END max_depth=15, max_features=20, min_samples_leaf=10, min_samples_split=4, n_estimators=500; total time= 2.0min\n",
      "[CV] END max_depth=15, max_features=20, min_samples_leaf=10, min_samples_split=4, n_estimators=500; total time= 1.6min\n",
      "[CV] END max_depth=15, max_features=20, min_samples_leaf=10, min_samples_split=4, n_estimators=500; total time= 1.2min\n",
      "[CV] END max_depth=15, max_features=20, min_samples_leaf=10, min_samples_split=50, n_estimators=200; total time=  44.7s\n",
      "[CV] END max_depth=15, max_features=20, min_samples_leaf=10, min_samples_split=50, n_estimators=200; total time=  32.0s\n",
      "[CV] END max_depth=15, max_features=20, min_samples_leaf=10, min_samples_split=50, n_estimators=200; total time=  37.9s\n",
      "[CV] END max_depth=15, max_features=20, min_samples_leaf=10, min_samples_split=50, n_estimators=200; total time=  33.3s\n",
      "[CV] END max_depth=15, max_features=20, min_samples_leaf=10, min_samples_split=50, n_estimators=200; total time=  24.6s\n",
      "[CV] END max_depth=15, max_features=20, min_samples_leaf=10, min_samples_split=50, n_estimators=500; total time=  53.6s\n",
      "[CV] END max_depth=15, max_features=20, min_samples_leaf=10, min_samples_split=50, n_estimators=500; total time=  52.2s\n",
      "[CV] END max_depth=15, max_features=20, min_samples_leaf=10, min_samples_split=50, n_estimators=500; total time=  53.8s\n",
      "[CV] END max_depth=15, max_features=20, min_samples_leaf=10, min_samples_split=50, n_estimators=500; total time=  52.5s\n",
      "[CV] END max_depth=15, max_features=20, min_samples_leaf=10, min_samples_split=50, n_estimators=500; total time=  53.3s\n",
      "[CV] END max_depth=15, max_features=20, min_samples_leaf=50, min_samples_split=4, n_estimators=200; total time=  17.1s\n",
      "[CV] END max_depth=15, max_features=20, min_samples_leaf=50, min_samples_split=4, n_estimators=200; total time=  16.9s\n",
      "[CV] END max_depth=15, max_features=20, min_samples_leaf=50, min_samples_split=4, n_estimators=200; total time=  17.6s\n",
      "[CV] END max_depth=15, max_features=20, min_samples_leaf=50, min_samples_split=4, n_estimators=200; total time=  15.9s\n",
      "[CV] END max_depth=15, max_features=20, min_samples_leaf=50, min_samples_split=4, n_estimators=200; total time=  15.9s\n",
      "[CV] END max_depth=15, max_features=20, min_samples_leaf=50, min_samples_split=4, n_estimators=500; total time=  36.6s\n",
      "[CV] END max_depth=15, max_features=20, min_samples_leaf=50, min_samples_split=4, n_estimators=500; total time=  26.0s\n",
      "[CV] END max_depth=15, max_features=20, min_samples_leaf=50, min_samples_split=4, n_estimators=500; total time=  30.6s\n",
      "[CV] END max_depth=15, max_features=20, min_samples_leaf=50, min_samples_split=4, n_estimators=500; total time=  27.2s\n",
      "[CV] END max_depth=15, max_features=20, min_samples_leaf=50, min_samples_split=4, n_estimators=500; total time=  26.3s\n",
      "[CV] END max_depth=15, max_features=20, min_samples_leaf=50, min_samples_split=50, n_estimators=200; total time=  11.9s\n",
      "[CV] END max_depth=15, max_features=20, min_samples_leaf=50, min_samples_split=50, n_estimators=200; total time=  10.9s\n",
      "[CV] END max_depth=15, max_features=20, min_samples_leaf=50, min_samples_split=50, n_estimators=200; total time=  10.6s\n",
      "[CV] END max_depth=15, max_features=20, min_samples_leaf=50, min_samples_split=50, n_estimators=200; total time=  11.4s\n",
      "[CV] END max_depth=15, max_features=20, min_samples_leaf=50, min_samples_split=50, n_estimators=200; total time=  10.1s\n",
      "[CV] END max_depth=15, max_features=20, min_samples_leaf=50, min_samples_split=50, n_estimators=500; total time=  25.6s\n",
      "[CV] END max_depth=15, max_features=20, min_samples_leaf=50, min_samples_split=50, n_estimators=500; total time=  24.7s\n",
      "[CV] END max_depth=15, max_features=20, min_samples_leaf=50, min_samples_split=50, n_estimators=500; total time=  27.4s\n",
      "[CV] END max_depth=15, max_features=20, min_samples_leaf=50, min_samples_split=50, n_estimators=500; total time=  27.3s\n",
      "[CV] END max_depth=15, max_features=20, min_samples_leaf=50, min_samples_split=50, n_estimators=500; total time=  28.1s\n",
      "[CV] END max_depth=15, max_features=26, min_samples_leaf=10, min_samples_split=4, n_estimators=200; total time=  20.0s\n",
      "[CV] END max_depth=15, max_features=26, min_samples_leaf=10, min_samples_split=4, n_estimators=200; total time=  19.6s\n",
      "[CV] END max_depth=15, max_features=26, min_samples_leaf=10, min_samples_split=4, n_estimators=200; total time=  20.5s\n",
      "[CV] END max_depth=15, max_features=26, min_samples_leaf=10, min_samples_split=4, n_estimators=200; total time=  20.4s\n",
      "[CV] END max_depth=15, max_features=26, min_samples_leaf=10, min_samples_split=4, n_estimators=200; total time=  21.1s\n",
      "[CV] END max_depth=15, max_features=26, min_samples_leaf=10, min_samples_split=4, n_estimators=500; total time=  34.4s\n",
      "[CV] END max_depth=15, max_features=26, min_samples_leaf=10, min_samples_split=4, n_estimators=500; total time=  33.0s\n",
      "[CV] END max_depth=15, max_features=26, min_samples_leaf=10, min_samples_split=4, n_estimators=500; total time=  31.7s\n",
      "[CV] END max_depth=15, max_features=26, min_samples_leaf=10, min_samples_split=4, n_estimators=500; total time=  32.9s\n",
      "[CV] END max_depth=15, max_features=26, min_samples_leaf=10, min_samples_split=4, n_estimators=500; total time=  33.8s\n",
      "[CV] END max_depth=15, max_features=26, min_samples_leaf=10, min_samples_split=50, n_estimators=200; total time=  19.0s\n",
      "[CV] END max_depth=15, max_features=26, min_samples_leaf=10, min_samples_split=50, n_estimators=200; total time=  19.0s\n",
      "[CV] END max_depth=15, max_features=26, min_samples_leaf=10, min_samples_split=50, n_estimators=200; total time=  19.0s\n",
      "[CV] END max_depth=15, max_features=26, min_samples_leaf=10, min_samples_split=50, n_estimators=200; total time=  18.3s\n",
      "[CV] END max_depth=15, max_features=26, min_samples_leaf=10, min_samples_split=50, n_estimators=200; total time=  19.8s\n",
      "[CV] END max_depth=15, max_features=26, min_samples_leaf=10, min_samples_split=50, n_estimators=500; total time=  42.1s\n",
      "[CV] END max_depth=15, max_features=26, min_samples_leaf=10, min_samples_split=50, n_estimators=500; total time=  48.3s\n",
      "[CV] END max_depth=15, max_features=26, min_samples_leaf=10, min_samples_split=50, n_estimators=500; total time=  47.8s\n",
      "[CV] END max_depth=15, max_features=26, min_samples_leaf=10, min_samples_split=50, n_estimators=500; total time=  53.3s\n",
      "[CV] END max_depth=15, max_features=26, min_samples_leaf=10, min_samples_split=50, n_estimators=500; total time=  51.4s\n",
      "[CV] END max_depth=15, max_features=26, min_samples_leaf=50, min_samples_split=4, n_estimators=200; total time=  16.4s\n",
      "[CV] END max_depth=15, max_features=26, min_samples_leaf=50, min_samples_split=4, n_estimators=200; total time=  16.2s\n",
      "[CV] END max_depth=15, max_features=26, min_samples_leaf=50, min_samples_split=4, n_estimators=200; total time=  17.1s\n",
      "[CV] END max_depth=15, max_features=26, min_samples_leaf=50, min_samples_split=4, n_estimators=200; total time=  18.3s\n",
      "[CV] END max_depth=15, max_features=26, min_samples_leaf=50, min_samples_split=4, n_estimators=200; total time=  16.3s\n",
      "[CV] END max_depth=15, max_features=26, min_samples_leaf=50, min_samples_split=4, n_estimators=500; total time=  43.6s\n",
      "[CV] END max_depth=15, max_features=26, min_samples_leaf=50, min_samples_split=4, n_estimators=500; total time=  45.0s\n",
      "[CV] END max_depth=15, max_features=26, min_samples_leaf=50, min_samples_split=4, n_estimators=500; total time=  43.3s\n",
      "[CV] END max_depth=15, max_features=26, min_samples_leaf=50, min_samples_split=4, n_estimators=500; total time=  44.6s\n",
      "[CV] END max_depth=15, max_features=26, min_samples_leaf=50, min_samples_split=4, n_estimators=500; total time=  41.5s\n",
      "[CV] END max_depth=15, max_features=26, min_samples_leaf=50, min_samples_split=50, n_estimators=200; total time=  18.8s\n",
      "[CV] END max_depth=15, max_features=26, min_samples_leaf=50, min_samples_split=50, n_estimators=200; total time=  19.0s\n",
      "[CV] END max_depth=15, max_features=26, min_samples_leaf=50, min_samples_split=50, n_estimators=200; total time=  19.4s\n",
      "[CV] END max_depth=15, max_features=26, min_samples_leaf=50, min_samples_split=50, n_estimators=200; total time=  16.6s\n",
      "[CV] END max_depth=15, max_features=26, min_samples_leaf=50, min_samples_split=50, n_estimators=200; total time=  17.3s\n",
      "[CV] END max_depth=15, max_features=26, min_samples_leaf=50, min_samples_split=50, n_estimators=500; total time=  46.0s\n",
      "[CV] END max_depth=15, max_features=26, min_samples_leaf=50, min_samples_split=50, n_estimators=500; total time=  42.9s\n",
      "[CV] END max_depth=15, max_features=26, min_samples_leaf=50, min_samples_split=50, n_estimators=500; total time=  44.6s\n",
      "[CV] END max_depth=15, max_features=26, min_samples_leaf=50, min_samples_split=50, n_estimators=500; total time=  43.6s\n",
      "[CV] END max_depth=15, max_features=26, min_samples_leaf=50, min_samples_split=50, n_estimators=500; total time=  43.7s\n",
      "[CV] END max_depth=15, max_features=30, min_samples_leaf=10, min_samples_split=4, n_estimators=200; total time=  31.5s\n",
      "[CV] END max_depth=15, max_features=30, min_samples_leaf=10, min_samples_split=4, n_estimators=200; total time=  30.0s\n",
      "[CV] END max_depth=15, max_features=30, min_samples_leaf=10, min_samples_split=4, n_estimators=200; total time=  27.5s\n",
      "[CV] END max_depth=15, max_features=30, min_samples_leaf=10, min_samples_split=4, n_estimators=200; total time=  30.6s\n",
      "[CV] END max_depth=15, max_features=30, min_samples_leaf=10, min_samples_split=4, n_estimators=200; total time=  28.7s\n",
      "[CV] END max_depth=15, max_features=30, min_samples_leaf=10, min_samples_split=4, n_estimators=500; total time=  50.1s\n",
      "[CV] END max_depth=15, max_features=30, min_samples_leaf=10, min_samples_split=4, n_estimators=500; total time=  50.0s\n",
      "[CV] END max_depth=15, max_features=30, min_samples_leaf=10, min_samples_split=4, n_estimators=500; total time=  50.0s\n",
      "[CV] END max_depth=15, max_features=30, min_samples_leaf=10, min_samples_split=4, n_estimators=500; total time=  46.5s\n",
      "[CV] END max_depth=15, max_features=30, min_samples_leaf=10, min_samples_split=4, n_estimators=500; total time=  45.3s\n",
      "[CV] END max_depth=15, max_features=30, min_samples_leaf=10, min_samples_split=50, n_estimators=200; total time=  25.7s\n",
      "[CV] END max_depth=15, max_features=30, min_samples_leaf=10, min_samples_split=50, n_estimators=200; total time=  27.5s\n",
      "[CV] END max_depth=15, max_features=30, min_samples_leaf=10, min_samples_split=50, n_estimators=200; total time=  29.7s\n",
      "[CV] END max_depth=15, max_features=30, min_samples_leaf=10, min_samples_split=50, n_estimators=200; total time=  29.2s\n",
      "[CV] END max_depth=15, max_features=30, min_samples_leaf=10, min_samples_split=50, n_estimators=200; total time=  28.3s\n",
      "[CV] END max_depth=15, max_features=30, min_samples_leaf=10, min_samples_split=50, n_estimators=500; total time= 1.1min\n",
      "[CV] END max_depth=15, max_features=30, min_samples_leaf=10, min_samples_split=50, n_estimators=500; total time= 1.0min\n",
      "[CV] END max_depth=15, max_features=30, min_samples_leaf=10, min_samples_split=50, n_estimators=500; total time= 1.1min\n",
      "[CV] END max_depth=15, max_features=30, min_samples_leaf=10, min_samples_split=50, n_estimators=500; total time=  56.8s\n",
      "[CV] END max_depth=15, max_features=30, min_samples_leaf=10, min_samples_split=50, n_estimators=500; total time=  57.1s\n",
      "[CV] END max_depth=15, max_features=30, min_samples_leaf=50, min_samples_split=4, n_estimators=200; total time=  22.9s\n",
      "[CV] END max_depth=15, max_features=30, min_samples_leaf=50, min_samples_split=4, n_estimators=200; total time=  19.0s\n",
      "[CV] END max_depth=15, max_features=30, min_samples_leaf=50, min_samples_split=4, n_estimators=200; total time=  21.8s\n",
      "[CV] END max_depth=15, max_features=30, min_samples_leaf=50, min_samples_split=4, n_estimators=200; total time=  19.2s\n",
      "[CV] END max_depth=15, max_features=30, min_samples_leaf=50, min_samples_split=4, n_estimators=200; total time=  21.1s\n",
      "[CV] END max_depth=15, max_features=30, min_samples_leaf=50, min_samples_split=4, n_estimators=500; total time=  48.3s\n",
      "[CV] END max_depth=15, max_features=30, min_samples_leaf=50, min_samples_split=4, n_estimators=500; total time=  53.7s\n",
      "[CV] END max_depth=15, max_features=30, min_samples_leaf=50, min_samples_split=4, n_estimators=500; total time=  53.8s\n",
      "[CV] END max_depth=15, max_features=30, min_samples_leaf=50, min_samples_split=4, n_estimators=500; total time=  48.5s\n",
      "[CV] END max_depth=15, max_features=30, min_samples_leaf=50, min_samples_split=4, n_estimators=500; total time=  48.1s\n",
      "[CV] END max_depth=15, max_features=30, min_samples_leaf=50, min_samples_split=50, n_estimators=200; total time=  20.5s\n",
      "[CV] END max_depth=15, max_features=30, min_samples_leaf=50, min_samples_split=50, n_estimators=200; total time=  17.3s\n",
      "[CV] END max_depth=15, max_features=30, min_samples_leaf=50, min_samples_split=50, n_estimators=200; total time=  17.4s\n",
      "[CV] END max_depth=15, max_features=30, min_samples_leaf=50, min_samples_split=50, n_estimators=200; total time=  20.4s\n",
      "[CV] END max_depth=15, max_features=30, min_samples_leaf=50, min_samples_split=50, n_estimators=200; total time=  19.0s\n",
      "[CV] END max_depth=15, max_features=30, min_samples_leaf=50, min_samples_split=50, n_estimators=500; total time=  51.3s\n",
      "[CV] END max_depth=15, max_features=30, min_samples_leaf=50, min_samples_split=50, n_estimators=500; total time=  49.2s\n",
      "[CV] END max_depth=15, max_features=30, min_samples_leaf=50, min_samples_split=50, n_estimators=500; total time=  54.6s\n",
      "[CV] END max_depth=15, max_features=30, min_samples_leaf=50, min_samples_split=50, n_estimators=500; total time=  57.3s\n",
      "[CV] END max_depth=15, max_features=30, min_samples_leaf=50, min_samples_split=50, n_estimators=500; total time=  55.1s\n"
     ]
    },
    {
     "data": {
      "text/html": [
       "<style>#sk-container-id-1 {color: black;}#sk-container-id-1 pre{padding: 0;}#sk-container-id-1 div.sk-toggleable {background-color: white;}#sk-container-id-1 label.sk-toggleable__label {cursor: pointer;display: block;width: 100%;margin-bottom: 0;padding: 0.3em;box-sizing: border-box;text-align: center;}#sk-container-id-1 label.sk-toggleable__label-arrow:before {content: \"▸\";float: left;margin-right: 0.25em;color: #696969;}#sk-container-id-1 label.sk-toggleable__label-arrow:hover:before {color: black;}#sk-container-id-1 div.sk-estimator:hover label.sk-toggleable__label-arrow:before {color: black;}#sk-container-id-1 div.sk-toggleable__content {max-height: 0;max-width: 0;overflow: hidden;text-align: left;background-color: #f0f8ff;}#sk-container-id-1 div.sk-toggleable__content pre {margin: 0.2em;color: black;border-radius: 0.25em;background-color: #f0f8ff;}#sk-container-id-1 input.sk-toggleable__control:checked~div.sk-toggleable__content {max-height: 200px;max-width: 100%;overflow: auto;}#sk-container-id-1 input.sk-toggleable__control:checked~label.sk-toggleable__label-arrow:before {content: \"▾\";}#sk-container-id-1 div.sk-estimator input.sk-toggleable__control:checked~label.sk-toggleable__label {background-color: #d4ebff;}#sk-container-id-1 div.sk-label input.sk-toggleable__control:checked~label.sk-toggleable__label {background-color: #d4ebff;}#sk-container-id-1 input.sk-hidden--visually {border: 0;clip: rect(1px 1px 1px 1px);clip: rect(1px, 1px, 1px, 1px);height: 1px;margin: -1px;overflow: hidden;padding: 0;position: absolute;width: 1px;}#sk-container-id-1 div.sk-estimator {font-family: monospace;background-color: #f0f8ff;border: 1px dotted black;border-radius: 0.25em;box-sizing: border-box;margin-bottom: 0.5em;}#sk-container-id-1 div.sk-estimator:hover {background-color: #d4ebff;}#sk-container-id-1 div.sk-parallel-item::after {content: \"\";width: 100%;border-bottom: 1px solid gray;flex-grow: 1;}#sk-container-id-1 div.sk-label:hover label.sk-toggleable__label {background-color: #d4ebff;}#sk-container-id-1 div.sk-serial::before {content: \"\";position: absolute;border-left: 1px solid gray;box-sizing: border-box;top: 0;bottom: 0;left: 50%;z-index: 0;}#sk-container-id-1 div.sk-serial {display: flex;flex-direction: column;align-items: center;background-color: white;padding-right: 0.2em;padding-left: 0.2em;position: relative;}#sk-container-id-1 div.sk-item {position: relative;z-index: 1;}#sk-container-id-1 div.sk-parallel {display: flex;align-items: stretch;justify-content: center;background-color: white;position: relative;}#sk-container-id-1 div.sk-item::before, #sk-container-id-1 div.sk-parallel-item::before {content: \"\";position: absolute;border-left: 1px solid gray;box-sizing: border-box;top: 0;bottom: 0;left: 50%;z-index: -1;}#sk-container-id-1 div.sk-parallel-item {display: flex;flex-direction: column;z-index: 1;position: relative;background-color: white;}#sk-container-id-1 div.sk-parallel-item:first-child::after {align-self: flex-end;width: 50%;}#sk-container-id-1 div.sk-parallel-item:last-child::after {align-self: flex-start;width: 50%;}#sk-container-id-1 div.sk-parallel-item:only-child::after {width: 0;}#sk-container-id-1 div.sk-dashed-wrapped {border: 1px dashed gray;margin: 0 0.4em 0.5em 0.4em;box-sizing: border-box;padding-bottom: 0.4em;background-color: white;}#sk-container-id-1 div.sk-label label {font-family: monospace;font-weight: bold;display: inline-block;line-height: 1.2em;}#sk-container-id-1 div.sk-label-container {text-align: center;}#sk-container-id-1 div.sk-container {/* jupyter's `normalize.less` sets `[hidden] { display: none; }` but bootstrap.min.css set `[hidden] { display: none !important; }` so we also need the `!important` here to be able to override the default hidden behavior on the sphinx rendered scikit-learn.org. See: https://github.com/scikit-learn/scikit-learn/issues/21755 */display: inline-block !important;position: relative;}#sk-container-id-1 div.sk-text-repr-fallback {display: none;}</style><div id=\"sk-container-id-1\" class=\"sk-top-container\"><div class=\"sk-text-repr-fallback\"><pre>GridSearchCV(cv=5, estimator=GradientBoostingClassifier(),\n",
       "             param_grid={&#x27;max_depth&#x27;: [2, 5, 15], &#x27;max_features&#x27;: [20, 26, 30],\n",
       "                         &#x27;min_samples_leaf&#x27;: [10, 50],\n",
       "                         &#x27;min_samples_split&#x27;: [4, 50],\n",
       "                         &#x27;n_estimators&#x27;: [200, 500]},\n",
       "             scoring=&#x27;average_precision&#x27;, verbose=2)</pre><b>In a Jupyter environment, please rerun this cell to show the HTML representation or trust the notebook. <br />On GitHub, the HTML representation is unable to render, please try loading this page with nbviewer.org.</b></div><div class=\"sk-container\" hidden><div class=\"sk-item sk-dashed-wrapped\"><div class=\"sk-label-container\"><div class=\"sk-label sk-toggleable\"><input class=\"sk-toggleable__control sk-hidden--visually\" id=\"sk-estimator-id-1\" type=\"checkbox\" ><label for=\"sk-estimator-id-1\" class=\"sk-toggleable__label sk-toggleable__label-arrow\">GridSearchCV</label><div class=\"sk-toggleable__content\"><pre>GridSearchCV(cv=5, estimator=GradientBoostingClassifier(),\n",
       "             param_grid={&#x27;max_depth&#x27;: [2, 5, 15], &#x27;max_features&#x27;: [20, 26, 30],\n",
       "                         &#x27;min_samples_leaf&#x27;: [10, 50],\n",
       "                         &#x27;min_samples_split&#x27;: [4, 50],\n",
       "                         &#x27;n_estimators&#x27;: [200, 500]},\n",
       "             scoring=&#x27;average_precision&#x27;, verbose=2)</pre></div></div></div><div class=\"sk-parallel\"><div class=\"sk-parallel-item\"><div class=\"sk-item\"><div class=\"sk-label-container\"><div class=\"sk-label sk-toggleable\"><input class=\"sk-toggleable__control sk-hidden--visually\" id=\"sk-estimator-id-2\" type=\"checkbox\" ><label for=\"sk-estimator-id-2\" class=\"sk-toggleable__label sk-toggleable__label-arrow\">estimator: GradientBoostingClassifier</label><div class=\"sk-toggleable__content\"><pre>GradientBoostingClassifier()</pre></div></div></div><div class=\"sk-serial\"><div class=\"sk-item\"><div class=\"sk-estimator sk-toggleable\"><input class=\"sk-toggleable__control sk-hidden--visually\" id=\"sk-estimator-id-3\" type=\"checkbox\" ><label for=\"sk-estimator-id-3\" class=\"sk-toggleable__label sk-toggleable__label-arrow\">GradientBoostingClassifier</label><div class=\"sk-toggleable__content\"><pre>GradientBoostingClassifier()</pre></div></div></div></div></div></div></div></div></div></div>"
      ],
      "text/plain": [
       "GridSearchCV(cv=5, estimator=GradientBoostingClassifier(),\n",
       "             param_grid={'max_depth': [2, 5, 15], 'max_features': [20, 26, 30],\n",
       "                         'min_samples_leaf': [10, 50],\n",
       "                         'min_samples_split': [4, 50],\n",
       "                         'n_estimators': [200, 500]},\n",
       "             scoring='average_precision', verbose=2)"
      ]
     },
     "execution_count": 483,
     "metadata": {},
     "output_type": "execute_result"
    }
   ],
   "source": [
    "boost = GradientBoostingClassifier()\n",
    "\n",
    "gradboost = GridSearchCV(estimator = boost, param_grid = param_grid_boost,\n",
    "                         cv = 5, verbose = 2, scoring='average_precision')\n",
    "gradboost.fit(X_train_scaled, y_train)"
   ]
  },
  {
   "cell_type": "code",
   "execution_count": 485,
   "metadata": {},
   "outputs": [
    {
     "data": {
      "text/plain": [
       "{'max_depth': 15,\n",
       " 'max_features': 20,\n",
       " 'min_samples_leaf': 50,\n",
       " 'min_samples_split': 4,\n",
       " 'n_estimators': 200}"
      ]
     },
     "execution_count": 485,
     "metadata": {},
     "output_type": "execute_result"
    }
   ],
   "source": [
    "gradboost.best_params_"
   ]
  },
  {
   "cell_type": "code",
   "execution_count": 484,
   "metadata": {},
   "outputs": [
    {
     "name": "stdout",
     "output_type": "stream",
     "text": [
      "Training Accuracy: 1.0\n",
      "Training AUC: 1.0\n",
      "Training Average Precision Score: 1.0\n",
      "Training F1 Score: 1.0\n"
     ]
    },
    {
     "data": {
      "image/png": "[encoded data removed]",
      "text/plain": [
       "<Figure size 640x480 with 2 Axes>"
      ]
     },
     "metadata": {},
     "output_type": "display_data"
    },
    {
     "name": "stderr",
     "output_type": "stream",
     "text": [
      "c:\\Users\\victo\\anaconda3\\envs\\LIVER_PRED\\Lib\\site-packages\\sklearn\\base.py:464: UserWarning: X does not have valid feature names, but GradientBoostingClassifier was fitted with feature names\n",
      "  warnings.warn(\n"
     ]
    },
    {
     "name": "stdout",
     "output_type": "stream",
     "text": [
      "Classification Report:\n",
      "              precision    recall  f1-score   support\n",
      "\n",
      "         0.0       0.93      0.95      0.94       558\n",
      "         1.0       0.84      0.78      0.81       178\n",
      "\n",
      "    accuracy                           0.91       736\n",
      "   macro avg       0.89      0.87      0.88       736\n",
      "weighted avg       0.91      0.91      0.91       736\n",
      "\n",
      "Test Accuracy: 0.9116847826086957\n",
      "Test AUC: 0.8671519471628206\n",
      "Test Average Precision Score: 0.7108372747997809\n",
      "Test F1 Score: 0.8104956268221575\n"
     ]
    },
    {
     "data": {
      "image/png": "[encoded data removed]",
      "text/plain": [
       "<Figure size 640x480 with 2 Axes>"
      ]
     },
     "metadata": {},
     "output_type": "display_data"
    }
   ],
   "source": [
    "gb_preds = gradboost.predict(X_train_scaled)\n",
    "accuracy = sum(gb_preds==y_train)/len(gb_preds)\n",
    "auc = roc_auc_score(y_train, gb_preds)\n",
    "aps = average_precision_score(y_train, gb_preds)\n",
    "f1 = f1_score(y_train, gb_preds)\n",
    "print('Training Accuracy:', accuracy)\n",
    "print('Training AUC:', auc)\n",
    "print('Training Average Precision Score:', aps)\n",
    "print('Training F1 Score:', f1)\n",
    "\n",
    "\n",
    "gb_conf = confusion_matrix(y_train, gb_preds)\n",
    "gb_disp = ConfusionMatrixDisplay(gb_conf)\n",
    "gb_disp.plot()\n",
    "plt.title('Train Confusion Matrix')\n",
    "plt.show()\n",
    "\n",
    "gb_preds = gradboost.predict(X_test_scaled)\n",
    "accuracy = sum(gb_preds==y_test)/len(gb_preds)\n",
    "auc = roc_auc_score(y_test, gb_preds)\n",
    "aps = average_precision_score(y_test, gb_preds)\n",
    "f1 = f1_score(y_test, gb_preds)\n",
    "#precision = \n",
    "\n",
    "print('Classification Report:')\n",
    "print(classification_report(y_test, gb_preds))\n",
    "print('Test Accuracy:', accuracy)\n",
    "print('Test AUC:', auc)\n",
    "print('Test Average Precision Score:', aps)\n",
    "print('Test F1 Score:', f1)\n",
    "\n",
    "\n",
    "gb_conf = confusion_matrix(y_test, gb_preds)\n",
    "gb_disp = ConfusionMatrixDisplay(gb_conf)\n",
    "gb_disp.plot()\n",
    "plt.title('GBDT Confusion Matrix')\n",
    "plt.show()"
   ]
  },
  {
   "cell_type": "markdown",
   "metadata": {},
   "source": [
    "# CNN Models"
   ]
  },
  {
   "cell_type": "code",
   "execution_count": 138,
   "metadata": {},
   "outputs": [],
   "source": [
    "\n",
    "from sklearn.model_selection import KFold\n"
   ]
  },
  {
   "cell_type": "code",
   "execution_count": 139,
   "metadata": {},
   "outputs": [],
   "source": [
    "import torch\n",
    "torch.set_default_dtype(torch.float32)\n",
    "import torch.nn as nn\n",
    "import torch.optim as optim\n",
    "from tqdm import tqdm\n",
    "from torch.utils.data import Dataset, DataLoader, SubsetRandomSampler\n",
    "import pandas as pd\n",
    "from torchvision import transforms\n",
    "from sklearn.metrics import precision_score, average_precision_score, recall_score, f1_score, accuracy_score, roc_auc_score, confusion_matrix"
   ]
  },
  {
   "cell_type": "markdown",
   "metadata": {},
   "source": [
    "## Data Preparation"
   ]
  },
  {
   "cell_type": "code",
   "execution_count": 51,
   "metadata": {},
   "outputs": [],
   "source": [
    "X, y  = fg.create_array_for_CNN(processed_labs, -4, 100)"
   ]
  },
  {
   "cell_type": "code",
   "execution_count": 52,
   "metadata": {},
   "outputs": [
    {
     "data": {
      "text/plain": [
       "3609"
      ]
     },
     "execution_count": 52,
     "metadata": {},
     "output_type": "execute_result"
    }
   ],
   "source": [
    "len(X)"
   ]
  },
  {
   "cell_type": "code",
   "execution_count": 126,
   "metadata": {},
   "outputs": [
    {
     "name": "stdout",
     "output_type": "stream",
     "text": [
      "files saved successfully.\n"
     ]
    }
   ],
   "source": [
    "np.save(dir+'CNN_input.npy', X)\n",
    "np.save(dir+'CNN_output.npy', y)\n",
    "print(\"files saved successfully.\")"
   ]
  },
  {
   "cell_type": "code",
   "execution_count": 127,
   "metadata": {},
   "outputs": [],
   "source": [
    "class NpyDataset(Dataset):\n",
    "    def __init__(self, file_path,labels_file_path):\n",
    "        self.data = np.load(file_path)\n",
    "        self.labels = np.load(labels_file_path)\n",
    "        self.dtype = torch.float32\n",
    "    def __len__(self):\n",
    "        return len(self.data)\n",
    "\n",
    "    def __getitem__(self, idx):\n",
    "        sample = self.data[idx]\n",
    "        # Assuming you have labels for each sample\n",
    "        label = self.labels[idx]# You should adjust this to fetch labels if available\n",
    "        label = torch.tensor([label], dtype=self.dtype)\n",
    "        sample = torch.tensor(sample, dtype=self.dtype)\n",
    "        sample = torch.unsqueeze(sample, dim=0) \n",
    "\n",
    "        return sample, label\n",
    "\n"
   ]
  },
  {
   "cell_type": "code",
   "execution_count": 128,
   "metadata": {},
   "outputs": [],
   "source": [
    "# File path to the .npy file\n",
    "file_path = dir+'CNN_input.npy'\n",
    "labels_file_path = dir+'CNN_output.npy'\n",
    "# Create a dataset\n",
    "dataset = NpyDataset(file_path, labels_file_path)\n",
    "\n",
    "# Create a DataLoader to load the dataset\n",
    "batch_size = 32\n",
    "shuffle = True  # You can set it to True if you want to shuffle the data\n",
    "num_workers = 0  # Number of subprocesses to use for data loading (0 means the data will be loaded in the main process)\n",
    "#dataloader = DataLoader(dataset, batch_size=batch_size, shuffle=shuffle, num_workers=num_workers)\n",
    "\n",
    "# Split the dataset indices into training and testing sets\n",
    "train_size = int(0.7 * len(dataset))  # 80% for training, adjust ratio as needed\n",
    "test_size = int(0.2 * len(dataset))  # 20% for testing, adjust ratio as needed\n",
    "val_size = len(dataset)-(train_size+test_size)   # 10% of the training data for validation\n",
    "train_dataset, val_dataset, test_dataset = torch.utils.data.random_split(dataset, [train_size,val_size, test_size])\n",
    "\n",
    "# Create separate DataLoaders for training and testing\n",
    "train_dataloader = DataLoader(train_dataset, batch_size=batch_size, shuffle=shuffle, num_workers=num_workers)\n",
    "test_dataloader = DataLoader(test_dataset, batch_size=batch_size, shuffle=shuffle, num_workers=num_workers)\n",
    "val_dataloader = DataLoader(val_dataset, batch_size=batch_size, shuffle=shuffle, num_workers=num_workers)\n",
    "# Compute the mean and standard deviation of the dataset\n",
    "mean_sum = 0.0\n",
    "std_sum = 0.0\n",
    "total_samples = 0\n",
    "\n",
    "for data, _ in train_dataloader:\n",
    "    total_samples += data.size(0)\n",
    "    mean_sum += data.mean(dim=(0, 1, 3))  # Calculate mean along batch (0), width (2), and height (3) axes\n",
    "    std_sum += torch.std(data, dim=(0, 1, 3))  # Calculate std along batch (0), width (2), and height (3) axes\n",
    "mean = mean_sum / total_samples    \n",
    "std = std_sum / total_samples\n",
    "\n",
    "custom_transform = transforms.Compose([\n",
    "    transforms.ToTensor(),  # Convert data to PyTorch tensor\n",
    "    #nan,  # Handle NaN values\n",
    "    transforms.Normalize(mean=[mean], std=[std]),  # Normalize data using computed mean and std\n",
    "    \n",
    "])\n",
    "train_dataloader.transform = custom_transform\n",
    "test_dataloader.transform = custom_transform\n",
    "val_dataloader.transform = custom_transform\n",
    "\n",
    "\n",
    "\n"
   ]
  },
  {
   "cell_type": "code",
   "execution_count": 130,
   "metadata": {},
   "outputs": [],
   "source": [
    "w1 = len(dataset)/(2*sum(dataset.labels == 0))\n",
    "w2 = torch.tensor(len(dataset)/(2*sum(dataset.labels == 1)))\n",
    "weights = torch.tensor([w1,w2], dtype=torch.float32)\n"
   ]
  },
  {
   "cell_type": "code",
   "execution_count": 131,
   "metadata": {},
   "outputs": [
    {
     "data": {
      "text/plain": [
       "tensor(2.0413)"
      ]
     },
     "execution_count": 131,
     "metadata": {},
     "output_type": "execute_result"
    }
   ],
   "source": [
    "weights[1]"
   ]
  },
  {
   "cell_type": "code",
   "execution_count": 144,
   "metadata": {},
   "outputs": [
    {
     "name": "stderr",
     "output_type": "stream",
     "text": [
      "Epoch 1/50:   0%|          | 0/91 [00:00<?, ?it/s]"
     ]
    },
    {
     "name": "stderr",
     "output_type": "stream",
     "text": [
      "                                                                       \r"
     ]
    },
    {
     "name": "stdout",
     "output_type": "stream",
     "text": [
      "Epoch [1/50], Training Loss: 1.0544 Validation Loss: 0.85796900935795\n"
     ]
    },
    {
     "name": "stderr",
     "output_type": "stream",
     "text": [
      "                                                                       \r"
     ]
    },
    {
     "name": "stdout",
     "output_type": "stream",
     "text": [
      "Epoch [2/50], Training Loss: 1.0068 Validation Loss: 0.8417183368102364\n"
     ]
    },
    {
     "name": "stderr",
     "output_type": "stream",
     "text": [
      "                                                                        \r"
     ]
    },
    {
     "name": "stdout",
     "output_type": "stream",
     "text": [
      "Epoch [3/50], Training Loss: 1.0203 Validation Loss: 0.8352327942848206\n"
     ]
    },
    {
     "name": "stderr",
     "output_type": "stream",
     "text": [
      "                                                                       \r"
     ]
    },
    {
     "name": "stdout",
     "output_type": "stream",
     "text": [
      "Epoch [4/50], Training Loss: 0.9816 Validation Loss: 0.8283276221026545\n"
     ]
    },
    {
     "name": "stderr",
     "output_type": "stream",
     "text": [
      "                                                                        \r"
     ]
    },
    {
     "name": "stdout",
     "output_type": "stream",
     "text": [
      "Epoch [5/50], Training Loss: 0.9710 Validation Loss: 0.8231184715810029\n"
     ]
    },
    {
     "name": "stderr",
     "output_type": "stream",
     "text": [
      "                                                                        \r"
     ]
    },
    {
     "name": "stdout",
     "output_type": "stream",
     "text": [
      "Epoch [6/50], Training Loss: 0.9651 Validation Loss: 0.8138685796571814\n"
     ]
    },
    {
     "name": "stderr",
     "output_type": "stream",
     "text": [
      "                                                                        \r"
     ]
    },
    {
     "name": "stdout",
     "output_type": "stream",
     "text": [
      "Epoch [7/50], Training Loss: 0.9476 Validation Loss: 0.8120685116104458\n"
     ]
    },
    {
     "name": "stderr",
     "output_type": "stream",
     "text": [
      "                                                                        \r"
     ]
    },
    {
     "name": "stdout",
     "output_type": "stream",
     "text": [
      "Epoch [8/50], Training Loss: 0.9296 Validation Loss: 0.8064389617546744\n"
     ]
    },
    {
     "name": "stderr",
     "output_type": "stream",
     "text": [
      "                                                                        \r"
     ]
    },
    {
     "name": "stdout",
     "output_type": "stream",
     "text": [
      "Epoch [9/50], Training Loss: 0.9328 Validation Loss: 0.8029187243917714\n"
     ]
    },
    {
     "name": "stderr",
     "output_type": "stream",
     "text": [
      "                                                                        \r"
     ]
    },
    {
     "name": "stdout",
     "output_type": "stream",
     "text": [
      "Epoch [10/50], Training Loss: 0.9238 Validation Loss: 0.8040923968605374\n"
     ]
    },
    {
     "name": "stderr",
     "output_type": "stream",
     "text": [
      "                                                                        \r"
     ]
    },
    {
     "name": "stdout",
     "output_type": "stream",
     "text": [
      "Epoch [11/50], Training Loss: 0.9040 Validation Loss: 0.7972679941550546\n"
     ]
    },
    {
     "name": "stderr",
     "output_type": "stream",
     "text": [
      "                                                                        \r"
     ]
    },
    {
     "name": "stdout",
     "output_type": "stream",
     "text": [
      "Epoch [12/50], Training Loss: 0.8967 Validation Loss: 0.7964900110078894\n"
     ]
    },
    {
     "name": "stderr",
     "output_type": "stream",
     "text": [
      "                                                                        \r"
     ]
    },
    {
     "name": "stdout",
     "output_type": "stream",
     "text": [
      "Epoch [13/50], Training Loss: 0.9021 Validation Loss: 0.788814902305603\n"
     ]
    },
    {
     "name": "stderr",
     "output_type": "stream",
     "text": [
      "                                                                        \r"
     ]
    },
    {
     "name": "stdout",
     "output_type": "stream",
     "text": [
      "Epoch [14/50], Training Loss: 0.8981 Validation Loss: 0.7872525453567505\n"
     ]
    },
    {
     "name": "stderr",
     "output_type": "stream",
     "text": [
      "                                                                         \r"
     ]
    },
    {
     "name": "stdout",
     "output_type": "stream",
     "text": [
      "Epoch [15/50], Training Loss: 0.8826 Validation Loss: 0.7877670474674391\n"
     ]
    },
    {
     "name": "stderr",
     "output_type": "stream",
     "text": [
      "                                                                        \r"
     ]
    },
    {
     "name": "stdout",
     "output_type": "stream",
     "text": [
      "Epoch [16/50], Training Loss: 0.8788 Validation Loss: 0.7878275409988735\n"
     ]
    },
    {
     "name": "stderr",
     "output_type": "stream",
     "text": [
      "                                                                         \r"
     ]
    },
    {
     "name": "stdout",
     "output_type": "stream",
     "text": [
      "Epoch [17/50], Training Loss: 0.8834 Validation Loss: 0.7823746644932291\n"
     ]
    },
    {
     "name": "stderr",
     "output_type": "stream",
     "text": [
      "                                                                        \r"
     ]
    },
    {
     "name": "stdout",
     "output_type": "stream",
     "text": [
      "Epoch [18/50], Training Loss: 0.8779 Validation Loss: 0.7799571078756581\n"
     ]
    },
    {
     "name": "stderr",
     "output_type": "stream",
     "text": [
      "                                                                         \r"
     ]
    },
    {
     "name": "stdout",
     "output_type": "stream",
     "text": [
      "Epoch [19/50], Training Loss: 0.8858 Validation Loss: 0.7836482706277267\n"
     ]
    },
    {
     "name": "stderr",
     "output_type": "stream",
     "text": [
      "                                                                         \r"
     ]
    },
    {
     "name": "stdout",
     "output_type": "stream",
     "text": [
      "Epoch [20/50], Training Loss: 0.8658 Validation Loss: 0.7784184994904891\n"
     ]
    },
    {
     "name": "stderr",
     "output_type": "stream",
     "text": [
      "                                                                         \r"
     ]
    },
    {
     "name": "stdout",
     "output_type": "stream",
     "text": [
      "Epoch [21/50], Training Loss: 0.8769 Validation Loss: 0.7826191808866418\n"
     ]
    },
    {
     "name": "stderr",
     "output_type": "stream",
     "text": [
      "                                                                        \r"
     ]
    },
    {
     "name": "stdout",
     "output_type": "stream",
     "text": [
      "Epoch [22/50], Training Loss: 0.8742 Validation Loss: 0.7792914743008821\n"
     ]
    },
    {
     "name": "stderr",
     "output_type": "stream",
     "text": [
      "                                                                         \r"
     ]
    },
    {
     "name": "stdout",
     "output_type": "stream",
     "text": [
      "Epoch [23/50], Training Loss: 0.8421 Validation Loss: 0.7709191078725068\n"
     ]
    },
    {
     "name": "stderr",
     "output_type": "stream",
     "text": [
      "                                                                         \r"
     ]
    },
    {
     "name": "stdout",
     "output_type": "stream",
     "text": [
      "Epoch [24/50], Training Loss: 0.8380 Validation Loss: 0.7729336723037388\n"
     ]
    },
    {
     "name": "stderr",
     "output_type": "stream",
     "text": [
      "                                                                         \r"
     ]
    },
    {
     "name": "stdout",
     "output_type": "stream",
     "text": [
      "Epoch [25/50], Training Loss: 0.8363 Validation Loss: 0.7719662137653517\n"
     ]
    },
    {
     "name": "stderr",
     "output_type": "stream",
     "text": [
      "                                                                         \r"
     ]
    },
    {
     "name": "stdout",
     "output_type": "stream",
     "text": [
      "Epoch [26/50], Training Loss: 0.8417 Validation Loss: 0.7700413880140885\n"
     ]
    },
    {
     "name": "stderr",
     "output_type": "stream",
     "text": [
      "                                                                        \r"
     ]
    },
    {
     "name": "stdout",
     "output_type": "stream",
     "text": [
      "Epoch [27/50], Training Loss: 0.8271 Validation Loss: 0.7705528684284376\n"
     ]
    },
    {
     "name": "stderr",
     "output_type": "stream",
     "text": [
      "                                                                         \r"
     ]
    },
    {
     "name": "stdout",
     "output_type": "stream",
     "text": [
      "Epoch [28/50], Training Loss: 0.8405 Validation Loss: 0.7695013362428417\n"
     ]
    },
    {
     "name": "stderr",
     "output_type": "stream",
     "text": [
      "                                                                         \r"
     ]
    },
    {
     "name": "stdout",
     "output_type": "stream",
     "text": [
      "Epoch [29/50], Training Loss: 0.8331 Validation Loss: 0.7630907556285029\n"
     ]
    },
    {
     "name": "stderr",
     "output_type": "stream",
     "text": [
      "                                                                         \r"
     ]
    },
    {
     "name": "stdout",
     "output_type": "stream",
     "text": [
      "Epoch [30/50], Training Loss: 0.8301 Validation Loss: 0.7707470603611158\n"
     ]
    },
    {
     "name": "stderr",
     "output_type": "stream",
     "text": [
      "                                                                         \r"
     ]
    },
    {
     "name": "stdout",
     "output_type": "stream",
     "text": [
      "Epoch [31/50], Training Loss: 0.8410 Validation Loss: 0.7687159673027371\n"
     ]
    },
    {
     "name": "stderr",
     "output_type": "stream",
     "text": [
      "                                                                         \r"
     ]
    },
    {
     "name": "stdout",
     "output_type": "stream",
     "text": [
      "Epoch [32/50], Training Loss: 0.8323 Validation Loss: 0.7652639150619507\n"
     ]
    },
    {
     "name": "stderr",
     "output_type": "stream",
     "text": [
      "                                                                         \r"
     ]
    },
    {
     "name": "stdout",
     "output_type": "stream",
     "text": [
      "Epoch [33/50], Training Loss: 0.8249 Validation Loss: 0.7603854640670444\n"
     ]
    },
    {
     "name": "stderr",
     "output_type": "stream",
     "text": [
      "                                                                         \r"
     ]
    },
    {
     "name": "stdout",
     "output_type": "stream",
     "text": [
      "Epoch [34/50], Training Loss: 0.8202 Validation Loss: 0.7593073974484983\n"
     ]
    },
    {
     "name": "stderr",
     "output_type": "stream",
     "text": [
      "                                                                         \r"
     ]
    },
    {
     "name": "stdout",
     "output_type": "stream",
     "text": [
      "Epoch [35/50], Training Loss: 0.8117 Validation Loss: 0.7606055114580237\n"
     ]
    },
    {
     "name": "stderr",
     "output_type": "stream",
     "text": [
      "                                                                         \r"
     ]
    },
    {
     "name": "stdout",
     "output_type": "stream",
     "text": [
      "Epoch [36/50], Training Loss: 0.8206 Validation Loss: 0.7610771370970685\n"
     ]
    },
    {
     "name": "stderr",
     "output_type": "stream",
     "text": [
      "                                                                         \r"
     ]
    },
    {
     "name": "stdout",
     "output_type": "stream",
     "text": [
      "Epoch [37/50], Training Loss: 0.8036 Validation Loss: 0.7611512360365494\n"
     ]
    },
    {
     "name": "stderr",
     "output_type": "stream",
     "text": [
      "                                                                         \r"
     ]
    },
    {
     "name": "stdout",
     "output_type": "stream",
     "text": [
      "Epoch [38/50], Training Loss: 0.7997 Validation Loss: 0.7628098467121953\n"
     ]
    },
    {
     "name": "stderr",
     "output_type": "stream",
     "text": [
      "                                                                         \r"
     ]
    },
    {
     "name": "stdout",
     "output_type": "stream",
     "text": [
      "Epoch [39/50], Training Loss: 0.8005 Validation Loss: 0.7578225394953853\n"
     ]
    },
    {
     "name": "stderr",
     "output_type": "stream",
     "text": [
      "                                                                         \r"
     ]
    },
    {
     "name": "stdout",
     "output_type": "stream",
     "text": [
      "Epoch [40/50], Training Loss: 0.8036 Validation Loss: 0.7564907644105994\n"
     ]
    },
    {
     "name": "stderr",
     "output_type": "stream",
     "text": [
      "                                                                         \r"
     ]
    },
    {
     "name": "stdout",
     "output_type": "stream",
     "text": [
      "Epoch [41/50], Training Loss: 0.7978 Validation Loss: 0.7574123662451039\n"
     ]
    },
    {
     "name": "stderr",
     "output_type": "stream",
     "text": [
      "                                                                         \r"
     ]
    },
    {
     "name": "stdout",
     "output_type": "stream",
     "text": [
      "Epoch [42/50], Training Loss: 0.8069 Validation Loss: 0.7551287205322929\n"
     ]
    },
    {
     "name": "stderr",
     "output_type": "stream",
     "text": [
      "                                                                         \r"
     ]
    },
    {
     "name": "stdout",
     "output_type": "stream",
     "text": [
      "Epoch [43/50], Training Loss: 0.7997 Validation Loss: 0.7583090559295986\n"
     ]
    },
    {
     "name": "stderr",
     "output_type": "stream",
     "text": [
      "                                                                         \r"
     ]
    },
    {
     "name": "stdout",
     "output_type": "stream",
     "text": [
      "Epoch [44/50], Training Loss: 0.7937 Validation Loss: 0.759207686652308\n"
     ]
    },
    {
     "name": "stderr",
     "output_type": "stream",
     "text": [
      "                                                                         \r"
     ]
    },
    {
     "name": "stdout",
     "output_type": "stream",
     "text": [
      "Epoch [45/50], Training Loss: 0.7897 Validation Loss: 0.7553347789722941\n"
     ]
    },
    {
     "name": "stderr",
     "output_type": "stream",
     "text": [
      "                                                                         \r"
     ]
    },
    {
     "name": "stdout",
     "output_type": "stream",
     "text": [
      "Epoch [46/50], Training Loss: 0.8054 Validation Loss: 0.7515723860782125\n"
     ]
    },
    {
     "name": "stderr",
     "output_type": "stream",
     "text": [
      "                                                                         \r"
     ]
    },
    {
     "name": "stdout",
     "output_type": "stream",
     "text": [
      "Epoch [47/50], Training Loss: 0.7903 Validation Loss: 0.7574069474054419\n"
     ]
    },
    {
     "name": "stderr",
     "output_type": "stream",
     "text": [
      "                                                                         \r"
     ]
    },
    {
     "name": "stdout",
     "output_type": "stream",
     "text": [
      "Epoch [48/50], Training Loss: 0.7861 Validation Loss: 0.7508731484413147\n"
     ]
    },
    {
     "name": "stderr",
     "output_type": "stream",
     "text": [
      "                                                                         \r"
     ]
    },
    {
     "name": "stdout",
     "output_type": "stream",
     "text": [
      "Epoch [49/50], Training Loss: 0.7852 Validation Loss: 0.7550064092097075\n"
     ]
    },
    {
     "name": "stderr",
     "output_type": "stream",
     "text": [
      "                                                                         \r"
     ]
    },
    {
     "name": "stdout",
     "output_type": "stream",
     "text": [
      "Epoch [50/50], Training Loss: 0.7805 Validation Loss: 0.7461446290430815\n"
     ]
    }
   ],
   "source": [
    "# Initialize your CNN\n",
    "cnn = SimpleCNN()\n",
    "\n",
    "# Define your loss function and optimizer\n",
    "criterion = nn.BCEWithLogitsLoss(pos_weight=torch.tensor([w2]), reduction='mean')\n",
    "optimizer = optim.Adam(cnn.parameters(), lr=1e-6, weight_decay=1e-5)\n",
    "num_epochs = 50\n",
    "# Initialize the best validation loss to positive infinity\n",
    "best_val_loss = float('inf')\n",
    "training_losses = []\n",
    "validation_losses = []\n",
    "# Assuming your input data is in the form of a PyTorch tensor\n",
    "# Here's how you can train your CNN\n",
    "for epoch in range(num_epochs):\n",
    "    # Create a progress bar\n",
    "    progress_bar = tqdm(train_dataloader, desc=f'Epoch {epoch + 1}/{num_epochs}', leave=False)\n",
    "    running_loss = 0.0\n",
    "    \n",
    "    cnn.train()\n",
    "\n",
    "    # Iterate over the dataset\n",
    "    for inputs, labels in progress_bar:\n",
    "        optimizer.zero_grad()\n",
    "        outputs = cnn(inputs)\n",
    "\n",
    "        loss = criterion(outputs, labels)\n",
    "        loss.backward()\n",
    "        optimizer.step()\n",
    "        \n",
    "        # Update the running loss\n",
    "        running_loss += loss.item()\n",
    "        \n",
    "        # Update the progress bar with the current loss\n",
    "        progress_bar.set_postfix({'loss': running_loss / len(progress_bar)})\n",
    "    \n",
    "    # Calculate average loss for the epoch\n",
    "    epoch_loss = running_loss / len(train_dataloader)\n",
    "    training_losses.append(epoch_loss)\n",
    "    # Validation phase\n",
    "    cnn.eval()  # Set model to evaluation mode\n",
    "    running_val_loss = 0.0\n",
    "    \n",
    "    with torch.no_grad():\n",
    "        for inputs, labels in val_dataloader:\n",
    "            outputs = cnn(inputs)\n",
    "            loss = criterion(outputs, labels)\n",
    "            running_val_loss += loss.item()\n",
    "    \n",
    "    # Calculate average validation loss for the epoch\n",
    "    epoch_val_loss = running_val_loss / len(val_dataloader)\n",
    "    validation_losses.append(epoch_val_loss)\n",
    "    if epoch_val_loss < best_val_loss:\n",
    "        best_val_loss = epoch_val_loss\n",
    "        torch.save(cnn.state_dict(), dir+'/model.pth')\n",
    "    \n",
    "    print(f'Epoch [{epoch + 1}/{num_epochs}], Training Loss: {epoch_loss:.4f}', 'Validation Loss:', epoch_val_loss)\n"
   ]
  },
  {
   "cell_type": "code",
   "execution_count": 145,
   "metadata": {},
   "outputs": [
    {
     "name": "stdout",
     "output_type": "stream",
     "text": [
      "Training Performance:\n",
      "Accuracy: 76.20%\n",
      "Precision: 0.53\n",
      "Recall: 0.67\n",
      "Confusion Matrix:\n",
      "[[1704  441]\n",
      " [ 246  496]]\n",
      "\n",
      "Test Performance:\n",
      "Accuracy: 74.90%\n",
      "Precision: 0.50\n",
      "Recall: 0.64\n",
      "Confusion Matrix:\n",
      "[[424 116]\n",
      " [ 65 116]]\n"
     ]
    }
   ],
   "source": [
    "# Function to compute evaluation metrics\n",
    "def evaluate_performance(dataloader):\n",
    "    cnn.load_state_dict(torch.load(dir+'/model.pth'))  # Load the best model\n",
    "    cnn.eval()  # Set the model to evaluation mode\n",
    "    total_correct = 0\n",
    "    total_samples = 0\n",
    "    predicted_labels = []\n",
    "    true_labels = []\n",
    "\n",
    "    with torch.no_grad():  # No need to track gradients during evaluation\n",
    "        for inputs, labels in dataloader:\n",
    "            outputs = cnn(inputs)\n",
    "            probabilities = torch.sigmoid(outputs)  # Apply sigmoid to get probabilities\n",
    "            predicted = (probabilities > 0.5).int()\n",
    "            total_correct += (predicted == labels).sum().item()\n",
    "            total_samples += labels.size(0)\n",
    "            predicted_labels.extend(predicted.numpy())\n",
    "            true_labels.extend(labels.numpy())\n",
    "\n",
    "    # Compute accuracy\n",
    "    accuracy = total_correct / total_samples\n",
    "\n",
    "    # Compute precision and recall\n",
    "    precision = precision_score(true_labels, predicted_labels)\n",
    "    recall = recall_score(true_labels, predicted_labels)\n",
    "\n",
    "    # Compute confusion matrix\n",
    "    conf_matrix = confusion_matrix(true_labels, predicted_labels)\n",
    "\n",
    "    return accuracy, precision, recall, conf_matrix\n",
    "\n",
    "# Evaluate performance on training dataset\n",
    "train_accuracy, train_precision, train_recall, train_conf_matrix = evaluate_performance(train_dataloader)\n",
    "\n",
    "# Evaluate performance on test dataset\n",
    "test_accuracy, test_precision, test_recall, test_conf_matrix = evaluate_performance(test_dataloader)\n",
    "\n",
    "print('Training Performance:')\n",
    "print(f'Accuracy: {train_accuracy:.2%}')\n",
    "print(f'Precision: {train_precision:.2f}')\n",
    "print(f'Recall: {train_recall:.2f}')\n",
    "print('Confusion Matrix:')\n",
    "print(train_conf_matrix)\n",
    "\n",
    "print('\\nTest Performance:')\n",
    "print(f'Accuracy: {test_accuracy:.2%}')\n",
    "print(f'Precision: {test_precision:.2f}')\n",
    "print(f'Recall: {test_recall:.2f}')\n",
    "print('Confusion Matrix:')\n",
    "print(test_conf_matrix)\n"
   ]
  },
  {
   "cell_type": "code",
   "execution_count": 146,
   "metadata": {},
   "outputs": [
    {
     "data": {
      "text/plain": [
       "<matplotlib.legend.Legend at 0x1f5671d3350>"
      ]
     },
     "execution_count": 146,
     "metadata": {},
     "output_type": "execute_result"
    },
    {
     "data": {
      "image/png": "[encoded data removed]",
      "text/plain": [
       "<Figure size 640x480 with 1 Axes>"
      ]
     },
     "metadata": {},
     "output_type": "display_data"
    }
   ],
   "source": [
    "plt.plot(training_losses, label='Training Loss')\n",
    "plt.plot(validation_losses, label='Validation Loss')\n",
    "plt.xlabel('Epoch')\n",
    "plt.ylabel('Loss')\n",
    "plt.legend()"
   ]
  },
  {
   "cell_type": "code",
   "execution_count": 194,
   "metadata": {},
   "outputs": [
    {
     "data": {
      "text/plain": [
       "(54, 100)"
      ]
     },
     "execution_count": 194,
     "metadata": {},
     "output_type": "execute_result"
    }
   ],
   "source": [
    "X[0].shape"
   ]
  },
  {
   "cell_type": "markdown",
   "metadata": {},
   "source": [
    "## 1D kernel"
   ]
  },
  {
   "cell_type": "code",
   "execution_count": 217,
   "metadata": {},
   "outputs": [],
   "source": [
    "class onedCNN(nn.Module):\n",
    "    def __init__(self):\n",
    "        super(onedCNN, self).__init__()\n",
    "        # Define your convolutional layers\n",
    "        self.conv1 = nn.Conv2d(in_channels=1, out_channels=32, kernel_size=(1,3), padding=1)\n",
    "        # (input_size - kernel_size + 2*padding)/stride + 1\n",
    "        # (100 - 3 + 2*1)/1 + 1 = 100\n",
    "        # (54 - 1 +2*1)/1 + 1 = 56\n",
    "        self.conv2 = nn.Conv2d(in_channels=32, out_channels=64, kernel_size=(1,3), padding=1)\n",
    "        # 50 - 3 + 2*1)/1 + 1 = 50\n",
    "        self.conv3 = nn.Conv2d(in_channels=64, out_channels=64, kernel_size=(1,3), padding=1)\n",
    "        self.conv4 = nn.Conv2d(in_channels=64, out_channels=128, kernel_size=(1,2), padding=1)\n",
    "        # Define your fully connected layers\n",
    "\n",
    "        self.fc1 = nn.Linear(128* 6 * 6, 64)\n",
    "        self.fc2 = nn.Linear(64, 1)  # Assuming you have 2 classes\n",
    "\n",
    "        self.dropout = nn.Dropout(0.6)\n",
    "    def forward(self, x):\n",
    "        # Input x has shape (batch_size, channels, height, width)\n",
    "        x = self.conv1(x)\n",
    "        x = nn.functional.relu(x)\n",
    "        x = nn.functional.max_pool2d(x, kernel_size=(1,2), stride=2)\n",
    "\n",
    "        x = self.conv2(x)\n",
    "        x = nn.functional.relu(x)\n",
    "        x = nn.functional.max_pool2d(x, kernel_size=(1,2), stride=2)\n",
    "      \n",
    "        x = self.conv3(x)\n",
    "        x = nn.functional.relu(x)\n",
    "        x = nn.functional.max_pool2d(x, kernel_size=(1,2), stride=2)\n",
    "       \n",
    "        x = self.conv4(x)\n",
    "        x = nn.functional.relu(x)\n",
    "        x = nn.functional.max_pool2d(x, kernel_size=(1,2), stride=2)\n",
    "        # Flatten the output for the fully connected layers\n",
    "        x = x.view(x.size(0), -1) # x.size(0) is the batch size\n",
    "        \n",
    "        x = self.dropout(x)\n",
    "        x = self.fc1(x)\n",
    "        x = nn.functional.relu(x)\n",
    "        x = self.dropout(x)\n",
    "        x = self.fc2(x)\n",
    "        return x\n"
   ]
  },
  {
   "cell_type": "code",
   "execution_count": 218,
   "metadata": {},
   "outputs": [
    {
     "name": "stderr",
     "output_type": "stream",
     "text": [
      "Epoch 1/100:   0%|          | 0/91 [00:00<?, ?it/s]"
     ]
    },
    {
     "name": "stderr",
     "output_type": "stream",
     "text": [
      "                                                   \r"
     ]
    },
    {
     "ename": "RuntimeError",
     "evalue": "max_pool1d: Expected 2D or 3D (batch mode) tensor with optional 0 dim batch size for input, but got:[32, 32, 56, 100]",
     "output_type": "error",
     "traceback": [
      "\u001b[1;31m---------------------------------------------------------------------------\u001b[0m",
      "\u001b[1;31mRuntimeError\u001b[0m                              Traceback (most recent call last)",
      "Cell \u001b[1;32mIn[218], line 23\u001b[0m\n\u001b[0;32m     21\u001b[0m \u001b[38;5;28;01mfor\u001b[39;00m inputs, labels \u001b[38;5;129;01min\u001b[39;00m progress_bar:\n\u001b[0;32m     22\u001b[0m     optimizer\u001b[38;5;241m.\u001b[39mzero_grad()\n\u001b[1;32m---> 23\u001b[0m     outputs \u001b[38;5;241m=\u001b[39m cnn(inputs)\n\u001b[0;32m     24\u001b[0m     loss \u001b[38;5;241m=\u001b[39m criterion(outputs, labels)\n\u001b[0;32m     25\u001b[0m     loss\u001b[38;5;241m.\u001b[39mbackward()\n",
      "File \u001b[1;32mc:\\Users\\victo\\anaconda3\\envs\\LIVER_PRED\\Lib\\site-packages\\torch\\nn\\modules\\module.py:1511\u001b[0m, in \u001b[0;36mModule._wrapped_call_impl\u001b[1;34m(self, *args, **kwargs)\u001b[0m\n\u001b[0;32m   1509\u001b[0m     \u001b[38;5;28;01mreturn\u001b[39;00m \u001b[38;5;28mself\u001b[39m\u001b[38;5;241m.\u001b[39m_compiled_call_impl(\u001b[38;5;241m*\u001b[39margs, \u001b[38;5;241m*\u001b[39m\u001b[38;5;241m*\u001b[39mkwargs)  \u001b[38;5;66;03m# type: ignore[misc]\u001b[39;00m\n\u001b[0;32m   1510\u001b[0m \u001b[38;5;28;01melse\u001b[39;00m:\n\u001b[1;32m-> 1511\u001b[0m     \u001b[38;5;28;01mreturn\u001b[39;00m \u001b[38;5;28mself\u001b[39m\u001b[38;5;241m.\u001b[39m_call_impl(\u001b[38;5;241m*\u001b[39margs, \u001b[38;5;241m*\u001b[39m\u001b[38;5;241m*\u001b[39mkwargs)\n",
      "File \u001b[1;32mc:\\Users\\victo\\anaconda3\\envs\\LIVER_PRED\\Lib\\site-packages\\torch\\nn\\modules\\module.py:1520\u001b[0m, in \u001b[0;36mModule._call_impl\u001b[1;34m(self, *args, **kwargs)\u001b[0m\n\u001b[0;32m   1515\u001b[0m \u001b[38;5;66;03m# If we don't have any hooks, we want to skip the rest of the logic in\u001b[39;00m\n\u001b[0;32m   1516\u001b[0m \u001b[38;5;66;03m# this function, and just call forward.\u001b[39;00m\n\u001b[0;32m   1517\u001b[0m \u001b[38;5;28;01mif\u001b[39;00m \u001b[38;5;129;01mnot\u001b[39;00m (\u001b[38;5;28mself\u001b[39m\u001b[38;5;241m.\u001b[39m_backward_hooks \u001b[38;5;129;01mor\u001b[39;00m \u001b[38;5;28mself\u001b[39m\u001b[38;5;241m.\u001b[39m_backward_pre_hooks \u001b[38;5;129;01mor\u001b[39;00m \u001b[38;5;28mself\u001b[39m\u001b[38;5;241m.\u001b[39m_forward_hooks \u001b[38;5;129;01mor\u001b[39;00m \u001b[38;5;28mself\u001b[39m\u001b[38;5;241m.\u001b[39m_forward_pre_hooks\n\u001b[0;32m   1518\u001b[0m         \u001b[38;5;129;01mor\u001b[39;00m _global_backward_pre_hooks \u001b[38;5;129;01mor\u001b[39;00m _global_backward_hooks\n\u001b[0;32m   1519\u001b[0m         \u001b[38;5;129;01mor\u001b[39;00m _global_forward_hooks \u001b[38;5;129;01mor\u001b[39;00m _global_forward_pre_hooks):\n\u001b[1;32m-> 1520\u001b[0m     \u001b[38;5;28;01mreturn\u001b[39;00m forward_call(\u001b[38;5;241m*\u001b[39margs, \u001b[38;5;241m*\u001b[39m\u001b[38;5;241m*\u001b[39mkwargs)\n\u001b[0;32m   1522\u001b[0m \u001b[38;5;28;01mtry\u001b[39;00m:\n\u001b[0;32m   1523\u001b[0m     result \u001b[38;5;241m=\u001b[39m \u001b[38;5;28;01mNone\u001b[39;00m\n",
      "Cell \u001b[1;32mIn[217], line 23\u001b[0m, in \u001b[0;36monedCNN.forward\u001b[1;34m(self, x)\u001b[0m\n\u001b[0;32m     21\u001b[0m x \u001b[38;5;241m=\u001b[39m \u001b[38;5;28mself\u001b[39m\u001b[38;5;241m.\u001b[39mconv1(x)\n\u001b[0;32m     22\u001b[0m x \u001b[38;5;241m=\u001b[39m nn\u001b[38;5;241m.\u001b[39mfunctional\u001b[38;5;241m.\u001b[39mrelu(x)\n\u001b[1;32m---> 23\u001b[0m x \u001b[38;5;241m=\u001b[39m nn\u001b[38;5;241m.\u001b[39mfunctional\u001b[38;5;241m.\u001b[39mmax_pool1d(x, kernel_size\u001b[38;5;241m=\u001b[39m\u001b[38;5;241m2\u001b[39m, stride\u001b[38;5;241m=\u001b[39m\u001b[38;5;241m2\u001b[39m)\n\u001b[0;32m     25\u001b[0m x \u001b[38;5;241m=\u001b[39m \u001b[38;5;28mself\u001b[39m\u001b[38;5;241m.\u001b[39mconv2(x)\n\u001b[0;32m     26\u001b[0m x \u001b[38;5;241m=\u001b[39m nn\u001b[38;5;241m.\u001b[39mfunctional\u001b[38;5;241m.\u001b[39mrelu(x)\n",
      "File \u001b[1;32mc:\\Users\\victo\\anaconda3\\envs\\LIVER_PRED\\Lib\\site-packages\\torch\\_jit_internal.py:499\u001b[0m, in \u001b[0;36mboolean_dispatch.<locals>.fn\u001b[1;34m(*args, **kwargs)\u001b[0m\n\u001b[0;32m    497\u001b[0m     \u001b[38;5;28;01mreturn\u001b[39;00m if_true(\u001b[38;5;241m*\u001b[39margs, \u001b[38;5;241m*\u001b[39m\u001b[38;5;241m*\u001b[39mkwargs)\n\u001b[0;32m    498\u001b[0m \u001b[38;5;28;01melse\u001b[39;00m:\n\u001b[1;32m--> 499\u001b[0m     \u001b[38;5;28;01mreturn\u001b[39;00m if_false(\u001b[38;5;241m*\u001b[39margs, \u001b[38;5;241m*\u001b[39m\u001b[38;5;241m*\u001b[39mkwargs)\n",
      "File \u001b[1;32mc:\\Users\\victo\\anaconda3\\envs\\LIVER_PRED\\Lib\\site-packages\\torch\\nn\\functional.py:710\u001b[0m, in \u001b[0;36m_max_pool1d\u001b[1;34m(input, kernel_size, stride, padding, dilation, ceil_mode, return_indices)\u001b[0m\n\u001b[0;32m    708\u001b[0m \u001b[38;5;28;01mif\u001b[39;00m stride \u001b[38;5;129;01mis\u001b[39;00m \u001b[38;5;28;01mNone\u001b[39;00m:\n\u001b[0;32m    709\u001b[0m     stride \u001b[38;5;241m=\u001b[39m torch\u001b[38;5;241m.\u001b[39mjit\u001b[38;5;241m.\u001b[39mannotate(List[\u001b[38;5;28mint\u001b[39m], [])\n\u001b[1;32m--> 710\u001b[0m \u001b[38;5;28;01mreturn\u001b[39;00m torch\u001b[38;5;241m.\u001b[39mmax_pool1d(\u001b[38;5;28minput\u001b[39m, kernel_size, stride, padding, dilation, ceil_mode)\n",
      "\u001b[1;31mRuntimeError\u001b[0m: max_pool1d: Expected 2D or 3D (batch mode) tensor with optional 0 dim batch size for input, but got:[32, 32, 56, 100]"
     ]
    }
   ],
   "source": [
    "# Initialize your CNN\n",
    "cnn = onedCNN()\n",
    "\n",
    "best_val_loss = float('inf')\n",
    "\n",
    "# Define your loss function and optimizer\n",
    "criterion = nn.BCEWithLogitsLoss(pos_weight=w2,  reduction='mean')\n",
    "optimizer = optim.Adam(cnn.parameters(), lr=0.00001, weight_decay=1e-5)\n",
    "num_epochs = 100\n",
    "\n",
    "training_losses = []\n",
    "val_losses = []\n",
    "# Assuming your input data is in the form of a PyTorch tensor\n",
    "# Here's how you can train your CNN\n",
    "for epoch in range(num_epochs):\n",
    "    # Create a progress bar\n",
    "    progress_bar = tqdm(train_dataloader, desc=f'Epoch {epoch + 1}/{num_epochs}', leave=False)\n",
    "    running_loss = 0.0\n",
    "    \n",
    "    # Iterate over the dataset\n",
    "    for inputs, labels in progress_bar:\n",
    "        optimizer.zero_grad()\n",
    "        outputs = cnn(inputs)\n",
    "        loss = criterion(outputs, labels)\n",
    "        loss.backward()\n",
    "        optimizer.step()\n",
    "        \n",
    "        # Update the running loss\n",
    "        running_loss += loss.item()\n",
    "        \n",
    "        # Update the progress bar with the current loss\n",
    "        progress_bar.set_postfix({'loss': running_loss / len(progress_bar)})\n",
    "    \n",
    "    # Calculate average loss for the epoch\n",
    "    epoch_loss = running_loss / len(train_dataloader)\n",
    "    training_losses.append(epoch_loss)\n",
    "    # Validation phase\n",
    "    cnn.eval()  # Set model to evaluation mode\n",
    "    running_val_loss = 0.0\n",
    "    \n",
    "    with torch.no_grad():\n",
    "        for inputs, labels in val_dataloader:\n",
    "            outputs = cnn(inputs)\n",
    "            loss = criterion(outputs, labels)\n",
    "            running_val_loss += loss.item()\n",
    "    \n",
    "    # Calculate average validation loss for the epoch\n",
    "    epoch_val_loss = running_val_loss / len(val_dataloader)\n",
    "    val_losses.append(epoch_val_loss)\n",
    "    if epoch_val_loss < best_val_loss:\n",
    "        best_val_loss = epoch_val_loss\n",
    "        torch.save(cnn.state_dict(), dir+'/1d_model.pth')\n",
    "    \n",
    "    \n",
    "    print(f'Epoch [{epoch + 1}/{num_epochs}], Training Loss: {epoch_loss:.4f}', 'Validation Loss:', epoch_val_loss)\n"
   ]
  },
  {
   "cell_type": "code",
   "execution_count": 176,
   "metadata": {},
   "outputs": [],
   "source": [
    "from sklearn.metrics import roc_curve, roc_auc_score"
   ]
  },
  {
   "cell_type": "code",
   "execution_count": 215,
   "metadata": {},
   "outputs": [
    {
     "name": "stdout",
     "output_type": "stream",
     "text": [
      "Training Performance:\n",
      "Accuracy: 78.35%\n",
      "AUROC: 0.63\n",
      "Precision: 0.82\n",
      "Recall: 0.20\n",
      "Confusion Matrix:\n",
      "[[2111   34]\n",
      " [ 591  151]]\n",
      "\n",
      "Test Performance:\n",
      "Accuracy: 78.36%\n",
      "AUROC: 0.63\n",
      "Precision: 0.78\n",
      "Recall: 0.19\n",
      "Confusion Matrix:\n",
      "[[530  10]\n",
      " [146  35]]\n"
     ]
    },
    {
     "data": {
      "image/png": "[encoded data removed]",
      "text/plain": [
       "<Figure size 640x480 with 1 Axes>"
      ]
     },
     "metadata": {},
     "output_type": "display_data"
    }
   ],
   "source": [
    "\n",
    "# Function to compute evaluation metrics\n",
    "def evaluate_performance(dataloader):\n",
    "    cnn.load_state_dict(torch.load(dir+'/1d_model.pth'))  # Load the best model\n",
    "    cnn.eval()  # Set the model to evaluation mode\n",
    "    total_correct = 0\n",
    "    total_samples = 0\n",
    "    predicted_labels = []\n",
    "    true_labels = []\n",
    "    all_probabilities = []\n",
    "    with torch.no_grad():  # No need to track gradients during evaluation\n",
    "        for inputs, labels in dataloader:\n",
    "            outputs = cnn(inputs)\n",
    "            probabilities = torch.sigmoid(outputs)  # Apply sigmoid to get probabilities\n",
    "            predicted = (probabilities > 0.5).int()\n",
    "            total_correct += (predicted == labels).sum().item()\n",
    "            total_samples += labels.size(0)\n",
    "            predicted_labels.extend(predicted.numpy())\n",
    "            true_labels.extend(labels.numpy())\n",
    "            all_probabilities.extend(probabilities.numpy())\n",
    "\n",
    "    # Compute accuracy\n",
    "    accuracy = total_correct / total_samples\n",
    "\n",
    "    # Compute precision and recall\n",
    "    precision = precision_score(true_labels, predicted_labels)\n",
    "    recall = recall_score(true_labels, predicted_labels)\n",
    "\n",
    "    # Compute confusion matrix\n",
    "    conf_matrix = confusion_matrix(true_labels, predicted_labels)\n",
    "\n",
    "    # calculate false positive rate, true positive rate, and thresholds\n",
    "    fpr, tpr, thresholds = roc_curve(true_labels, all_probabilities)\n",
    "    # Calculate AUROC\n",
    "    auroc = roc_auc_score(true_labels, all_probabilities)\n",
    "\n",
    "   \n",
    "    # plot ROC curve\n",
    "    plt.plot(fpr, tpr)\n",
    "    plt.xlabel('False Positive Rate')\n",
    "    plt.ylabel('True Positive Rate')\n",
    "    plt.title('Receiver Operating Characteristic (ROC) Curve')\n",
    "    #plt.show()\n",
    "\n",
    "    return accuracy, precision, recall, conf_matrix, auroc\n",
    "\n",
    "# Evaluate performance on training dataset\n",
    "train_accuracy, train_precision, train_recall, train_conf_matrix, auroc = evaluate_performance(train_dataloader)\n",
    "\n",
    "# Evaluate performance on test dataset\n",
    "test_accuracy, test_precision, test_recall, test_conf_matrix, auroc = evaluate_performance(test_dataloader)\n",
    "\n",
    "print('Training Performance:')\n",
    "print(f'Accuracy: {train_accuracy:.2%}')\n",
    "print(f'AUROC: {auroc:.2f}')\n",
    "print(f'Precision: {train_precision:.2f}')\n",
    "print(f'Recall: {train_recall:.2f}')\n",
    "print('Confusion Matrix:')\n",
    "print(train_conf_matrix)\n",
    "\n",
    "print('\\nTest Performance:')\n",
    "print(f'Accuracy: {test_accuracy:.2%}')\n",
    "print(f'AUROC: {auroc:.2f}')\n",
    "print(f'Precision: {test_precision:.2f}')\n",
    "print(f'Recall: {test_recall:.2f}')\n",
    "print('Confusion Matrix:')\n",
    "print(test_conf_matrix)\n"
   ]
  },
  {
   "cell_type": "code",
   "execution_count": 216,
   "metadata": {},
   "outputs": [
    {
     "data": {
      "text/plain": [
       "<matplotlib.legend.Legend at 0x1f55ef8ca40>"
      ]
     },
     "execution_count": 216,
     "metadata": {},
     "output_type": "execute_result"
    },
    {
     "data": {
      "image/png": "[encoded data removed]",
      "text/plain": [
       "<Figure size 640x480 with 1 Axes>"
      ]
     },
     "metadata": {},
     "output_type": "display_data"
    }
   ],
   "source": [
    "plt.plot(training_losses, label='Training Loss')\n",
    "plt.plot(val_losses, label='Validation Loss')\n",
    "plt.legend()"
   ]
  },
  {
   "cell_type": "markdown",
   "metadata": {},
   "source": [
    "# 1d conv layers"
   ]
  },
  {
   "cell_type": "code",
   "execution_count": 225,
   "metadata": {},
   "outputs": [
    {
     "name": "stdout",
     "output_type": "stream",
     "text": [
      "files saved successfully.\n"
     ]
    }
   ],
   "source": [
    "# reshape so that each patient has 54 channels of 1d time series data\n",
    "num_patients = X.shape[0]\n",
    "num_tests = X.shape[1]\n",
    "num_timesteps = X.shape[2]\n",
    "reshaped_array = X.reshape(num_patients, num_tests, num_timesteps)\n",
    "\n",
    "reshaped_array = np.transpose(reshaped_array, (0, 2, 1))\n",
    "\n",
    "np.save(dir+'CNN_1d_input.npy', X)\n",
    "np.save(dir+'CNN_1d_output.npy', y)\n",
    "print(\"files saved successfully.\")"
   ]
  },
  {
   "cell_type": "code",
   "execution_count": null,
   "metadata": {},
   "outputs": [],
   "source": [
    "# same as before except without the unsqueeze to show 1 channel\n",
    "class OneD_Dataset(Dataset):\n",
    "    def __init__(self, file_path,labels_file_path):\n",
    "        self.data = np.load(file_path)\n",
    "        self.labels = np.load(labels_file_path)\n",
    "        self.dtype = torch.float32\n",
    "    def __len__(self):\n",
    "        return len(self.data)\n",
    "\n",
    "    def __getitem__(self, idx):\n",
    "        sample = self.data[idx]\n",
    "        # Assuming you have labels for each sample\n",
    "        label = self.labels[idx]# You should adjust this to fetch labels if available\n",
    "        label = torch.tensor([label], dtype=self.dtype)\n",
    "        sample = torch.tensor(sample, dtype=self.dtype)\n",
    "        \n",
    "\n",
    "        return sample, label\n"
   ]
  },
  {
   "cell_type": "code",
   "execution_count": 292,
   "metadata": {},
   "outputs": [],
   "source": [
    "# File path to the .npy file\n",
    "file_path_1d = dir+'CNN_1d_input.npy'\n",
    "labels_file_path_1d = dir+'CNN_1d_output.npy'\n",
    "# Create a dataset\n",
    "dataset_1d = OneD_Dataset(file_path_1d, labels_file_path_1d)\n",
    "\n",
    "# Create a DataLoader to load the dataset\n",
    "batch_size = 100\n",
    "shuffle = True  # You can set it to True if you want to shuffle the data\n",
    "num_workers = 0  # Number of subprocesses to use for data loading (0 means the data will be loaded in the main process)\n",
    "#dataloader = DataLoader(dataset, batch_size=batch_size, shuffle=shuffle, num_workers=num_workers)\n",
    "\n",
    "# Split the dataset indices into training and testing sets\n",
    "train_size = int(0.7 * len(dataset))  # 80% for training, adjust ratio as needed\n",
    "test_size = int(0.2 * len(dataset))  # 20% for testing, adjust ratio as needed\n",
    "val_size = len(dataset)-(train_size+test_size)   # 10% of the training data for validation\n",
    "train_dataset_1d, val_dataset_1d, test_dataset_1d = torch.utils.data.random_split(dataset_1d, [train_size,val_size, test_size])\n",
    "\n",
    "# Create separate DataLoaders for training and testing\n",
    "train_dataloader_1d = DataLoader(train_dataset_1d, batch_size=batch_size, shuffle=shuffle, num_workers=num_workers)\n",
    "test_dataloader_1d = DataLoader(test_dataset_1d, batch_size=batch_size, shuffle=shuffle, num_workers=num_workers)\n",
    "val_dataloader_1d = DataLoader(val_dataset_1d, batch_size=batch_size, shuffle=shuffle, num_workers=num_workers)\n",
    "# Compute the mean and standard deviation of the dataset\n",
    "mean_sum = 0.0\n",
    "std_sum = 0.0\n",
    "total_samples = 0\n",
    "\n",
    "for data, _ in train_dataloader:\n",
    "    total_samples += data.size(0)\n",
    "    mean_sum += data.mean(dim=(0, 1))  # Calculate mean along batch (0), width (2), and height (3) axes\n",
    "    std_sum += torch.std(data, dim=(0, 1))  # Calculate std along batch (0), width (2), and height (3) axes\n",
    "mean = mean_sum / total_samples    \n",
    "std = std_sum / total_samples\n",
    "\n",
    "custom_transform = transforms.Compose([\n",
    "    transforms.ToTensor(),  # Convert data to PyTorch tensor\n",
    "    #nan,  # Handle NaN values\n",
    "    transforms.Normalize(mean=[mean], std=[std]),  # Normalize data using computed mean and std\n",
    "    \n",
    "])\n",
    "train_dataloader_1d.transform = custom_transform\n",
    "test_dataloader_1d.transform = custom_transform\n",
    "val_dataloader_1d.transform = custom_transform"
   ]
  },
  {
   "cell_type": "code",
   "execution_count": 293,
   "metadata": {},
   "outputs": [
    {
     "data": {
      "text/plain": [
       "torch.Size([7, 1, 54, 100])"
      ]
     },
     "execution_count": 293,
     "metadata": {},
     "output_type": "execute_result"
    }
   ],
   "source": [
    "data.shape"
   ]
  },
  {
   "cell_type": "code",
   "execution_count": 294,
   "metadata": {},
   "outputs": [],
   "source": [
    "class onedCNN2(nn.Module):\n",
    "    def __init__(self):\n",
    "        super(onedCNN2, self).__init__()\n",
    "        # Define your convolutional layers\n",
    "        self.conv1 = nn.Conv1d(in_channels=54, out_channels=108, kernel_size=3)\n",
    "        # (input_size - kernel_size + 2*padding)/stride + 1\n",
    "        # (100 - 3 + 2*1)/1 + 1 = 100\n",
    "        # (54 - 1 +2*1)/1 + 1 = 56\n",
    "        self.conv2 = nn.Conv1d(in_channels=108, out_channels=216, kernel_size=3, padding=1)\n",
    "        # 50 - 3 + 2*1)/1 + 1 = 50\n",
    "        self.conv3 = nn.Conv1d(in_channels=216, out_channels=216, kernel_size=3, padding=1)\n",
    "        self.conv4 = nn.Conv1d(in_channels=216, out_channels=432, kernel_size=2, padding=1)\n",
    "        # Define your fully connected layers\n",
    "\n",
    "        self.fc1 = nn.Linear(432* 7, 64)\n",
    "        self.fc2 = nn.Linear(64, 1)  # Assuming you have 2 classes\n",
    "\n",
    "        self.dropout = nn.Dropout(0.6)\n",
    "    def forward(self, x):\n",
    "        # Input x has shape (batch_size, channels, height, width)\n",
    "        x = self.conv1(x)\n",
    "        x = nn.functional.relu(x)\n",
    "        x = nn.functional.max_pool1d(x, kernel_size=2, stride=2)\n",
    "        \n",
    "        \n",
    "        x = self.conv2(x)\n",
    "        x = nn.functional.relu(x)\n",
    "        x = nn.functional.max_pool1d(x, kernel_size=2, stride=2)\n",
    "        \n",
    "        x = self.conv3(x)\n",
    "        x = nn.functional.relu(x)\n",
    "        x = nn.functional.max_pool1d(x, kernel_size=2, stride=2)\n",
    "        \n",
    "        \n",
    "        x = self.conv4(x)\n",
    "        x = nn.functional.relu(x)\n",
    "        x = nn.functional.max_pool1d(x, kernel_size=1, stride=2)\n",
    "        \n",
    "        # Flatten the output for the fully connected layers\n",
    "        x = x.view(x.size(0), -1) # x.size(0) is the batch size\n",
    "\n",
    "        x = self.dropout(x)\n",
    "        x = self.fc1(x)\n",
    "        x = nn.functional.relu(x)\n",
    "        x = self.dropout(x)\n",
    "        x = self.fc2(x)\n",
    "        return x\n"
   ]
  },
  {
   "cell_type": "code",
   "execution_count": 298,
   "metadata": {},
   "outputs": [
    {
     "name": "stderr",
     "output_type": "stream",
     "text": [
      "                                                                        \r"
     ]
    },
    {
     "name": "stdout",
     "output_type": "stream",
     "text": [
      "Epoch [1/100], Training Loss: 0.8854 Validation Loss: 0.6737783998250961\n"
     ]
    },
    {
     "name": "stderr",
     "output_type": "stream",
     "text": [
      "                                                                        \r"
     ]
    },
    {
     "name": "stdout",
     "output_type": "stream",
     "text": [
      "Epoch [2/100], Training Loss: 0.8602 Validation Loss: 0.6763093024492264\n"
     ]
    },
    {
     "name": "stderr",
     "output_type": "stream",
     "text": [
      "                                                                        \r"
     ]
    },
    {
     "name": "stdout",
     "output_type": "stream",
     "text": [
      "Epoch [3/100], Training Loss: 0.8564 Validation Loss: 0.6715224385261536\n"
     ]
    },
    {
     "name": "stderr",
     "output_type": "stream",
     "text": [
      "                                                                        \r"
     ]
    },
    {
     "name": "stdout",
     "output_type": "stream",
     "text": [
      "Epoch [4/100], Training Loss: 0.8450 Validation Loss: 0.6653691977262497\n"
     ]
    },
    {
     "name": "stderr",
     "output_type": "stream",
     "text": [
      "                                                                        \r"
     ]
    },
    {
     "name": "stdout",
     "output_type": "stream",
     "text": [
      "Epoch [5/100], Training Loss: 0.8427 Validation Loss: 0.6605329811573029\n"
     ]
    },
    {
     "name": "stderr",
     "output_type": "stream",
     "text": [
      "                                                                        \r"
     ]
    },
    {
     "name": "stdout",
     "output_type": "stream",
     "text": [
      "Epoch [6/100], Training Loss: 0.8362 Validation Loss: 0.6584489941596985\n"
     ]
    },
    {
     "name": "stderr",
     "output_type": "stream",
     "text": [
      "                                                                        \r"
     ]
    },
    {
     "name": "stdout",
     "output_type": "stream",
     "text": [
      "Epoch [7/100], Training Loss: 0.8290 Validation Loss: 0.6527310162782669\n"
     ]
    },
    {
     "name": "stderr",
     "output_type": "stream",
     "text": [
      "                                                                        \r"
     ]
    },
    {
     "name": "stdout",
     "output_type": "stream",
     "text": [
      "Epoch [8/100], Training Loss: 0.8190 Validation Loss: 0.6431616991758347\n"
     ]
    },
    {
     "name": "stderr",
     "output_type": "stream",
     "text": [
      "                                                                        \r"
     ]
    },
    {
     "name": "stdout",
     "output_type": "stream",
     "text": [
      "Epoch [9/100], Training Loss: 0.8094 Validation Loss: 0.6409609019756317\n"
     ]
    },
    {
     "name": "stderr",
     "output_type": "stream",
     "text": [
      "                                                                         \r"
     ]
    },
    {
     "name": "stdout",
     "output_type": "stream",
     "text": [
      "Epoch [10/100], Training Loss: 0.8054 Validation Loss: 0.6373654752969742\n"
     ]
    },
    {
     "name": "stderr",
     "output_type": "stream",
     "text": [
      "                                                                         \r"
     ]
    },
    {
     "name": "stdout",
     "output_type": "stream",
     "text": [
      "Epoch [11/100], Training Loss: 0.7927 Validation Loss: 0.6296593993902206\n"
     ]
    },
    {
     "name": "stderr",
     "output_type": "stream",
     "text": [
      "                                                                         \r"
     ]
    },
    {
     "name": "stdout",
     "output_type": "stream",
     "text": [
      "Epoch [12/100], Training Loss: 0.7841 Validation Loss: 0.6244368851184845\n"
     ]
    },
    {
     "name": "stderr",
     "output_type": "stream",
     "text": [
      "                                                                         \r"
     ]
    },
    {
     "name": "stdout",
     "output_type": "stream",
     "text": [
      "Epoch [13/100], Training Loss: 0.7719 Validation Loss: 0.6064424514770508\n"
     ]
    },
    {
     "name": "stderr",
     "output_type": "stream",
     "text": [
      "                                                                         \r"
     ]
    },
    {
     "name": "stdout",
     "output_type": "stream",
     "text": [
      "Epoch [14/100], Training Loss: 0.7626 Validation Loss: 0.6047583669424057\n"
     ]
    },
    {
     "name": "stderr",
     "output_type": "stream",
     "text": [
      "                                                                         \r"
     ]
    },
    {
     "name": "stdout",
     "output_type": "stream",
     "text": [
      "Epoch [15/100], Training Loss: 0.7428 Validation Loss: 0.5907658785581589\n"
     ]
    },
    {
     "name": "stderr",
     "output_type": "stream",
     "text": [
      "                                                                         \r"
     ]
    },
    {
     "name": "stdout",
     "output_type": "stream",
     "text": [
      "Epoch [16/100], Training Loss: 0.7322 Validation Loss: 0.5916416943073273\n"
     ]
    },
    {
     "name": "stderr",
     "output_type": "stream",
     "text": [
      "                                                                         \r"
     ]
    },
    {
     "name": "stdout",
     "output_type": "stream",
     "text": [
      "Epoch [17/100], Training Loss: 0.7183 Validation Loss: 0.5816947221755981\n"
     ]
    },
    {
     "name": "stderr",
     "output_type": "stream",
     "text": [
      "                                                                         \r"
     ]
    },
    {
     "name": "stdout",
     "output_type": "stream",
     "text": [
      "Epoch [18/100], Training Loss: 0.7082 Validation Loss: 0.5785017311573029\n"
     ]
    },
    {
     "name": "stderr",
     "output_type": "stream",
     "text": [
      "                                                                         \r"
     ]
    },
    {
     "name": "stdout",
     "output_type": "stream",
     "text": [
      "Epoch [19/100], Training Loss: 0.6918 Validation Loss: 0.5609150826931\n"
     ]
    },
    {
     "name": "stderr",
     "output_type": "stream",
     "text": [
      "                                                                         \r"
     ]
    },
    {
     "name": "stdout",
     "output_type": "stream",
     "text": [
      "Epoch [20/100], Training Loss: 0.6821 Validation Loss: 0.5610776990652084\n"
     ]
    },
    {
     "name": "stderr",
     "output_type": "stream",
     "text": [
      "                                                                         \r"
     ]
    },
    {
     "name": "stdout",
     "output_type": "stream",
     "text": [
      "Epoch [21/100], Training Loss: 0.6705 Validation Loss: 0.5566120892763138\n"
     ]
    },
    {
     "name": "stderr",
     "output_type": "stream",
     "text": [
      "                                                                         \r"
     ]
    },
    {
     "name": "stdout",
     "output_type": "stream",
     "text": [
      "Epoch [22/100], Training Loss: 0.6590 Validation Loss: 0.5660400092601776\n"
     ]
    },
    {
     "name": "stderr",
     "output_type": "stream",
     "text": [
      "                                                                         \r"
     ]
    },
    {
     "name": "stdout",
     "output_type": "stream",
     "text": [
      "Epoch [23/100], Training Loss: 0.6459 Validation Loss: 0.5339022725820541\n"
     ]
    },
    {
     "name": "stderr",
     "output_type": "stream",
     "text": [
      "                                                                         \r"
     ]
    },
    {
     "name": "stdout",
     "output_type": "stream",
     "text": [
      "Epoch [24/100], Training Loss: 0.6349 Validation Loss: 0.5384894534945488\n"
     ]
    },
    {
     "name": "stderr",
     "output_type": "stream",
     "text": [
      "                                                                         \r"
     ]
    },
    {
     "name": "stdout",
     "output_type": "stream",
     "text": [
      "Epoch [25/100], Training Loss: 0.6210 Validation Loss: 0.5525490865111351\n"
     ]
    },
    {
     "name": "stderr",
     "output_type": "stream",
     "text": [
      "                                                                         \r"
     ]
    },
    {
     "name": "stdout",
     "output_type": "stream",
     "text": [
      "Epoch [26/100], Training Loss: 0.6208 Validation Loss: 0.529082328081131\n"
     ]
    },
    {
     "name": "stderr",
     "output_type": "stream",
     "text": [
      "                                                                         \r"
     ]
    },
    {
     "name": "stdout",
     "output_type": "stream",
     "text": [
      "Epoch [27/100], Training Loss: 0.6043 Validation Loss: 0.5419469401240349\n"
     ]
    },
    {
     "name": "stderr",
     "output_type": "stream",
     "text": [
      "                                                                         \r"
     ]
    },
    {
     "name": "stdout",
     "output_type": "stream",
     "text": [
      "Epoch [28/100], Training Loss: 0.5914 Validation Loss: 0.5317339524626732\n"
     ]
    },
    {
     "name": "stderr",
     "output_type": "stream",
     "text": [
      "                                                                         \r"
     ]
    },
    {
     "name": "stdout",
     "output_type": "stream",
     "text": [
      "Epoch [29/100], Training Loss: 0.5811 Validation Loss: 0.5336488783359528\n"
     ]
    },
    {
     "name": "stderr",
     "output_type": "stream",
     "text": [
      "                                                                         \r"
     ]
    },
    {
     "name": "stdout",
     "output_type": "stream",
     "text": [
      "Epoch [30/100], Training Loss: 0.5700 Validation Loss: 0.537475660443306\n"
     ]
    },
    {
     "name": "stderr",
     "output_type": "stream",
     "text": [
      "                                                                         \r"
     ]
    },
    {
     "name": "stdout",
     "output_type": "stream",
     "text": [
      "Epoch [31/100], Training Loss: 0.5588 Validation Loss: 0.5235031694173813\n"
     ]
    },
    {
     "name": "stderr",
     "output_type": "stream",
     "text": [
      "                                                                         \r"
     ]
    },
    {
     "name": "stdout",
     "output_type": "stream",
     "text": [
      "Epoch [32/100], Training Loss: 0.5605 Validation Loss: 0.5162737667560577\n"
     ]
    },
    {
     "name": "stderr",
     "output_type": "stream",
     "text": [
      "                                                                         \r"
     ]
    },
    {
     "name": "stdout",
     "output_type": "stream",
     "text": [
      "Epoch [33/100], Training Loss: 0.5497 Validation Loss: 0.5330949574708939\n"
     ]
    },
    {
     "name": "stderr",
     "output_type": "stream",
     "text": [
      "                                                                         \r"
     ]
    },
    {
     "name": "stdout",
     "output_type": "stream",
     "text": [
      "Epoch [34/100], Training Loss: 0.5442 Validation Loss: 0.5354071259498596\n"
     ]
    },
    {
     "name": "stderr",
     "output_type": "stream",
     "text": [
      "                                                                         \r"
     ]
    },
    {
     "name": "stdout",
     "output_type": "stream",
     "text": [
      "Epoch [35/100], Training Loss: 0.5282 Validation Loss: 0.5118772760033607\n"
     ]
    },
    {
     "name": "stderr",
     "output_type": "stream",
     "text": [
      "                                                                         \r"
     ]
    },
    {
     "name": "stdout",
     "output_type": "stream",
     "text": [
      "Epoch [36/100], Training Loss: 0.5284 Validation Loss: 0.5147056952118874\n"
     ]
    },
    {
     "name": "stderr",
     "output_type": "stream",
     "text": [
      "                                                                         \r"
     ]
    },
    {
     "name": "stdout",
     "output_type": "stream",
     "text": [
      "Epoch [37/100], Training Loss: 0.5188 Validation Loss: 0.5057070031762123\n"
     ]
    },
    {
     "name": "stderr",
     "output_type": "stream",
     "text": [
      "                                                                         \r"
     ]
    },
    {
     "name": "stdout",
     "output_type": "stream",
     "text": [
      "Epoch [38/100], Training Loss: 0.5129 Validation Loss: 0.519091784954071\n"
     ]
    },
    {
     "name": "stderr",
     "output_type": "stream",
     "text": [
      "                                                                         \r"
     ]
    },
    {
     "name": "stdout",
     "output_type": "stream",
     "text": [
      "Epoch [39/100], Training Loss: 0.5049 Validation Loss: 0.5081390663981438\n"
     ]
    },
    {
     "name": "stderr",
     "output_type": "stream",
     "text": [
      "                                                                         \r"
     ]
    },
    {
     "name": "stdout",
     "output_type": "stream",
     "text": [
      "Epoch [40/100], Training Loss: 0.4912 Validation Loss: 0.5147946700453758\n"
     ]
    },
    {
     "name": "stderr",
     "output_type": "stream",
     "text": [
      "                                                                         \r"
     ]
    },
    {
     "name": "stdout",
     "output_type": "stream",
     "text": [
      "Epoch [41/100], Training Loss: 0.4886 Validation Loss: 0.5172303840517998\n"
     ]
    },
    {
     "name": "stderr",
     "output_type": "stream",
     "text": [
      "                                                                         \r"
     ]
    },
    {
     "name": "stdout",
     "output_type": "stream",
     "text": [
      "Epoch [42/100], Training Loss: 0.4793 Validation Loss: 0.5072036534547806\n"
     ]
    },
    {
     "name": "stderr",
     "output_type": "stream",
     "text": [
      "                                                                         \r"
     ]
    },
    {
     "name": "stdout",
     "output_type": "stream",
     "text": [
      "Epoch [43/100], Training Loss: 0.4704 Validation Loss: 0.5080327019095421\n"
     ]
    },
    {
     "name": "stderr",
     "output_type": "stream",
     "text": [
      "                                                                         \r"
     ]
    },
    {
     "name": "stdout",
     "output_type": "stream",
     "text": [
      "Epoch [44/100], Training Loss: 0.4710 Validation Loss: 0.5040014088153839\n"
     ]
    },
    {
     "name": "stderr",
     "output_type": "stream",
     "text": [
      "                                                                         \r"
     ]
    },
    {
     "name": "stdout",
     "output_type": "stream",
     "text": [
      "Epoch [45/100], Training Loss: 0.4624 Validation Loss: 0.5060144364833832\n"
     ]
    },
    {
     "name": "stderr",
     "output_type": "stream",
     "text": [
      "                                                                         \r"
     ]
    },
    {
     "name": "stdout",
     "output_type": "stream",
     "text": [
      "Epoch [46/100], Training Loss: 0.4540 Validation Loss: 0.5080883726477623\n"
     ]
    },
    {
     "name": "stderr",
     "output_type": "stream",
     "text": [
      "                                                                         \r"
     ]
    },
    {
     "name": "stdout",
     "output_type": "stream",
     "text": [
      "Epoch [47/100], Training Loss: 0.4503 Validation Loss: 0.5176023617386818\n"
     ]
    },
    {
     "name": "stderr",
     "output_type": "stream",
     "text": [
      "                                                                         \r"
     ]
    },
    {
     "name": "stdout",
     "output_type": "stream",
     "text": [
      "Epoch [48/100], Training Loss: 0.4457 Validation Loss: 0.5194316059350967\n"
     ]
    },
    {
     "name": "stderr",
     "output_type": "stream",
     "text": [
      "                                                                         \r"
     ]
    },
    {
     "name": "stdout",
     "output_type": "stream",
     "text": [
      "Epoch [49/100], Training Loss: 0.4388 Validation Loss: 0.49408167600631714\n"
     ]
    },
    {
     "name": "stderr",
     "output_type": "stream",
     "text": [
      "                                                                         \r"
     ]
    },
    {
     "name": "stdout",
     "output_type": "stream",
     "text": [
      "Epoch [50/100], Training Loss: 0.4337 Validation Loss: 0.5025166496634483\n"
     ]
    },
    {
     "name": "stderr",
     "output_type": "stream",
     "text": [
      "                                                                         \r"
     ]
    },
    {
     "name": "stdout",
     "output_type": "stream",
     "text": [
      "Epoch [51/100], Training Loss: 0.4288 Validation Loss: 0.4907311946153641\n"
     ]
    },
    {
     "name": "stderr",
     "output_type": "stream",
     "text": [
      "                                                                         \r"
     ]
    },
    {
     "name": "stdout",
     "output_type": "stream",
     "text": [
      "Epoch [52/100], Training Loss: 0.4224 Validation Loss: 0.5000697746872902\n"
     ]
    },
    {
     "name": "stderr",
     "output_type": "stream",
     "text": [
      "                                                                         \r"
     ]
    },
    {
     "name": "stdout",
     "output_type": "stream",
     "text": [
      "Epoch [53/100], Training Loss: 0.4164 Validation Loss: 0.49599793553352356\n"
     ]
    },
    {
     "name": "stderr",
     "output_type": "stream",
     "text": [
      "                                                                         \r"
     ]
    },
    {
     "name": "stdout",
     "output_type": "stream",
     "text": [
      "Epoch [54/100], Training Loss: 0.4120 Validation Loss: 0.5361486449837685\n"
     ]
    },
    {
     "name": "stderr",
     "output_type": "stream",
     "text": [
      "                                                                         \r"
     ]
    },
    {
     "name": "stdout",
     "output_type": "stream",
     "text": [
      "Epoch [55/100], Training Loss: 0.4096 Validation Loss: 0.5158730149269104\n"
     ]
    },
    {
     "name": "stderr",
     "output_type": "stream",
     "text": [
      "                                                                         \r"
     ]
    },
    {
     "name": "stdout",
     "output_type": "stream",
     "text": [
      "Epoch [56/100], Training Loss: 0.3998 Validation Loss: 0.5481933876872063\n"
     ]
    },
    {
     "name": "stderr",
     "output_type": "stream",
     "text": [
      "                                                                         \r"
     ]
    },
    {
     "name": "stdout",
     "output_type": "stream",
     "text": [
      "Epoch [57/100], Training Loss: 0.3958 Validation Loss: 0.53276576846838\n"
     ]
    },
    {
     "name": "stderr",
     "output_type": "stream",
     "text": [
      "                                                                         \r"
     ]
    },
    {
     "name": "stdout",
     "output_type": "stream",
     "text": [
      "Epoch [58/100], Training Loss: 0.3903 Validation Loss: 0.522966243326664\n"
     ]
    },
    {
     "name": "stderr",
     "output_type": "stream",
     "text": [
      "                                                                         \r"
     ]
    },
    {
     "name": "stdout",
     "output_type": "stream",
     "text": [
      "Epoch [59/100], Training Loss: 0.3845 Validation Loss: 0.5097979307174683\n"
     ]
    },
    {
     "name": "stderr",
     "output_type": "stream",
     "text": [
      "                                                                         \r"
     ]
    },
    {
     "name": "stdout",
     "output_type": "stream",
     "text": [
      "Epoch [60/100], Training Loss: 0.3796 Validation Loss: 0.5264702439308167\n"
     ]
    },
    {
     "name": "stderr",
     "output_type": "stream",
     "text": [
      "                                                                         \r"
     ]
    },
    {
     "name": "stdout",
     "output_type": "stream",
     "text": [
      "Epoch [61/100], Training Loss: 0.3760 Validation Loss: 0.49022364616394043\n"
     ]
    },
    {
     "name": "stderr",
     "output_type": "stream",
     "text": [
      "                                                                         \r"
     ]
    },
    {
     "name": "stdout",
     "output_type": "stream",
     "text": [
      "Epoch [62/100], Training Loss: 0.3712 Validation Loss: 0.5222207009792328\n"
     ]
    },
    {
     "name": "stderr",
     "output_type": "stream",
     "text": [
      "                                                                         \r"
     ]
    },
    {
     "name": "stdout",
     "output_type": "stream",
     "text": [
      "Epoch [63/100], Training Loss: 0.3624 Validation Loss: 0.5560307875275612\n"
     ]
    },
    {
     "name": "stderr",
     "output_type": "stream",
     "text": [
      "                                                                         \r"
     ]
    },
    {
     "name": "stdout",
     "output_type": "stream",
     "text": [
      "Epoch [64/100], Training Loss: 0.3682 Validation Loss: 0.5182276144623756\n"
     ]
    },
    {
     "name": "stderr",
     "output_type": "stream",
     "text": [
      "                                                                         \r"
     ]
    },
    {
     "name": "stdout",
     "output_type": "stream",
     "text": [
      "Epoch [65/100], Training Loss: 0.3561 Validation Loss: 0.5030425116419792\n"
     ]
    },
    {
     "name": "stderr",
     "output_type": "stream",
     "text": [
      "                                                                         \r"
     ]
    },
    {
     "name": "stdout",
     "output_type": "stream",
     "text": [
      "Epoch [66/100], Training Loss: 0.3521 Validation Loss: 0.5576527565717697\n"
     ]
    },
    {
     "name": "stderr",
     "output_type": "stream",
     "text": [
      "                                                                         \r"
     ]
    },
    {
     "name": "stdout",
     "output_type": "stream",
     "text": [
      "Epoch [67/100], Training Loss: 0.3482 Validation Loss: 0.5149842128157616\n"
     ]
    },
    {
     "name": "stderr",
     "output_type": "stream",
     "text": [
      "                                                                         \r"
     ]
    },
    {
     "name": "stdout",
     "output_type": "stream",
     "text": [
      "Epoch [68/100], Training Loss: 0.3415 Validation Loss: 0.5308867841959\n"
     ]
    },
    {
     "name": "stderr",
     "output_type": "stream",
     "text": [
      "                                                                         \r"
     ]
    },
    {
     "name": "stdout",
     "output_type": "stream",
     "text": [
      "Epoch [69/100], Training Loss: 0.3334 Validation Loss: 0.522828608751297\n"
     ]
    },
    {
     "name": "stderr",
     "output_type": "stream",
     "text": [
      "                                                                         \r"
     ]
    },
    {
     "name": "stdout",
     "output_type": "stream",
     "text": [
      "Epoch [70/100], Training Loss: 0.3306 Validation Loss: 0.5069751143455505\n"
     ]
    },
    {
     "name": "stderr",
     "output_type": "stream",
     "text": [
      "                                                                         \r"
     ]
    },
    {
     "name": "stdout",
     "output_type": "stream",
     "text": [
      "Epoch [71/100], Training Loss: 0.3264 Validation Loss: 0.5152198374271393\n"
     ]
    },
    {
     "name": "stderr",
     "output_type": "stream",
     "text": [
      "                                                                         \r"
     ]
    },
    {
     "name": "stdout",
     "output_type": "stream",
     "text": [
      "Epoch [72/100], Training Loss: 0.3317 Validation Loss: 0.5496620759367943\n"
     ]
    },
    {
     "name": "stderr",
     "output_type": "stream",
     "text": [
      "                                                                         \r"
     ]
    },
    {
     "ename": "KeyboardInterrupt",
     "evalue": "",
     "output_type": "error",
     "traceback": [
      "\u001b[1;31m---------------------------------------------------------------------------\u001b[0m",
      "\u001b[1;31mKeyboardInterrupt\u001b[0m                         Traceback (most recent call last)",
      "Cell \u001b[1;32mIn[298], line 22\u001b[0m\n\u001b[0;32m     19\u001b[0m running_loss \u001b[38;5;241m=\u001b[39m \u001b[38;5;241m0.0\u001b[39m\n\u001b[0;32m     21\u001b[0m \u001b[38;5;66;03m# Iterate over the dataset\u001b[39;00m\n\u001b[1;32m---> 22\u001b[0m \u001b[38;5;28;01mfor\u001b[39;00m inputs, labels \u001b[38;5;129;01min\u001b[39;00m progress_bar:\n\u001b[0;32m     23\u001b[0m     optimizer\u001b[38;5;241m.\u001b[39mzero_grad()\n\u001b[0;32m     24\u001b[0m     outputs \u001b[38;5;241m=\u001b[39m cnn(inputs)\n",
      "File \u001b[1;32mc:\\Users\\victo\\anaconda3\\envs\\LIVER_PRED\\Lib\\site-packages\\tqdm\\std.py:1178\u001b[0m, in \u001b[0;36mtqdm.__iter__\u001b[1;34m(self)\u001b[0m\n\u001b[0;32m   1175\u001b[0m time \u001b[38;5;241m=\u001b[39m \u001b[38;5;28mself\u001b[39m\u001b[38;5;241m.\u001b[39m_time\n\u001b[0;32m   1177\u001b[0m \u001b[38;5;28;01mtry\u001b[39;00m:\n\u001b[1;32m-> 1178\u001b[0m     \u001b[38;5;28;01mfor\u001b[39;00m obj \u001b[38;5;129;01min\u001b[39;00m iterable:\n\u001b[0;32m   1179\u001b[0m         \u001b[38;5;28;01myield\u001b[39;00m obj\n\u001b[0;32m   1180\u001b[0m         \u001b[38;5;66;03m# Update and possibly print the progressbar.\u001b[39;00m\n\u001b[0;32m   1181\u001b[0m         \u001b[38;5;66;03m# Note: does not call self.update(1) for speed optimisation.\u001b[39;00m\n",
      "File \u001b[1;32mc:\\Users\\victo\\anaconda3\\envs\\LIVER_PRED\\Lib\\site-packages\\torch\\utils\\data\\dataloader.py:631\u001b[0m, in \u001b[0;36m_BaseDataLoaderIter.__next__\u001b[1;34m(self)\u001b[0m\n\u001b[0;32m    628\u001b[0m \u001b[38;5;28;01mif\u001b[39;00m \u001b[38;5;28mself\u001b[39m\u001b[38;5;241m.\u001b[39m_sampler_iter \u001b[38;5;129;01mis\u001b[39;00m \u001b[38;5;28;01mNone\u001b[39;00m:\n\u001b[0;32m    629\u001b[0m     \u001b[38;5;66;03m# TODO(https://github.com/pytorch/pytorch/issues/76750)\u001b[39;00m\n\u001b[0;32m    630\u001b[0m     \u001b[38;5;28mself\u001b[39m\u001b[38;5;241m.\u001b[39m_reset()  \u001b[38;5;66;03m# type: ignore[call-arg]\u001b[39;00m\n\u001b[1;32m--> 631\u001b[0m data \u001b[38;5;241m=\u001b[39m \u001b[38;5;28mself\u001b[39m\u001b[38;5;241m.\u001b[39m_next_data()\n\u001b[0;32m    632\u001b[0m \u001b[38;5;28mself\u001b[39m\u001b[38;5;241m.\u001b[39m_num_yielded \u001b[38;5;241m+\u001b[39m\u001b[38;5;241m=\u001b[39m \u001b[38;5;241m1\u001b[39m\n\u001b[0;32m    633\u001b[0m \u001b[38;5;28;01mif\u001b[39;00m \u001b[38;5;28mself\u001b[39m\u001b[38;5;241m.\u001b[39m_dataset_kind \u001b[38;5;241m==\u001b[39m _DatasetKind\u001b[38;5;241m.\u001b[39mIterable \u001b[38;5;129;01mand\u001b[39;00m \\\n\u001b[0;32m    634\u001b[0m         \u001b[38;5;28mself\u001b[39m\u001b[38;5;241m.\u001b[39m_IterableDataset_len_called \u001b[38;5;129;01mis\u001b[39;00m \u001b[38;5;129;01mnot\u001b[39;00m \u001b[38;5;28;01mNone\u001b[39;00m \u001b[38;5;129;01mand\u001b[39;00m \\\n\u001b[0;32m    635\u001b[0m         \u001b[38;5;28mself\u001b[39m\u001b[38;5;241m.\u001b[39m_num_yielded \u001b[38;5;241m>\u001b[39m \u001b[38;5;28mself\u001b[39m\u001b[38;5;241m.\u001b[39m_IterableDataset_len_called:\n",
      "File \u001b[1;32mc:\\Users\\victo\\anaconda3\\envs\\LIVER_PRED\\Lib\\site-packages\\torch\\utils\\data\\dataloader.py:675\u001b[0m, in \u001b[0;36m_SingleProcessDataLoaderIter._next_data\u001b[1;34m(self)\u001b[0m\n\u001b[0;32m    673\u001b[0m \u001b[38;5;28;01mdef\u001b[39;00m \u001b[38;5;21m_next_data\u001b[39m(\u001b[38;5;28mself\u001b[39m):\n\u001b[0;32m    674\u001b[0m     index \u001b[38;5;241m=\u001b[39m \u001b[38;5;28mself\u001b[39m\u001b[38;5;241m.\u001b[39m_next_index()  \u001b[38;5;66;03m# may raise StopIteration\u001b[39;00m\n\u001b[1;32m--> 675\u001b[0m     data \u001b[38;5;241m=\u001b[39m \u001b[38;5;28mself\u001b[39m\u001b[38;5;241m.\u001b[39m_dataset_fetcher\u001b[38;5;241m.\u001b[39mfetch(index)  \u001b[38;5;66;03m# may raise StopIteration\u001b[39;00m\n\u001b[0;32m    676\u001b[0m     \u001b[38;5;28;01mif\u001b[39;00m \u001b[38;5;28mself\u001b[39m\u001b[38;5;241m.\u001b[39m_pin_memory:\n\u001b[0;32m    677\u001b[0m         data \u001b[38;5;241m=\u001b[39m _utils\u001b[38;5;241m.\u001b[39mpin_memory\u001b[38;5;241m.\u001b[39mpin_memory(data, \u001b[38;5;28mself\u001b[39m\u001b[38;5;241m.\u001b[39m_pin_memory_device)\n",
      "File \u001b[1;32mc:\\Users\\victo\\anaconda3\\envs\\LIVER_PRED\\Lib\\site-packages\\torch\\utils\\data\\_utils\\fetch.py:49\u001b[0m, in \u001b[0;36m_MapDatasetFetcher.fetch\u001b[1;34m(self, possibly_batched_index)\u001b[0m\n\u001b[0;32m     47\u001b[0m \u001b[38;5;28;01mif\u001b[39;00m \u001b[38;5;28mself\u001b[39m\u001b[38;5;241m.\u001b[39mauto_collation:\n\u001b[0;32m     48\u001b[0m     \u001b[38;5;28;01mif\u001b[39;00m \u001b[38;5;28mhasattr\u001b[39m(\u001b[38;5;28mself\u001b[39m\u001b[38;5;241m.\u001b[39mdataset, \u001b[38;5;124m\"\u001b[39m\u001b[38;5;124m__getitems__\u001b[39m\u001b[38;5;124m\"\u001b[39m) \u001b[38;5;129;01mand\u001b[39;00m \u001b[38;5;28mself\u001b[39m\u001b[38;5;241m.\u001b[39mdataset\u001b[38;5;241m.\u001b[39m__getitems__:\n\u001b[1;32m---> 49\u001b[0m         data \u001b[38;5;241m=\u001b[39m \u001b[38;5;28mself\u001b[39m\u001b[38;5;241m.\u001b[39mdataset\u001b[38;5;241m.\u001b[39m__getitems__(possibly_batched_index)\n\u001b[0;32m     50\u001b[0m     \u001b[38;5;28;01melse\u001b[39;00m:\n\u001b[0;32m     51\u001b[0m         data \u001b[38;5;241m=\u001b[39m [\u001b[38;5;28mself\u001b[39m\u001b[38;5;241m.\u001b[39mdataset[idx] \u001b[38;5;28;01mfor\u001b[39;00m idx \u001b[38;5;129;01min\u001b[39;00m possibly_batched_index]\n",
      "File \u001b[1;32mc:\\Users\\victo\\anaconda3\\envs\\LIVER_PRED\\Lib\\site-packages\\torch\\utils\\data\\dataset.py:399\u001b[0m, in \u001b[0;36mSubset.__getitems__\u001b[1;34m(self, indices)\u001b[0m\n\u001b[0;32m    397\u001b[0m     \u001b[38;5;28;01mreturn\u001b[39;00m \u001b[38;5;28mself\u001b[39m\u001b[38;5;241m.\u001b[39mdataset\u001b[38;5;241m.\u001b[39m__getitems__([\u001b[38;5;28mself\u001b[39m\u001b[38;5;241m.\u001b[39mindices[idx] \u001b[38;5;28;01mfor\u001b[39;00m idx \u001b[38;5;129;01min\u001b[39;00m indices])  \u001b[38;5;66;03m# type: ignore[attr-defined]\u001b[39;00m\n\u001b[0;32m    398\u001b[0m \u001b[38;5;28;01melse\u001b[39;00m:\n\u001b[1;32m--> 399\u001b[0m     \u001b[38;5;28;01mreturn\u001b[39;00m [\u001b[38;5;28mself\u001b[39m\u001b[38;5;241m.\u001b[39mdataset[\u001b[38;5;28mself\u001b[39m\u001b[38;5;241m.\u001b[39mindices[idx]] \u001b[38;5;28;01mfor\u001b[39;00m idx \u001b[38;5;129;01min\u001b[39;00m indices]\n",
      "Cell \u001b[1;32mIn[239], line 13\u001b[0m, in \u001b[0;36mOneD_Dataset.__getitem__\u001b[1;34m(self, idx)\u001b[0m\n\u001b[0;32m     11\u001b[0m \u001b[38;5;66;03m# Assuming you have labels for each sample\u001b[39;00m\n\u001b[0;32m     12\u001b[0m label \u001b[38;5;241m=\u001b[39m \u001b[38;5;28mself\u001b[39m\u001b[38;5;241m.\u001b[39mlabels[idx]\u001b[38;5;66;03m# You should adjust this to fetch labels if available\u001b[39;00m\n\u001b[1;32m---> 13\u001b[0m label \u001b[38;5;241m=\u001b[39m torch\u001b[38;5;241m.\u001b[39mtensor([label], dtype\u001b[38;5;241m=\u001b[39m\u001b[38;5;28mself\u001b[39m\u001b[38;5;241m.\u001b[39mdtype)\n\u001b[0;32m     14\u001b[0m sample \u001b[38;5;241m=\u001b[39m torch\u001b[38;5;241m.\u001b[39mtensor(sample, dtype\u001b[38;5;241m=\u001b[39m\u001b[38;5;28mself\u001b[39m\u001b[38;5;241m.\u001b[39mdtype)\n\u001b[0;32m     17\u001b[0m \u001b[38;5;28;01mreturn\u001b[39;00m sample, label\n",
      "\u001b[1;31mKeyboardInterrupt\u001b[0m: "
     ]
    }
   ],
   "source": [
    "# Initialize your CNN\n",
    "cnn = onedCNN2()\n",
    "\n",
    "best_val_loss = float('inf')\n",
    "\n",
    "# Define your loss function and optimizer\n",
    "criterion = nn.BCEWithLogitsLoss(pos_weight=w2,  reduction='mean')\n",
    "unweighted_criterion = nn.BCEWithLogitsLoss(reduction='mean')\n",
    "optimizer = optim.Adam(cnn.parameters(), lr=0.00001, weight_decay=1e-5)\n",
    "num_epochs = 100\n",
    "\n",
    "training_losses = []\n",
    "val_losses = []\n",
    "# Assuming your input data is in the form of a PyTorch tensor\n",
    "# Here's how you can train your CNN\n",
    "for epoch in range(num_epochs):\n",
    "    # Create a progress bar\n",
    "    progress_bar = tqdm(train_dataloader_1d, desc=f'Epoch {epoch + 1}/{num_epochs}', leave=False)\n",
    "    running_loss = 0.0\n",
    "    \n",
    "    # Iterate over the dataset\n",
    "    for inputs, labels in progress_bar:\n",
    "        optimizer.zero_grad()\n",
    "        outputs = cnn(inputs)\n",
    "        loss = criterion(outputs, labels)\n",
    "        loss.backward()\n",
    "        optimizer.step()\n",
    "        \n",
    "        # Update the running loss\n",
    "        running_loss += loss.item()\n",
    "        \n",
    "        # Update the progress bar with the current loss\n",
    "        progress_bar.set_postfix({'loss': running_loss / len(progress_bar)})\n",
    "    \n",
    "    # Calculate average loss for the epoch\n",
    "    epoch_loss = running_loss / len(train_dataloader_1d)\n",
    "    training_losses.append(epoch_loss)\n",
    "    # Validation phase\n",
    "    cnn.eval()  # Set model to evaluation mode\n",
    "    running_val_loss = 0.0\n",
    "    \n",
    "    with torch.no_grad():\n",
    "        for inputs, labels in val_dataloader_1d:\n",
    "            outputs = cnn(inputs)\n",
    "            loss = unweighted_criterion(outputs, labels)\n",
    "            running_val_loss += loss.item()\n",
    "    \n",
    "    # Calculate average validation loss for the epoch\n",
    "    epoch_val_loss = running_val_loss / len(val_dataloader_1d)\n",
    "    val_losses.append(epoch_val_loss)\n",
    "    if epoch_val_loss < best_val_loss:\n",
    "        best_val_loss = epoch_val_loss\n",
    "        torch.save(cnn.state_dict(), dir+'/1d_model.pth')\n",
    "    \n",
    "    \n",
    "    print(f'Epoch [{epoch + 1}/{num_epochs}], Training Loss: {epoch_loss:.4f}', 'Validation Loss:', epoch_val_loss)\n"
   ]
  },
  {
   "cell_type": "markdown",
   "metadata": {},
   "source": [
    "## Evaluation"
   ]
  },
  {
   "cell_type": "code",
   "execution_count": 299,
   "metadata": {},
   "outputs": [
    {
     "name": "stdout",
     "output_type": "stream",
     "text": [
      "Training Performance:\n",
      "Accuracy: 92.20%\n",
      "AUROC: 0.83\n",
      "Precision: 0.91\n",
      "Recall: 0.75\n",
      "Confusion Matrix:\n",
      "[[1868   44]\n",
      " [ 153  461]]\n",
      "\n",
      "Test Performance:\n",
      "Accuracy: 84.88%\n",
      "AUROC: 0.83\n",
      "Precision: 0.81\n",
      "Recall: 0.52\n",
      "Confusion Matrix:\n",
      "[[518  22]\n",
      " [ 87  94]]\n"
     ]
    },
    {
     "data": {
      "image/png": "[encoded data removed]",
      "text/plain": [
       "<Figure size 640x480 with 1 Axes>"
      ]
     },
     "metadata": {},
     "output_type": "display_data"
    }
   ],
   "source": [
    "# Evaluate performance on training dataset\n",
    "train_accuracy, train_precision, train_recall, train_conf_matrix, auroc = evaluate_performance(train_dataloader_1d)\n",
    "\n",
    "# Evaluate performance on test dataset\n",
    "test_accuracy, test_precision, test_recall, test_conf_matrix, auroc = evaluate_performance(test_dataloader_1d)\n",
    "\n",
    "print('Training Performance:')\n",
    "print(f'Accuracy: {train_accuracy:.2%}')\n",
    "print(f'AUROC: {auroc:.2f}')\n",
    "print(f'Precision: {train_precision:.2f}')\n",
    "print(f'Recall: {train_recall:.2f}')\n",
    "print('Confusion Matrix:')\n",
    "print(train_conf_matrix)\n",
    "\n",
    "print('\\nTest Performance:')\n",
    "print(f'Accuracy: {test_accuracy:.2%}')\n",
    "print(f'AUROC: {auroc:.2f}')\n",
    "print(f'Precision: {test_precision:.2f}')\n",
    "print(f'Recall: {test_recall:.2f}')\n",
    "print('Confusion Matrix:')\n",
    "print(test_conf_matrix)"
   ]
  },
  {
   "cell_type": "code",
   "execution_count": 300,
   "metadata": {},
   "outputs": [
    {
     "data": {
      "text/plain": [
       "<matplotlib.legend.Legend at 0x1f55f777200>"
      ]
     },
     "execution_count": 300,
     "metadata": {},
     "output_type": "execute_result"
    },
    {
     "data": {
      "image/png": "[encoded data removed]",
      "text/plain": [
       "<Figure size 640x480 with 1 Axes>"
      ]
     },
     "metadata": {},
     "output_type": "display_data"
    }
   ],
   "source": [
    "plt.plot(training_losses, label='Training Loss')\n",
    "plt.plot(val_losses, label='Validation Loss')\n",
    "plt.legend()"
   ]
  },
  {
   "cell_type": "markdown",
   "metadata": {},
   "source": [
    "# RNN"
   ]
  },
  {
   "cell_type": "code",
   "execution_count": 331,
   "metadata": {},
   "outputs": [],
   "source": [
    "times_available = []\n",
    "for i in range(0,X.shape[0]):\n",
    "    times_available.append(sum(sum(X[i,:,:] != 0)!=0))"
   ]
  },
  {
   "cell_type": "code",
   "execution_count": 359,
   "metadata": {},
   "outputs": [],
   "source": [
    "times_available = np.array(times_available)\n",
    "# Convert labels tensor to a numpy array\n",
    "labels_array = y.to_numpy()\n",
    "\n",
    "# Find the indices of 1s in the labels array\n",
    "indices = np.where(labels_array == True)[0]\n",
    "\n",
    "# Get the corresponding entries in times_available\n",
    "times_available_case = times_available[indices]\n",
    "times_available_control = times_available[np.where(labels_array == False)[0]]"
   ]
  },
  {
   "cell_type": "code",
   "execution_count": 365,
   "metadata": {},
   "outputs": [],
   "source": [
    "import seaborn as sns"
   ]
  },
  {
   "cell_type": "code",
   "execution_count": 367,
   "metadata": {},
   "outputs": [
    {
     "data": {
      "image/png": "[encoded data removed]",
      "text/plain": [
       "<Figure size 640x480 with 1 Axes>"
      ]
     },
     "metadata": {},
     "output_type": "display_data"
    }
   ],
   "source": [
    "# Plot overlapping histograms\n",
    "plt.hist(times_available_case, bins=10, alpha=0.5, label='Case', density=True)\n",
    "plt.hist(times_available_control, bins=10, alpha=0.5, label='Control', density=True)\n",
    "\n",
    "plt.xlabel('Time')\n",
    "plt.ylabel('Frequency')\n",
    "plt.title('Overlapping Histograms of Times Available')\n",
    "plt.legend()\n",
    "\n",
    "# Show the plot\n",
    "plt.show()\n"
   ]
  },
  {
   "cell_type": "code",
   "execution_count": 368,
   "metadata": {},
   "outputs": [],
   "source": [
    "from scipy.stats import chisquare"
   ]
  },
  {
   "cell_type": "code",
   "execution_count": 386,
   "metadata": {},
   "outputs": [
    {
     "data": {
      "image/png": "[encoded data removed]",
      "text/plain": [
       "<Figure size 640x480 with 1 Axes>"
      ]
     },
     "metadata": {},
     "output_type": "display_data"
    }
   ],
   "source": [
    "case_counts= plt.hist(times_available_case, bins=10, density=True, alpha=0.5)\n",
    "control_counts = plt.hist(times_available_control, bins=10, density=True, alpha=0.5)"
   ]
  },
  {
   "cell_type": "code",
   "execution_count": 382,
   "metadata": {},
   "outputs": [],
   "source": [
    "case_counts, case_bins = np.histogram(times_available_case, bins=10, density=True)\n",
    "control_counts, control_bins = np.histogram(times_available_control, bins=10, density=True)\n",
    "\n",
    "total_observed = sum(case_counts)\n",
    "total_expected = sum(control_counts)\n",
    "\n",
    "case_counts_normalized = [count / total_observed for count in case_counts]\n",
    "control_counts_normalized = [count / total_expected for count in control_counts]"
   ]
  },
  {
   "cell_type": "code",
   "execution_count": 384,
   "metadata": {},
   "outputs": [],
   "source": [
    "chi2, pvalue = chisquare(case_counts_normalized, f_exp = control_counts_normalized)"
   ]
  },
  {
   "cell_type": "markdown",
   "metadata": {},
   "source": [
    "Distributions of the lengths are not significantly different"
   ]
  },
  {
   "cell_type": "code",
   "execution_count": 387,
   "metadata": {},
   "outputs": [
    {
     "data": {
      "text/plain": [
       "0.9999985272824579"
      ]
     },
     "execution_count": 387,
     "metadata": {},
     "output_type": "execute_result"
    }
   ],
   "source": [
    "chi2\n",
    "pvalue"
   ]
  },
  {
   "cell_type": "code",
   "execution_count": 337,
   "metadata": {},
   "outputs": [],
   "source": [
    "#fg.historical_labs(processed_labs)\n",
    "binned_df = fg.bin_measurements(processed_labs)"
   ]
  },
  {
   "cell_type": "code",
   "execution_count": 348,
   "metadata": {},
   "outputs": [
    {
     "data": {
      "text/plain": [
       "5334"
      ]
     },
     "execution_count": 348,
     "metadata": {},
     "output_type": "execute_result"
    }
   ],
   "source": [
    "len(binned_df.loc[10000980].index.levels[1])"
   ]
  },
  {
   "cell_type": "markdown",
   "metadata": {},
   "source": [
    "## LSTM"
   ]
  },
  {
   "cell_type": "markdown",
   "metadata": {},
   "source": [
    "RNN expects input to be of shape [seq_length, batch_size, features] but you can use batch_first=True"
   ]
  },
  {
   "cell_type": "code",
   "execution_count": 389,
   "metadata": {},
   "outputs": [
    {
     "data": {
      "text/plain": [
       "(3609, 54, 100)"
      ]
     },
     "execution_count": 389,
     "metadata": {},
     "output_type": "execute_result"
    }
   ],
   "source": [
    "X.shape"
   ]
  },
  {
   "cell_type": "code",
   "execution_count": 390,
   "metadata": {},
   "outputs": [],
   "source": [
    "rnn_input = X.reshape((100, 3609, 54))"
   ]
  },
  {
   "cell_type": "code",
   "execution_count": 394,
   "metadata": {},
   "outputs": [
    {
     "data": {
      "text/plain": [
       "(100, 3609, 54)"
      ]
     },
     "execution_count": 394,
     "metadata": {},
     "output_type": "execute_result"
    }
   ],
   "source": [
    "rnn_input.shape"
   ]
  },
  {
   "cell_type": "code",
   "execution_count": 395,
   "metadata": {},
   "outputs": [
    {
     "name": "stdout",
     "output_type": "stream",
     "text": [
      "files saved successfully.\n"
     ]
    }
   ],
   "source": [
    "np.save(dir+'rnn_input.npy', rnn_input)\n",
    "np.save(dir+'rnn_output.npy', y)\n",
    "print(\"files saved successfully.\")"
   ]
  },
  {
   "cell_type": "code",
   "execution_count": 396,
   "metadata": {},
   "outputs": [],
   "source": [
    "class RNNDataset(Dataset):\n",
    "    def __init__(self, file_path,labels_file_path):\n",
    "        self.data = np.load(file_path)\n",
    "        self.labels = np.load(labels_file_path)\n",
    "        self.dtype = torch.float32\n",
    "    def __len__(self):\n",
    "        return len(self.data)\n",
    "\n",
    "    def __getitem__(self, idx):\n",
    "        sample = self.data[idx]\n",
    "        # Assuming you have labels for each sample\n",
    "        label = self.labels[idx]# You should adjust this to fetch labels if available\n",
    "        label = torch.tensor([label], dtype=self.dtype)\n",
    "        sample = torch.tensor(sample, dtype=self.dtype)\n",
    "        #sample = torch.unsqueeze(sample, dim=0) \n",
    "\n",
    "        return sample, label\n"
   ]
  },
  {
   "cell_type": "code",
   "execution_count": 403,
   "metadata": {},
   "outputs": [],
   "source": [
    "# File path to the .npy file\n",
    "file_path = dir+'CNN_input.npy'\n",
    "labels_file_path = dir+'CNN_output.npy'\n",
    "# Create a dataset\n",
    "dataset_rnn = RNNDataset(file_path, labels_file_path)\n",
    "\n",
    "# Create a DataLoader to load the dataset\n",
    "batch_size = 32\n",
    "shuffle = True  # You can set it to True if you want to shuffle the data\n",
    "num_workers = 0  # Number of subprocesses to use for data loading (0 means the data will be loaded in the main process)\n",
    "#dataloader = DataLoader(dataset, batch_size=batch_size, shuffle=shuffle, num_workers=num_workers)\n",
    "\n",
    "# Split the dataset indices into training and testing sets\n",
    "train_size = int(0.7 * len(dataset))  # 80% for training, adjust ratio as needed\n",
    "test_size = int(0.2 * len(dataset))  # 20% for testing, adjust ratio as needed\n",
    "val_size = len(dataset)-(train_size+test_size)   # 10% of the training data for validation\n",
    "train_dataset_rnn, val_dataset_rnn, test_dataset_rnn = torch.utils.data.random_split(dataset_rnn, [train_size,val_size, test_size])\n",
    "\n",
    "# Create separate DataLoaders for training and testing\n",
    "train_dataloader_rnn = DataLoader(train_dataset, batch_size=batch_size, shuffle=shuffle, num_workers=num_workers)\n",
    "test_dataloader_rnn = DataLoader(test_dataset, batch_size=batch_size, shuffle=shuffle, num_workers=num_workers)\n",
    "val_dataloader_rnn = DataLoader(val_dataset, batch_size=batch_size, shuffle=shuffle, num_workers=num_workers)\n",
    "# Compute the mean and standard deviation of the dataset\n",
    "mean_sum = 0.0\n",
    "std_sum = 0.0\n",
    "total_samples = 0\n",
    "\n",
    "for data, _ in train_dataloader_rnn:\n",
    "    total_samples += data.size(0)\n",
    "    mean_sum += data.mean(dim=(0, 1))  # Calculate mean along batch (0), width (2), and height (3) axes\n",
    "    std_sum += torch.std(data, dim=(0, 1))  # Calculate std along batch (0), width (2), and height (3) axes\n",
    "mean = mean_sum / total_samples    \n",
    "std = std_sum / total_samples\n",
    "\n",
    "custom_transform = transforms.Compose([\n",
    "    transforms.ToTensor(),  # Convert data to PyTorch tensor\n",
    "    #nan,  # Handle NaN values\n",
    "    transforms.Normalize(mean=[mean], std=[std]),  # Normalize data using computed mean and std\n",
    "    \n",
    "])\n",
    "#train_dataloader_rnn.transform = custom_transform\n",
    "#test_dataloader_rnn.transform = custom_transform\n",
    "#val_dataloader_rnn.transform = custom_transform\n"
   ]
  },
  {
   "cell_type": "code",
   "execution_count": 404,
   "metadata": {},
   "outputs": [],
   "source": [
    "nhidden = 1"
   ]
  },
  {
   "cell_type": "code",
   "execution_count": null,
   "metadata": {},
   "outputs": [],
   "source": [
    "class MV_LSTM(torch.nn.Module):\n",
    "    def __init__(self,n_features,seq_length):\n",
    "        super(MV_LSTM, self).__init__()\n",
    "        self.n_features = n_features\n",
    "        self.seq_len = seq_length\n",
    "        self.n_hidden = nhidden # number of hidden states\n",
    "        self.n_layers = 1 # number of LSTM layers (stacked)\n",
    "        self.dropout = torch.nn.Dropout(0.5)\n",
    "        \n",
    "        self.l_lstm = torch.nn.LSTM(input_size = n_features, \n",
    "                                 hidden_size = self.n_hidden,\n",
    "                                 num_layers = self.n_layers, \n",
    "                                 batch_first = True)\n",
    "        self.l_linear1 = torch.nn.Linear(self.n_hidden*self.seq_len, self.n_hidden*self.seq_len)\n",
    "        self.l_linear2 = torch.nn.Linear(self.n_hidden*self.seq_len, 1)\n",
    "        self.activation = torch.nn.Sigmoid()\n",
    "     \n",
    "    def forward(self, x):        \n",
    "        batch_size, seq_len, _ = x.size()\n",
    "        hidden_state = torch.zeros(self.n_layers,batch_size,self.n_hidden)\n",
    "        cell_state = torch.zeros(self.n_layers,batch_size,self.n_hidden)\n",
    "        hidden = (hidden_state,cell_state)\n",
    "        lstm_out, self.hidden = self.l_lstm(x,hidden)\n",
    "\n",
    "        x = lstm_out.contiguous().view(batch_size,-1)\n",
    "        x = self.dropout(x)\n",
    "        x = self.l_linear1(x)\n",
    "        self.activation(x)\n",
    "        x = self.dropout(x)\n",
    "        x=self.l_linear2(x)\n",
    "        return self.activation(x)"
   ]
  },
  {
   "cell_type": "code",
   "execution_count": null,
   "metadata": {},
   "outputs": [],
   "source": [
    "lstm = MV_LSTM(54, 100)\n",
    "\n",
    "best_val_loss = float('inf')\n"
   ]
  },
  {
   "cell_type": "markdown",
   "metadata": {},
   "source": [
    "# COmparison"
   ]
  },
  {
   "cell_type": "markdown",
   "metadata": {},
   "source": []
  },
  {
   "cell_type": "code",
   "execution_count": 496,
   "metadata": {},
   "outputs": [
    {
     "name": "stderr",
     "output_type": "stream",
     "text": [
      "c:\\Users\\victo\\anaconda3\\envs\\LIVER_PRED\\Lib\\site-packages\\sklearn\\base.py:464: UserWarning: X does not have valid feature names, but GradientBoostingClassifier was fitted with feature names\n",
      "  warnings.warn(\n",
      "c:\\Users\\victo\\anaconda3\\envs\\LIVER_PRED\\Lib\\site-packages\\sklearn\\base.py:464: UserWarning: X does not have valid feature names, but GradientBoostingClassifier was fitted with feature names\n",
      "  warnings.warn(\n"
     ]
    }
   ],
   "source": [
    "predictions_feng = gradboost.predict(X_test_scaled)\n",
    "probs_feng= gradboost.predict_proba(X_test_scaled)\n",
    "#calculate accuracy of the model\n",
    "accuracy_feng = sum(predictions_feng==y_test)/len(predictions_feng)\n",
    "#calculate AUC of the model\n",
    "auc_feng = roc_auc_score(y_test, predictions_feng)\n",
    "#calculate precision of the model\n",
    "precision_feng = precision_score(y_test, predictions_feng)\n",
    "#calculate recall of the model\n",
    "recall_feng = recall_score(y_test, predictions_feng)\n",
    "#calculate f1 score of the model\n",
    "f1_feng = f1_score(y_test, predictions_feng)\n",
    "#calculate confusion matrix of the model\n",
    "conf_feng = confusion_matrix(y_test, predictions_feng)\n"
   ]
  },
  {
   "cell_type": "markdown",
   "metadata": {},
   "source": [
    "CNN metrics"
   ]
  },
  {
   "cell_type": "code",
   "execution_count": 491,
   "metadata": {},
   "outputs": [
    {
     "name": "stdout",
     "output_type": "stream",
     "text": [
      "Test Performance:\n",
      "Accuracy: 84.88%\n",
      "AUROC: 0.83\n",
      "Precision: 0.81\n",
      "Recall: 0.52\n",
      "Confusion Matrix:\n",
      "[[518  22]\n",
      " [ 87  94]]\n"
     ]
    },
    {
     "data": {
      "image/png": "[encoded data removed]",
      "text/plain": [
       "<Figure size 640x480 with 1 Axes>"
      ]
     },
     "metadata": {},
     "output_type": "display_data"
    }
   ],
   "source": [
    "accuracy_cnn, precision_cnn, recall_cnn, conf_matrix_cnn, auroc_cnn = evaluate_performance(test_dataloader_1d)\n",
    "print('Test Performance:') \n",
    "print(f'Accuracy: {accuracy_cnn:.2%}')\n",
    "print(f'AUROC: {auroc_cnn:.2f}')\n",
    "print(f'Precision: {precision_cnn:.2f}')\n",
    "print(f'Recall: {recall_cnn:.2f}')\n",
    "print('Confusion Matrix:')\n",
    "print(conf_matrix_cnn)\n"
   ]
  },
  {
   "cell_type": "code",
   "execution_count": 509,
   "metadata": {},
   "outputs": [],
   "source": [
    "#accuracy_dict = {'TrendFeatures': accuracy_feng, 'CNN': accuracy_cnn}\n",
    "precision_dict = {'TrendFeatures': precision_feng, 'CNN': precision_cnn}\n",
    "recall_dict = {'TrendFeatures': recall_feng, 'CNN': recall_cnn}\n",
    "f1_dict = {'TrendFeatures': f1_feng, 'CNN': f1_cnn}\n",
    "auc_dict = {'TrendFeatures': auc_feng, 'CNN': auroc_cnn}"
   ]
  },
  {
   "cell_type": "code",
   "execution_count": 511,
   "metadata": {},
   "outputs": [],
   "source": [
    "results = pd.DataFrame([precision_dict, recall_dict, f1_dict, auc_dict], index=['Precision', 'Recall', 'F1', 'AUC'])"
   ]
  },
  {
   "cell_type": "code",
   "execution_count": 512,
   "metadata": {},
   "outputs": [
    {
     "data": {
      "text/html": [
       "<div>\n",
       "<style scoped>\n",
       "    .dataframe tbody tr th:only-of-type {\n",
       "        vertical-align: middle;\n",
       "    }\n",
       "\n",
       "    .dataframe tbody tr th {\n",
       "        vertical-align: top;\n",
       "    }\n",
       "\n",
       "    .dataframe thead th {\n",
       "        text-align: right;\n",
       "    }\n",
       "</style>\n",
       "<table border=\"1\" class=\"dataframe\">\n",
       "  <thead>\n",
       "    <tr style=\"text-align: right;\">\n",
       "      <th></th>\n",
       "      <th>AUC</th>\n",
       "      <th>F1</th>\n",
       "      <th>Precision</th>\n",
       "      <th>Recall</th>\n",
       "    </tr>\n",
       "  </thead>\n",
       "  <tbody>\n",
       "    <tr>\n",
       "      <th>CNN</th>\n",
       "      <td>0.829220</td>\n",
       "      <td>0.632997</td>\n",
       "      <td>0.810345</td>\n",
       "      <td>0.519337</td>\n",
       "    </tr>\n",
       "    <tr>\n",
       "      <th>TrendFeatures</th>\n",
       "      <td>0.867152</td>\n",
       "      <td>0.810496</td>\n",
       "      <td>0.842424</td>\n",
       "      <td>0.780899</td>\n",
       "    </tr>\n",
       "  </tbody>\n",
       "</table>\n",
       "</div>"
      ],
      "text/plain": [
       "                    AUC        F1  Precision    Recall\n",
       "CNN            0.829220  0.632997   0.810345  0.519337\n",
       "TrendFeatures  0.867152  0.810496   0.842424  0.780899"
      ]
     },
     "execution_count": 512,
     "metadata": {},
     "output_type": "execute_result"
    }
   ],
   "source": [
    "results.pivot_table(columns=['Precision', 'Recall', 'F1', 'AUC'])"
   ]
  },
  {
   "cell_type": "code",
   "execution_count": 492,
   "metadata": {},
   "outputs": [],
   "source": [
    "total_correct = 0\n",
    "total_samples = 0\n",
    "predicted_labels = []\n",
    "true_labels = []\n",
    "all_probabilities = []\n",
    "with torch.no_grad():  # No need to track gradients during evaluation\n",
    "        for inputs, labels in test_dataloader_1d:\n",
    "            outputs = cnn(inputs)\n",
    "            probabilities = torch.sigmoid(outputs)  # Apply sigmoid to get probabilities\n",
    "            predicted = (probabilities > 0.5).int()\n",
    "            total_correct += (predicted == labels).sum().item()\n",
    "            total_samples += labels.size(0)\n",
    "            predicted_labels.extend(predicted.numpy())\n",
    "            true_labels.extend(labels.numpy())\n",
    "            all_probabilities.extend(probabilities.numpy())"
   ]
  },
  {
   "cell_type": "code",
   "execution_count": 508,
   "metadata": {},
   "outputs": [],
   "source": [
    "f1_cnn = f1_score(true_labels, predicted_labels)"
   ]
  },
  {
   "cell_type": "code",
   "execution_count": 506,
   "metadata": {},
   "outputs": [
    {
     "name": "stderr",
     "output_type": "stream",
     "text": [
      "c:\\Users\\victo\\anaconda3\\envs\\LIVER_PRED\\Lib\\site-packages\\seaborn\\_oldcore.py:1498: FutureWarning: is_categorical_dtype is deprecated and will be removed in a future version. Use isinstance(dtype, CategoricalDtype) instead\n",
      "  if pd.api.types.is_categorical_dtype(vector):\n",
      "c:\\Users\\victo\\anaconda3\\envs\\LIVER_PRED\\Lib\\site-packages\\seaborn\\_oldcore.py:1498: FutureWarning: is_categorical_dtype is deprecated and will be removed in a future version. Use isinstance(dtype, CategoricalDtype) instead\n",
      "  if pd.api.types.is_categorical_dtype(vector):\n",
      "c:\\Users\\victo\\anaconda3\\envs\\LIVER_PRED\\Lib\\site-packages\\seaborn\\_oldcore.py:1119: FutureWarning: use_inf_as_na option is deprecated and will be removed in a future version. Convert inf values to NaN before operating instead.\n",
      "  with pd.option_context('mode.use_inf_as_na', True):\n",
      "c:\\Users\\victo\\anaconda3\\envs\\LIVER_PRED\\Lib\\site-packages\\seaborn\\_oldcore.py:1119: FutureWarning: use_inf_as_na option is deprecated and will be removed in a future version. Convert inf values to NaN before operating instead.\n",
      "  with pd.option_context('mode.use_inf_as_na', True):\n"
     ]
    },
    {
     "name": "stderr",
     "output_type": "stream",
     "text": [
      "c:\\Users\\victo\\anaconda3\\envs\\LIVER_PRED\\Lib\\site-packages\\seaborn\\_oldcore.py:1498: FutureWarning: is_categorical_dtype is deprecated and will be removed in a future version. Use isinstance(dtype, CategoricalDtype) instead\n",
      "  if pd.api.types.is_categorical_dtype(vector):\n",
      "c:\\Users\\victo\\anaconda3\\envs\\LIVER_PRED\\Lib\\site-packages\\seaborn\\_oldcore.py:1498: FutureWarning: is_categorical_dtype is deprecated and will be removed in a future version. Use isinstance(dtype, CategoricalDtype) instead\n",
      "  if pd.api.types.is_categorical_dtype(vector):\n",
      "c:\\Users\\victo\\anaconda3\\envs\\LIVER_PRED\\Lib\\site-packages\\seaborn\\_oldcore.py:1119: FutureWarning: use_inf_as_na option is deprecated and will be removed in a future version. Convert inf values to NaN before operating instead.\n",
      "  with pd.option_context('mode.use_inf_as_na', True):\n",
      "c:\\Users\\victo\\anaconda3\\envs\\LIVER_PRED\\Lib\\site-packages\\seaborn\\_oldcore.py:1119: FutureWarning: use_inf_as_na option is deprecated and will be removed in a future version. Convert inf values to NaN before operating instead.\n",
      "  with pd.option_context('mode.use_inf_as_na', True):\n"
     ]
    },
    {
     "data": {
      "image/png": "[encoded data removed]",
      "text/plain": [
       "<Figure size 640x480 with 1 Axes>"
      ]
     },
     "metadata": {},
     "output_type": "display_data"
    }
   ],
   "source": [
    "import seaborn as sns\n",
    "from sklearn.metrics import roc_curve\n",
    "\n",
    "# Calculate the FPR and TPR for the GradientBoostingClassifier model\n",
    "fpr_gb, tpr_gb, _ = roc_curve(y_test, probs_feng[:,1])\n",
    "\n",
    "# Calculate the FPR and TPR for the CNN model\n",
    "fpr_cnn, tpr_cnn, _ = roc_curve(true_labels, all_probabilities)\n",
    "\n",
    "# Plot the ROC curves\n",
    "sns.lineplot(x=fpr_gb, y=tpr_gb, label='GradientBoostingClassifier')\n",
    "sns.lineplot(x=fpr_cnn, y=tpr_cnn, label='CNN')\n",
    "\n",
    "# Set the labels and title\n",
    "plt.xlabel('False Positive Rate')\n",
    "plt.ylabel('True Positive Rate')\n",
    "plt.title('Receiver Operating Characteristic (ROC) Curve')\n",
    "\n",
    "# Show the legend\n",
    "plt.legend()\n",
    "\n",
    "# Show the plot\n",
    "plt.show()\n"
   ]
  },
  {
   "cell_type": "code",
   "execution_count": null,
   "metadata": {},
   "outputs": [],
   "source": []
  },
  {
   "cell_type": "code",
   "execution_count": 519,
   "metadata": {},
   "outputs": [],
   "source": [
    "fis = pd.DataFrame.from_dict({'feature':X_train.columns, 'importances': gradboost.best_estimator_.feature_importances_})"
   ]
  },
  {
   "cell_type": "code",
   "execution_count": 538,
   "metadata": {},
   "outputs": [
    {
     "name": "stderr",
     "output_type": "stream",
     "text": [
      "c:\\Users\\victo\\anaconda3\\envs\\LIVER_PRED\\Lib\\site-packages\\seaborn\\_oldcore.py:1498: FutureWarning: is_categorical_dtype is deprecated and will be removed in a future version. Use isinstance(dtype, CategoricalDtype) instead\n",
      "  if pd.api.types.is_categorical_dtype(vector):\n",
      "c:\\Users\\victo\\anaconda3\\envs\\LIVER_PRED\\Lib\\site-packages\\seaborn\\_oldcore.py:1498: FutureWarning: is_categorical_dtype is deprecated and will be removed in a future version. Use isinstance(dtype, CategoricalDtype) instead\n",
      "  if pd.api.types.is_categorical_dtype(vector):\n",
      "c:\\Users\\victo\\anaconda3\\envs\\LIVER_PRED\\Lib\\site-packages\\seaborn\\_oldcore.py:1498: FutureWarning: is_categorical_dtype is deprecated and will be removed in a future version. Use isinstance(dtype, CategoricalDtype) instead\n",
      "  if pd.api.types.is_categorical_dtype(vector):\n"
     ]
    },
    {
     "data": {
      "text/plain": [
       "<Axes: xlabel='feature', ylabel='importances'>"
      ]
     },
     "execution_count": 538,
     "metadata": {},
     "output_type": "execute_result"
    },
    {
     "data": {
      "image/png": "[encoded data removed]",
      "text/plain": [
       "<Figure size 640x480 with 1 Axes>"
      ]
     },
     "metadata": {},
     "output_type": "display_data"
    }
   ],
   "source": [
    "sns.barplot(fis, x='feature', y='importances')"
   ]
  },
  {
   "cell_type": "code",
   "execution_count": 539,
   "metadata": {},
   "outputs": [],
   "source": [
    "ranks = fis.sort_values(by='importances', ascending=False)\n",
    "ranks['rank'] = range(1, len(ranks)+1)"
   ]
  },
  {
   "cell_type": "code",
   "execution_count": 544,
   "metadata": {},
   "outputs": [
    {
     "name": "stdout",
     "output_type": "stream",
     "text": [
      "                                               feature  importances  rank\n",
      "44                          distal_trend_Blood Albumin     0.014089    10\n",
      "101  proximal_trend_Blood Asparate Aminotransferase...     0.012504    11\n",
      "99           proximal_trend_Blood Alkaline Phosphatase     0.011170    13\n",
      "104              proximal_trend_Blood Bilirubin, Total     0.010557    14\n",
      "114                       proximal_trend_Blood INR(PT)     0.008094    18\n",
      "..                                                 ...          ...   ...\n",
      "85       distal_trend_Urine Length of Urine Collection     0.000000   147\n",
      "84                           distal_trend_Urine Ketone     0.000000   148\n",
      "83                          distal_trend_Urine Glucose     0.000000   149\n",
      "81                            distal_trend_Urine Blood     0.000000   150\n",
      "111       proximal_trend_Blood Green Top Hold (plasma)     0.000000   151\n",
      "\n",
      "[108 rows x 3 columns]\n"
     ]
    }
   ],
   "source": [
    "trend_features = ranks[ranks['feature'].str.contains('trend')]\n",
    "print(trend_features.sort_values(by='rank', ascending=True))\n"
   ]
  },
  {
   "cell_type": "code",
   "execution_count": 524,
   "metadata": {},
   "outputs": [
    {
     "data": {
      "text/plain": [
       "{'max_depth': 15,\n",
       " 'max_features': 20,\n",
       " 'min_samples_leaf': 50,\n",
       " 'min_samples_split': 4,\n",
       " 'n_estimators': 200}"
      ]
     },
     "execution_count": 524,
     "metadata": {},
     "output_type": "execute_result"
    }
   ],
   "source": [
    "gradboost.best_params_"
   ]
  },
  {
   "cell_type": "code",
   "execution_count": 530,
   "metadata": {},
   "outputs": [
    {
     "data": {
      "text/html": [
       "<div>\n",
       "<style scoped>\n",
       "    .dataframe tbody tr th:only-of-type {\n",
       "        vertical-align: middle;\n",
       "    }\n",
       "\n",
       "    .dataframe tbody tr th {\n",
       "        vertical-align: top;\n",
       "    }\n",
       "\n",
       "    .dataframe thead th {\n",
       "        text-align: right;\n",
       "    }\n",
       "</style>\n",
       "<table border=\"1\" class=\"dataframe\">\n",
       "  <thead>\n",
       "    <tr style=\"text-align: right;\">\n",
       "      <th>label</th>\n",
       "      <th>subject_id</th>\n",
       "      <th>Blood Alanine Aminotransferase (ALT)</th>\n",
       "      <th>Blood Albumin</th>\n",
       "      <th>Blood Alkaline Phosphatase</th>\n",
       "      <th>Blood Anion Gap</th>\n",
       "      <th>Blood Asparate Aminotransferase (AST)</th>\n",
       "      <th>Blood Basophils</th>\n",
       "      <th>Blood Bicarbonate</th>\n",
       "      <th>Blood Bilirubin, Total</th>\n",
       "      <th>Blood Calcium, Total</th>\n",
       "      <th>...</th>\n",
       "      <th>Blood Estimated GFR (MDRD equation)</th>\n",
       "      <th>Blood Green Top Hold (plasma)</th>\n",
       "      <th>Urine Bilirubin</th>\n",
       "      <th>Urine Blood</th>\n",
       "      <th>Urine Leukocytes</th>\n",
       "      <th>Urine Nitrite</th>\n",
       "      <th>Urine Urine Appearance</th>\n",
       "      <th>Urine Urine Color</th>\n",
       "      <th>Urine Yeast</th>\n",
       "      <th>outcome</th>\n",
       "    </tr>\n",
       "  </thead>\n",
       "  <tbody>\n",
       "    <tr>\n",
       "      <th>0</th>\n",
       "      <td>10000980</td>\n",
       "      <td>23.827739</td>\n",
       "      <td>4.985872</td>\n",
       "      <td>84.666492</td>\n",
       "      <td>17.0</td>\n",
       "      <td>14.423845</td>\n",
       "      <td>0.2</td>\n",
       "      <td>21.5</td>\n",
       "      <td>0.529795</td>\n",
       "      <td>9.6</td>\n",
       "      <td>...</td>\n",
       "      <td>NaN</td>\n",
       "      <td>NaN</td>\n",
       "      <td>NaN</td>\n",
       "      <td>NaN</td>\n",
       "      <td>NaN</td>\n",
       "      <td>NaN</td>\n",
       "      <td>NaN</td>\n",
       "      <td>NaN</td>\n",
       "      <td>NaN</td>\n",
       "      <td>0.0</td>\n",
       "    </tr>\n",
       "    <tr>\n",
       "      <th>3</th>\n",
       "      <td>10006029</td>\n",
       "      <td>24.000000</td>\n",
       "      <td>3.900000</td>\n",
       "      <td>173.000000</td>\n",
       "      <td>14.0</td>\n",
       "      <td>31.000000</td>\n",
       "      <td>0.2</td>\n",
       "      <td>19.0</td>\n",
       "      <td>0.400000</td>\n",
       "      <td>9.2</td>\n",
       "      <td>...</td>\n",
       "      <td>NaN</td>\n",
       "      <td>NaN</td>\n",
       "      <td>NaN</td>\n",
       "      <td>NaN</td>\n",
       "      <td>NaN</td>\n",
       "      <td>NaN</td>\n",
       "      <td>NaN</td>\n",
       "      <td>NaN</td>\n",
       "      <td>NaN</td>\n",
       "      <td>1.0</td>\n",
       "    </tr>\n",
       "    <tr>\n",
       "      <th>5</th>\n",
       "      <td>10010471</td>\n",
       "      <td>70.000000</td>\n",
       "      <td>3.400000</td>\n",
       "      <td>75.000000</td>\n",
       "      <td>23.5</td>\n",
       "      <td>235.500000</td>\n",
       "      <td>0.2</td>\n",
       "      <td>25.0</td>\n",
       "      <td>0.450000</td>\n",
       "      <td>8.5</td>\n",
       "      <td>...</td>\n",
       "      <td>NaN</td>\n",
       "      <td>NaN</td>\n",
       "      <td>NaN</td>\n",
       "      <td>NaN</td>\n",
       "      <td>NaN</td>\n",
       "      <td>NaN</td>\n",
       "      <td>NaN</td>\n",
       "      <td>NaN</td>\n",
       "      <td>NaN</td>\n",
       "      <td>0.0</td>\n",
       "    </tr>\n",
       "    <tr>\n",
       "      <th>7</th>\n",
       "      <td>10014471</td>\n",
       "      <td>22.000000</td>\n",
       "      <td>4.631230</td>\n",
       "      <td>98.000000</td>\n",
       "      <td>12.5</td>\n",
       "      <td>24.000000</td>\n",
       "      <td>1.0</td>\n",
       "      <td>27.0</td>\n",
       "      <td>0.800000</td>\n",
       "      <td>9.2</td>\n",
       "      <td>...</td>\n",
       "      <td>NaN</td>\n",
       "      <td>NaN</td>\n",
       "      <td>NaN</td>\n",
       "      <td>NaN</td>\n",
       "      <td>NaN</td>\n",
       "      <td>NaN</td>\n",
       "      <td>NaN</td>\n",
       "      <td>NaN</td>\n",
       "      <td>NaN</td>\n",
       "      <td>0.0</td>\n",
       "    </tr>\n",
       "    <tr>\n",
       "      <th>12</th>\n",
       "      <td>10017764</td>\n",
       "      <td>6.256094</td>\n",
       "      <td>4.155574</td>\n",
       "      <td>60.424498</td>\n",
       "      <td>15.0</td>\n",
       "      <td>39.815967</td>\n",
       "      <td>0.6</td>\n",
       "      <td>24.0</td>\n",
       "      <td>0.830891</td>\n",
       "      <td>9.1</td>\n",
       "      <td>...</td>\n",
       "      <td>NaN</td>\n",
       "      <td>NaN</td>\n",
       "      <td>NaN</td>\n",
       "      <td>NaN</td>\n",
       "      <td>NaN</td>\n",
       "      <td>NaN</td>\n",
       "      <td>NaN</td>\n",
       "      <td>NaN</td>\n",
       "      <td>NaN</td>\n",
       "      <td>0.0</td>\n",
       "    </tr>\n",
       "  </tbody>\n",
       "</table>\n",
       "<p>5 rows × 56 columns</p>\n",
       "</div>"
      ],
      "text/plain": [
       "label  subject_id  Blood Alanine Aminotransferase (ALT)  Blood Albumin  \\\n",
       "0        10000980                             23.827739       4.985872   \n",
       "3        10006029                             24.000000       3.900000   \n",
       "5        10010471                             70.000000       3.400000   \n",
       "7        10014471                             22.000000       4.631230   \n",
       "12       10017764                              6.256094       4.155574   \n",
       "\n",
       "label  Blood Alkaline Phosphatase  Blood Anion Gap  \\\n",
       "0                       84.666492             17.0   \n",
       "3                      173.000000             14.0   \n",
       "5                       75.000000             23.5   \n",
       "7                       98.000000             12.5   \n",
       "12                      60.424498             15.0   \n",
       "\n",
       "label  Blood Asparate Aminotransferase (AST)  Blood Basophils  \\\n",
       "0                                  14.423845              0.2   \n",
       "3                                  31.000000              0.2   \n",
       "5                                 235.500000              0.2   \n",
       "7                                  24.000000              1.0   \n",
       "12                                 39.815967              0.6   \n",
       "\n",
       "label  Blood Bicarbonate  Blood Bilirubin, Total  Blood Calcium, Total  ...  \\\n",
       "0                   21.5                0.529795                   9.6  ...   \n",
       "3                   19.0                0.400000                   9.2  ...   \n",
       "5                   25.0                0.450000                   8.5  ...   \n",
       "7                   27.0                0.800000                   9.2  ...   \n",
       "12                  24.0                0.830891                   9.1  ...   \n",
       "\n",
       "label  Blood Estimated GFR (MDRD equation)  Blood Green Top Hold (plasma)  \\\n",
       "0                                      NaN                            NaN   \n",
       "3                                      NaN                            NaN   \n",
       "5                                      NaN                            NaN   \n",
       "7                                      NaN                            NaN   \n",
       "12                                     NaN                            NaN   \n",
       "\n",
       "label  Urine Bilirubin  Urine Blood  Urine Leukocytes  Urine Nitrite  \\\n",
       "0                  NaN          NaN               NaN            NaN   \n",
       "3                  NaN          NaN               NaN            NaN   \n",
       "5                  NaN          NaN               NaN            NaN   \n",
       "7                  NaN          NaN               NaN            NaN   \n",
       "12                 NaN          NaN               NaN            NaN   \n",
       "\n",
       "label  Urine Urine Appearance  Urine Urine Color  Urine Yeast  outcome  \n",
       "0                         NaN                NaN          NaN      0.0  \n",
       "3                         NaN                NaN          NaN      1.0  \n",
       "5                         NaN                NaN          NaN      0.0  \n",
       "7                         NaN                NaN          NaN      0.0  \n",
       "12                        NaN                NaN          NaN      0.0  \n",
       "\n",
       "[5 rows x 56 columns]"
      ]
     },
     "execution_count": 530,
     "metadata": {},
     "output_type": "execute_result"
    }
   ],
   "source": [
    "current_df.head()"
   ]
  },
  {
   "cell_type": "code",
   "execution_count": 534,
   "metadata": {},
   "outputs": [],
   "source": [
    "new_X = current_df.drop(columns=['subject_id','outcome'])\n",
    "new_X.fillna(0, inplace=True)\n",
    "y = current_df['outcome']\n",
    "#split as before\n",
    "X_train, X_test, y_train, y_test = train_test_split(new_X, y, test_size=0.2, random_state=42, stratify=y)\n",
    "#scale as before\n",
    "scaler = StandardScaler()\n",
    "X_train_scaled = scaler.fit_transform(X_train)  \n",
    "X_test_scaled = scaler.transform(X_test)\n"
   ]
  },
  {
   "cell_type": "code",
   "execution_count": 535,
   "metadata": {},
   "outputs": [],
   "source": [
    "new_grad = gradboost.best_estimator_.fit(X_train_scaled, y_train)\n",
    "new_preds = new_grad.predict(X_test_scaled)"
   ]
  },
  {
   "cell_type": "code",
   "execution_count": 536,
   "metadata": {},
   "outputs": [],
   "source": [
    "predictions_feng_new = new_grad.predict(X_test_scaled)\n",
    "probs_feng_new= new_grad.predict_proba(X_test_scaled)\n",
    "#calculate accuracy of the model\n",
    "accuracy_feng_new = sum(predictions_feng_new==y_test)/len(predictions_feng_new)\n",
    "#calculate AUC of the model\n",
    "auc_feng_new = roc_auc_score(y_test, predictions_feng_new)\n",
    "#calculate precision of the model\n",
    "precision_feng_new = precision_score(y_test, predictions_feng_new)\n",
    "#calculate recall of the model\n",
    "recall_feng_new = recall_score(y_test, predictions_feng_new)\n",
    "#calculate f1 score of the model\n",
    "f1_feng_new = f1_score(y_test, predictions_feng_new)\n",
    "#calculate confusion matrix of the model\n",
    "conf_feng_new = confusion_matrix(y_test, predictions_feng_new)"
   ]
  },
  {
   "cell_type": "code",
   "execution_count": 529,
   "metadata": {},
   "outputs": [
    {
     "name": "stdout",
     "output_type": "stream",
     "text": [
      "Test Performance:\n",
      "Accuracy: 90.49%\n",
      "AUROC: 0.85\n",
      "Precision: 0.84\n",
      "Recall: 0.75\n",
      "Confusion Matrix:\n",
      "[[533  25]\n",
      " [ 45 133]]\n"
     ]
    }
   ],
   "source": [
    "print('Test Performance:')     \n",
    "print(f'Accuracy: {accuracy_feng_new:.2%}')\n",
    "print(f'AUROC: {auc_feng_new:.2f}')\n",
    "print(f'Precision: {precision_feng_new:.2f}')\n",
    "print(f'Recall: {recall_feng_new:.2f}')\n",
    "print('Confusion Matrix:')\n",
    "print(conf_feng)\n"
   ]
  },
  {
   "cell_type": "code",
   "execution_count": 546,
   "metadata": {},
   "outputs": [
    {
     "data": {
      "text/plain": [
       "175"
      ]
     },
     "execution_count": 546,
     "metadata": {},
     "output_type": "execute_result"
    }
   ],
   "source": [
    "25*7"
   ]
  },
  {
   "cell_type": "code",
   "execution_count": 549,
   "metadata": {},
   "outputs": [
    {
     "data": {
      "text/html": [
       "<div>\n",
       "<style scoped>\n",
       "    .dataframe tbody tr th:only-of-type {\n",
       "        vertical-align: middle;\n",
       "    }\n",
       "\n",
       "    .dataframe tbody tr th {\n",
       "        vertical-align: top;\n",
       "    }\n",
       "\n",
       "    .dataframe thead th {\n",
       "        text-align: right;\n",
       "    }\n",
       "</style>\n",
       "<table border=\"1\" class=\"dataframe\">\n",
       "  <thead>\n",
       "    <tr style=\"text-align: right;\">\n",
       "      <th>label</th>\n",
       "      <th>subject_id</th>\n",
       "      <th>Blood Alanine Aminotransferase (ALT)</th>\n",
       "      <th>Blood Albumin</th>\n",
       "      <th>Blood Alkaline Phosphatase</th>\n",
       "      <th>Blood Anion Gap</th>\n",
       "      <th>Blood Asparate Aminotransferase (AST)</th>\n",
       "      <th>Blood Basophils</th>\n",
       "      <th>Blood Bicarbonate</th>\n",
       "      <th>Blood Bilirubin, Total</th>\n",
       "      <th>Blood Calcium, Total</th>\n",
       "      <th>...</th>\n",
       "      <th>Blood Estimated GFR (MDRD equation)</th>\n",
       "      <th>Blood Green Top Hold (plasma)</th>\n",
       "      <th>Urine Bilirubin</th>\n",
       "      <th>Urine Blood</th>\n",
       "      <th>Urine Leukocytes</th>\n",
       "      <th>Urine Nitrite</th>\n",
       "      <th>Urine Urine Appearance</th>\n",
       "      <th>Urine Urine Color</th>\n",
       "      <th>Urine Yeast</th>\n",
       "      <th>outcome</th>\n",
       "    </tr>\n",
       "  </thead>\n",
       "  <tbody>\n",
       "    <tr>\n",
       "      <th>0</th>\n",
       "      <td>10000980</td>\n",
       "      <td>23.827739</td>\n",
       "      <td>4.985872</td>\n",
       "      <td>84.666492</td>\n",
       "      <td>17.0</td>\n",
       "      <td>14.423845</td>\n",
       "      <td>0.200000</td>\n",
       "      <td>21.5</td>\n",
       "      <td>0.529795</td>\n",
       "      <td>9.600000</td>\n",
       "      <td>...</td>\n",
       "      <td>NaN</td>\n",
       "      <td>NaN</td>\n",
       "      <td>NaN</td>\n",
       "      <td>NaN</td>\n",
       "      <td>NaN</td>\n",
       "      <td>NaN</td>\n",
       "      <td>NaN</td>\n",
       "      <td>NaN</td>\n",
       "      <td>NaN</td>\n",
       "      <td>0.0</td>\n",
       "    </tr>\n",
       "    <tr>\n",
       "      <th>3</th>\n",
       "      <td>10006029</td>\n",
       "      <td>24.000000</td>\n",
       "      <td>3.900000</td>\n",
       "      <td>173.000000</td>\n",
       "      <td>14.0</td>\n",
       "      <td>31.000000</td>\n",
       "      <td>0.200000</td>\n",
       "      <td>19.0</td>\n",
       "      <td>0.400000</td>\n",
       "      <td>9.200000</td>\n",
       "      <td>...</td>\n",
       "      <td>NaN</td>\n",
       "      <td>NaN</td>\n",
       "      <td>NaN</td>\n",
       "      <td>NaN</td>\n",
       "      <td>NaN</td>\n",
       "      <td>NaN</td>\n",
       "      <td>NaN</td>\n",
       "      <td>NaN</td>\n",
       "      <td>NaN</td>\n",
       "      <td>1.0</td>\n",
       "    </tr>\n",
       "    <tr>\n",
       "      <th>5</th>\n",
       "      <td>10010471</td>\n",
       "      <td>70.000000</td>\n",
       "      <td>3.400000</td>\n",
       "      <td>75.000000</td>\n",
       "      <td>23.5</td>\n",
       "      <td>235.500000</td>\n",
       "      <td>0.200000</td>\n",
       "      <td>25.0</td>\n",
       "      <td>0.450000</td>\n",
       "      <td>8.500000</td>\n",
       "      <td>...</td>\n",
       "      <td>NaN</td>\n",
       "      <td>NaN</td>\n",
       "      <td>NaN</td>\n",
       "      <td>NaN</td>\n",
       "      <td>NaN</td>\n",
       "      <td>NaN</td>\n",
       "      <td>NaN</td>\n",
       "      <td>NaN</td>\n",
       "      <td>NaN</td>\n",
       "      <td>0.0</td>\n",
       "    </tr>\n",
       "    <tr>\n",
       "      <th>7</th>\n",
       "      <td>10014471</td>\n",
       "      <td>22.000000</td>\n",
       "      <td>4.631230</td>\n",
       "      <td>98.000000</td>\n",
       "      <td>12.5</td>\n",
       "      <td>24.000000</td>\n",
       "      <td>1.000000</td>\n",
       "      <td>27.0</td>\n",
       "      <td>0.800000</td>\n",
       "      <td>9.200000</td>\n",
       "      <td>...</td>\n",
       "      <td>NaN</td>\n",
       "      <td>NaN</td>\n",
       "      <td>NaN</td>\n",
       "      <td>NaN</td>\n",
       "      <td>NaN</td>\n",
       "      <td>NaN</td>\n",
       "      <td>NaN</td>\n",
       "      <td>NaN</td>\n",
       "      <td>NaN</td>\n",
       "      <td>0.0</td>\n",
       "    </tr>\n",
       "    <tr>\n",
       "      <th>12</th>\n",
       "      <td>10017764</td>\n",
       "      <td>6.256094</td>\n",
       "      <td>4.155574</td>\n",
       "      <td>60.424498</td>\n",
       "      <td>15.0</td>\n",
       "      <td>39.815967</td>\n",
       "      <td>0.600000</td>\n",
       "      <td>24.0</td>\n",
       "      <td>0.830891</td>\n",
       "      <td>9.100000</td>\n",
       "      <td>...</td>\n",
       "      <td>NaN</td>\n",
       "      <td>NaN</td>\n",
       "      <td>NaN</td>\n",
       "      <td>NaN</td>\n",
       "      <td>NaN</td>\n",
       "      <td>NaN</td>\n",
       "      <td>NaN</td>\n",
       "      <td>NaN</td>\n",
       "      <td>NaN</td>\n",
       "      <td>0.0</td>\n",
       "    </tr>\n",
       "    <tr>\n",
       "      <th>...</th>\n",
       "      <td>...</td>\n",
       "      <td>...</td>\n",
       "      <td>...</td>\n",
       "      <td>...</td>\n",
       "      <td>...</td>\n",
       "      <td>...</td>\n",
       "      <td>...</td>\n",
       "      <td>...</td>\n",
       "      <td>...</td>\n",
       "      <td>...</td>\n",
       "      <td>...</td>\n",
       "      <td>...</td>\n",
       "      <td>...</td>\n",
       "      <td>...</td>\n",
       "      <td>...</td>\n",
       "      <td>...</td>\n",
       "      <td>...</td>\n",
       "      <td>...</td>\n",
       "      <td>...</td>\n",
       "      <td>...</td>\n",
       "      <td>...</td>\n",
       "    </tr>\n",
       "    <tr>\n",
       "      <th>7455</th>\n",
       "      <td>19987216</td>\n",
       "      <td>195.500000</td>\n",
       "      <td>3.600000</td>\n",
       "      <td>131.500000</td>\n",
       "      <td>17.0</td>\n",
       "      <td>374.000000</td>\n",
       "      <td>1.550000</td>\n",
       "      <td>24.5</td>\n",
       "      <td>0.900000</td>\n",
       "      <td>9.300000</td>\n",
       "      <td>...</td>\n",
       "      <td>NaN</td>\n",
       "      <td>NaN</td>\n",
       "      <td>NaN</td>\n",
       "      <td>NaN</td>\n",
       "      <td>NaN</td>\n",
       "      <td>NaN</td>\n",
       "      <td>NaN</td>\n",
       "      <td>NaN</td>\n",
       "      <td>NaN</td>\n",
       "      <td>1.0</td>\n",
       "    </tr>\n",
       "    <tr>\n",
       "      <th>7457</th>\n",
       "      <td>19993603</td>\n",
       "      <td>33.406130</td>\n",
       "      <td>4.037856</td>\n",
       "      <td>91.193172</td>\n",
       "      <td>19.0</td>\n",
       "      <td>13.436771</td>\n",
       "      <td>0.200000</td>\n",
       "      <td>25.0</td>\n",
       "      <td>1.103851</td>\n",
       "      <td>9.226739</td>\n",
       "      <td>...</td>\n",
       "      <td>NaN</td>\n",
       "      <td>NaN</td>\n",
       "      <td>NaN</td>\n",
       "      <td>NaN</td>\n",
       "      <td>NaN</td>\n",
       "      <td>NaN</td>\n",
       "      <td>NaN</td>\n",
       "      <td>NaN</td>\n",
       "      <td>NaN</td>\n",
       "      <td>0.0</td>\n",
       "    </tr>\n",
       "    <tr>\n",
       "      <th>7458</th>\n",
       "      <td>19994588</td>\n",
       "      <td>21.525682</td>\n",
       "      <td>4.504621</td>\n",
       "      <td>98.834733</td>\n",
       "      <td>12.5</td>\n",
       "      <td>29.952877</td>\n",
       "      <td>0.485802</td>\n",
       "      <td>26.5</td>\n",
       "      <td>0.589622</td>\n",
       "      <td>8.050000</td>\n",
       "      <td>...</td>\n",
       "      <td>NaN</td>\n",
       "      <td>NaN</td>\n",
       "      <td>NaN</td>\n",
       "      <td>NaN</td>\n",
       "      <td>NaN</td>\n",
       "      <td>NaN</td>\n",
       "      <td>NaN</td>\n",
       "      <td>NaN</td>\n",
       "      <td>NaN</td>\n",
       "      <td>0.0</td>\n",
       "    </tr>\n",
       "    <tr>\n",
       "      <th>7459</th>\n",
       "      <td>19995320</td>\n",
       "      <td>20.025847</td>\n",
       "      <td>4.386224</td>\n",
       "      <td>76.925323</td>\n",
       "      <td>14.0</td>\n",
       "      <td>13.647882</td>\n",
       "      <td>0.200000</td>\n",
       "      <td>24.0</td>\n",
       "      <td>0.700571</td>\n",
       "      <td>9.456469</td>\n",
       "      <td>...</td>\n",
       "      <td>NaN</td>\n",
       "      <td>NaN</td>\n",
       "      <td>NaN</td>\n",
       "      <td>NaN</td>\n",
       "      <td>NaN</td>\n",
       "      <td>NaN</td>\n",
       "      <td>NaN</td>\n",
       "      <td>NaN</td>\n",
       "      <td>NaN</td>\n",
       "      <td>0.0</td>\n",
       "    </tr>\n",
       "    <tr>\n",
       "      <th>7462</th>\n",
       "      <td>19999303</td>\n",
       "      <td>80.500000</td>\n",
       "      <td>3.500000</td>\n",
       "      <td>78.500000</td>\n",
       "      <td>14.0</td>\n",
       "      <td>42.500000</td>\n",
       "      <td>0.485584</td>\n",
       "      <td>28.5</td>\n",
       "      <td>0.350000</td>\n",
       "      <td>8.800000</td>\n",
       "      <td>...</td>\n",
       "      <td>NaN</td>\n",
       "      <td>NaN</td>\n",
       "      <td>NaN</td>\n",
       "      <td>NaN</td>\n",
       "      <td>NaN</td>\n",
       "      <td>NaN</td>\n",
       "      <td>NaN</td>\n",
       "      <td>NaN</td>\n",
       "      <td>NaN</td>\n",
       "      <td>0.0</td>\n",
       "    </tr>\n",
       "  </tbody>\n",
       "</table>\n",
       "<p>3677 rows × 56 columns</p>\n",
       "</div>"
      ],
      "text/plain": [
       "label  subject_id  Blood Alanine Aminotransferase (ALT)  Blood Albumin  \\\n",
       "0        10000980                             23.827739       4.985872   \n",
       "3        10006029                             24.000000       3.900000   \n",
       "5        10010471                             70.000000       3.400000   \n",
       "7        10014471                             22.000000       4.631230   \n",
       "12       10017764                              6.256094       4.155574   \n",
       "...           ...                                   ...            ...   \n",
       "7455     19987216                            195.500000       3.600000   \n",
       "7457     19993603                             33.406130       4.037856   \n",
       "7458     19994588                             21.525682       4.504621   \n",
       "7459     19995320                             20.025847       4.386224   \n",
       "7462     19999303                             80.500000       3.500000   \n",
       "\n",
       "label  Blood Alkaline Phosphatase  Blood Anion Gap  \\\n",
       "0                       84.666492             17.0   \n",
       "3                      173.000000             14.0   \n",
       "5                       75.000000             23.5   \n",
       "7                       98.000000             12.5   \n",
       "12                      60.424498             15.0   \n",
       "...                           ...              ...   \n",
       "7455                   131.500000             17.0   \n",
       "7457                    91.193172             19.0   \n",
       "7458                    98.834733             12.5   \n",
       "7459                    76.925323             14.0   \n",
       "7462                    78.500000             14.0   \n",
       "\n",
       "label  Blood Asparate Aminotransferase (AST)  Blood Basophils  \\\n",
       "0                                  14.423845         0.200000   \n",
       "3                                  31.000000         0.200000   \n",
       "5                                 235.500000         0.200000   \n",
       "7                                  24.000000         1.000000   \n",
       "12                                 39.815967         0.600000   \n",
       "...                                      ...              ...   \n",
       "7455                              374.000000         1.550000   \n",
       "7457                               13.436771         0.200000   \n",
       "7458                               29.952877         0.485802   \n",
       "7459                               13.647882         0.200000   \n",
       "7462                               42.500000         0.485584   \n",
       "\n",
       "label  Blood Bicarbonate  Blood Bilirubin, Total  Blood Calcium, Total  ...  \\\n",
       "0                   21.5                0.529795              9.600000  ...   \n",
       "3                   19.0                0.400000              9.200000  ...   \n",
       "5                   25.0                0.450000              8.500000  ...   \n",
       "7                   27.0                0.800000              9.200000  ...   \n",
       "12                  24.0                0.830891              9.100000  ...   \n",
       "...                  ...                     ...                   ...  ...   \n",
       "7455                24.5                0.900000              9.300000  ...   \n",
       "7457                25.0                1.103851              9.226739  ...   \n",
       "7458                26.5                0.589622              8.050000  ...   \n",
       "7459                24.0                0.700571              9.456469  ...   \n",
       "7462                28.5                0.350000              8.800000  ...   \n",
       "\n",
       "label  Blood Estimated GFR (MDRD equation)  Blood Green Top Hold (plasma)  \\\n",
       "0                                      NaN                            NaN   \n",
       "3                                      NaN                            NaN   \n",
       "5                                      NaN                            NaN   \n",
       "7                                      NaN                            NaN   \n",
       "12                                     NaN                            NaN   \n",
       "...                                    ...                            ...   \n",
       "7455                                   NaN                            NaN   \n",
       "7457                                   NaN                            NaN   \n",
       "7458                                   NaN                            NaN   \n",
       "7459                                   NaN                            NaN   \n",
       "7462                                   NaN                            NaN   \n",
       "\n",
       "label  Urine Bilirubin  Urine Blood  Urine Leukocytes  Urine Nitrite  \\\n",
       "0                  NaN          NaN               NaN            NaN   \n",
       "3                  NaN          NaN               NaN            NaN   \n",
       "5                  NaN          NaN               NaN            NaN   \n",
       "7                  NaN          NaN               NaN            NaN   \n",
       "12                 NaN          NaN               NaN            NaN   \n",
       "...                ...          ...               ...            ...   \n",
       "7455               NaN          NaN               NaN            NaN   \n",
       "7457               NaN          NaN               NaN            NaN   \n",
       "7458               NaN          NaN               NaN            NaN   \n",
       "7459               NaN          NaN               NaN            NaN   \n",
       "7462               NaN          NaN               NaN            NaN   \n",
       "\n",
       "label  Urine Urine Appearance  Urine Urine Color  Urine Yeast  outcome  \n",
       "0                         NaN                NaN          NaN      0.0  \n",
       "3                         NaN                NaN          NaN      1.0  \n",
       "5                         NaN                NaN          NaN      0.0  \n",
       "7                         NaN                NaN          NaN      0.0  \n",
       "12                        NaN                NaN          NaN      0.0  \n",
       "...                       ...                ...          ...      ...  \n",
       "7455                      NaN                NaN          NaN      1.0  \n",
       "7457                      NaN                NaN          NaN      0.0  \n",
       "7458                      NaN                NaN          NaN      0.0  \n",
       "7459                      NaN                NaN          NaN      0.0  \n",
       "7462                      NaN                NaN          NaN      0.0  \n",
       "\n",
       "[3677 rows x 56 columns]"
      ]
     },
     "execution_count": 549,
     "metadata": {},
     "output_type": "execute_result"
    }
   ],
   "source": [
    "current_df"
   ]
  },
  {
   "cell_type": "code",
   "execution_count": 10,
   "metadata": {},
   "outputs": [],
   "source": [
    "from sklearn.model_selection import KFold"
   ]
  },
  {
   "cell_type": "code",
   "execution_count": 11,
   "metadata": {},
   "outputs": [],
   "source": [
    "best_params = {'max_depth': 15,\n",
    " 'max_features': 20,\n",
    " 'min_samples_leaf': 50,\n",
    " 'min_samples_split': 4,\n",
    " 'n_estimators': 200}\n",
    "model = GradientBoostingClassifier(**best_params)"
   ]
  },
  {
   "cell_type": "markdown",
   "metadata": {},
   "source": [
    "# Cross-sectional Predictions by Time"
   ]
  },
  {
   "cell_type": "code",
   "execution_count": null,
   "metadata": {},
   "outputs": [],
   "source": [
    "#window parameters\n",
    "window_size = 3\n",
    "window_ends = range(7, 365, window_size)"
   ]
  },
  {
   "cell_type": "code",
   "execution_count": 31,
   "metadata": {},
   "outputs": [
    {
     "name": "stdout",
     "output_type": "stream",
     "text": [
      "Window ( 10 ,  -7 )     iteration:  1  of 25\n"
     ]
    },
    {
     "name": "stdout",
     "output_type": "stream",
     "text": [
      "Window ( 13 ,  -10 )     iteration:  2  of 25\n",
      "Window ( 16 ,  -13 )     iteration:  3  of 25\n",
      "Window ( 19 ,  -16 )     iteration:  4  of 25\n",
      "Window ( 22 ,  -19 )     iteration:  5  of 25\n",
      "Window ( 25 ,  -22 )     iteration:  6  of 25\n",
      "Window ( 28 ,  -25 )     iteration:  7  of 25\n",
      "Window ( 31 ,  -28 )     iteration:  8  of 25\n",
      "Window ( 34 ,  -31 )     iteration:  9  of 25\n",
      "Window ( 37 ,  -34 )     iteration:  10  of 25\n",
      "Window ( 40 ,  -37 )     iteration:  11  of 25\n",
      "Window ( 43 ,  -40 )     iteration:  12  of 25\n",
      "Window ( 46 ,  -43 )     iteration:  13  of 25\n",
      "Window ( 49 ,  -46 )     iteration:  14  of 25\n",
      "Window ( 52 ,  -49 )     iteration:  15  of 25\n",
      "Window ( 55 ,  -52 )     iteration:  16  of 25\n",
      "Window ( 58 ,  -55 )     iteration:  17  of 25\n",
      "Window ( 61 ,  -58 )     iteration:  18  of 25\n",
      "Window ( 64 ,  -61 )     iteration:  19  of 25\n",
      "Window ( 67 ,  -64 )     iteration:  20  of 25\n",
      "Window ( 70 ,  -67 )     iteration:  21  of 25\n",
      "Window ( 73 ,  -70 )     iteration:  22  of 25\n",
      "Window ( 76 ,  -73 )     iteration:  23  of 25\n",
      "Window ( 79 ,  -76 )     iteration:  24  of 25\n",
      "Window ( 82 ,  -79 )     iteration:  25  of 25\n",
      "Window ( 85 ,  -82 )     iteration:  26  of 25\n",
      "Window ( 88 ,  -85 )     iteration:  27  of 25\n",
      "Window ( 91 ,  -88 )     iteration:  28  of 25\n",
      "Window ( 94 ,  -91 )     iteration:  29  of 25\n",
      "Window ( 97 ,  -94 )     iteration:  30  of 25\n",
      "Window ( 100 ,  -97 )     iteration:  31  of 25\n",
      "Window ( 103 ,  -100 )     iteration:  32  of 25\n",
      "Window ( 106 ,  -103 )     iteration:  33  of 25\n",
      "Window ( 109 ,  -106 )     iteration:  34  of 25\n",
      "Window ( 112 ,  -109 )     iteration:  35  of 25\n",
      "Window ( 115 ,  -112 )     iteration:  36  of 25\n",
      "Window ( 118 ,  -115 )     iteration:  37  of 25\n",
      "Window ( 121 ,  -118 )     iteration:  38  of 25\n",
      "Window ( 124 ,  -121 )     iteration:  39  of 25\n",
      "Window ( 127 ,  -124 )     iteration:  40  of 25\n",
      "Window ( 130 ,  -127 )     iteration:  41  of 25\n",
      "Window ( 133 ,  -130 )     iteration:  42  of 25\n",
      "Window ( 136 ,  -133 )     iteration:  43  of 25\n",
      "Window ( 139 ,  -136 )     iteration:  44  of 25\n",
      "Window ( 142 ,  -139 )     iteration:  45  of 25\n",
      "Window ( 145 ,  -142 )     iteration:  46  of 25\n",
      "Window ( 148 ,  -145 )     iteration:  47  of 25\n",
      "Window ( 151 ,  -148 )     iteration:  48  of 25\n",
      "Window ( 154 ,  -151 )     iteration:  49  of 25\n",
      "Window ( 157 ,  -154 )     iteration:  50  of 25\n",
      "Window ( 160 ,  -157 )     iteration:  51  of 25\n",
      "Window ( 163 ,  -160 )     iteration:  52  of 25\n",
      "Window ( 166 ,  -163 )     iteration:  53  of 25\n",
      "Window ( 169 ,  -166 )     iteration:  54  of 25\n",
      "Window ( 172 ,  -169 )     iteration:  55  of 25\n",
      "Window ( 175 ,  -172 )     iteration:  56  of 25\n",
      "Window ( 178 ,  -175 )     iteration:  57  of 25\n",
      "Window ( 181 ,  -178 )     iteration:  58  of 25\n",
      "Window ( 184 ,  -181 )     iteration:  59  of 25\n",
      "Window ( 187 ,  -184 )     iteration:  60  of 25\n",
      "Window ( 190 ,  -187 )     iteration:  61  of 25\n",
      "Window ( 193 ,  -190 )     iteration:  62  of 25\n",
      "Window ( 196 ,  -193 )     iteration:  63  of 25\n",
      "Window ( 199 ,  -196 )     iteration:  64  of 25\n",
      "Window ( 202 ,  -199 )     iteration:  65  of 25\n",
      "Window ( 205 ,  -202 )     iteration:  66  of 25\n",
      "Window ( 208 ,  -205 )     iteration:  67  of 25\n",
      "Window ( 211 ,  -208 )     iteration:  68  of 25\n",
      "Window ( 214 ,  -211 )     iteration:  69  of 25\n",
      "Window ( 217 ,  -214 )     iteration:  70  of 25\n",
      "Window ( 220 ,  -217 )     iteration:  71  of 25\n",
      "Window ( 223 ,  -220 )     iteration:  72  of 25\n",
      "Window ( 226 ,  -223 )     iteration:  73  of 25\n",
      "Window ( 229 ,  -226 )     iteration:  74  of 25\n",
      "Window ( 232 ,  -229 )     iteration:  75  of 25\n",
      "Window ( 235 ,  -232 )     iteration:  76  of 25\n",
      "Window ( 238 ,  -235 )     iteration:  77  of 25\n",
      "Window ( 241 ,  -238 )     iteration:  78  of 25\n",
      "Window ( 244 ,  -241 )     iteration:  79  of 25\n",
      "Window ( 247 ,  -244 )     iteration:  80  of 25\n",
      "Window ( 250 ,  -247 )     iteration:  81  of 25\n",
      "Window ( 253 ,  -250 )     iteration:  82  of 25\n",
      "Window ( 256 ,  -253 )     iteration:  83  of 25\n",
      "Window ( 259 ,  -256 )     iteration:  84  of 25\n",
      "Window ( 262 ,  -259 )     iteration:  85  of 25\n",
      "Window ( 265 ,  -262 )     iteration:  86  of 25\n",
      "Window ( 268 ,  -265 )     iteration:  87  of 25\n",
      "Window ( 271 ,  -268 )     iteration:  88  of 25\n",
      "Window ( 274 ,  -271 )     iteration:  89  of 25\n",
      "Window ( 277 ,  -274 )     iteration:  90  of 25\n",
      "Window ( 280 ,  -277 )     iteration:  91  of 25\n",
      "Window ( 283 ,  -280 )     iteration:  92  of 25\n",
      "Window ( 286 ,  -283 )     iteration:  93  of 25\n",
      "Window ( 289 ,  -286 )     iteration:  94  of 25\n",
      "Window ( 292 ,  -289 )     iteration:  95  of 25\n",
      "Window ( 295 ,  -292 )     iteration:  96  of 25\n",
      "Window ( 298 ,  -295 )     iteration:  97  of 25\n",
      "Window ( 301 ,  -298 )     iteration:  98  of 25\n",
      "Window ( 304 ,  -301 )     iteration:  99  of 25\n",
      "Window ( 307 ,  -304 )     iteration:  100  of 25\n",
      "Window ( 310 ,  -307 )     iteration:  101  of 25\n",
      "Window ( 313 ,  -310 )     iteration:  102  of 25\n",
      "Window ( 316 ,  -313 )     iteration:  103  of 25\n",
      "Window ( 319 ,  -316 )     iteration:  104  of 25\n",
      "Window ( 322 ,  -319 )     iteration:  105  of 25\n",
      "Window ( 325 ,  -322 )     iteration:  106  of 25\n",
      "Window ( 328 ,  -325 )     iteration:  107  of 25\n",
      "Window ( 331 ,  -328 )     iteration:  108  of 25\n",
      "Window ( 334 ,  -331 )     iteration:  109  of 25\n",
      "Window ( 337 ,  -334 )     iteration:  110  of 25\n",
      "Window ( 340 ,  -337 )     iteration:  111  of 25\n",
      "Window ( 343 ,  -340 )     iteration:  112  of 25\n",
      "Window ( 346 ,  -343 )     iteration:  113  of 25\n",
      "Window ( 349 ,  -346 )     iteration:  114  of 25\n",
      "Window ( 352 ,  -349 )     iteration:  115  of 25\n",
      "Window ( 355 ,  -352 )     iteration:  116  of 25\n",
      "Window ( 358 ,  -355 )     iteration:  117  of 25\n",
      "Window ( 361 ,  -358 )     iteration:  118  of 25\n",
      "Window ( 364 ,  -361 )     iteration:  119  of 25\n",
      "Window ( 367 ,  -364 )     iteration:  120  of 25\n"
     ]
    }
   ],
   "source": [
    "aucs = []\n",
    "precisions = []\n",
    "recalls = []\n",
    "counter = 0\n",
    "for i in window_ends:\n",
    "    counter +=1\n",
    "    print('Window (',i+window_size,', ', -i,')', '    iteration: ', counter, ' of ', window_ends)\n",
    "    current_df = fg.current_bloods_df(processed_labs, i, -i+7)\n",
    "    current_df.fillna(0, inplace=True)\n",
    "    X = current_df.drop(columns=['subject_id','outcome'])\n",
    "    y = current_df['outcome']\n",
    "    window_aucs = []\n",
    "    window_precisions = []\n",
    "    window_recalls = []\n",
    "    kf = KFold(n_splits=10, shuffle=True, random_state=42)\n",
    "    for j, (train_data, test_data) in enumerate(kf.split(X, y)):\n",
    "\n",
    "        #split as before\n",
    "        #X_train, X_test, y_train, y_test = train_test_split(X, y, test_size=0.2, random_state=42, stratify=y)\n",
    "        X_train = X.iloc[train_data]\n",
    "        X_test = X.iloc[test_data]\n",
    "        y_train = y.iloc[train_data]\n",
    "        y_test = y.iloc[test_data]\n",
    "        \n",
    "        #scale as before\n",
    "        scaler = StandardScaler()\n",
    "        X_train_scaled = scaler.fit_transform(X_train)\n",
    "        X_test_scaled = scaler.transform(X_test)\n",
    "        #fit as before\n",
    "        model.fit(X_train_scaled, y_train)\n",
    "        #predict as before\n",
    "        predictions = model.predict(X_test_scaled)\n",
    "        probabilities = model.predict_proba(X_test_scaled)\n",
    "        #calculate AUC of the model\n",
    "        auc = roc_auc_score(y_test, probabilities[:,1])\n",
    "        #calculate precision of the model\n",
    "        precision = precision_score(y_test, predictions)\n",
    "        #calculate recall of the model\n",
    "        recall = recall_score(y_test, predictions)\n",
    "        window_aucs.append(auc)\n",
    "        window_precisions.append(precision)\n",
    "        window_recalls.append(recall)\n",
    "\n",
    "    aucs.append(sum(window_aucs)/len(window_aucs))\n",
    "    precisions.append(sum(window_precisions)/len(window_precisions))\n",
    "    recalls.append(sum(window_recalls)/len(window_recalls))\n",
    "\n"
   ]
  },
  {
   "cell_type": "markdown",
   "metadata": {},
   "source": [
    "# Cross-sectional predictions with just test indicators"
   ]
  },
  {
   "cell_type": "code",
   "execution_count": 30,
   "metadata": {},
   "outputs": [
    {
     "name": "stdout",
     "output_type": "stream",
     "text": [
      "Window ( 10 ,  -7 )     iteration:  1  of 25\n"
     ]
    },
    {
     "name": "stdout",
     "output_type": "stream",
     "text": [
      "Window ( 13 ,  -10 )     iteration:  2  of 25\n",
      "Window ( 16 ,  -13 )     iteration:  3  of 25\n",
      "Window ( 19 ,  -16 )     iteration:  4  of 25\n",
      "Window ( 22 ,  -19 )     iteration:  5  of 25\n",
      "Window ( 25 ,  -22 )     iteration:  6  of 25\n",
      "Window ( 28 ,  -25 )     iteration:  7  of 25\n",
      "Window ( 31 ,  -28 )     iteration:  8  of 25\n",
      "Window ( 34 ,  -31 )     iteration:  9  of 25\n",
      "Window ( 37 ,  -34 )     iteration:  10  of 25\n",
      "Window ( 40 ,  -37 )     iteration:  11  of 25\n",
      "Window ( 43 ,  -40 )     iteration:  12  of 25\n",
      "Window ( 46 ,  -43 )     iteration:  13  of 25\n",
      "Window ( 49 ,  -46 )     iteration:  14  of 25\n",
      "Window ( 52 ,  -49 )     iteration:  15  of 25\n",
      "Window ( 55 ,  -52 )     iteration:  16  of 25\n",
      "Window ( 58 ,  -55 )     iteration:  17  of 25\n",
      "Window ( 61 ,  -58 )     iteration:  18  of 25\n",
      "Window ( 64 ,  -61 )     iteration:  19  of 25\n",
      "Window ( 67 ,  -64 )     iteration:  20  of 25\n",
      "Window ( 70 ,  -67 )     iteration:  21  of 25\n",
      "Window ( 73 ,  -70 )     iteration:  22  of 25\n",
      "Window ( 76 ,  -73 )     iteration:  23  of 25\n",
      "Window ( 79 ,  -76 )     iteration:  24  of 25\n",
      "Window ( 82 ,  -79 )     iteration:  25  of 25\n",
      "Window ( 85 ,  -82 )     iteration:  26  of 25\n",
      "Window ( 88 ,  -85 )     iteration:  27  of 25\n",
      "Window ( 91 ,  -88 )     iteration:  28  of 25\n",
      "Window ( 94 ,  -91 )     iteration:  29  of 25\n",
      "Window ( 97 ,  -94 )     iteration:  30  of 25\n",
      "Window ( 100 ,  -97 )     iteration:  31  of 25\n",
      "Window ( 103 ,  -100 )     iteration:  32  of 25\n",
      "Window ( 106 ,  -103 )     iteration:  33  of 25\n",
      "Window ( 109 ,  -106 )     iteration:  34  of 25\n",
      "Window ( 112 ,  -109 )     iteration:  35  of 25\n",
      "Window ( 115 ,  -112 )     iteration:  36  of 25\n",
      "Window ( 118 ,  -115 )     iteration:  37  of 25\n",
      "Window ( 121 ,  -118 )     iteration:  38  of 25\n",
      "Window ( 124 ,  -121 )     iteration:  39  of 25\n",
      "Window ( 127 ,  -124 )     iteration:  40  of 25\n",
      "Window ( 130 ,  -127 )     iteration:  41  of 25\n",
      "Window ( 133 ,  -130 )     iteration:  42  of 25\n",
      "Window ( 136 ,  -133 )     iteration:  43  of 25\n",
      "Window ( 139 ,  -136 )     iteration:  44  of 25\n",
      "Window ( 142 ,  -139 )     iteration:  45  of 25\n",
      "Window ( 145 ,  -142 )     iteration:  46  of 25\n",
      "Window ( 148 ,  -145 )     iteration:  47  of 25\n",
      "Window ( 151 ,  -148 )     iteration:  48  of 25\n",
      "Window ( 154 ,  -151 )     iteration:  49  of 25\n",
      "Window ( 157 ,  -154 )     iteration:  50  of 25\n",
      "Window ( 160 ,  -157 )     iteration:  51  of 25\n",
      "Window ( 163 ,  -160 )     iteration:  52  of 25\n",
      "Window ( 166 ,  -163 )     iteration:  53  of 25\n",
      "Window ( 169 ,  -166 )     iteration:  54  of 25\n",
      "Window ( 172 ,  -169 )     iteration:  55  of 25\n",
      "Window ( 175 ,  -172 )     iteration:  56  of 25\n",
      "Window ( 178 ,  -175 )     iteration:  57  of 25\n",
      "Window ( 181 ,  -178 )     iteration:  58  of 25\n",
      "Window ( 184 ,  -181 )     iteration:  59  of 25\n",
      "Window ( 187 ,  -184 )     iteration:  60  of 25\n",
      "Window ( 190 ,  -187 )     iteration:  61  of 25\n",
      "Window ( 193 ,  -190 )     iteration:  62  of 25\n",
      "Window ( 196 ,  -193 )     iteration:  63  of 25\n",
      "Window ( 199 ,  -196 )     iteration:  64  of 25\n",
      "Window ( 202 ,  -199 )     iteration:  65  of 25\n",
      "Window ( 205 ,  -202 )     iteration:  66  of 25\n",
      "Window ( 208 ,  -205 )     iteration:  67  of 25\n",
      "Window ( 211 ,  -208 )     iteration:  68  of 25\n",
      "Window ( 214 ,  -211 )     iteration:  69  of 25\n",
      "Window ( 217 ,  -214 )     iteration:  70  of 25\n",
      "Window ( 220 ,  -217 )     iteration:  71  of 25\n",
      "Window ( 223 ,  -220 )     iteration:  72  of 25\n",
      "Window ( 226 ,  -223 )     iteration:  73  of 25\n"
     ]
    },
    {
     "name": "stderr",
     "output_type": "stream",
     "text": [
      "c:\\Users\\victo\\anaconda3\\envs\\LIVER_PRED\\Lib\\site-packages\\sklearn\\metrics\\_classification.py:1469: UndefinedMetricWarning: Precision is ill-defined and being set to 0.0 due to no predicted samples. Use `zero_division` parameter to control this behavior.\n",
      "  _warn_prf(average, modifier, msg_start, len(result))\n"
     ]
    },
    {
     "name": "stdout",
     "output_type": "stream",
     "text": [
      "Window ( 229 ,  -226 )     iteration:  74  of 25\n",
      "Window ( 232 ,  -229 )     iteration:  75  of 25\n",
      "Window ( 235 ,  -232 )     iteration:  76  of 25\n",
      "Window ( 238 ,  -235 )     iteration:  77  of 25\n",
      "Window ( 241 ,  -238 )     iteration:  78  of 25\n",
      "Window ( 244 ,  -241 )     iteration:  79  of 25\n",
      "Window ( 247 ,  -244 )     iteration:  80  of 25\n",
      "Window ( 250 ,  -247 )     iteration:  81  of 25\n",
      "Window ( 253 ,  -250 )     iteration:  82  of 25\n",
      "Window ( 256 ,  -253 )     iteration:  83  of 25\n",
      "Window ( 259 ,  -256 )     iteration:  84  of 25\n",
      "Window ( 262 ,  -259 )     iteration:  85  of 25\n",
      "Window ( 265 ,  -262 )     iteration:  86  of 25\n",
      "Window ( 268 ,  -265 )     iteration:  87  of 25\n",
      "Window ( 271 ,  -268 )     iteration:  88  of 25\n",
      "Window ( 274 ,  -271 )     iteration:  89  of 25\n",
      "Window ( 277 ,  -274 )     iteration:  90  of 25\n",
      "Window ( 280 ,  -277 )     iteration:  91  of 25\n",
      "Window ( 283 ,  -280 )     iteration:  92  of 25\n",
      "Window ( 286 ,  -283 )     iteration:  93  of 25\n",
      "Window ( 289 ,  -286 )     iteration:  94  of 25\n",
      "Window ( 292 ,  -289 )     iteration:  95  of 25\n",
      "Window ( 295 ,  -292 )     iteration:  96  of 25\n",
      "Window ( 298 ,  -295 )     iteration:  97  of 25\n",
      "Window ( 301 ,  -298 )     iteration:  98  of 25\n",
      "Window ( 304 ,  -301 )     iteration:  99  of 25\n",
      "Window ( 307 ,  -304 )     iteration:  100  of 25\n",
      "Window ( 310 ,  -307 )     iteration:  101  of 25\n",
      "Window ( 313 ,  -310 )     iteration:  102  of 25\n",
      "Window ( 316 ,  -313 )     iteration:  103  of 25\n",
      "Window ( 319 ,  -316 )     iteration:  104  of 25\n",
      "Window ( 322 ,  -319 )     iteration:  105  of 25\n",
      "Window ( 325 ,  -322 )     iteration:  106  of 25\n",
      "Window ( 328 ,  -325 )     iteration:  107  of 25\n",
      "Window ( 331 ,  -328 )     iteration:  108  of 25\n",
      "Window ( 334 ,  -331 )     iteration:  109  of 25\n",
      "Window ( 337 ,  -334 )     iteration:  110  of 25\n",
      "Window ( 340 ,  -337 )     iteration:  111  of 25\n",
      "Window ( 343 ,  -340 )     iteration:  112  of 25\n",
      "Window ( 346 ,  -343 )     iteration:  113  of 25\n",
      "Window ( 349 ,  -346 )     iteration:  114  of 25\n",
      "Window ( 352 ,  -349 )     iteration:  115  of 25\n"
     ]
    },
    {
     "name": "stderr",
     "output_type": "stream",
     "text": [
      "c:\\Users\\victo\\anaconda3\\envs\\LIVER_PRED\\Lib\\site-packages\\sklearn\\metrics\\_classification.py:1469: UndefinedMetricWarning: Precision is ill-defined and being set to 0.0 due to no predicted samples. Use `zero_division` parameter to control this behavior.\n",
      "  _warn_prf(average, modifier, msg_start, len(result))\n"
     ]
    },
    {
     "name": "stdout",
     "output_type": "stream",
     "text": [
      "Window ( 355 ,  -352 )     iteration:  116  of 25\n",
      "Window ( 358 ,  -355 )     iteration:  117  of 25\n",
      "Window ( 361 ,  -358 )     iteration:  118  of 25\n"
     ]
    },
    {
     "name": "stderr",
     "output_type": "stream",
     "text": [
      "c:\\Users\\victo\\anaconda3\\envs\\LIVER_PRED\\Lib\\site-packages\\sklearn\\metrics\\_classification.py:1469: UndefinedMetricWarning: Precision is ill-defined and being set to 0.0 due to no predicted samples. Use `zero_division` parameter to control this behavior.\n",
      "  _warn_prf(average, modifier, msg_start, len(result))\n"
     ]
    },
    {
     "name": "stdout",
     "output_type": "stream",
     "text": [
      "Window ( 364 ,  -361 )     iteration:  119  of 25\n",
      "Window ( 367 ,  -364 )     iteration:  120  of 25\n"
     ]
    },
    {
     "name": "stderr",
     "output_type": "stream",
     "text": [
      "c:\\Users\\victo\\anaconda3\\envs\\LIVER_PRED\\Lib\\site-packages\\sklearn\\metrics\\_classification.py:1469: UndefinedMetricWarning: Precision is ill-defined and being set to 0.0 due to no predicted samples. Use `zero_division` parameter to control this behavior.\n",
      "  _warn_prf(average, modifier, msg_start, len(result))\n"
     ]
    }
   ],
   "source": [
    "aucs_testind = []\n",
    "precisions_testind = []\n",
    "recalls_testind = []\n",
    "counter = 0\n",
    "for i in window_ends:\n",
    "    counter +=1\n",
    "    print('Window (',i+window_size,', ', -i,')', '    iteration: ', counter, ' of ', len(window_ends))\n",
    "    current_df = fg.current_bloods_df(processed_labs, i, -i+7)\n",
    "    current_df.fillna(0, inplace=True)\n",
    "    X = current_df.drop(columns=['subject_id','outcome'])\n",
    "    X[X>0] = 1\n",
    "    y = current_df['outcome']\n",
    "    window_aucs = []\n",
    "    window_precisions = []\n",
    "    window_recalls = []\n",
    "    kf = KFold(n_splits=10, shuffle=True, random_state=42)\n",
    "    for j, (train_data, test_data) in enumerate(kf.split(X, y)):\n",
    "\n",
    "        #split as before\n",
    "        #X_train, X_test, y_train, y_test = train_test_split(X, y, test_size=0.2, random_state=42, stratify=y)\n",
    "        X_train = X.iloc[train_data]\n",
    "        X_test = X.iloc[test_data]\n",
    "        y_train = y.iloc[train_data]\n",
    "        y_test = y.iloc[test_data]\n",
    "        \n",
    "        #scale as before\n",
    "        scaler = StandardScaler()\n",
    "        X_train_scaled = scaler.fit_transform(X_train)\n",
    "        X_test_scaled = scaler.transform(X_test)\n",
    "        #fit as before\n",
    "        model.fit(X_train_scaled, y_train)\n",
    "        #predict as before\n",
    "        predictions = model.predict(X_test_scaled)\n",
    "        probabilities = model.predict_proba(X_test_scaled)\n",
    "        #calculate AUC of the model\n",
    "        auc = roc_auc_score(y_test, probabilities[:,1])\n",
    "        #calculate precision of the model\n",
    "        precision = precision_score(y_test, predictions)\n",
    "        #calculate recall of the model\n",
    "        recall = recall_score(y_test, predictions)\n",
    "        window_aucs.append(auc)\n",
    "        window_precisions.append(precision)\n",
    "        window_recalls.append(recall)\n",
    "\n",
    "    aucs_testind.append(sum(window_aucs)/len(window_aucs))\n",
    "    precisions_testind.append(sum(window_precisions)/len(window_precisions))\n",
    "    recalls_testind.append(sum(window_recalls)/len(window_recalls))\n",
    "\n"
   ]
  },
  {
   "cell_type": "code",
   "execution_count": 34,
   "metadata": {},
   "outputs": [
    {
     "data": {
      "text/plain": [
       "<matplotlib.legend.Legend at 0x28e98f91be0>"
      ]
     },
     "execution_count": 34,
     "metadata": {},
     "output_type": "execute_result"
    },
    {
     "data": {
      "image/png": "[encoded data removed]",
      "text/plain": [
       "<Figure size 1500x500 with 3 Axes>"
      ]
     },
     "metadata": {},
     "output_type": "display_data"
    }
   ],
   "source": [
    "fig, (ax1, ax2, ax3) = plt.subplots(1, 3, figsize=(15, 5))\n",
    "#Plot the AUCS against the time windows\n",
    "ax1.plot(window_ends, aucs_testind, label='Indicator Only')\n",
    "ax1.plot(window_ends, aucs, label='With Values')\n",
    "ax1.set_xlabel('Time Window')\n",
    "ax1.set_ylabel('AUC')\n",
    "ax1.set_title('AUC vs Time Window')\n",
    "ax1.legend()\n",
    "\n",
    "#Plot the precisions against the time windows\n",
    "ax2.plot(window_ends, precisions_testind, label='Indicator Only')\n",
    "ax2.plot(window_ends, precisions, label='With Values')\n",
    "ax2.set_xlabel('Time Window')\n",
    "ax2.set_ylabel('Precision')\n",
    "ax2.set_title('Precision vs Time Window')\n",
    "ax2.legend()\n",
    "\n",
    "#Plot the recalls against the time windows\n",
    "ax3.plot(window_ends, recalls_testind, label='Indicator Only')\n",
    "ax3.plot(window_ends, recalls, label='With Values')\n",
    "ax3.set_xlabel('Time Window')\n",
    "ax3.set_ylabel('Recall')\n",
    "ax3.set_title('Recall vs Time Window')\n",
    "ax3.legend()"
   ]
  },
  {
   "cell_type": "code",
   "execution_count": null,
   "metadata": {},
   "outputs": [],
   "source": []
  }
 ],
 "metadata": {
  "kernelspec": {
   "display_name": "LIVER_PRED",
   "language": "python",
   "name": "python3"
  },
  "language_info": {
   "codemirror_mode": {
    "name": "ipython",
    "version": 3
   },
   "file_extension": ".py",
   "mimetype": "text/x-python",
   "name": "python",
   "nbconvert_exporter": "python",
   "pygments_lexer": "ipython3",
   "version": "3.12.0"
  }
 },
 "nbformat": 4,
 "nbformat_minor": 2
}
