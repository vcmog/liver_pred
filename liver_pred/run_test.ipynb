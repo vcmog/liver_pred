{
 "cells": [
  {
   "cell_type": "code",
   "execution_count": 12,
   "metadata": {},
   "outputs": [],
   "source": [
    "import pandas as pd\n",
    "import numpy as np\n",
    "import utils.colonflag.feature_generation as fg\n",
    "import matplotlib.pyplot as plt\n",
    "from scipy.stats import linregress\n",
    "from sklearn.linear_model import LogisticRegression\n",
    "import utils.missing_data as md\n",
    "\n",
    "from sklearn.model_selection import train_test_split\n",
    "from sklearn.model_selection import train_test_split, GridSearchCV\n",
    "from sklearn.linear_model import LogisticRegression\n",
    "from sklearn.preprocessing import StandardScaler\n",
    "from sklearn.metrics import confusion_matrix, ConfusionMatrixDisplay, roc_auc_score, average_precision_score, f1_score, classification_report, precision_score, recall_score, roc_curve\n",
    "from sklearn.ensemble import RandomForestClassifier, GradientBoostingClassifier\n",
    "from sklearn.neural_network import MLPClassifier\n",
    "from sklearn.decomposition import PCA\n",
    "\n",
    "#from imblearn.over_sampling import SMOTE\n",
    "#from imblearn.under_sampling import RandomUnderSampler\n",
    "#from imblearn.pipeline import Pipeline"
   ]
  },
  {
   "cell_type": "markdown",
   "metadata": {},
   "source": [
    "# Feature Engineering Model"
   ]
  },
  {
   "cell_type": "code",
   "execution_count": 13,
   "metadata": {},
   "outputs": [],
   "source": [
    "dir = r\"C:\\Users\\victo\\OneDrive - University of Leeds\\Documents\\Uni Work\\Project\\MIMIC Work\\Liver Cancer Prediction\\liver_pred\\data\\interim\"\n",
    "#processed_labs = pd.read_csv(dir + r\"\\processed_lab_data.csv\", parse_dates=[\"charttime\", \"index_date\"], index_col=0)\n",
    "cohort_ids = pd.read_csv(dir + r\"\\matched_cohort_ids.csv\", index_col=0)\n",
    "processed_labs = pd.read_csv(dir + r\"\\processed_lab_data.csv\", parse_dates=[\"charttime\", \"index_date\"], index_col=0)"
   ]
  },
  {
   "cell_type": "code",
   "execution_count": 14,
   "metadata": {},
   "outputs": [
    {
     "data": {
      "text/html": [
       "<div>\n",
       "<style scoped>\n",
       "    .dataframe tbody tr th:only-of-type {\n",
       "        vertical-align: middle;\n",
       "    }\n",
       "\n",
       "    .dataframe tbody tr th {\n",
       "        vertical-align: top;\n",
       "    }\n",
       "\n",
       "    .dataframe thead th {\n",
       "        text-align: right;\n",
       "    }\n",
       "</style>\n",
       "<table border=\"1\" class=\"dataframe\">\n",
       "  <thead>\n",
       "    <tr style=\"text-align: right;\">\n",
       "      <th></th>\n",
       "      <th>subject_id</th>\n",
       "      <th>index_admission</th>\n",
       "      <th>test_admission</th>\n",
       "      <th>itemid</th>\n",
       "      <th>valuenum</th>\n",
       "      <th>valueuom</th>\n",
       "      <th>flag</th>\n",
       "      <th>charttime</th>\n",
       "      <th>outcome</th>\n",
       "      <th>index_date</th>\n",
       "      <th>label</th>\n",
       "      <th>fluid</th>\n",
       "    </tr>\n",
       "  </thead>\n",
       "  <tbody>\n",
       "    <tr>\n",
       "      <th>0</th>\n",
       "      <td>10000980</td>\n",
       "      <td>25242409</td>\n",
       "      <td>NaN</td>\n",
       "      <td>50861</td>\n",
       "      <td>31.0</td>\n",
       "      <td>IU/L</td>\n",
       "      <td>NaN</td>\n",
       "      <td>2185-09-17 12:10:00</td>\n",
       "      <td>False</td>\n",
       "      <td>2191-04-03 18:48:00</td>\n",
       "      <td>Blood Alanine Aminotransferase (ALT)</td>\n",
       "      <td>Blood</td>\n",
       "    </tr>\n",
       "    <tr>\n",
       "      <th>1</th>\n",
       "      <td>10000980</td>\n",
       "      <td>25242409</td>\n",
       "      <td>NaN</td>\n",
       "      <td>50868</td>\n",
       "      <td>13.0</td>\n",
       "      <td>mEq/L</td>\n",
       "      <td>NaN</td>\n",
       "      <td>2185-09-17 12:10:00</td>\n",
       "      <td>False</td>\n",
       "      <td>2191-04-03 18:48:00</td>\n",
       "      <td>Blood Anion Gap</td>\n",
       "      <td>Blood</td>\n",
       "    </tr>\n",
       "    <tr>\n",
       "      <th>2</th>\n",
       "      <td>10000980</td>\n",
       "      <td>25242409</td>\n",
       "      <td>NaN</td>\n",
       "      <td>50878</td>\n",
       "      <td>32.0</td>\n",
       "      <td>IU/L</td>\n",
       "      <td>NaN</td>\n",
       "      <td>2185-09-17 12:10:00</td>\n",
       "      <td>False</td>\n",
       "      <td>2191-04-03 18:48:00</td>\n",
       "      <td>Blood Asparate Aminotransferase (AST)</td>\n",
       "      <td>Blood</td>\n",
       "    </tr>\n",
       "    <tr>\n",
       "      <th>3</th>\n",
       "      <td>10000980</td>\n",
       "      <td>25242409</td>\n",
       "      <td>NaN</td>\n",
       "      <td>50882</td>\n",
       "      <td>24.0</td>\n",
       "      <td>mEq/L</td>\n",
       "      <td>NaN</td>\n",
       "      <td>2185-09-17 12:10:00</td>\n",
       "      <td>False</td>\n",
       "      <td>2191-04-03 18:48:00</td>\n",
       "      <td>Blood Bicarbonate</td>\n",
       "      <td>Blood</td>\n",
       "    </tr>\n",
       "    <tr>\n",
       "      <th>4</th>\n",
       "      <td>10000980</td>\n",
       "      <td>25242409</td>\n",
       "      <td>NaN</td>\n",
       "      <td>50902</td>\n",
       "      <td>110.0</td>\n",
       "      <td>mEq/L</td>\n",
       "      <td>abnormal</td>\n",
       "      <td>2185-09-17 12:10:00</td>\n",
       "      <td>False</td>\n",
       "      <td>2191-04-03 18:48:00</td>\n",
       "      <td>Blood Chloride</td>\n",
       "      <td>Blood</td>\n",
       "    </tr>\n",
       "  </tbody>\n",
       "</table>\n",
       "</div>"
      ],
      "text/plain": [
       "   subject_id  index_admission  test_admission  itemid  valuenum valueuom  \\\n",
       "0    10000980         25242409             NaN   50861      31.0     IU/L   \n",
       "1    10000980         25242409             NaN   50868      13.0    mEq/L   \n",
       "2    10000980         25242409             NaN   50878      32.0     IU/L   \n",
       "3    10000980         25242409             NaN   50882      24.0    mEq/L   \n",
       "4    10000980         25242409             NaN   50902     110.0    mEq/L   \n",
       "\n",
       "       flag           charttime  outcome          index_date  \\\n",
       "0       NaN 2185-09-17 12:10:00    False 2191-04-03 18:48:00   \n",
       "1       NaN 2185-09-17 12:10:00    False 2191-04-03 18:48:00   \n",
       "2       NaN 2185-09-17 12:10:00    False 2191-04-03 18:48:00   \n",
       "3       NaN 2185-09-17 12:10:00    False 2191-04-03 18:48:00   \n",
       "4  abnormal 2185-09-17 12:10:00    False 2191-04-03 18:48:00   \n",
       "\n",
       "                                   label  fluid  \n",
       "0   Blood Alanine Aminotransferase (ALT)  Blood  \n",
       "1                        Blood Anion Gap  Blood  \n",
       "2  Blood Asparate Aminotransferase (AST)  Blood  \n",
       "3                      Blood Bicarbonate  Blood  \n",
       "4                         Blood Chloride  Blood  "
      ]
     },
     "execution_count": 14,
     "metadata": {},
     "output_type": "execute_result"
    }
   ],
   "source": [
    "processed_labs.head()"
   ]
  },
  {
   "cell_type": "code",
   "execution_count": 17,
   "metadata": {},
   "outputs": [],
   "source": [
    "current_df = fg.current_bloods_df(processed_labs, lead_time=21, n_days_pre=3, n_days_post=1)\n",
    "historical_df = fg.historical_labs(processed_labs, n_days=21)"
   ]
  },
  {
   "cell_type": "code",
   "execution_count": 18,
   "metadata": {},
   "outputs": [],
   "source": [
    "current_df['nulls'] = current_df.isnull().sum(axis=1)"
   ]
  },
  {
   "cell_type": "code",
   "execution_count": 19,
   "metadata": {},
   "outputs": [
    {
     "data": {
      "text/plain": [
       "3.185840707964602"
      ]
     },
     "execution_count": 19,
     "metadata": {},
     "output_type": "execute_result"
    }
   ],
   "source": [
    "100*sum(current_df['nulls']==53)/len(current_df)"
   ]
  },
  {
   "cell_type": "code",
   "execution_count": 20,
   "metadata": {},
   "outputs": [
    {
     "data": {
      "text/html": [
       "<div>\n",
       "<style scoped>\n",
       "    .dataframe tbody tr th:only-of-type {\n",
       "        vertical-align: middle;\n",
       "    }\n",
       "\n",
       "    .dataframe tbody tr th {\n",
       "        vertical-align: top;\n",
       "    }\n",
       "\n",
       "    .dataframe thead th {\n",
       "        text-align: right;\n",
       "    }\n",
       "</style>\n",
       "<table border=\"1\" class=\"dataframe\">\n",
       "  <thead>\n",
       "    <tr style=\"text-align: right;\">\n",
       "      <th>label</th>\n",
       "      <th>subject_id</th>\n",
       "      <th>Blood Alanine Aminotransferase (ALT)</th>\n",
       "      <th>Blood Albumin</th>\n",
       "      <th>Blood Alkaline Phosphatase</th>\n",
       "      <th>Blood Anion Gap</th>\n",
       "      <th>Blood Asparate Aminotransferase (AST)</th>\n",
       "      <th>Blood Basophils</th>\n",
       "      <th>Blood Bicarbonate</th>\n",
       "      <th>Blood Bilirubin, Total</th>\n",
       "      <th>Blood Calcium, Total</th>\n",
       "      <th>...</th>\n",
       "      <th>Blood Green Top Hold (plasma)</th>\n",
       "      <th>Urine Bilirubin</th>\n",
       "      <th>Urine Blood</th>\n",
       "      <th>Urine Leukocytes</th>\n",
       "      <th>Urine Nitrite</th>\n",
       "      <th>Urine Urine Appearance</th>\n",
       "      <th>Urine Urine Color</th>\n",
       "      <th>Urine Yeast</th>\n",
       "      <th>outcome</th>\n",
       "      <th>nulls</th>\n",
       "    </tr>\n",
       "  </thead>\n",
       "  <tbody>\n",
       "    <tr>\n",
       "      <th>0</th>\n",
       "      <td>10006029</td>\n",
       "      <td>24.0</td>\n",
       "      <td>4.0</td>\n",
       "      <td>148.0</td>\n",
       "      <td>9.0</td>\n",
       "      <td>23.0</td>\n",
       "      <td>0.300000</td>\n",
       "      <td>23.0</td>\n",
       "      <td>0.4</td>\n",
       "      <td>9.80</td>\n",
       "      <td>...</td>\n",
       "      <td>NaN</td>\n",
       "      <td>NaN</td>\n",
       "      <td>NaN</td>\n",
       "      <td>NaN</td>\n",
       "      <td>NaN</td>\n",
       "      <td>NaN</td>\n",
       "      <td>NaN</td>\n",
       "      <td>NaN</td>\n",
       "      <td>1.0</td>\n",
       "      <td>25</td>\n",
       "    </tr>\n",
       "    <tr>\n",
       "      <th>1</th>\n",
       "      <td>10030549</td>\n",
       "      <td>12.5</td>\n",
       "      <td>NaN</td>\n",
       "      <td>165.5</td>\n",
       "      <td>11.5</td>\n",
       "      <td>13.0</td>\n",
       "      <td>0.333333</td>\n",
       "      <td>26.0</td>\n",
       "      <td>0.2</td>\n",
       "      <td>9.45</td>\n",
       "      <td>...</td>\n",
       "      <td>NaN</td>\n",
       "      <td>NaN</td>\n",
       "      <td>NaN</td>\n",
       "      <td>NaN</td>\n",
       "      <td>NaN</td>\n",
       "      <td>NaN</td>\n",
       "      <td>NaN</td>\n",
       "      <td>NaN</td>\n",
       "      <td>0.0</td>\n",
       "      <td>18</td>\n",
       "    </tr>\n",
       "    <tr>\n",
       "      <th>2</th>\n",
       "      <td>10048244</td>\n",
       "      <td>20.0</td>\n",
       "      <td>3.5</td>\n",
       "      <td>77.0</td>\n",
       "      <td>16.0</td>\n",
       "      <td>19.0</td>\n",
       "      <td>NaN</td>\n",
       "      <td>24.0</td>\n",
       "      <td>0.2</td>\n",
       "      <td>8.95</td>\n",
       "      <td>...</td>\n",
       "      <td>NaN</td>\n",
       "      <td>NaN</td>\n",
       "      <td>NaN</td>\n",
       "      <td>NaN</td>\n",
       "      <td>NaN</td>\n",
       "      <td>NaN</td>\n",
       "      <td>NaN</td>\n",
       "      <td>NaN</td>\n",
       "      <td>0.0</td>\n",
       "      <td>29</td>\n",
       "    </tr>\n",
       "    <tr>\n",
       "      <th>3</th>\n",
       "      <td>10052992</td>\n",
       "      <td>NaN</td>\n",
       "      <td>NaN</td>\n",
       "      <td>NaN</td>\n",
       "      <td>NaN</td>\n",
       "      <td>NaN</td>\n",
       "      <td>NaN</td>\n",
       "      <td>NaN</td>\n",
       "      <td>NaN</td>\n",
       "      <td>NaN</td>\n",
       "      <td>...</td>\n",
       "      <td>NaN</td>\n",
       "      <td>NaN</td>\n",
       "      <td>NaN</td>\n",
       "      <td>NaN</td>\n",
       "      <td>NaN</td>\n",
       "      <td>NaN</td>\n",
       "      <td>NaN</td>\n",
       "      <td>NaN</td>\n",
       "      <td>1.0</td>\n",
       "      <td>42</td>\n",
       "    </tr>\n",
       "    <tr>\n",
       "      <th>4</th>\n",
       "      <td>10151324</td>\n",
       "      <td>NaN</td>\n",
       "      <td>NaN</td>\n",
       "      <td>NaN</td>\n",
       "      <td>NaN</td>\n",
       "      <td>NaN</td>\n",
       "      <td>NaN</td>\n",
       "      <td>NaN</td>\n",
       "      <td>NaN</td>\n",
       "      <td>NaN</td>\n",
       "      <td>...</td>\n",
       "      <td>NaN</td>\n",
       "      <td>NaN</td>\n",
       "      <td>NaN</td>\n",
       "      <td>NaN</td>\n",
       "      <td>NaN</td>\n",
       "      <td>NaN</td>\n",
       "      <td>NaN</td>\n",
       "      <td>NaN</td>\n",
       "      <td>1.0</td>\n",
       "      <td>53</td>\n",
       "    </tr>\n",
       "  </tbody>\n",
       "</table>\n",
       "<p>5 rows × 57 columns</p>\n",
       "</div>"
      ],
      "text/plain": [
       "label  subject_id  Blood Alanine Aminotransferase (ALT)  Blood Albumin  \\\n",
       "0        10006029                                  24.0            4.0   \n",
       "1        10030549                                  12.5            NaN   \n",
       "2        10048244                                  20.0            3.5   \n",
       "3        10052992                                   NaN            NaN   \n",
       "4        10151324                                   NaN            NaN   \n",
       "\n",
       "label  Blood Alkaline Phosphatase  Blood Anion Gap  \\\n",
       "0                           148.0              9.0   \n",
       "1                           165.5             11.5   \n",
       "2                            77.0             16.0   \n",
       "3                             NaN              NaN   \n",
       "4                             NaN              NaN   \n",
       "\n",
       "label  Blood Asparate Aminotransferase (AST)  Blood Basophils  \\\n",
       "0                                       23.0         0.300000   \n",
       "1                                       13.0         0.333333   \n",
       "2                                       19.0              NaN   \n",
       "3                                        NaN              NaN   \n",
       "4                                        NaN              NaN   \n",
       "\n",
       "label  Blood Bicarbonate  Blood Bilirubin, Total  Blood Calcium, Total  ...  \\\n",
       "0                   23.0                     0.4                  9.80  ...   \n",
       "1                   26.0                     0.2                  9.45  ...   \n",
       "2                   24.0                     0.2                  8.95  ...   \n",
       "3                    NaN                     NaN                   NaN  ...   \n",
       "4                    NaN                     NaN                   NaN  ...   \n",
       "\n",
       "label  Blood Green Top Hold (plasma)  Urine Bilirubin  Urine Blood  \\\n",
       "0                                NaN              NaN          NaN   \n",
       "1                                NaN              NaN          NaN   \n",
       "2                                NaN              NaN          NaN   \n",
       "3                                NaN              NaN          NaN   \n",
       "4                                NaN              NaN          NaN   \n",
       "\n",
       "label  Urine Leukocytes  Urine Nitrite  Urine Urine Appearance  \\\n",
       "0                   NaN            NaN                     NaN   \n",
       "1                   NaN            NaN                     NaN   \n",
       "2                   NaN            NaN                     NaN   \n",
       "3                   NaN            NaN                     NaN   \n",
       "4                   NaN            NaN                     NaN   \n",
       "\n",
       "label  Urine Urine Color  Urine Yeast  outcome  nulls  \n",
       "0                    NaN          NaN      1.0     25  \n",
       "1                    NaN          NaN      0.0     18  \n",
       "2                    NaN          NaN      0.0     29  \n",
       "3                    NaN          NaN      1.0     42  \n",
       "4                    NaN          NaN      1.0     53  \n",
       "\n",
       "[5 rows x 57 columns]"
      ]
     },
     "execution_count": 20,
     "metadata": {},
     "output_type": "execute_result"
    }
   ],
   "source": [
    "current_df.head()"
   ]
  },
  {
   "cell_type": "code",
   "execution_count": 21,
   "metadata": {},
   "outputs": [
    {
     "data": {
      "text/html": [
       "<div>\n",
       "<style scoped>\n",
       "    .dataframe tbody tr th:only-of-type {\n",
       "        vertical-align: middle;\n",
       "    }\n",
       "\n",
       "    .dataframe tbody tr th {\n",
       "        vertical-align: top;\n",
       "    }\n",
       "\n",
       "    .dataframe thead th {\n",
       "        text-align: right;\n",
       "    }\n",
       "</style>\n",
       "<table border=\"1\" class=\"dataframe\">\n",
       "  <thead>\n",
       "    <tr style=\"text-align: right;\">\n",
       "      <th></th>\n",
       "      <th>subject_id</th>\n",
       "      <th>index_admission</th>\n",
       "      <th>test_admission</th>\n",
       "      <th>itemid</th>\n",
       "      <th>valuenum</th>\n",
       "      <th>valueuom</th>\n",
       "      <th>flag</th>\n",
       "      <th>charttime</th>\n",
       "      <th>outcome</th>\n",
       "      <th>index_date</th>\n",
       "      <th>label</th>\n",
       "      <th>fluid</th>\n",
       "      <th>pseudo_index</th>\n",
       "    </tr>\n",
       "  </thead>\n",
       "  <tbody>\n",
       "    <tr>\n",
       "      <th>0</th>\n",
       "      <td>10000980</td>\n",
       "      <td>25242409</td>\n",
       "      <td>NaN</td>\n",
       "      <td>50861</td>\n",
       "      <td>31.0</td>\n",
       "      <td>IU/L</td>\n",
       "      <td>NaN</td>\n",
       "      <td>2185-09-17 12:10:00</td>\n",
       "      <td>False</td>\n",
       "      <td>2191-04-03 18:48:00</td>\n",
       "      <td>Blood Alanine Aminotransferase (ALT)</td>\n",
       "      <td>Blood</td>\n",
       "      <td>2191-03-13 18:48:00</td>\n",
       "    </tr>\n",
       "    <tr>\n",
       "      <th>1</th>\n",
       "      <td>10000980</td>\n",
       "      <td>25242409</td>\n",
       "      <td>NaN</td>\n",
       "      <td>50868</td>\n",
       "      <td>13.0</td>\n",
       "      <td>mEq/L</td>\n",
       "      <td>NaN</td>\n",
       "      <td>2185-09-17 12:10:00</td>\n",
       "      <td>False</td>\n",
       "      <td>2191-04-03 18:48:00</td>\n",
       "      <td>Blood Anion Gap</td>\n",
       "      <td>Blood</td>\n",
       "      <td>2191-03-13 18:48:00</td>\n",
       "    </tr>\n",
       "    <tr>\n",
       "      <th>2</th>\n",
       "      <td>10000980</td>\n",
       "      <td>25242409</td>\n",
       "      <td>NaN</td>\n",
       "      <td>50878</td>\n",
       "      <td>32.0</td>\n",
       "      <td>IU/L</td>\n",
       "      <td>NaN</td>\n",
       "      <td>2185-09-17 12:10:00</td>\n",
       "      <td>False</td>\n",
       "      <td>2191-04-03 18:48:00</td>\n",
       "      <td>Blood Asparate Aminotransferase (AST)</td>\n",
       "      <td>Blood</td>\n",
       "      <td>2191-03-13 18:48:00</td>\n",
       "    </tr>\n",
       "    <tr>\n",
       "      <th>3</th>\n",
       "      <td>10000980</td>\n",
       "      <td>25242409</td>\n",
       "      <td>NaN</td>\n",
       "      <td>50882</td>\n",
       "      <td>24.0</td>\n",
       "      <td>mEq/L</td>\n",
       "      <td>NaN</td>\n",
       "      <td>2185-09-17 12:10:00</td>\n",
       "      <td>False</td>\n",
       "      <td>2191-04-03 18:48:00</td>\n",
       "      <td>Blood Bicarbonate</td>\n",
       "      <td>Blood</td>\n",
       "      <td>2191-03-13 18:48:00</td>\n",
       "    </tr>\n",
       "    <tr>\n",
       "      <th>4</th>\n",
       "      <td>10000980</td>\n",
       "      <td>25242409</td>\n",
       "      <td>NaN</td>\n",
       "      <td>50902</td>\n",
       "      <td>110.0</td>\n",
       "      <td>mEq/L</td>\n",
       "      <td>abnormal</td>\n",
       "      <td>2185-09-17 12:10:00</td>\n",
       "      <td>False</td>\n",
       "      <td>2191-04-03 18:48:00</td>\n",
       "      <td>Blood Chloride</td>\n",
       "      <td>Blood</td>\n",
       "      <td>2191-03-13 18:48:00</td>\n",
       "    </tr>\n",
       "  </tbody>\n",
       "</table>\n",
       "</div>"
      ],
      "text/plain": [
       "   subject_id  index_admission  test_admission  itemid  valuenum valueuom  \\\n",
       "0    10000980         25242409             NaN   50861      31.0     IU/L   \n",
       "1    10000980         25242409             NaN   50868      13.0    mEq/L   \n",
       "2    10000980         25242409             NaN   50878      32.0     IU/L   \n",
       "3    10000980         25242409             NaN   50882      24.0    mEq/L   \n",
       "4    10000980         25242409             NaN   50902     110.0    mEq/L   \n",
       "\n",
       "       flag           charttime  outcome          index_date  \\\n",
       "0       NaN 2185-09-17 12:10:00    False 2191-04-03 18:48:00   \n",
       "1       NaN 2185-09-17 12:10:00    False 2191-04-03 18:48:00   \n",
       "2       NaN 2185-09-17 12:10:00    False 2191-04-03 18:48:00   \n",
       "3       NaN 2185-09-17 12:10:00    False 2191-04-03 18:48:00   \n",
       "4  abnormal 2185-09-17 12:10:00    False 2191-04-03 18:48:00   \n",
       "\n",
       "                                   label  fluid        pseudo_index  \n",
       "0   Blood Alanine Aminotransferase (ALT)  Blood 2191-03-13 18:48:00  \n",
       "1                        Blood Anion Gap  Blood 2191-03-13 18:48:00  \n",
       "2  Blood Asparate Aminotransferase (AST)  Blood 2191-03-13 18:48:00  \n",
       "3                      Blood Bicarbonate  Blood 2191-03-13 18:48:00  \n",
       "4                         Blood Chloride  Blood 2191-03-13 18:48:00  "
      ]
     },
     "execution_count": 21,
     "metadata": {},
     "output_type": "execute_result"
    }
   ],
   "source": [
    "historical_df.head()"
   ]
  },
  {
   "cell_type": "code",
   "execution_count": 22,
   "metadata": {},
   "outputs": [
    {
     "name": "stdout",
     "output_type": "stream",
     "text": [
      "Ref range missing: Urine Bacteria\n",
      "Ref range missing: Urine Epithelial Cells\n",
      "Ref range missing: Urine Length of Urine Collection\n",
      "Ref range missing: Blood Estimated GFR (MDRD equation)\n",
      "Ref range missing: Blood Green Top Hold (plasma)\n",
      "Ref range missing: Urine Bilirubin\n",
      "Ref range missing: Urine Blood\n",
      "Ref range missing: Urine Leukocytes\n",
      "Ref range missing: Urine Nitrite\n",
      "Ref range missing: Urine Urine Appearance\n",
      "Ref range missing: Urine Urine Color\n",
      "Ref range missing: Urine Yeast\n"
     ]
    },
    {
     "name": "stdout",
     "output_type": "stream",
     "text": [
      "Removed 3148 subject_ids from current_labs and historical_labs\n",
      "Removed 598 positive outcomes from current_labs\n"
     ]
    }
   ],
   "source": [
    "current_df, historical_df, feature_df = fg.generate_features(processed_labs, cohort_ids, current_window_preindex=35, current_window_postindex=-21, historical_window=35)"
   ]
  },
  {
   "cell_type": "code",
   "execution_count": 1,
   "metadata": {},
   "outputs": [
    {
     "ename": "NameError",
     "evalue": "name 'feature_df' is not defined",
     "output_type": "error",
     "traceback": [
      "\u001b[1;31m---------------------------------------------------------------------------\u001b[0m",
      "\u001b[1;31mNameError\u001b[0m                                 Traceback (most recent call last)",
      "Cell \u001b[1;32mIn[1], line 1\u001b[0m\n\u001b[1;32m----> 1\u001b[0m all_na_columns \u001b[38;5;241m=\u001b[39m feature_df\u001b[38;5;241m.\u001b[39mcolumns[feature_df\u001b[38;5;241m.\u001b[39misna()\u001b[38;5;241m.\u001b[39msum()\u001b[38;5;241m>\u001b[39m\u001b[38;5;28mlen\u001b[39m(feature_df)\u001b[38;5;241m*\u001b[39m\u001b[38;5;241m0.8\u001b[39m]\n\u001b[0;32m      2\u001b[0m feature_df \u001b[38;5;241m=\u001b[39m feature_df\u001b[38;5;241m.\u001b[39mdrop(columns\u001b[38;5;241m=\u001b[39mall_na_columns)\n\u001b[0;32m      3\u001b[0m zero_mask \u001b[38;5;241m=\u001b[39m (feature_df \u001b[38;5;241m==\u001b[39m \u001b[38;5;241m0.0\u001b[39m)\n",
      "\u001b[1;31mNameError\u001b[0m: name 'feature_df' is not defined"
     ]
    }
   ],
   "source": [
    "all_na_columns = feature_df.columns[feature_df.isna().sum()>len(feature_df)*0.8]\n",
    "feature_df = feature_df.drop(columns=all_na_columns)\n",
    "zero_mask = (feature_df == 0.0)\n",
    "#all_zero_columns = feature_df.columns[zero_mask.sum()>len(feature_df)*0.8]\n",
    "#all_zero_columns"
   ]
  },
  {
   "cell_type": "code",
   "execution_count": null,
   "metadata": {},
   "outputs": [],
   "source": [
    "feature_df.isna().sum().sort_values(ascending=False).head(10)"
   ]
  },
  {
   "cell_type": "code",
   "execution_count": null,
   "metadata": {},
   "outputs": [],
   "source": []
  },
  {
   "cell_type": "code",
   "execution_count": null,
   "metadata": {},
   "outputs": [],
   "source": [
    "feng_y = nas_removed['outcome']\n",
    "feng_X = nas_removed.drop(columns=[\"outcome\",\"subject_id\"])"
   ]
  },
  {
   "cell_type": "code",
   "execution_count": null,
   "metadata": {},
   "outputs": [],
   "source": [
    "X_train, X_test,y_train, y_test = train_test_split(feng_X, feng_y, train_size = 0.8)\n",
    "print(f\"Train Length: {len(X_train)}        Train cases: {len(y_train[y_train==1])}    Proportion: {len(y_train[y_train==1])/len(y_train)*100} %\")\n",
    "print(f\"Test Length: {len(X_test)}          Test cases: {len(y_test[y_test==1])}       Proportion: {len(y_test[y_test==1])/len(y_test)*100} %\")"
   ]
  },
  {
   "cell_type": "code",
   "execution_count": null,
   "metadata": {},
   "outputs": [],
   "source": [
    "#### Scale training #####\n",
    "scaler = StandardScaler()\n",
    "X_train_scaled = pd.DataFrame(scaler.fit_transform(X_train))\n",
    "X_train_scaled = X_train_scaled.set_axis(X_train.columns,axis=1)\n",
    "\n",
    "#### Scale Test using training scaler ####\n",
    "X_test_scaled = pd.DataFrame(scaler.transform(X_test))\n",
    "X_test_scaled.set_axis(X_test.columns,axis=1)\n"
   ]
  },
  {
   "cell_type": "code",
   "execution_count": null,
   "metadata": {},
   "outputs": [],
   "source": [
    "X_train"
   ]
  },
  {
   "cell_type": "code",
   "execution_count": null,
   "metadata": {},
   "outputs": [],
   "source": [
    "param_grid_boost = {'max_depth': [2,5,15],\n",
    "    'max_features': [20,26,30],\n",
    "    'min_samples_leaf': [10,50],\n",
    "    'min_samples_split': [4,50],\n",
    "    'n_estimators': [200, 500]\n",
    "}"
   ]
  },
  {
   "cell_type": "code",
   "execution_count": null,
   "metadata": {},
   "outputs": [],
   "source": [
    "boost = GradientBoostingClassifier()\n",
    "\n",
    "gradboost = GridSearchCV(estimator = boost, param_grid = param_grid_boost,\n",
    "                         cv = 5, verbose = 2, scoring='average_precision')\n",
    "gradboost.fit(X_train_scaled, y_train)"
   ]
  },
  {
   "cell_type": "code",
   "execution_count": null,
   "metadata": {},
   "outputs": [],
   "source": [
    "gradboost.best_params_"
   ]
  },
  {
   "cell_type": "code",
   "execution_count": null,
   "metadata": {},
   "outputs": [],
   "source": [
    "gb_preds = gradboost.predict(X_train_scaled)\n",
    "accuracy = sum(gb_preds==y_train)/len(gb_preds)\n",
    "auc = roc_auc_score(y_train, gb_preds)\n",
    "aps = average_precision_score(y_train, gb_preds)\n",
    "f1 = f1_score(y_train, gb_preds)\n",
    "print('Training Accuracy:', accuracy)\n",
    "print('Training AUC:', auc)\n",
    "print('Training Average Precision Score:', aps)\n",
    "print('Training F1 Score:', f1)\n",
    "\n",
    "\n",
    "gb_conf = confusion_matrix(y_train, gb_preds)\n",
    "gb_disp = ConfusionMatrixDisplay(gb_conf)\n",
    "gb_disp.plot()\n",
    "plt.title('Train Confusion Matrix')\n",
    "plt.show()\n",
    "\n",
    "gb_preds = gradboost.predict(X_test_scaled)\n",
    "accuracy = sum(gb_preds==y_test)/len(gb_preds)\n",
    "auc = roc_auc_score(y_test, gb_preds)\n",
    "aps = average_precision_score(y_test, gb_preds)\n",
    "f1 = f1_score(y_test, gb_preds)\n",
    "#precision = \n",
    "\n",
    "print('Classification Report:')\n",
    "print(classification_report(y_test, gb_preds))\n",
    "print('Test Accuracy:', accuracy)\n",
    "print('Test AUC:', auc)\n",
    "print('Test Average Precision Score:', aps)\n",
    "print('Test F1 Score:', f1)\n",
    "\n",
    "\n",
    "gb_conf = confusion_matrix(y_test, gb_preds)\n",
    "gb_disp = ConfusionMatrixDisplay(gb_conf)\n",
    "gb_disp.plot()\n",
    "plt.title('GBDT Confusion Matrix')\n",
    "plt.show()"
   ]
  },
  {
   "cell_type": "markdown",
   "metadata": {},
   "source": [
    "# CNN Models"
   ]
  },
  {
   "cell_type": "code",
   "execution_count": null,
   "metadata": {},
   "outputs": [],
   "source": [
    "import torch\n",
    "torch.set_default_dtype(torch.float32)\n",
    "import torch.nn as nn\n",
    "import torch.optim as optim\n",
    "from tqdm import tqdm\n",
    "from torch.utils.data import Dataset, DataLoader, SubsetRandomSampler\n",
    "import pandas as pd\n",
    "from torchvision import transforms\n",
    "from sklearn.metrics import precision_score, average_precision_score, recall_score, f1_score, accuracy_score, roc_auc_score, confusion_matrix"
   ]
  },
  {
   "cell_type": "markdown",
   "metadata": {},
   "source": [
    "## Data Preparation"
   ]
  },
  {
   "cell_type": "code",
   "execution_count": null,
   "metadata": {},
   "outputs": [],
   "source": [
    "X, y  = fg.create_array_for_CNN(processed_labs, -4, 100)"
   ]
  },
  {
   "cell_type": "code",
   "execution_count": null,
   "metadata": {},
   "outputs": [],
   "source": [
    "len(X)"
   ]
  },
  {
   "cell_type": "code",
   "execution_count": null,
   "metadata": {},
   "outputs": [],
   "source": [
    "np.save(dir+'CNN_input.npy', X)\n",
    "np.save(dir+'CNN_output.npy', y)\n",
    "print(\"files saved successfully.\")"
   ]
  },
  {
   "cell_type": "code",
   "execution_count": null,
   "metadata": {},
   "outputs": [],
   "source": [
    "class NpyDataset(Dataset):\n",
    "    def __init__(self, file_path,labels_file_path):\n",
    "        self.data = np.load(file_path)\n",
    "        self.labels = np.load(labels_file_path)\n",
    "        self.dtype = torch.float32\n",
    "    def __len__(self):\n",
    "        return len(self.data)\n",
    "\n",
    "    def __getitem__(self, idx):\n",
    "        sample = self.data[idx]\n",
    "        # Assuming you have labels for each sample\n",
    "        label = self.labels[idx]# You should adjust this to fetch labels if available\n",
    "        label = torch.tensor([label], dtype=self.dtype)\n",
    "        sample = torch.tensor(sample, dtype=self.dtype)\n",
    "        sample = torch.unsqueeze(sample, dim=0) \n",
    "\n",
    "        return sample, label\n",
    "\n"
   ]
  },
  {
   "cell_type": "code",
   "execution_count": null,
   "metadata": {},
   "outputs": [],
   "source": [
    "# File path to the .npy file\n",
    "file_path = dir+'CNN_input.npy'\n",
    "labels_file_path = dir+'CNN_output.npy'\n",
    "# Create a dataset\n",
    "dataset = NpyDataset(file_path, labels_file_path)\n",
    "\n",
    "# Create a DataLoader to load the dataset\n",
    "batch_size = 32\n",
    "shuffle = True  # You can set it to True if you want to shuffle the data\n",
    "num_workers = 0  # Number of subprocesses to use for data loading (0 means the data will be loaded in the main process)\n",
    "#dataloader = DataLoader(dataset, batch_size=batch_size, shuffle=shuffle, num_workers=num_workers)\n",
    "\n",
    "# Split the dataset indices into training and testing sets\n",
    "train_size = int(0.7 * len(dataset))  # 80% for training, adjust ratio as needed\n",
    "test_size = int(0.2 * len(dataset))  # 20% for testing, adjust ratio as needed\n",
    "val_size = len(dataset)-(train_size+test_size)   # 10% of the training data for validation\n",
    "train_dataset, val_dataset, test_dataset = torch.utils.data.random_split(dataset, [train_size,val_size, test_size])\n",
    "\n",
    "# Create separate DataLoaders for training and testing\n",
    "train_dataloader = DataLoader(train_dataset, batch_size=batch_size, shuffle=shuffle, num_workers=num_workers)\n",
    "test_dataloader = DataLoader(test_dataset, batch_size=batch_size, shuffle=shuffle, num_workers=num_workers)\n",
    "val_dataloader = DataLoader(val_dataset, batch_size=batch_size, shuffle=shuffle, num_workers=num_workers)\n",
    "# Compute the mean and standard deviation of the dataset\n",
    "mean_sum = 0.0\n",
    "std_sum = 0.0\n",
    "total_samples = 0\n",
    "\n",
    "for data, _ in train_dataloader:\n",
    "    total_samples += data.size(0)\n",
    "    mean_sum += data.mean(dim=(0, 1, 3))  # Calculate mean along batch (0), width (2), and height (3) axes\n",
    "    std_sum += torch.std(data, dim=(0, 1, 3))  # Calculate std along batch (0), width (2), and height (3) axes\n",
    "mean = mean_sum / total_samples    \n",
    "std = std_sum / total_samples\n",
    "\n",
    "custom_transform = transforms.Compose([\n",
    "    transforms.ToTensor(),  # Convert data to PyTorch tensor\n",
    "    #nan,  # Handle NaN values\n",
    "    transforms.Normalize(mean=[mean], std=[std]),  # Normalize data using computed mean and std\n",
    "    \n",
    "])\n",
    "train_dataloader.transform = custom_transform\n",
    "test_dataloader.transform = custom_transform\n",
    "val_dataloader.transform = custom_transform\n",
    "\n",
    "\n",
    "\n"
   ]
  },
  {
   "cell_type": "code",
   "execution_count": null,
   "metadata": {},
   "outputs": [],
   "source": [
    "w1 = len(dataset)/(2*sum(dataset.labels == 0))\n",
    "w2 = torch.tensor(len(dataset)/(2*sum(dataset.labels == 1)))\n",
    "weights = torch.tensor([w1,w2], dtype=torch.float32)\n"
   ]
  },
  {
   "cell_type": "code",
   "execution_count": null,
   "metadata": {},
   "outputs": [],
   "source": [
    "weights[1]"
   ]
  },
  {
   "cell_type": "code",
   "execution_count": null,
   "metadata": {},
   "outputs": [],
   "source": [
    "# Initialize your CNN\n",
    "cnn = SimpleCNN()\n",
    "\n",
    "# Define your loss function and optimizer\n",
    "criterion = nn.BCEWithLogitsLoss(pos_weight=torch.tensor([w2]), reduction='mean')\n",
    "optimizer = optim.Adam(cnn.parameters(), lr=1e-6, weight_decay=1e-5)\n",
    "num_epochs = 50\n",
    "# Initialize the best validation loss to positive infinity\n",
    "best_val_loss = float('inf')\n",
    "training_losses = []\n",
    "validation_losses = []\n",
    "# Assuming your input data is in the form of a PyTorch tensor\n",
    "# Here's how you can train your CNN\n",
    "for epoch in range(num_epochs):\n",
    "    # Create a progress bar\n",
    "    progress_bar = tqdm(train_dataloader, desc=f'Epoch {epoch + 1}/{num_epochs}', leave=False)\n",
    "    running_loss = 0.0\n",
    "    \n",
    "    cnn.train()\n",
    "\n",
    "    # Iterate over the dataset\n",
    "    for inputs, labels in progress_bar:\n",
    "        optimizer.zero_grad()\n",
    "        outputs = cnn(inputs)\n",
    "\n",
    "        loss = criterion(outputs, labels)\n",
    "        loss.backward()\n",
    "        optimizer.step()\n",
    "        \n",
    "        # Update the running loss\n",
    "        running_loss += loss.item()\n",
    "        \n",
    "        # Update the progress bar with the current loss\n",
    "        progress_bar.set_postfix({'loss': running_loss / len(progress_bar)})\n",
    "    \n",
    "    # Calculate average loss for the epoch\n",
    "    epoch_loss = running_loss / len(train_dataloader)\n",
    "    training_losses.append(epoch_loss)\n",
    "    # Validation phase\n",
    "    cnn.eval()  # Set model to evaluation mode\n",
    "    running_val_loss = 0.0\n",
    "    \n",
    "    with torch.no_grad():\n",
    "        for inputs, labels in val_dataloader:\n",
    "            outputs = cnn(inputs)\n",
    "            loss = criterion(outputs, labels)\n",
    "            running_val_loss += loss.item()\n",
    "    \n",
    "    # Calculate average validation loss for the epoch\n",
    "    epoch_val_loss = running_val_loss / len(val_dataloader)\n",
    "    validation_losses.append(epoch_val_loss)\n",
    "    if epoch_val_loss < best_val_loss:\n",
    "        best_val_loss = epoch_val_loss\n",
    "        torch.save(cnn.state_dict(), dir+'/model.pth')\n",
    "    \n",
    "    print(f'Epoch [{epoch + 1}/{num_epochs}], Training Loss: {epoch_loss:.4f}', 'Validation Loss:', epoch_val_loss)\n"
   ]
  },
  {
   "cell_type": "code",
   "execution_count": null,
   "metadata": {},
   "outputs": [],
   "source": [
    "# Function to compute evaluation metrics\n",
    "def evaluate_performance(dataloader):\n",
    "    cnn.load_state_dict(torch.load(dir+'/model.pth'))  # Load the best model\n",
    "    cnn.eval()  # Set the model to evaluation mode\n",
    "    total_correct = 0\n",
    "    total_samples = 0\n",
    "    predicted_labels = []\n",
    "    true_labels = []\n",
    "\n",
    "    with torch.no_grad():  # No need to track gradients during evaluation\n",
    "        for inputs, labels in dataloader:\n",
    "            outputs = cnn(inputs)\n",
    "            probabilities = torch.sigmoid(outputs)  # Apply sigmoid to get probabilities\n",
    "            predicted = (probabilities > 0.5).int()\n",
    "            total_correct += (predicted == labels).sum().item()\n",
    "            total_samples += labels.size(0)\n",
    "            predicted_labels.extend(predicted.numpy())\n",
    "            true_labels.extend(labels.numpy())\n",
    "\n",
    "    # Compute accuracy\n",
    "    accuracy = total_correct / total_samples\n",
    "\n",
    "    # Compute precision and recall\n",
    "    precision = precision_score(true_labels, predicted_labels)\n",
    "    recall = recall_score(true_labels, predicted_labels)\n",
    "\n",
    "    # Compute confusion matrix\n",
    "    conf_matrix = confusion_matrix(true_labels, predicted_labels)\n",
    "\n",
    "    return accuracy, precision, recall, conf_matrix\n",
    "\n",
    "# Evaluate performance on training dataset\n",
    "train_accuracy, train_precision, train_recall, train_conf_matrix = evaluate_performance(train_dataloader)\n",
    "\n",
    "# Evaluate performance on test dataset\n",
    "test_accuracy, test_precision, test_recall, test_conf_matrix = evaluate_performance(test_dataloader)\n",
    "\n",
    "print('Training Performance:')\n",
    "print(f'Accuracy: {train_accuracy:.2%}')\n",
    "print(f'Precision: {train_precision:.2f}')\n",
    "print(f'Recall: {train_recall:.2f}')\n",
    "print('Confusion Matrix:')\n",
    "print(train_conf_matrix)\n",
    "\n",
    "print('\\nTest Performance:')\n",
    "print(f'Accuracy: {test_accuracy:.2%}')\n",
    "print(f'Precision: {test_precision:.2f}')\n",
    "print(f'Recall: {test_recall:.2f}')\n",
    "print('Confusion Matrix:')\n",
    "print(test_conf_matrix)\n"
   ]
  },
  {
   "cell_type": "code",
   "execution_count": null,
   "metadata": {},
   "outputs": [],
   "source": [
    "plt.plot(training_losses, label='Training Loss')\n",
    "plt.plot(validation_losses, label='Validation Loss')\n",
    "plt.xlabel('Epoch')\n",
    "plt.ylabel('Loss')\n",
    "plt.legend()"
   ]
  },
  {
   "cell_type": "code",
   "execution_count": null,
   "metadata": {},
   "outputs": [],
   "source": [
    "X[0].shape"
   ]
  },
  {
   "cell_type": "markdown",
   "metadata": {},
   "source": [
    "## 1D kernel"
   ]
  },
  {
   "cell_type": "code",
   "execution_count": null,
   "metadata": {},
   "outputs": [],
   "source": [
    "class onedCNN(nn.Module):\n",
    "    def __init__(self):\n",
    "        super(onedCNN, self).__init__()\n",
    "        # Define your convolutional layers\n",
    "        self.conv1 = nn.Conv2d(in_channels=1, out_channels=32, kernel_size=(1,3), padding=1)\n",
    "        # (input_size - kernel_size + 2*padding)/stride + 1\n",
    "        # (100 - 3 + 2*1)/1 + 1 = 100\n",
    "        # (54 - 1 +2*1)/1 + 1 = 56\n",
    "        self.conv2 = nn.Conv2d(in_channels=32, out_channels=64, kernel_size=(1,3), padding=1)\n",
    "        # 50 - 3 + 2*1)/1 + 1 = 50\n",
    "        self.conv3 = nn.Conv2d(in_channels=64, out_channels=64, kernel_size=(1,3), padding=1)\n",
    "        self.conv4 = nn.Conv2d(in_channels=64, out_channels=128, kernel_size=(1,2), padding=1)\n",
    "        # Define your fully connected layers\n",
    "\n",
    "        self.fc1 = nn.Linear(128* 6 * 6, 64)\n",
    "        self.fc2 = nn.Linear(64, 1)  # Assuming you have 2 classes\n",
    "\n",
    "        self.dropout = nn.Dropout(0.6)\n",
    "    def forward(self, x):\n",
    "        # Input x has shape (batch_size, channels, height, width)\n",
    "        x = self.conv1(x)\n",
    "        x = nn.functional.relu(x)\n",
    "        x = nn.functional.max_pool2d(x, kernel_size=(1,2), stride=2)\n",
    "\n",
    "        x = self.conv2(x)\n",
    "        x = nn.functional.relu(x)\n",
    "        x = nn.functional.max_pool2d(x, kernel_size=(1,2), stride=2)\n",
    "      \n",
    "        x = self.conv3(x)\n",
    "        x = nn.functional.relu(x)\n",
    "        x = nn.functional.max_pool2d(x, kernel_size=(1,2), stride=2)\n",
    "       \n",
    "        x = self.conv4(x)\n",
    "        x = nn.functional.relu(x)\n",
    "        x = nn.functional.max_pool2d(x, kernel_size=(1,2), stride=2)\n",
    "        # Flatten the output for the fully connected layers\n",
    "        x = x.view(x.size(0), -1) # x.size(0) is the batch size\n",
    "        \n",
    "        x = self.dropout(x)\n",
    "        x = self.fc1(x)\n",
    "        x = nn.functional.relu(x)\n",
    "        x = self.dropout(x)\n",
    "        x = self.fc2(x)\n",
    "        return x\n"
   ]
  },
  {
   "cell_type": "code",
   "execution_count": null,
   "metadata": {},
   "outputs": [],
   "source": [
    "# Initialize your CNN\n",
    "cnn = onedCNN()\n",
    "\n",
    "best_val_loss = float('inf')\n",
    "\n",
    "# Define your loss function and optimizer\n",
    "criterion = nn.BCEWithLogitsLoss(pos_weight=w2,  reduction='mean')\n",
    "optimizer = optim.Adam(cnn.parameters(), lr=0.00001, weight_decay=1e-5)\n",
    "num_epochs = 100\n",
    "\n",
    "training_losses = []\n",
    "val_losses = []\n",
    "# Assuming your input data is in the form of a PyTorch tensor\n",
    "# Here's how you can train your CNN\n",
    "for epoch in range(num_epochs):\n",
    "    # Create a progress bar\n",
    "    progress_bar = tqdm(train_dataloader, desc=f'Epoch {epoch + 1}/{num_epochs}', leave=False)\n",
    "    running_loss = 0.0\n",
    "    \n",
    "    # Iterate over the dataset\n",
    "    for inputs, labels in progress_bar:\n",
    "        optimizer.zero_grad()\n",
    "        outputs = cnn(inputs)\n",
    "        loss = criterion(outputs, labels)\n",
    "        loss.backward()\n",
    "        optimizer.step()\n",
    "        \n",
    "        # Update the running loss\n",
    "        running_loss += loss.item()\n",
    "        \n",
    "        # Update the progress bar with the current loss\n",
    "        progress_bar.set_postfix({'loss': running_loss / len(progress_bar)})\n",
    "    \n",
    "    # Calculate average loss for the epoch\n",
    "    epoch_loss = running_loss / len(train_dataloader)\n",
    "    training_losses.append(epoch_loss)\n",
    "    # Validation phase\n",
    "    cnn.eval()  # Set model to evaluation mode\n",
    "    running_val_loss = 0.0\n",
    "    \n",
    "    with torch.no_grad():\n",
    "        for inputs, labels in val_dataloader:\n",
    "            outputs = cnn(inputs)\n",
    "            loss = criterion(outputs, labels)\n",
    "            running_val_loss += loss.item()\n",
    "    \n",
    "    # Calculate average validation loss for the epoch\n",
    "    epoch_val_loss = running_val_loss / len(val_dataloader)\n",
    "    val_losses.append(epoch_val_loss)\n",
    "    if epoch_val_loss < best_val_loss:\n",
    "        best_val_loss = epoch_val_loss\n",
    "        torch.save(cnn.state_dict(), dir+'/1d_model.pth')\n",
    "    \n",
    "    \n",
    "    print(f'Epoch [{epoch + 1}/{num_epochs}], Training Loss: {epoch_loss:.4f}', 'Validation Loss:', epoch_val_loss)\n"
   ]
  },
  {
   "cell_type": "code",
   "execution_count": null,
   "metadata": {},
   "outputs": [],
   "source": []
  },
  {
   "cell_type": "code",
   "execution_count": null,
   "metadata": {},
   "outputs": [],
   "source": [
    "\n",
    "# Function to compute evaluation metrics\n",
    "def evaluate_cnn_performance(dataloader):\n",
    "    cnn.load_state_dict(torch.load(dir+'/1d_model.pth'))  # Load the best model\n",
    "    cnn.eval()  # Set the model to evaluation mode\n",
    "    total_correct = 0\n",
    "    total_samples = 0\n",
    "    predicted_labels = []\n",
    "    true_labels = []\n",
    "    all_probabilities = []\n",
    "    with torch.no_grad():  # No need to track gradients during evaluation\n",
    "        for inputs, labels in dataloader:\n",
    "            outputs = cnn(inputs)\n",
    "            probabilities = torch.sigmoid(outputs)  # Apply sigmoid to get probabilities\n",
    "            predicted = (probabilities > 0.5).int()\n",
    "            total_correct += (predicted == labels).sum().item()\n",
    "            total_samples += labels.size(0)\n",
    "            predicted_labels.extend(predicted.numpy())\n",
    "            true_labels.extend(labels.numpy())\n",
    "            all_probabilities.extend(probabilities.numpy())\n",
    "\n",
    "    # Compute accuracy\n",
    "    accuracy = total_correct / total_samples\n",
    "\n",
    "    # Compute precision and recall\n",
    "    precision = precision_score(true_labels, predicted_labels)\n",
    "    recall = recall_score(true_labels, predicted_labels)\n",
    "\n",
    "    # Compute confusion matrix\n",
    "    conf_matrix = confusion_matrix(true_labels, predicted_labels)\n",
    "\n",
    "    # calculate false positive rate, true positive rate, and thresholds\n",
    "    fpr, tpr, thresholds = roc_curve(true_labels, all_probabilities)\n",
    "    # Calculate AUROC\n",
    "    auroc = roc_auc_score(true_labels, all_probabilities)\n",
    "\n",
    "   \n",
    "    # plot ROC curve\n",
    "    plt.plot(fpr, tpr)\n",
    "    plt.xlabel('False Positive Rate')\n",
    "    plt.ylabel('True Positive Rate')\n",
    "    plt.title('Receiver Operating Characteristic (ROC) Curve')\n",
    "    #plt.show()\n",
    "\n",
    "    return accuracy, precision, recall, conf_matrix, auroc\n",
    "\n",
    "# Evaluate performance on training dataset\n",
    "train_accuracy, train_precision, train_recall, train_conf_matrix, auroc = evaluate_performance(train_dataloader)\n",
    "\n",
    "# Evaluate performance on test dataset\n",
    "test_accuracy, test_precision, test_recall, test_conf_matrix, auroc = evaluate_performance(test_dataloader)\n",
    "\n",
    "print('Training Performance:')\n",
    "print(f'Accuracy: {train_accuracy:.2%}')\n",
    "print(f'AUROC: {auroc:.2f}')\n",
    "print(f'Precision: {train_precision:.2f}')\n",
    "print(f'Recall: {train_recall:.2f}')\n",
    "print('Confusion Matrix:')\n",
    "print(train_conf_matrix)\n",
    "\n",
    "print('\\nTest Performance:')\n",
    "print(f'Accuracy: {test_accuracy:.2%}')\n",
    "print(f'AUROC: {auroc:.2f}')\n",
    "print(f'Precision: {test_precision:.2f}')\n",
    "print(f'Recall: {test_recall:.2f}')\n",
    "print('Confusion Matrix:')\n",
    "print(test_conf_matrix)\n"
   ]
  },
  {
   "cell_type": "code",
   "execution_count": null,
   "metadata": {},
   "outputs": [],
   "source": [
    "plt.plot(training_losses, label='Training Loss')\n",
    "plt.plot(val_losses, label='Validation Loss')\n",
    "plt.legend()"
   ]
  },
  {
   "cell_type": "markdown",
   "metadata": {},
   "source": [
    "# 1d conv layers"
   ]
  },
  {
   "cell_type": "code",
   "execution_count": null,
   "metadata": {},
   "outputs": [],
   "source": [
    "# reshape so that each patient has 54 channels of 1d time series data\n",
    "num_patients = X.shape[0]\n",
    "num_tests = X.shape[1]\n",
    "num_timesteps = X.shape[2]\n",
    "reshaped_array = X.reshape(num_patients, num_tests, num_timesteps)\n",
    "\n",
    "reshaped_array = np.transpose(reshaped_array, (0, 2, 1))\n",
    "\n",
    "np.save(dir+'CNN_1d_input.npy', X)\n",
    "np.save(dir+'CNN_1d_output.npy', y)\n",
    "print(\"files saved successfully.\")"
   ]
  },
  {
   "cell_type": "code",
   "execution_count": null,
   "metadata": {},
   "outputs": [],
   "source": [
    "# same as before except without the unsqueeze to show 1 channel\n",
    "class OneD_Dataset(Dataset):\n",
    "    def __init__(self, file_path,labels_file_path):\n",
    "        self.data = np.load(file_path)\n",
    "        self.labels = np.load(labels_file_path)\n",
    "        self.dtype = torch.float32\n",
    "    def __len__(self):\n",
    "        return len(self.data)\n",
    "\n",
    "    def __getitem__(self, idx):\n",
    "        sample = self.data[idx]\n",
    "        # Assuming you have labels for each sample\n",
    "        label = self.labels[idx]# You should adjust this to fetch labels if available\n",
    "        label = torch.tensor([label], dtype=self.dtype)\n",
    "        sample = torch.tensor(sample, dtype=self.dtype)\n",
    "        \n",
    "\n",
    "        return sample, label\n"
   ]
  },
  {
   "cell_type": "code",
   "execution_count": null,
   "metadata": {},
   "outputs": [],
   "source": [
    "# File path to the .npy file\n",
    "file_path_1d = dir+'CNN_1d_input.npy'\n",
    "labels_file_path_1d = dir+'CNN_1d_output.npy'\n",
    "# Create a dataset\n",
    "dataset_1d = OneD_Dataset(file_path_1d, labels_file_path_1d)\n",
    "\n",
    "# Create a DataLoader to load the dataset\n",
    "batch_size = 100\n",
    "shuffle = True  # You can set it to True if you want to shuffle the data\n",
    "num_workers = 0  # Number of subprocesses to use for data loading (0 means the data will be loaded in the main process)\n",
    "#dataloader = DataLoader(dataset, batch_size=batch_size, shuffle=shuffle, num_workers=num_workers)\n",
    "\n",
    "# Split the dataset indices into training and testing sets\n",
    "train_size = int(0.7 * len(dataset))  # 80% for training, adjust ratio as needed\n",
    "test_size = int(0.2 * len(dataset))  # 20% for testing, adjust ratio as needed\n",
    "val_size = len(dataset)-(train_size+test_size)   # 10% of the training data for validation\n",
    "train_dataset_1d, val_dataset_1d, test_dataset_1d = torch.utils.data.random_split(dataset_1d, [train_size,val_size, test_size])\n",
    "\n",
    "# Create separate DataLoaders for training and testing\n",
    "train_dataloader_1d = DataLoader(train_dataset_1d, batch_size=batch_size, shuffle=shuffle, num_workers=num_workers)\n",
    "test_dataloader_1d = DataLoader(test_dataset_1d, batch_size=batch_size, shuffle=shuffle, num_workers=num_workers)\n",
    "val_dataloader_1d = DataLoader(val_dataset_1d, batch_size=batch_size, shuffle=shuffle, num_workers=num_workers)\n",
    "# Compute the mean and standard deviation of the dataset\n",
    "mean_sum = 0.0\n",
    "std_sum = 0.0\n",
    "total_samples = 0\n",
    "\n",
    "for data, _ in train_dataloader:\n",
    "    total_samples += data.size(0)\n",
    "    mean_sum += data.mean(dim=(0, 1))  # Calculate mean along batch (0), width (2), and height (3) axes\n",
    "    std_sum += torch.std(data, dim=(0, 1))  # Calculate std along batch (0), width (2), and height (3) axes\n",
    "mean = mean_sum / total_samples    \n",
    "std = std_sum / total_samples\n",
    "\n",
    "custom_transform = transforms.Compose([\n",
    "    transforms.ToTensor(),  # Convert data to PyTorch tensor\n",
    "    #nan,  # Handle NaN values\n",
    "    transforms.Normalize(mean=[mean], std=[std]),  # Normalize data using computed mean and std\n",
    "    \n",
    "])\n",
    "train_dataloader_1d.transform = custom_transform\n",
    "test_dataloader_1d.transform = custom_transform\n",
    "val_dataloader_1d.transform = custom_transform"
   ]
  },
  {
   "cell_type": "code",
   "execution_count": null,
   "metadata": {},
   "outputs": [],
   "source": [
    "data.shape"
   ]
  },
  {
   "cell_type": "code",
   "execution_count": null,
   "metadata": {},
   "outputs": [],
   "source": [
    "class onedCNN2(nn.Module):\n",
    "    def __init__(self):\n",
    "        super(onedCNN2, self).__init__()\n",
    "        # Define your convolutional layers\n",
    "        self.conv1 = nn.Conv1d(in_channels=54, out_channels=108, kernel_size=3)\n",
    "        # (input_size - kernel_size + 2*padding)/stride + 1\n",
    "        # (100 - 3 + 2*1)/1 + 1 = 100\n",
    "        # (54 - 1 +2*1)/1 + 1 = 56\n",
    "        self.conv2 = nn.Conv1d(in_channels=108, out_channels=216, kernel_size=3, padding=1)\n",
    "        # 50 - 3 + 2*1)/1 + 1 = 50\n",
    "        self.conv3 = nn.Conv1d(in_channels=216, out_channels=216, kernel_size=3, padding=1)\n",
    "        self.conv4 = nn.Conv1d(in_channels=216, out_channels=432, kernel_size=2, padding=1)\n",
    "        # Define your fully connected layers\n",
    "\n",
    "        self.fc1 = nn.Linear(432* 7, 64)\n",
    "        self.fc2 = nn.Linear(64, 1)  # Assuming you have 2 classes\n",
    "\n",
    "        self.dropout = nn.Dropout(0.6)\n",
    "    def forward(self, x):\n",
    "        # Input x has shape (batch_size, channels, height, width)\n",
    "        x = self.conv1(x)\n",
    "        x = nn.functional.relu(x)\n",
    "        x = nn.functional.max_pool1d(x, kernel_size=2, stride=2)\n",
    "        \n",
    "        \n",
    "        x = self.conv2(x)\n",
    "        x = nn.functional.relu(x)\n",
    "        x = nn.functional.max_pool1d(x, kernel_size=2, stride=2)\n",
    "        \n",
    "        x = self.conv3(x)\n",
    "        x = nn.functional.relu(x)\n",
    "        x = nn.functional.max_pool1d(x, kernel_size=2, stride=2)\n",
    "        \n",
    "        \n",
    "        x = self.conv4(x)\n",
    "        x = nn.functional.relu(x)\n",
    "        x = nn.functional.max_pool1d(x, kernel_size=1, stride=2)\n",
    "        \n",
    "        # Flatten the output for the fully connected layers\n",
    "        x = x.view(x.size(0), -1) # x.size(0) is the batch size\n",
    "\n",
    "        x = self.dropout(x)\n",
    "        x = self.fc1(x)\n",
    "        x = nn.functional.relu(x)\n",
    "        x = self.dropout(x)\n",
    "        x = self.fc2(x)\n",
    "        return x\n"
   ]
  },
  {
   "cell_type": "code",
   "execution_count": null,
   "metadata": {},
   "outputs": [],
   "source": [
    "# Initialize your CNN\n",
    "cnn = onedCNN2()\n",
    "\n",
    "best_val_loss = float('inf')\n",
    "\n",
    "# Define your loss function and optimizer\n",
    "criterion = nn.BCEWithLogitsLoss(pos_weight=w2,  reduction='mean')\n",
    "unweighted_criterion = nn.BCEWithLogitsLoss(reduction='mean')\n",
    "optimizer = optim.Adam(cnn.parameters(), lr=0.00001, weight_decay=1e-5)\n",
    "num_epochs = 100\n",
    "\n",
    "training_losses = []\n",
    "val_losses = []\n",
    "# Assuming your input data is in the form of a PyTorch tensor\n",
    "# Here's how you can train your CNN\n",
    "for epoch in range(num_epochs):\n",
    "    # Create a progress bar\n",
    "    progress_bar = tqdm(train_dataloader_1d, desc=f'Epoch {epoch + 1}/{num_epochs}', leave=False)\n",
    "    running_loss = 0.0\n",
    "    \n",
    "    # Iterate over the dataset\n",
    "    for inputs, labels in progress_bar:\n",
    "        optimizer.zero_grad()\n",
    "        outputs = cnn(inputs)\n",
    "        loss = criterion(outputs, labels)\n",
    "        loss.backward()\n",
    "        optimizer.step()\n",
    "        \n",
    "        # Update the running loss\n",
    "        running_loss += loss.item()\n",
    "        \n",
    "        # Update the progress bar with the current loss\n",
    "        progress_bar.set_postfix({'loss': running_loss / len(progress_bar)})\n",
    "    \n",
    "    # Calculate average loss for the epoch\n",
    "    epoch_loss = running_loss / len(train_dataloader_1d)\n",
    "    training_losses.append(epoch_loss)\n",
    "    # Validation phase\n",
    "    cnn.eval()  # Set model to evaluation mode\n",
    "    running_val_loss = 0.0\n",
    "    \n",
    "    with torch.no_grad():\n",
    "        for inputs, labels in val_dataloader_1d:\n",
    "            outputs = cnn(inputs)\n",
    "            loss = unweighted_criterion(outputs, labels)\n",
    "            running_val_loss += loss.item()\n",
    "    \n",
    "    # Calculate average validation loss for the epoch\n",
    "    epoch_val_loss = running_val_loss / len(val_dataloader_1d)\n",
    "    val_losses.append(epoch_val_loss)\n",
    "    if epoch_val_loss < best_val_loss:\n",
    "        best_val_loss = epoch_val_loss\n",
    "        torch.save(cnn.state_dict(), dir+'/1d_model.pth')\n",
    "    \n",
    "    \n",
    "    print(f'Epoch [{epoch + 1}/{num_epochs}], Training Loss: {epoch_loss:.4f}', 'Validation Loss:', epoch_val_loss)\n"
   ]
  },
  {
   "cell_type": "markdown",
   "metadata": {},
   "source": [
    "## Evaluation"
   ]
  },
  {
   "cell_type": "code",
   "execution_count": null,
   "metadata": {},
   "outputs": [],
   "source": [
    "# Evaluate performance on training dataset\n",
    "train_accuracy, train_precision, train_recall, train_conf_matrix, auroc = evaluate_performance(train_dataloader_1d)\n",
    "\n",
    "# Evaluate performance on test dataset\n",
    "test_accuracy, test_precision, test_recall, test_conf_matrix, auroc = evaluate_performance(test_dataloader_1d)\n",
    "\n",
    "print('Training Performance:')\n",
    "print(f'Accuracy: {train_accuracy:.2%}')\n",
    "print(f'AUROC: {auroc:.2f}')\n",
    "print(f'Precision: {train_precision:.2f}')\n",
    "print(f'Recall: {train_recall:.2f}')\n",
    "print('Confusion Matrix:')\n",
    "print(train_conf_matrix)\n",
    "\n",
    "print('\\nTest Performance:')\n",
    "print(f'Accuracy: {test_accuracy:.2%}')\n",
    "print(f'AUROC: {auroc:.2f}')\n",
    "print(f'Precision: {test_precision:.2f}')\n",
    "print(f'Recall: {test_recall:.2f}')\n",
    "print('Confusion Matrix:')\n",
    "print(test_conf_matrix)"
   ]
  },
  {
   "cell_type": "code",
   "execution_count": null,
   "metadata": {},
   "outputs": [],
   "source": [
    "plt.plot(training_losses, label='Training Loss')\n",
    "plt.plot(val_losses, label='Validation Loss')\n",
    "plt.legend()"
   ]
  },
  {
   "cell_type": "markdown",
   "metadata": {},
   "source": [
    "# RNN"
   ]
  },
  {
   "cell_type": "code",
   "execution_count": null,
   "metadata": {},
   "outputs": [],
   "source": [
    "times_available = []\n",
    "for i in range(0,X.shape[0]):\n",
    "    times_available.append(sum(sum(X[i,:,:] != 0)!=0))"
   ]
  },
  {
   "cell_type": "code",
   "execution_count": null,
   "metadata": {},
   "outputs": [],
   "source": [
    "times_available = np.array(times_available)\n",
    "# Convert labels tensor to a numpy array\n",
    "labels_array = y.to_numpy()\n",
    "\n",
    "# Find the indices of 1s in the labels array\n",
    "indices = np.where(labels_array == True)[0]\n",
    "\n",
    "# Get the corresponding entries in times_available\n",
    "times_available_case = times_available[indices]\n",
    "times_available_control = times_available[np.where(labels_array == False)[0]]"
   ]
  },
  {
   "cell_type": "code",
   "execution_count": null,
   "metadata": {},
   "outputs": [],
   "source": [
    "import seaborn as sns"
   ]
  },
  {
   "cell_type": "code",
   "execution_count": null,
   "metadata": {},
   "outputs": [],
   "source": [
    "# Plot overlapping histograms\n",
    "plt.hist(times_available_case, bins=10, alpha=0.5, label='Case', density=True)\n",
    "plt.hist(times_available_control, bins=10, alpha=0.5, label='Control', density=True)\n",
    "\n",
    "plt.xlabel('Time')\n",
    "plt.ylabel('Frequency')\n",
    "plt.title('Overlapping Histograms of Times Available')\n",
    "plt.legend()\n",
    "\n",
    "# Show the plot\n",
    "plt.show()\n"
   ]
  },
  {
   "cell_type": "code",
   "execution_count": null,
   "metadata": {},
   "outputs": [],
   "source": [
    "from scipy.stats import chisquare"
   ]
  },
  {
   "cell_type": "code",
   "execution_count": null,
   "metadata": {},
   "outputs": [],
   "source": [
    "case_counts= plt.hist(times_available_case, bins=10, density=True, alpha=0.5)\n",
    "control_counts = plt.hist(times_available_control, bins=10, density=True, alpha=0.5)"
   ]
  },
  {
   "cell_type": "code",
   "execution_count": null,
   "metadata": {},
   "outputs": [],
   "source": [
    "case_counts, case_bins = np.histogram(times_available_case, bins=10, density=True)\n",
    "control_counts, control_bins = np.histogram(times_available_control, bins=10, density=True)\n",
    "\n",
    "total_observed = sum(case_counts)\n",
    "total_expected = sum(control_counts)\n",
    "\n",
    "case_counts_normalized = [count / total_observed for count in case_counts]\n",
    "control_counts_normalized = [count / total_expected for count in control_counts]"
   ]
  },
  {
   "cell_type": "code",
   "execution_count": null,
   "metadata": {},
   "outputs": [],
   "source": [
    "chi2, pvalue = chisquare(case_counts_normalized, f_exp = control_counts_normalized)"
   ]
  },
  {
   "cell_type": "markdown",
   "metadata": {},
   "source": [
    "Distributions of the lengths are not significantly different"
   ]
  },
  {
   "cell_type": "code",
   "execution_count": null,
   "metadata": {},
   "outputs": [],
   "source": [
    "chi2\n",
    "pvalue"
   ]
  },
  {
   "cell_type": "code",
   "execution_count": null,
   "metadata": {},
   "outputs": [],
   "source": [
    "#fg.historical_labs(processed_labs)\n",
    "binned_df = fg.bin_measurements(processed_labs)"
   ]
  },
  {
   "cell_type": "code",
   "execution_count": null,
   "metadata": {},
   "outputs": [],
   "source": [
    "len(binned_df.loc[10000980].index.levels[1])"
   ]
  },
  {
   "cell_type": "markdown",
   "metadata": {},
   "source": [
    "## LSTM"
   ]
  },
  {
   "cell_type": "markdown",
   "metadata": {},
   "source": [
    "RNN expects input to be of shape [seq_length, batch_size, features] but you can use batch_first=True"
   ]
  },
  {
   "cell_type": "code",
   "execution_count": 99,
   "metadata": {},
   "outputs": [
    {
     "data": {
      "text/plain": [
       "(3609, 54, 100)"
      ]
     },
     "execution_count": 99,
     "metadata": {},
     "output_type": "execute_result"
    }
   ],
   "source": [
    "X.shape"
   ]
  },
  {
   "cell_type": "code",
   "execution_count": 100,
   "metadata": {},
   "outputs": [],
   "source": [
    "rnn_input = X.reshape((3609, 100, 54))"
   ]
  },
  {
   "cell_type": "code",
   "execution_count": 101,
   "metadata": {},
   "outputs": [
    {
     "data": {
      "text/plain": [
       "(3609, 100, 54)"
      ]
     },
     "execution_count": 101,
     "metadata": {},
     "output_type": "execute_result"
    }
   ],
   "source": [
    "rnn_input.shape"
   ]
  },
  {
   "cell_type": "code",
   "execution_count": 102,
   "metadata": {},
   "outputs": [
    {
     "name": "stdout",
     "output_type": "stream",
     "text": [
      "files saved successfully.\n"
     ]
    }
   ],
   "source": [
    "np.save(dir+'rnn_input.npy', rnn_input)\n",
    "np.save(dir+'rnn_output.npy', y)\n",
    "print(\"files saved successfully.\")"
   ]
  },
  {
   "cell_type": "markdown",
   "metadata": {},
   "source": [
    "### Make dataset class\n"
   ]
  },
  {
   "cell_type": "code",
   "execution_count": 103,
   "metadata": {},
   "outputs": [],
   "source": [
    "class RNNDataset(Dataset):\n",
    "    def __init__(self, file_path,labels_file_path):\n",
    "        self.data = np.load(file_path)\n",
    "        self.labels = np.load(labels_file_path)\n",
    "        self.dtype = torch.float32\n",
    "    def __len__(self):\n",
    "        return len(self.data)\n",
    "\n",
    "    def __getitem__(self, idx):\n",
    "        sample = self.data[idx]\n",
    "        # Assuming you have labels for each sample\n",
    "        label = self.labels[idx]# You should adjust this to fetch labels if available\n",
    "        label = torch.tensor([label], dtype=self.dtype)\n",
    "        sample = torch.tensor(sample, dtype=self.dtype)\n",
    "        #sample = torch.unsqueeze(sample, dim=0) \n",
    "\n",
    "        return sample, label\n"
   ]
  },
  {
   "cell_type": "markdown",
   "metadata": {},
   "source": [
    "### Initialise dataloaders"
   ]
  },
  {
   "cell_type": "code",
   "execution_count": 104,
   "metadata": {},
   "outputs": [],
   "source": [
    "# File path to the .npy file\n",
    "file_path = dir+'rnn_input.npy'\n",
    "labels_file_path = dir+'rnn_output.npy'\n",
    "# Create a dataset\n",
    "dataset_rnn = RNNDataset(file_path, labels_file_path)\n",
    "\n",
    "# Create a DataLoader to load the dataset\n",
    "batch_size = 32\n",
    "shuffle = True  # You can set it to True if you want to shuffle the data\n",
    "num_workers = 0  # Number of subprocesses to use for data loading (0 means the data will be loaded in the main process)\n",
    "#dataloader = DataLoader(dataset, batch_size=batch_size, shuffle=shuffle, num_workers=num_workers)\n",
    "\n",
    "# Split the dataset indices into training and testing sets\n",
    "train_size = int(0.7 * len(dataset_rnn))  # 80% for training, adjust ratio as needed\n",
    "test_size = int(0.2 * len(dataset_rnn))  # 20% for testing, adjust ratio as needed\n",
    "val_size = len(dataset_rnn)-(train_size+test_size)   # 10% of the training data for validation\n",
    "train_dataset_rnn, val_dataset_rnn, test_dataset_rnn = torch.utils.data.random_split(dataset_rnn, [train_size,val_size, test_size])\n",
    "\n",
    "# Create separate DataLoaders for training and testing\n",
    "train_dataloader_rnn = DataLoader(train_dataset_rnn, batch_size=batch_size, shuffle=shuffle, num_workers=num_workers)\n",
    "test_dataloader_rnn = DataLoader(test_dataset_rnn, batch_size=batch_size, shuffle=shuffle, num_workers=num_workers)\n",
    "val_dataloader_rnn = DataLoader(val_dataset_rnn, batch_size=batch_size, shuffle=shuffle, num_workers=num_workers)\n",
    "# Compute the mean and standard deviation of the dataset\n",
    "mean_sum = 0.0\n",
    "std_sum = 0.0\n",
    "total_samples = 0\n",
    "\n",
    "for data, _ in train_dataloader_rnn:\n",
    "    total_samples += data.size(0)\n",
    "    mean_sum += data.mean(dim=(0, 1))  # Calculate mean along batch (0), width (2), and height (3) axes\n",
    "    std_sum += torch.std(data, dim=(0, 1))  # Calculate std along batch (0), width (2), and height (3) axes\n",
    "mean = mean_sum / total_samples    \n",
    "std = std_sum / total_samples\n",
    "\n",
    "custom_transform = transforms.Compose([\n",
    "    transforms.ToTensor(),  # Convert data to PyTorch tensor\n",
    "    #nan,  # Handle NaN values\n",
    "    transforms.Normalize(mean=[mean], std=[std]),  # Normalize data using computed mean and std\n",
    "    \n",
    "])\n",
    "train_dataloader_rnn.transform = custom_transform\n",
    "test_dataloader_rnn.transform = custom_transform\n",
    "val_dataloader_rnn.transform = custom_transform\n"
   ]
  },
  {
   "cell_type": "code",
   "execution_count": 163,
   "metadata": {},
   "outputs": [],
   "source": [
    "nhidden = 30"
   ]
  },
  {
   "cell_type": "markdown",
   "metadata": {},
   "source": [
    "### Make LSTM class"
   ]
  },
  {
   "cell_type": "code",
   "execution_count": 172,
   "metadata": {},
   "outputs": [],
   "source": [
    "class MV_LSTM(torch.nn.Module):\n",
    "    def __init__(self,n_features,seq_length):\n",
    "        super(MV_LSTM, self).__init__()\n",
    "        self.n_features = n_features\n",
    "        self.seq_len = seq_length\n",
    "        self.n_hidden = nhidden # number of hidden states\n",
    "        self.n_layers = 3 # number of LSTM layers (stacked)\n",
    "        self.dropout = torch.nn.Dropout(0.2)\n",
    "        \n",
    "        self.l_lstm = torch.nn.LSTM(input_size = n_features, \n",
    "                                 hidden_size = self.n_hidden,\n",
    "                                 num_layers = self.n_layers,\n",
    "                                 batch_first=True)\n",
    "        self.l_linear1 = torch.nn.Linear(self.n_hidden*self.seq_len, self.n_hidden*self.seq_len)\n",
    "        self.l_linear2 = torch.nn.Linear(self.n_hidden*self.seq_len, 1)\n",
    "        self.activation = torch.nn.Sigmoid()\n",
    "     \n",
    "    def forward(self, x):        \n",
    "        batch_size, seq_len, _ = x.size()\n",
    "        hidden_state = torch.zeros(self.n_layers,batch_size,self.n_hidden)\n",
    "        cell_state = torch.zeros(self.n_layers,batch_size,self.n_hidden)\n",
    "        hidden = (hidden_state,cell_state)\n",
    "        lstm_out, self.hidden = self.l_lstm(x,hidden)\n",
    "\n",
    "        x = lstm_out.contiguous().view(batch_size,-1)\n",
    "        x = self.dropout(x)\n",
    "        x = self.l_linear1(x)\n",
    "        #self.activation(x)\n",
    "        x = self.dropout(x)\n",
    "        x=self.l_linear2(x)\n",
    "        \n",
    "        return x"
   ]
  },
  {
   "cell_type": "code",
   "execution_count": 173,
   "metadata": {},
   "outputs": [
    {
     "name": "stdout",
     "output_type": "stream",
     "text": [
      "torch.Size([100, 54])\n"
     ]
    }
   ],
   "source": [
    "print(inputs[1].shape)"
   ]
  },
  {
   "cell_type": "markdown",
   "metadata": {},
   "source": [
    "### Train model"
   ]
  },
  {
   "cell_type": "code",
   "execution_count": 174,
   "metadata": {},
   "outputs": [
    {
     "name": "stderr",
     "output_type": "stream",
     "text": [
      "Epoch 1/125:   0%|          | 0/79 [00:00<?, ?it/s]"
     ]
    },
    {
     "name": "stderr",
     "output_type": "stream",
     "text": [
      "                                                                        \r"
     ]
    },
    {
     "name": "stdout",
     "output_type": "stream",
     "text": [
      "Epoch [1/125], Training Loss: 0.8509 Validation Loss: 0.8441815674304962\n"
     ]
    },
    {
     "name": "stderr",
     "output_type": "stream",
     "text": [
      "                                                                        \r"
     ]
    },
    {
     "name": "stdout",
     "output_type": "stream",
     "text": [
      "Epoch [2/125], Training Loss: 0.8436 Validation Loss: 0.8431501140197118\n"
     ]
    },
    {
     "name": "stderr",
     "output_type": "stream",
     "text": [
      "                                                                        \r"
     ]
    },
    {
     "name": "stdout",
     "output_type": "stream",
     "text": [
      "Epoch [3/125], Training Loss: 0.8418 Validation Loss: 0.8516898155212402\n"
     ]
    },
    {
     "name": "stderr",
     "output_type": "stream",
     "text": [
      "                                                                        \r"
     ]
    },
    {
     "name": "stdout",
     "output_type": "stream",
     "text": [
      "Epoch [4/125], Training Loss: 0.8399 Validation Loss: 0.8284816791613897\n"
     ]
    },
    {
     "name": "stderr",
     "output_type": "stream",
     "text": [
      "                                                                        \r"
     ]
    },
    {
     "name": "stdout",
     "output_type": "stream",
     "text": [
      "Epoch [5/125], Training Loss: 0.8352 Validation Loss: 0.8246862143278122\n"
     ]
    },
    {
     "name": "stderr",
     "output_type": "stream",
     "text": [
      "                                                                        \r"
     ]
    },
    {
     "name": "stdout",
     "output_type": "stream",
     "text": [
      "Epoch [6/125], Training Loss: 0.8300 Validation Loss: 0.8269150406122208\n"
     ]
    },
    {
     "name": "stderr",
     "output_type": "stream",
     "text": [
      "                                                                        \r"
     ]
    },
    {
     "name": "stdout",
     "output_type": "stream",
     "text": [
      "Epoch [7/125], Training Loss: 0.8229 Validation Loss: 0.8262323339780172\n"
     ]
    },
    {
     "name": "stderr",
     "output_type": "stream",
     "text": [
      "                                                                        \r"
     ]
    },
    {
     "name": "stdout",
     "output_type": "stream",
     "text": [
      "Epoch [8/125], Training Loss: 0.8156 Validation Loss: 0.8290890206893285\n"
     ]
    },
    {
     "name": "stderr",
     "output_type": "stream",
     "text": [
      "                                                                        \r"
     ]
    },
    {
     "name": "stdout",
     "output_type": "stream",
     "text": [
      "Epoch [9/125], Training Loss: 0.8025 Validation Loss: 0.8092111200094223\n"
     ]
    },
    {
     "name": "stderr",
     "output_type": "stream",
     "text": [
      "                                                                          \r"
     ]
    },
    {
     "name": "stdout",
     "output_type": "stream",
     "text": [
      "Epoch [10/125], Training Loss: 0.7883 Validation Loss: 0.7920638074477514\n"
     ]
    },
    {
     "name": "stderr",
     "output_type": "stream",
     "text": [
      "                                                                          \r"
     ]
    },
    {
     "name": "stdout",
     "output_type": "stream",
     "text": [
      "Epoch [11/125], Training Loss: 0.7727 Validation Loss: 0.7816289166609446\n"
     ]
    },
    {
     "name": "stderr",
     "output_type": "stream",
     "text": [
      "                                                                          \r"
     ]
    },
    {
     "name": "stdout",
     "output_type": "stream",
     "text": [
      "Epoch [12/125], Training Loss: 0.7532 Validation Loss: 0.7695567160844803\n"
     ]
    },
    {
     "name": "stderr",
     "output_type": "stream",
     "text": [
      "                                                                         \r"
     ]
    },
    {
     "name": "stdout",
     "output_type": "stream",
     "text": [
      "Epoch [13/125], Training Loss: 0.7350 Validation Loss: 0.7250758757193884\n"
     ]
    },
    {
     "name": "stderr",
     "output_type": "stream",
     "text": [
      "                                                                          \r"
     ]
    },
    {
     "name": "stdout",
     "output_type": "stream",
     "text": [
      "Epoch [14/125], Training Loss: 0.7131 Validation Loss: 0.7109994093577067\n"
     ]
    },
    {
     "name": "stderr",
     "output_type": "stream",
     "text": [
      "                                                                          \r"
     ]
    },
    {
     "name": "stdout",
     "output_type": "stream",
     "text": [
      "Epoch [15/125], Training Loss: 0.6944 Validation Loss: 0.6840491195519766\n"
     ]
    },
    {
     "name": "stderr",
     "output_type": "stream",
     "text": [
      "                                                                          \r"
     ]
    },
    {
     "name": "stdout",
     "output_type": "stream",
     "text": [
      "Epoch [16/125], Training Loss: 0.6759 Validation Loss: 0.6828573445479075\n"
     ]
    },
    {
     "name": "stderr",
     "output_type": "stream",
     "text": [
      "                                                                          \r"
     ]
    },
    {
     "name": "stdout",
     "output_type": "stream",
     "text": [
      "Epoch [17/125], Training Loss: 0.6578 Validation Loss: 0.6952740997076035\n"
     ]
    },
    {
     "name": "stderr",
     "output_type": "stream",
     "text": [
      "                                                                          \r"
     ]
    },
    {
     "name": "stdout",
     "output_type": "stream",
     "text": [
      "Epoch [18/125], Training Loss: 0.6425 Validation Loss: 0.6522559821605682\n"
     ]
    },
    {
     "name": "stderr",
     "output_type": "stream",
     "text": [
      "                                                                          \r"
     ]
    },
    {
     "name": "stdout",
     "output_type": "stream",
     "text": [
      "Epoch [19/125], Training Loss: 0.6273 Validation Loss: 0.6471487606565157\n"
     ]
    },
    {
     "name": "stderr",
     "output_type": "stream",
     "text": [
      "                                                                          \r"
     ]
    },
    {
     "name": "stdout",
     "output_type": "stream",
     "text": [
      "Epoch [20/125], Training Loss: 0.6175 Validation Loss: 0.6239264259735743\n"
     ]
    },
    {
     "name": "stderr",
     "output_type": "stream",
     "text": [
      "                                                                          \r"
     ]
    },
    {
     "name": "stdout",
     "output_type": "stream",
     "text": [
      "Epoch [21/125], Training Loss: 0.6085 Validation Loss: 0.6254194428523382\n"
     ]
    },
    {
     "name": "stderr",
     "output_type": "stream",
     "text": [
      "                                                                          \r"
     ]
    },
    {
     "name": "stdout",
     "output_type": "stream",
     "text": [
      "Epoch [22/125], Training Loss: 0.5968 Validation Loss: 0.6146898716688156\n"
     ]
    },
    {
     "name": "stderr",
     "output_type": "stream",
     "text": [
      "                                                                          \r"
     ]
    },
    {
     "name": "stdout",
     "output_type": "stream",
     "text": [
      "Epoch [23/125], Training Loss: 0.5868 Validation Loss: 0.6591689685980479\n"
     ]
    },
    {
     "name": "stderr",
     "output_type": "stream",
     "text": [
      "                                                                          \r"
     ]
    },
    {
     "name": "stdout",
     "output_type": "stream",
     "text": [
      "Epoch [24/125], Training Loss: 0.5811 Validation Loss: 0.610549492140611\n"
     ]
    },
    {
     "name": "stderr",
     "output_type": "stream",
     "text": [
      "                                                                          \r"
     ]
    },
    {
     "name": "stdout",
     "output_type": "stream",
     "text": [
      "Epoch [25/125], Training Loss: 0.5741 Validation Loss: 0.6097879409790039\n"
     ]
    },
    {
     "name": "stderr",
     "output_type": "stream",
     "text": [
      "                                                                          \r"
     ]
    },
    {
     "name": "stdout",
     "output_type": "stream",
     "text": [
      "Epoch [26/125], Training Loss: 0.5710 Validation Loss: 0.6033752262592316\n"
     ]
    },
    {
     "name": "stderr",
     "output_type": "stream",
     "text": [
      "                                                                          \r"
     ]
    },
    {
     "name": "stdout",
     "output_type": "stream",
     "text": [
      "Epoch [27/125], Training Loss: 0.5676 Validation Loss: 0.5946441367268562\n"
     ]
    },
    {
     "name": "stderr",
     "output_type": "stream",
     "text": [
      "                                                                          \r"
     ]
    },
    {
     "name": "stdout",
     "output_type": "stream",
     "text": [
      "Epoch [28/125], Training Loss: 0.5625 Validation Loss: 0.6597444862127304\n"
     ]
    },
    {
     "name": "stderr",
     "output_type": "stream",
     "text": [
      "                                                                          \r"
     ]
    },
    {
     "name": "stdout",
     "output_type": "stream",
     "text": [
      "Epoch [29/125], Training Loss: 0.5579 Validation Loss: 0.5938735579450926\n"
     ]
    },
    {
     "name": "stderr",
     "output_type": "stream",
     "text": [
      "                                                                          \r"
     ]
    },
    {
     "name": "stdout",
     "output_type": "stream",
     "text": [
      "Epoch [30/125], Training Loss: 0.5550 Validation Loss: 0.6204157322645187\n"
     ]
    },
    {
     "name": "stderr",
     "output_type": "stream",
     "text": [
      "                                                                          \r"
     ]
    },
    {
     "name": "stdout",
     "output_type": "stream",
     "text": [
      "Epoch [31/125], Training Loss: 0.5481 Validation Loss: 0.596018319328626\n"
     ]
    },
    {
     "name": "stderr",
     "output_type": "stream",
     "text": [
      "                                                                          \r"
     ]
    },
    {
     "name": "stdout",
     "output_type": "stream",
     "text": [
      "Epoch [32/125], Training Loss: 0.5457 Validation Loss: 0.5892728219429652\n"
     ]
    },
    {
     "name": "stderr",
     "output_type": "stream",
     "text": [
      "                                                                          \r"
     ]
    },
    {
     "name": "stdout",
     "output_type": "stream",
     "text": [
      "Epoch [33/125], Training Loss: 0.5464 Validation Loss: 0.5783392029503981\n"
     ]
    },
    {
     "name": "stderr",
     "output_type": "stream",
     "text": [
      "                                                                          \r"
     ]
    },
    {
     "name": "stdout",
     "output_type": "stream",
     "text": [
      "Epoch [34/125], Training Loss: 0.5406 Validation Loss: 0.5750455732146899\n"
     ]
    },
    {
     "name": "stderr",
     "output_type": "stream",
     "text": [
      "                                                                          \r"
     ]
    },
    {
     "name": "stdout",
     "output_type": "stream",
     "text": [
      "Epoch [35/125], Training Loss: 0.5372 Validation Loss: 0.6152286951740583\n"
     ]
    },
    {
     "name": "stderr",
     "output_type": "stream",
     "text": [
      "                                                                          \r"
     ]
    },
    {
     "name": "stdout",
     "output_type": "stream",
     "text": [
      "Epoch [36/125], Training Loss: 0.5330 Validation Loss: 0.578921856979529\n"
     ]
    },
    {
     "name": "stderr",
     "output_type": "stream",
     "text": [
      "                                                                          \r"
     ]
    },
    {
     "name": "stdout",
     "output_type": "stream",
     "text": [
      "Epoch [37/125], Training Loss: 0.5325 Validation Loss: 0.5857106844584147\n"
     ]
    },
    {
     "name": "stderr",
     "output_type": "stream",
     "text": [
      "                                                                          \r"
     ]
    },
    {
     "name": "stdout",
     "output_type": "stream",
     "text": [
      "Epoch [38/125], Training Loss: 0.5302 Validation Loss: 0.585240381459395\n"
     ]
    },
    {
     "name": "stderr",
     "output_type": "stream",
     "text": [
      "                                                                          \r"
     ]
    },
    {
     "name": "stdout",
     "output_type": "stream",
     "text": [
      "Epoch [39/125], Training Loss: 0.5291 Validation Loss: 0.5898028636972109\n"
     ]
    },
    {
     "name": "stderr",
     "output_type": "stream",
     "text": [
      "                                                                          \r"
     ]
    },
    {
     "name": "stdout",
     "output_type": "stream",
     "text": [
      "Epoch [40/125], Training Loss: 0.5267 Validation Loss: 0.583474762737751\n"
     ]
    },
    {
     "name": "stderr",
     "output_type": "stream",
     "text": [
      "                                                                          \r"
     ]
    },
    {
     "name": "stdout",
     "output_type": "stream",
     "text": [
      "Epoch [41/125], Training Loss: 0.5270 Validation Loss: 0.6040461485584577\n"
     ]
    },
    {
     "name": "stderr",
     "output_type": "stream",
     "text": [
      "                                                                          \r"
     ]
    },
    {
     "name": "stdout",
     "output_type": "stream",
     "text": [
      "Epoch [42/125], Training Loss: 0.5227 Validation Loss: 0.5775335679451624\n"
     ]
    },
    {
     "name": "stderr",
     "output_type": "stream",
     "text": [
      "                                                                          \r"
     ]
    },
    {
     "name": "stdout",
     "output_type": "stream",
     "text": [
      "Epoch [43/125], Training Loss: 0.5214 Validation Loss: 0.6013192782799403\n"
     ]
    },
    {
     "name": "stderr",
     "output_type": "stream",
     "text": [
      "                                                                          \r"
     ]
    },
    {
     "name": "stdout",
     "output_type": "stream",
     "text": [
      "Epoch [44/125], Training Loss: 0.5209 Validation Loss: 0.5905635605255762\n"
     ]
    },
    {
     "name": "stderr",
     "output_type": "stream",
     "text": [
      "                                                                          \r"
     ]
    },
    {
     "name": "stdout",
     "output_type": "stream",
     "text": [
      "Epoch [45/125], Training Loss: 0.5183 Validation Loss: 0.5780955428878466\n"
     ]
    },
    {
     "name": "stderr",
     "output_type": "stream",
     "text": [
      "                                                                          \r"
     ]
    },
    {
     "name": "stdout",
     "output_type": "stream",
     "text": [
      "Epoch [46/125], Training Loss: 0.5171 Validation Loss: 0.5867366641759872\n"
     ]
    },
    {
     "name": "stderr",
     "output_type": "stream",
     "text": [
      "                                                                          \r"
     ]
    },
    {
     "name": "stdout",
     "output_type": "stream",
     "text": [
      "Epoch [47/125], Training Loss: 0.5192 Validation Loss: 0.5688371323049068\n"
     ]
    },
    {
     "name": "stderr",
     "output_type": "stream",
     "text": [
      "                                                                          \r"
     ]
    },
    {
     "name": "stdout",
     "output_type": "stream",
     "text": [
      "Epoch [48/125], Training Loss: 0.5154 Validation Loss: 0.6183785224954287\n"
     ]
    },
    {
     "name": "stderr",
     "output_type": "stream",
     "text": [
      "                                                                          \r"
     ]
    },
    {
     "name": "stdout",
     "output_type": "stream",
     "text": [
      "Epoch [49/125], Training Loss: 0.5160 Validation Loss: 0.5727635733783245\n"
     ]
    },
    {
     "name": "stderr",
     "output_type": "stream",
     "text": [
      "                                                                          \r"
     ]
    },
    {
     "name": "stdout",
     "output_type": "stream",
     "text": [
      "Epoch [50/125], Training Loss: 0.5106 Validation Loss: 0.5715805391470591\n"
     ]
    },
    {
     "name": "stderr",
     "output_type": "stream",
     "text": [
      "                                                                          \r"
     ]
    },
    {
     "name": "stdout",
     "output_type": "stream",
     "text": [
      "Epoch [51/125], Training Loss: 0.5084 Validation Loss: 0.5721957137187322\n"
     ]
    },
    {
     "name": "stderr",
     "output_type": "stream",
     "text": [
      "                                                                          \r"
     ]
    },
    {
     "name": "stdout",
     "output_type": "stream",
     "text": [
      "Epoch [52/125], Training Loss: 0.5072 Validation Loss: 0.573520210882028\n"
     ]
    },
    {
     "name": "stderr",
     "output_type": "stream",
     "text": [
      "                                                                          \r"
     ]
    },
    {
     "name": "stdout",
     "output_type": "stream",
     "text": [
      "Epoch [53/125], Training Loss: 0.5062 Validation Loss: 0.5581661102672418\n"
     ]
    },
    {
     "name": "stderr",
     "output_type": "stream",
     "text": [
      "                                                                          \r"
     ]
    },
    {
     "name": "stdout",
     "output_type": "stream",
     "text": [
      "Epoch [54/125], Training Loss: 0.5073 Validation Loss: 0.5622422570983568\n"
     ]
    },
    {
     "name": "stderr",
     "output_type": "stream",
     "text": [
      "                                                                          \r"
     ]
    },
    {
     "name": "stdout",
     "output_type": "stream",
     "text": [
      "Epoch [55/125], Training Loss: 0.5075 Validation Loss: 0.5582485049962997\n"
     ]
    },
    {
     "name": "stderr",
     "output_type": "stream",
     "text": [
      "                                                                          \r"
     ]
    },
    {
     "name": "stdout",
     "output_type": "stream",
     "text": [
      "Epoch [56/125], Training Loss: 0.5026 Validation Loss: 0.5835334286093712\n"
     ]
    },
    {
     "name": "stderr",
     "output_type": "stream",
     "text": [
      "                                                                          \r"
     ]
    },
    {
     "name": "stdout",
     "output_type": "stream",
     "text": [
      "Epoch [57/125], Training Loss: 0.5014 Validation Loss: 0.6302944247921308\n"
     ]
    },
    {
     "name": "stderr",
     "output_type": "stream",
     "text": [
      "                                                                          \r"
     ]
    },
    {
     "name": "stdout",
     "output_type": "stream",
     "text": [
      "Epoch [58/125], Training Loss: 0.5009 Validation Loss: 0.5682098170121511\n"
     ]
    },
    {
     "name": "stderr",
     "output_type": "stream",
     "text": [
      "                                                                          \r"
     ]
    },
    {
     "name": "stdout",
     "output_type": "stream",
     "text": [
      "Epoch [59/125], Training Loss: 0.5009 Validation Loss: 0.5683154712120692\n"
     ]
    },
    {
     "name": "stderr",
     "output_type": "stream",
     "text": [
      "                                                                          \r"
     ]
    },
    {
     "name": "stdout",
     "output_type": "stream",
     "text": [
      "Epoch [60/125], Training Loss: 0.4981 Validation Loss: 0.5858045568068823\n"
     ]
    },
    {
     "name": "stderr",
     "output_type": "stream",
     "text": [
      "                                                                          \r"
     ]
    },
    {
     "name": "stdout",
     "output_type": "stream",
     "text": [
      "Epoch [61/125], Training Loss: 0.4945 Validation Loss: 0.5622703532377878\n"
     ]
    },
    {
     "name": "stderr",
     "output_type": "stream",
     "text": [
      "                                                                          \r"
     ]
    },
    {
     "name": "stdout",
     "output_type": "stream",
     "text": [
      "Epoch [62/125], Training Loss: 0.4935 Validation Loss: 0.5595775494972864\n"
     ]
    },
    {
     "name": "stderr",
     "output_type": "stream",
     "text": [
      "                                                                          \r"
     ]
    },
    {
     "name": "stdout",
     "output_type": "stream",
     "text": [
      "Epoch [63/125], Training Loss: 0.4947 Validation Loss: 0.5838316803177198\n"
     ]
    },
    {
     "name": "stderr",
     "output_type": "stream",
     "text": [
      "                                                                          \r"
     ]
    },
    {
     "name": "stdout",
     "output_type": "stream",
     "text": [
      "Epoch [64/125], Training Loss: 0.4941 Validation Loss: 0.5457447208464146\n"
     ]
    },
    {
     "name": "stderr",
     "output_type": "stream",
     "text": [
      "                                                                          \r"
     ]
    },
    {
     "name": "stdout",
     "output_type": "stream",
     "text": [
      "Epoch [65/125], Training Loss: 0.4900 Validation Loss: 0.5504680027564367\n"
     ]
    },
    {
     "name": "stderr",
     "output_type": "stream",
     "text": [
      "                                                                          \r"
     ]
    },
    {
     "name": "stdout",
     "output_type": "stream",
     "text": [
      "Epoch [66/125], Training Loss: 0.4910 Validation Loss: 0.5766838453710079\n"
     ]
    },
    {
     "name": "stderr",
     "output_type": "stream",
     "text": [
      "                                                                          \r"
     ]
    },
    {
     "name": "stdout",
     "output_type": "stream",
     "text": [
      "Epoch [67/125], Training Loss: 0.4897 Validation Loss: 0.5513972193002701\n"
     ]
    },
    {
     "name": "stderr",
     "output_type": "stream",
     "text": [
      "                                                                          \r"
     ]
    },
    {
     "name": "stdout",
     "output_type": "stream",
     "text": [
      "Epoch [68/125], Training Loss: 0.4874 Validation Loss: 0.5876237601041794\n"
     ]
    },
    {
     "name": "stderr",
     "output_type": "stream",
     "text": [
      "                                                                          \r"
     ]
    },
    {
     "name": "stdout",
     "output_type": "stream",
     "text": [
      "Epoch [69/125], Training Loss: 0.4841 Validation Loss: 0.5619066307942072\n"
     ]
    },
    {
     "name": "stderr",
     "output_type": "stream",
     "text": [
      "                                                                          \r"
     ]
    },
    {
     "name": "stdout",
     "output_type": "stream",
     "text": [
      "Epoch [70/125], Training Loss: 0.4879 Validation Loss: 0.5566956773400307\n"
     ]
    },
    {
     "name": "stderr",
     "output_type": "stream",
     "text": [
      "                                                                          \r"
     ]
    },
    {
     "name": "stdout",
     "output_type": "stream",
     "text": [
      "Epoch [71/125], Training Loss: 0.4835 Validation Loss: 0.5650124053160349\n"
     ]
    },
    {
     "name": "stderr",
     "output_type": "stream",
     "text": [
      "                                                                          \r"
     ]
    },
    {
     "name": "stdout",
     "output_type": "stream",
     "text": [
      "Epoch [72/125], Training Loss: 0.4849 Validation Loss: 0.5528576523065567\n"
     ]
    },
    {
     "name": "stderr",
     "output_type": "stream",
     "text": [
      "                                                                          \r"
     ]
    },
    {
     "name": "stdout",
     "output_type": "stream",
     "text": [
      "Epoch [73/125], Training Loss: 0.4814 Validation Loss: 0.5811683932940165\n"
     ]
    },
    {
     "name": "stderr",
     "output_type": "stream",
     "text": [
      "                                                                          \r"
     ]
    },
    {
     "name": "stdout",
     "output_type": "stream",
     "text": [
      "Epoch [74/125], Training Loss: 0.4806 Validation Loss: 0.5412022483845552\n"
     ]
    },
    {
     "name": "stderr",
     "output_type": "stream",
     "text": [
      "                                                                          \r"
     ]
    },
    {
     "name": "stdout",
     "output_type": "stream",
     "text": [
      "Epoch [75/125], Training Loss: 0.4822 Validation Loss: 0.5537797833482424\n"
     ]
    },
    {
     "name": "stderr",
     "output_type": "stream",
     "text": [
      "                                                                          \r"
     ]
    },
    {
     "name": "stdout",
     "output_type": "stream",
     "text": [
      "Epoch [76/125], Training Loss: 0.4811 Validation Loss: 0.5417587409416834\n"
     ]
    },
    {
     "name": "stderr",
     "output_type": "stream",
     "text": [
      "                                                                          \r"
     ]
    },
    {
     "name": "stdout",
     "output_type": "stream",
     "text": [
      "Epoch [77/125], Training Loss: 0.4788 Validation Loss: 0.583194429675738\n"
     ]
    },
    {
     "name": "stderr",
     "output_type": "stream",
     "text": [
      "                                                                          \r"
     ]
    },
    {
     "name": "stdout",
     "output_type": "stream",
     "text": [
      "Epoch [78/125], Training Loss: 0.4758 Validation Loss: 0.5677648981412252\n"
     ]
    },
    {
     "name": "stderr",
     "output_type": "stream",
     "text": [
      "                                                                          \r"
     ]
    },
    {
     "name": "stdout",
     "output_type": "stream",
     "text": [
      "Epoch [79/125], Training Loss: 0.4740 Validation Loss: 0.5612914909919103\n"
     ]
    },
    {
     "name": "stderr",
     "output_type": "stream",
     "text": [
      "                                                                          \r"
     ]
    },
    {
     "name": "stdout",
     "output_type": "stream",
     "text": [
      "Epoch [80/125], Training Loss: 0.4756 Validation Loss: 0.5382906024654707\n"
     ]
    },
    {
     "name": "stderr",
     "output_type": "stream",
     "text": [
      "                                                                          \r"
     ]
    },
    {
     "name": "stdout",
     "output_type": "stream",
     "text": [
      "Epoch [81/125], Training Loss: 0.4728 Validation Loss: 0.5809916034340858\n"
     ]
    },
    {
     "name": "stderr",
     "output_type": "stream",
     "text": [
      "                                                                          \r"
     ]
    },
    {
     "name": "stdout",
     "output_type": "stream",
     "text": [
      "Epoch [82/125], Training Loss: 0.4734 Validation Loss: 0.580732154349486\n"
     ]
    },
    {
     "name": "stderr",
     "output_type": "stream",
     "text": [
      "                                                                          \r"
     ]
    },
    {
     "name": "stdout",
     "output_type": "stream",
     "text": [
      "Epoch [83/125], Training Loss: 0.4753 Validation Loss: 0.538210696230332\n"
     ]
    },
    {
     "name": "stderr",
     "output_type": "stream",
     "text": [
      "                                                                          \r"
     ]
    },
    {
     "name": "stdout",
     "output_type": "stream",
     "text": [
      "Epoch [84/125], Training Loss: 0.4744 Validation Loss: 0.5405989115436872\n"
     ]
    },
    {
     "name": "stderr",
     "output_type": "stream",
     "text": [
      "                                                                          \r"
     ]
    },
    {
     "name": "stdout",
     "output_type": "stream",
     "text": [
      "Epoch [85/125], Training Loss: 0.4709 Validation Loss: 0.537137138346831\n"
     ]
    },
    {
     "name": "stderr",
     "output_type": "stream",
     "text": [
      "                                                                          \r"
     ]
    },
    {
     "name": "stdout",
     "output_type": "stream",
     "text": [
      "Epoch [86/125], Training Loss: 0.4682 Validation Loss: 0.5430358126759529\n"
     ]
    },
    {
     "name": "stderr",
     "output_type": "stream",
     "text": [
      "                                                                          \r"
     ]
    },
    {
     "name": "stdout",
     "output_type": "stream",
     "text": [
      "Epoch [87/125], Training Loss: 0.4693 Validation Loss: 0.5897509728868803\n"
     ]
    },
    {
     "name": "stderr",
     "output_type": "stream",
     "text": [
      "                                                                          \r"
     ]
    },
    {
     "name": "stdout",
     "output_type": "stream",
     "text": [
      "Epoch [88/125], Training Loss: 0.4686 Validation Loss: 0.5418600092331568\n"
     ]
    },
    {
     "name": "stderr",
     "output_type": "stream",
     "text": [
      "                                                                          \r"
     ]
    },
    {
     "name": "stdout",
     "output_type": "stream",
     "text": [
      "Epoch [89/125], Training Loss: 0.4677 Validation Loss: 0.5286531529078881\n"
     ]
    },
    {
     "name": "stderr",
     "output_type": "stream",
     "text": [
      "                                                                          \r"
     ]
    },
    {
     "name": "stdout",
     "output_type": "stream",
     "text": [
      "Epoch [90/125], Training Loss: 0.4670 Validation Loss: 0.5485799883802732\n"
     ]
    },
    {
     "name": "stderr",
     "output_type": "stream",
     "text": [
      "                                                                          \r"
     ]
    },
    {
     "name": "stdout",
     "output_type": "stream",
     "text": [
      "Epoch [91/125], Training Loss: 0.4665 Validation Loss: 0.5754404775798321\n"
     ]
    },
    {
     "name": "stderr",
     "output_type": "stream",
     "text": [
      "                                                                          \r"
     ]
    },
    {
     "name": "stdout",
     "output_type": "stream",
     "text": [
      "Epoch [92/125], Training Loss: 0.4671 Validation Loss: 0.5706575165192286\n"
     ]
    },
    {
     "name": "stderr",
     "output_type": "stream",
     "text": [
      "                                                                          \r"
     ]
    },
    {
     "name": "stdout",
     "output_type": "stream",
     "text": [
      "Epoch [93/125], Training Loss: 0.4652 Validation Loss: 0.5558697332938513\n"
     ]
    },
    {
     "name": "stderr",
     "output_type": "stream",
     "text": [
      "                                                                          \r"
     ]
    },
    {
     "name": "stdout",
     "output_type": "stream",
     "text": [
      "Epoch [94/125], Training Loss: 0.4610 Validation Loss: 0.5307640718917052\n"
     ]
    },
    {
     "name": "stderr",
     "output_type": "stream",
     "text": [
      "                                                                          \r"
     ]
    },
    {
     "name": "stdout",
     "output_type": "stream",
     "text": [
      "Epoch [95/125], Training Loss: 0.4672 Validation Loss: 0.5350699126720428\n"
     ]
    },
    {
     "name": "stderr",
     "output_type": "stream",
     "text": [
      "                                                                          \r"
     ]
    },
    {
     "name": "stdout",
     "output_type": "stream",
     "text": [
      "Epoch [96/125], Training Loss: 0.4605 Validation Loss: 0.5368195846676826\n"
     ]
    },
    {
     "name": "stderr",
     "output_type": "stream",
     "text": [
      "                                                                          \r"
     ]
    },
    {
     "name": "stdout",
     "output_type": "stream",
     "text": [
      "Epoch [97/125], Training Loss: 0.4578 Validation Loss: 0.53195338199536\n"
     ]
    },
    {
     "name": "stderr",
     "output_type": "stream",
     "text": [
      "                                                                          \r"
     ]
    },
    {
     "name": "stdout",
     "output_type": "stream",
     "text": [
      "Epoch [98/125], Training Loss: 0.4619 Validation Loss: 0.5246577461560568\n"
     ]
    },
    {
     "name": "stderr",
     "output_type": "stream",
     "text": [
      "                                                                          \r"
     ]
    },
    {
     "name": "stdout",
     "output_type": "stream",
     "text": [
      "Epoch [99/125], Training Loss: 0.4569 Validation Loss: 0.5278502739965916\n"
     ]
    },
    {
     "name": "stderr",
     "output_type": "stream",
     "text": [
      "                                                                           \r"
     ]
    },
    {
     "name": "stdout",
     "output_type": "stream",
     "text": [
      "Epoch [100/125], Training Loss: 0.4567 Validation Loss: 0.5638201087713242\n"
     ]
    },
    {
     "name": "stderr",
     "output_type": "stream",
     "text": [
      "                                                                           \r"
     ]
    },
    {
     "name": "stdout",
     "output_type": "stream",
     "text": [
      "Epoch [101/125], Training Loss: 0.4566 Validation Loss: 0.5469077453017235\n"
     ]
    },
    {
     "name": "stderr",
     "output_type": "stream",
     "text": [
      "                                                                           \r"
     ]
    },
    {
     "name": "stdout",
     "output_type": "stream",
     "text": [
      "Epoch [102/125], Training Loss: 0.4563 Validation Loss: 0.5878840237855911\n"
     ]
    },
    {
     "name": "stderr",
     "output_type": "stream",
     "text": [
      "                                                                           \r"
     ]
    },
    {
     "name": "stdout",
     "output_type": "stream",
     "text": [
      "Epoch [103/125], Training Loss: 0.4562 Validation Loss: 0.5312430386741956\n"
     ]
    },
    {
     "name": "stderr",
     "output_type": "stream",
     "text": [
      "                                                                           \r"
     ]
    },
    {
     "name": "stdout",
     "output_type": "stream",
     "text": [
      "Epoch [104/125], Training Loss: 0.4578 Validation Loss: 0.5554365416367849\n"
     ]
    },
    {
     "name": "stderr",
     "output_type": "stream",
     "text": [
      "                                                                           \r"
     ]
    },
    {
     "name": "stdout",
     "output_type": "stream",
     "text": [
      "Epoch [105/125], Training Loss: 0.4517 Validation Loss: 0.5608867704868317\n"
     ]
    },
    {
     "name": "stderr",
     "output_type": "stream",
     "text": [
      "                                                                           \r"
     ]
    },
    {
     "name": "stdout",
     "output_type": "stream",
     "text": [
      "Epoch [106/125], Training Loss: 0.4510 Validation Loss: 0.5569009569784006\n"
     ]
    },
    {
     "name": "stderr",
     "output_type": "stream",
     "text": [
      "                                                                           \r"
     ]
    },
    {
     "name": "stdout",
     "output_type": "stream",
     "text": [
      "Epoch [107/125], Training Loss: 0.4498 Validation Loss: 0.5221338843305906\n"
     ]
    },
    {
     "name": "stderr",
     "output_type": "stream",
     "text": [
      "                                                                           \r"
     ]
    },
    {
     "name": "stdout",
     "output_type": "stream",
     "text": [
      "Epoch [108/125], Training Loss: 0.4498 Validation Loss: 0.5351741214593252\n"
     ]
    },
    {
     "name": "stderr",
     "output_type": "stream",
     "text": [
      "                                                                           \r"
     ]
    },
    {
     "name": "stdout",
     "output_type": "stream",
     "text": [
      "Epoch [109/125], Training Loss: 0.4484 Validation Loss: 0.53326715528965\n"
     ]
    },
    {
     "name": "stderr",
     "output_type": "stream",
     "text": [
      "                                                                           \r"
     ]
    },
    {
     "name": "stdout",
     "output_type": "stream",
     "text": [
      "Epoch [110/125], Training Loss: 0.4535 Validation Loss: 0.597544057915608\n"
     ]
    },
    {
     "name": "stderr",
     "output_type": "stream",
     "text": [
      "                                                                           \r"
     ]
    },
    {
     "name": "stdout",
     "output_type": "stream",
     "text": [
      "Epoch [111/125], Training Loss: 0.4523 Validation Loss: 0.5427681195239226\n"
     ]
    },
    {
     "name": "stderr",
     "output_type": "stream",
     "text": [
      "                                                                           \r"
     ]
    },
    {
     "name": "stdout",
     "output_type": "stream",
     "text": [
      "Epoch [112/125], Training Loss: 0.4485 Validation Loss: 0.5191877596080303\n"
     ]
    },
    {
     "name": "stderr",
     "output_type": "stream",
     "text": [
      "                                                                           \r"
     ]
    },
    {
     "name": "stdout",
     "output_type": "stream",
     "text": [
      "Epoch [113/125], Training Loss: 0.4474 Validation Loss: 0.5328784609834353\n"
     ]
    },
    {
     "name": "stderr",
     "output_type": "stream",
     "text": [
      "                                                                           \r"
     ]
    },
    {
     "name": "stdout",
     "output_type": "stream",
     "text": [
      "Epoch [114/125], Training Loss: 0.4440 Validation Loss: 0.5375876352190971\n"
     ]
    },
    {
     "name": "stderr",
     "output_type": "stream",
     "text": [
      "                                                                           \r"
     ]
    },
    {
     "name": "stdout",
     "output_type": "stream",
     "text": [
      "Epoch [115/125], Training Loss: 0.4475 Validation Loss: 0.5693019876877466\n"
     ]
    },
    {
     "name": "stderr",
     "output_type": "stream",
     "text": [
      "                                                                           \r"
     ]
    },
    {
     "name": "stdout",
     "output_type": "stream",
     "text": [
      "Epoch [116/125], Training Loss: 0.4462 Validation Loss: 0.5230531928439935\n"
     ]
    },
    {
     "name": "stderr",
     "output_type": "stream",
     "text": [
      "                                                                           \r"
     ]
    },
    {
     "name": "stdout",
     "output_type": "stream",
     "text": [
      "Epoch [117/125], Training Loss: 0.4447 Validation Loss: 0.5716853365302086\n"
     ]
    },
    {
     "name": "stderr",
     "output_type": "stream",
     "text": [
      "                                                                           \r"
     ]
    },
    {
     "name": "stdout",
     "output_type": "stream",
     "text": [
      "Epoch [118/125], Training Loss: 0.4444 Validation Loss: 0.5769832345346609\n"
     ]
    },
    {
     "name": "stderr",
     "output_type": "stream",
     "text": [
      "                                                                           \r"
     ]
    },
    {
     "name": "stdout",
     "output_type": "stream",
     "text": [
      "Epoch [119/125], Training Loss: 0.4440 Validation Loss: 0.5480175539851189\n"
     ]
    },
    {
     "name": "stderr",
     "output_type": "stream",
     "text": [
      "                                                                           \r"
     ]
    },
    {
     "name": "stdout",
     "output_type": "stream",
     "text": [
      "Epoch [120/125], Training Loss: 0.4444 Validation Loss: 0.5217201958100001\n"
     ]
    },
    {
     "name": "stderr",
     "output_type": "stream",
     "text": [
      "                                                                           \r"
     ]
    },
    {
     "name": "stdout",
     "output_type": "stream",
     "text": [
      "Epoch [121/125], Training Loss: 0.4438 Validation Loss: 0.5407517962157726\n"
     ]
    },
    {
     "name": "stderr",
     "output_type": "stream",
     "text": [
      "                                                                           \r"
     ]
    },
    {
     "name": "stdout",
     "output_type": "stream",
     "text": [
      "Epoch [122/125], Training Loss: 0.4399 Validation Loss: 0.5753039618333181\n"
     ]
    },
    {
     "name": "stderr",
     "output_type": "stream",
     "text": [
      "                                                                           \r"
     ]
    },
    {
     "name": "stdout",
     "output_type": "stream",
     "text": [
      "Epoch [123/125], Training Loss: 0.4384 Validation Loss: 0.5122756101191044\n"
     ]
    },
    {
     "name": "stderr",
     "output_type": "stream",
     "text": [
      "                                                                           \r"
     ]
    },
    {
     "name": "stdout",
     "output_type": "stream",
     "text": [
      "Epoch [124/125], Training Loss: 0.4403 Validation Loss: 0.568664975464344\n"
     ]
    },
    {
     "name": "stderr",
     "output_type": "stream",
     "text": [
      "                                                                           \r"
     ]
    },
    {
     "name": "stdout",
     "output_type": "stream",
     "text": [
      "Epoch [125/125], Training Loss: 0.4373 Validation Loss: 0.5519163881738981\n"
     ]
    }
   ],
   "source": [
    "lstm = MV_LSTM(54, 100)\n",
    "\n",
    "w2 = torch.tensor(len(dataset_rnn)/(2*sum(dataset_rnn.labels == 1)))\n",
    "# Define your loss function and optimizer\n",
    "criterion = nn.BCEWithLogitsLoss(pos_weight=torch.tensor([w2]), reduction='mean')\n",
    "optimizer = optim.Adam(lstm.parameters(), lr=1e-5, weight_decay=1e-5)\n",
    "num_epochs = 125\n",
    "\n",
    "# Initialize the best validation loss to positive infinity\n",
    "best_val_loss = float('inf')\n",
    "training_losses = []\n",
    "validation_losses = []\n",
    "\n",
    "\n",
    "\n",
    "# Assuming your input data is in the form of a PyTorch tensor\n",
    "# Here's how you can train your CNN\n",
    "for epoch in range(num_epochs):\n",
    "    # Create a progress bar\n",
    "    progress_bar = tqdm(train_dataloader_rnn, desc=f'Epoch {epoch + 1}/{num_epochs}', leave=False)\n",
    "    running_loss = 0.0\n",
    "    \n",
    "    lstm.train()\n",
    "\n",
    "    # Iterate over the dataset\n",
    "    for inputs, labels in progress_bar:\n",
    "        optimizer.zero_grad()\n",
    "        outputs = lstm(inputs)\n",
    "\n",
    "        loss = criterion(outputs, labels)\n",
    "        loss.backward()\n",
    "        optimizer.step()\n",
    "        \n",
    "        # Update the running loss\n",
    "        running_loss += loss.item()\n",
    "        # Update the progress bar with the current loss\n",
    "        progress_bar.set_postfix({'loss': running_loss / len(progress_bar)})\n",
    "        \n",
    "    # Calculate average loss for the epoch\n",
    "    epoch_loss = running_loss / len(train_dataloader_rnn)\n",
    "    training_losses.append(epoch_loss)\n",
    "    # Validation phase\n",
    "    lstm.eval()  # Set model to evaluation mode\n",
    "    running_val_loss = 0.0\n",
    "    \n",
    "    with torch.no_grad():\n",
    "        for inputs, labels in val_dataloader_rnn:\n",
    "            outputs = lstm(inputs)\n",
    "            loss = criterion(outputs, labels)\n",
    "            running_val_loss += loss.item()\n",
    "    \n",
    "    # Calculate average validation loss for the epoch\n",
    "    epoch_val_loss = running_val_loss / len(val_dataloader_rnn)\n",
    "    validation_losses.append(epoch_val_loss)\n",
    "    if epoch_val_loss < best_val_loss:\n",
    "        best_val_loss = epoch_val_loss\n",
    "        torch.save(lstm.state_dict(), dir+'/model.pth')\n",
    "    \n",
    "    print(f'Epoch [{epoch + 1}/{num_epochs}], Training Loss: {epoch_loss:.4f}', 'Validation Loss:', epoch_val_loss)\n"
   ]
  },
  {
   "cell_type": "code",
   "execution_count": 175,
   "metadata": {},
   "outputs": [
    {
     "data": {
      "text/plain": [
       "<matplotlib.legend.Legend at 0x1b895fd7080>"
      ]
     },
     "execution_count": 175,
     "metadata": {},
     "output_type": "execute_result"
    },
    {
     "data": {
      "image/png": "[encoded data removed]",
      "text/plain": [
       "<Figure size 640x480 with 1 Axes>"
      ]
     },
     "metadata": {},
     "output_type": "display_data"
    }
   ],
   "source": [
    "plt.plot(training_losses, label='Training Loss')\n",
    "plt.plot(validation_losses, label='Validation Loss')\n",
    "plt.xlabel('Epoch')\n",
    "plt.ylabel('Loss')\n",
    "plt.legend()"
   ]
  },
  {
   "cell_type": "code",
   "execution_count": 176,
   "metadata": {},
   "outputs": [],
   "source": [
    "# Function to compute evaluation metrics\n",
    "def evaluate_performance(model, dataloader):\n",
    "    \"\"\"\n",
    "    Evaluate the performance of a recurrent neural network model on a given dataset.\n",
    "\n",
    "    Args:\n",
    "        model (torch.nn.Module): The trained recurrent neural network model.\n",
    "        dataloader (torch.utils.data.DataLoader): The data loader for the evaluation dataset.\n",
    "\n",
    "    Returns:\n",
    "        accuracy (float): The accuracy of the model on the evaluation dataset.\n",
    "        precision (float): The precision score of the model on the evaluation dataset.\n",
    "        recall (float): The recall score of the model on the evaluation dataset.\n",
    "        conf_matrix (numpy.ndarray): The confusion matrix of the model on the evaluation dataset.\n",
    "        auroc (float): The area under the receiver operating characteristic curve (AUROC) of the model on the evaluation dataset.\n",
    "    \"\"\"\n",
    "    \n",
    "    model.eval()  # Set the model to evaluation mode\n",
    "    total_correct = 0\n",
    "    total_samples = 0\n",
    "    predicted_labels = []\n",
    "    true_labels = []\n",
    "    all_probabilities = []\n",
    "    with torch.no_grad():  # No need to track gradients during evaluation\n",
    "        for inputs, labels in dataloader:\n",
    "            outputs = model(inputs)\n",
    "            probabilities = torch.sigmoid(outputs)  # Apply sigmoid to get probabilities\n",
    "            predicted = (probabilities > 0.5).int()\n",
    "            total_correct += (predicted == labels).sum().item()\n",
    "            total_samples += labels.size(0)\n",
    "            predicted_labels.extend(predicted.numpy())\n",
    "            true_labels.extend(labels.numpy())\n",
    "            all_probabilities.extend(probabilities.numpy())\n",
    "\n",
    "    # Compute accuracy\n",
    "    accuracy = total_correct / total_samples\n",
    "\n",
    "    # Compute precision and recall\n",
    "    precision = precision_score(true_labels, predicted_labels)\n",
    "    recall = recall_score(true_labels, predicted_labels)\n",
    "\n",
    "    # Compute confusion matrix\n",
    "    conf_matrix = confusion_matrix(true_labels, predicted_labels)\n",
    "\n",
    "    # calculate false positive rate, true positive rate, and thresholds\n",
    "    fpr, tpr, thresholds = roc_curve(true_labels, all_probabilities)\n",
    "    # Calculate AUROC\n",
    "    auroc = roc_auc_score(true_labels, all_probabilities)\n",
    "\n",
    "   \n",
    "    # plot ROC curve\n",
    "    plt.plot(fpr, tpr)\n",
    "    plt.xlabel('False Positive Rate')\n",
    "    plt.ylabel('True Positive Rate')\n",
    "    plt.title('Receiver Operating Characteristic (ROC) Curve')\n",
    "    #plt.show()\n",
    "\n",
    "    return accuracy, precision, recall, conf_matrix, auroc"
   ]
  },
  {
   "cell_type": "code",
   "execution_count": 177,
   "metadata": {},
   "outputs": [
    {
     "name": "stdout",
     "output_type": "stream",
     "text": [
      "Test Performance:\n",
      "Accuracy: 86.41%\n",
      "AUROC: 0.88\n",
      "Precision: 0.73\n",
      "Recall: 0.69\n",
      "Confusion Matrix:\n",
      "[[504  44]\n",
      " [ 54 119]]\n"
     ]
    },
    {
     "data": {
      "image/png": "[encoded data removed]",
      "text/plain": [
       "<Figure size 640x480 with 1 Axes>"
      ]
     },
     "metadata": {},
     "output_type": "display_data"
    }
   ],
   "source": [
    "model = lstm # .load_state_dict(dir+'model.pth')\n",
    "accuracy, precision, recall, conf_matrix, auroc =  evaluate_performance(model, test_dataloader_rnn)\n",
    "print('Test Performance:') \n",
    "print(f'Accuracy: {accuracy:.2%}')\n",
    "print(f'AUROC: {auroc:.2f}')\n",
    "print(f'Precision: {precision:.2f}')\n",
    "print(f'Recall: {recall:.2f}')\n",
    "print('Confusion Matrix:')\n",
    "print(conf_matrix)\n"
   ]
  },
  {
   "cell_type": "code",
   "execution_count": 178,
   "metadata": {},
   "outputs": [
    {
     "name": "stdout",
     "output_type": "stream",
     "text": [
      "subject_id\n",
      "10000980    False\n",
      "10006029     True\n",
      "10010471    False\n",
      "10014471    False\n",
      "10017764    False\n",
      "            ...  \n",
      "19987216     True\n",
      "19993603    False\n",
      "19994588    False\n",
      "19995320    False\n",
      "19999303    False\n",
      "Name: outcome, Length: 3609, dtype: bool\n"
     ]
    }
   ],
   "source": [
    "print(y)"
   ]
  },
  {
   "cell_type": "code",
   "execution_count": 179,
   "metadata": {},
   "outputs": [
    {
     "name": "stdout",
     "output_type": "stream",
     "text": [
      "tensor([[-5.3490],\n",
      "        [-7.2825],\n",
      "        [-2.4814],\n",
      "        [ 0.1495],\n",
      "        [-2.0410],\n",
      "        [-2.4579],\n",
      "        [-1.3072],\n",
      "        [-1.4840],\n",
      "        [-2.1964],\n",
      "        [-2.7756]])\n"
     ]
    }
   ],
   "source": [
    "print(outputs)"
   ]
  },
  {
   "cell_type": "markdown",
   "metadata": {},
   "source": [
    "# Comparison"
   ]
  },
  {
   "cell_type": "markdown",
   "metadata": {},
   "source": []
  },
  {
   "cell_type": "code",
   "execution_count": null,
   "metadata": {},
   "outputs": [],
   "source": [
    "predictions_feng = gradboost.predict(X_test_scaled)\n",
    "probs_feng= gradboost.predict_proba(X_test_scaled)\n",
    "#calculate accuracy of the model\n",
    "accuracy_feng = sum(predictions_feng==y_test)/len(predictions_feng)\n",
    "#calculate AUC of the model\n",
    "auc_feng = roc_auc_score(y_test, predictions_feng)\n",
    "#calculate precision of the model\n",
    "precision_feng = precision_score(y_test, predictions_feng)\n",
    "#calculate recall of the model\n",
    "recall_feng = recall_score(y_test, predictions_feng)\n",
    "#calculate f1 score of the model\n",
    "f1_feng = f1_score(y_test, predictions_feng)\n",
    "#calculate confusion matrix of the model\n",
    "conf_feng = confusion_matrix(y_test, predictions_feng)\n"
   ]
  },
  {
   "cell_type": "markdown",
   "metadata": {},
   "source": [
    "CNN metrics"
   ]
  },
  {
   "cell_type": "code",
   "execution_count": null,
   "metadata": {},
   "outputs": [],
   "source": [
    "accuracy_cnn, precision_cnn, recall_cnn, conf_matrix_cnn, auroc_cnn = evaluate_performance(test_dataloader_1d)\n",
    "print('Test Performance:') \n",
    "print(f'Accuracy: {accuracy_cnn:.2%}')\n",
    "print(f'AUROC: {auroc_cnn:.2f}')\n",
    "print(f'Precision: {precision_cnn:.2f}')\n",
    "print(f'Recall: {recall_cnn:.2f}')\n",
    "print('Confusion Matrix:')\n",
    "print(conf_matrix_cnn)\n"
   ]
  },
  {
   "cell_type": "code",
   "execution_count": null,
   "metadata": {},
   "outputs": [],
   "source": [
    "#accuracy_dict = {'TrendFeatures': accuracy_feng, 'CNN': accuracy_cnn}\n",
    "precision_dict = {'TrendFeatures': precision_feng, 'CNN': precision_cnn}\n",
    "recall_dict = {'TrendFeatures': recall_feng, 'CNN': recall_cnn}\n",
    "f1_dict = {'TrendFeatures': f1_feng, 'CNN': f1_cnn}\n",
    "auc_dict = {'TrendFeatures': auc_feng, 'CNN': auroc_cnn}"
   ]
  },
  {
   "cell_type": "code",
   "execution_count": null,
   "metadata": {},
   "outputs": [],
   "source": [
    "results = pd.DataFrame([precision_dict, recall_dict, f1_dict, auc_dict], index=['Precision', 'Recall', 'F1', 'AUC'])"
   ]
  },
  {
   "cell_type": "code",
   "execution_count": null,
   "metadata": {},
   "outputs": [],
   "source": [
    "results.pivot_table(columns=['Precision', 'Recall', 'F1', 'AUC'])"
   ]
  },
  {
   "cell_type": "code",
   "execution_count": null,
   "metadata": {},
   "outputs": [],
   "source": [
    "total_correct = 0\n",
    "total_samples = 0\n",
    "predicted_labels = []\n",
    "true_labels = []\n",
    "all_probabilities = []\n",
    "with torch.no_grad():  # No need to track gradients during evaluation\n",
    "        for inputs, labels in test_dataloader_1d:\n",
    "            outputs = cnn(inputs)\n",
    "            probabilities = torch.sigmoid(outputs)  # Apply sigmoid to get probabilities\n",
    "            predicted = (probabilities > 0.5).int()\n",
    "            total_correct += (predicted == labels).sum().item()\n",
    "            total_samples += labels.size(0)\n",
    "            predicted_labels.extend(predicted.numpy())\n",
    "            true_labels.extend(labels.numpy())\n",
    "            all_probabilities.extend(probabilities.numpy())"
   ]
  },
  {
   "cell_type": "code",
   "execution_count": null,
   "metadata": {},
   "outputs": [],
   "source": [
    "f1_cnn = f1_score(true_labels, predicted_labels)"
   ]
  },
  {
   "cell_type": "code",
   "execution_count": null,
   "metadata": {},
   "outputs": [],
   "source": [
    "import seaborn as sns\n",
    "from sklearn.metrics import roc_curve\n",
    "\n",
    "# Calculate the FPR and TPR for the GradientBoostingClassifier model\n",
    "fpr_gb, tpr_gb, _ = roc_curve(y_test, probs_feng[:,1])\n",
    "\n",
    "# Calculate the FPR and TPR for the CNN model\n",
    "fpr_cnn, tpr_cnn, _ = roc_curve(true_labels, all_probabilities)\n",
    "\n",
    "# Plot the ROC curves\n",
    "sns.lineplot(x=fpr_gb, y=tpr_gb, label='GradientBoostingClassifier')\n",
    "sns.lineplot(x=fpr_cnn, y=tpr_cnn, label='CNN')\n",
    "\n",
    "# Set the labels and title\n",
    "plt.xlabel('False Positive Rate')\n",
    "plt.ylabel('True Positive Rate')\n",
    "plt.title('Receiver Operating Characteristic (ROC) Curve')\n",
    "\n",
    "# Show the legend\n",
    "plt.legend()\n",
    "\n",
    "# Show the plot\n",
    "plt.show()\n"
   ]
  },
  {
   "cell_type": "code",
   "execution_count": null,
   "metadata": {},
   "outputs": [],
   "source": []
  },
  {
   "cell_type": "code",
   "execution_count": null,
   "metadata": {},
   "outputs": [],
   "source": [
    "fis = pd.DataFrame.from_dict({'feature':X_train.columns, 'importances': gradboost.best_estimator_.feature_importances_})"
   ]
  },
  {
   "cell_type": "code",
   "execution_count": null,
   "metadata": {},
   "outputs": [],
   "source": [
    "sns.barplot(fis, x='feature', y='importances')"
   ]
  },
  {
   "cell_type": "code",
   "execution_count": null,
   "metadata": {},
   "outputs": [],
   "source": [
    "ranks = fis.sort_values(by='importances', ascending=False)\n",
    "ranks['rank'] = range(1, len(ranks)+1)"
   ]
  },
  {
   "cell_type": "code",
   "execution_count": null,
   "metadata": {},
   "outputs": [],
   "source": [
    "trend_features = ranks[ranks['feature'].str.contains('trend')]\n",
    "print(trend_features.sort_values(by='rank', ascending=True))\n"
   ]
  },
  {
   "cell_type": "code",
   "execution_count": null,
   "metadata": {},
   "outputs": [],
   "source": [
    "gradboost.best_params_"
   ]
  },
  {
   "cell_type": "code",
   "execution_count": null,
   "metadata": {},
   "outputs": [],
   "source": [
    "current_df.head()"
   ]
  },
  {
   "cell_type": "code",
   "execution_count": null,
   "metadata": {},
   "outputs": [],
   "source": [
    "new_X = current_df.drop(columns=['subject_id','outcome'])\n",
    "new_X.fillna(0, inplace=True)\n",
    "y = current_df['outcome']\n",
    "#split as before\n",
    "X_train, X_test, y_train, y_test = train_test_split(new_X, y, test_size=0.2, random_state=42, stratify=y)\n",
    "#scale as before\n",
    "scaler = StandardScaler()\n",
    "X_train_scaled = scaler.fit_transform(X_train)  \n",
    "X_test_scaled = scaler.transform(X_test)\n"
   ]
  },
  {
   "cell_type": "code",
   "execution_count": null,
   "metadata": {},
   "outputs": [],
   "source": [
    "new_grad = gradboost.best_estimator_.fit(X_train_scaled, y_train)\n",
    "new_preds = new_grad.predict(X_test_scaled)"
   ]
  },
  {
   "cell_type": "code",
   "execution_count": null,
   "metadata": {},
   "outputs": [],
   "source": [
    "predictions_feng_new = new_grad.predict(X_test_scaled)\n",
    "probs_feng_new= new_grad.predict_proba(X_test_scaled)\n",
    "#calculate accuracy of the model\n",
    "accuracy_feng_new = sum(predictions_feng_new==y_test)/len(predictions_feng_new)\n",
    "#calculate AUC of the model\n",
    "auc_feng_new = roc_auc_score(y_test, predictions_feng_new)\n",
    "#calculate precision of the model\n",
    "precision_feng_new = precision_score(y_test, predictions_feng_new)\n",
    "#calculate recall of the model\n",
    "recall_feng_new = recall_score(y_test, predictions_feng_new)\n",
    "#calculate f1 score of the model\n",
    "f1_feng_new = f1_score(y_test, predictions_feng_new)\n",
    "#calculate confusion matrix of the model\n",
    "conf_feng_new = confusion_matrix(y_test, predictions_feng_new)"
   ]
  },
  {
   "cell_type": "code",
   "execution_count": null,
   "metadata": {},
   "outputs": [],
   "source": [
    "print('Test Performance:')     \n",
    "print(f'Accuracy: {accuracy_feng_new:.2%}')\n",
    "print(f'AUROC: {auc_feng_new:.2f}')\n",
    "print(f'Precision: {precision_feng_new:.2f}')\n",
    "print(f'Recall: {recall_feng_new:.2f}')\n",
    "print('Confusion Matrix:')\n",
    "print(conf_feng)\n"
   ]
  },
  {
   "cell_type": "code",
   "execution_count": null,
   "metadata": {},
   "outputs": [],
   "source": [
    "25*7"
   ]
  },
  {
   "cell_type": "code",
   "execution_count": null,
   "metadata": {},
   "outputs": [],
   "source": [
    "current_df"
   ]
  },
  {
   "cell_type": "code",
   "execution_count": null,
   "metadata": {},
   "outputs": [],
   "source": [
    "from sklearn.model_selection import KFold"
   ]
  },
  {
   "cell_type": "code",
   "execution_count": null,
   "metadata": {},
   "outputs": [],
   "source": [
    "best_params = {'max_depth': 15,\n",
    " 'max_features': 20,\n",
    " 'min_samples_leaf': 50,\n",
    " 'min_samples_split': 4,\n",
    " 'n_estimators': 200}\n",
    "model = GradientBoostingClassifier(**best_params)"
   ]
  },
  {
   "cell_type": "markdown",
   "metadata": {},
   "source": [
    "# Cross-sectional Predictions by Time"
   ]
  },
  {
   "cell_type": "code",
   "execution_count": null,
   "metadata": {},
   "outputs": [],
   "source": [
    "#window parameters\n",
    "window_size = 3\n",
    "window_ends = range(7, 365, window_size)"
   ]
  },
  {
   "cell_type": "code",
   "execution_count": null,
   "metadata": {},
   "outputs": [],
   "source": [
    "aucs = []\n",
    "precisions = []\n",
    "recalls = []\n",
    "counter = 0\n",
    "for i in window_ends:\n",
    "    counter +=1\n",
    "    print('Window (',i+window_size,', ', -i,')', '    iteration: ', counter, ' of ', len(window_ends))\n",
    "    current_df = fg.current_bloods_df(processed_labs, i, -i+7)\n",
    "    current_df.fillna(0, inplace=True)\n",
    "    X = current_df.drop(columns=['subject_id','outcome'])\n",
    "    y = current_df['outcome']\n",
    "    window_aucs = []\n",
    "    window_precisions = []\n",
    "    window_recalls = []\n",
    "    kf = KFold(n_splits=10, shuffle=True, random_state=42)\n",
    "    for j, (train_data, test_data) in enumerate(kf.split(X, y)):\n",
    "\n",
    "        #split as before\n",
    "        #X_train, X_test, y_train, y_test = train_test_split(X, y, test_size=0.2, random_state=42, stratify=y)\n",
    "        X_train = X.iloc[train_data]\n",
    "        X_test = X.iloc[test_data]\n",
    "        y_train = y.iloc[train_data]\n",
    "        y_test = y.iloc[test_data]\n",
    "        \n",
    "        #scale as before\n",
    "        scaler = StandardScaler()\n",
    "        X_train_scaled = scaler.fit_transform(X_train)\n",
    "        X_test_scaled = scaler.transform(X_test)\n",
    "        #fit as before\n",
    "        model.fit(X_train_scaled, y_train)\n",
    "        #predict as before\n",
    "        predictions = model.predict(X_test_scaled)\n",
    "        probabilities = model.predict_proba(X_test_scaled)\n",
    "        #calculate AUC of the model\n",
    "        auc = roc_auc_score(y_test, probabilities[:,1])\n",
    "        #calculate precision of the model\n",
    "        precision = precision_score(y_test, predictions)\n",
    "        #calculate recall of the model\n",
    "        recall = recall_score(y_test, predictions)\n",
    "        window_aucs.append(auc)\n",
    "        window_precisions.append(precision)\n",
    "        window_recalls.append(recall)\n",
    "\n",
    "    aucs.append(sum(window_aucs)/len(window_aucs))\n",
    "    precisions.append(sum(window_precisions)/len(window_precisions))\n",
    "    recalls.append(sum(window_recalls)/len(window_recalls))\n",
    "\n"
   ]
  },
  {
   "cell_type": "markdown",
   "metadata": {},
   "source": [
    "# Cross-sectional predictions with just test indicators"
   ]
  },
  {
   "cell_type": "code",
   "execution_count": null,
   "metadata": {},
   "outputs": [],
   "source": [
    "aucs_testind = []\n",
    "precisions_testind = []\n",
    "recalls_testind = []\n",
    "counter = 0\n",
    "for i in window_ends:\n",
    "    counter +=1\n",
    "    print('Window (',i+window_size,', ', -i,')', '    iteration: ', counter, ' of ', len(window_ends))\n",
    "    current_df = fg.current_bloods_df(processed_labs, i, -i+7)\n",
    "    current_df.fillna(0, inplace=True)\n",
    "    X = current_df.drop(columns=['subject_id','outcome'])\n",
    "    X[X>0] = 1\n",
    "    y = current_df['outcome']\n",
    "    window_aucs = []\n",
    "    window_precisions = []\n",
    "    window_recalls = []\n",
    "    kf = KFold(n_splits=10, shuffle=True, random_state=42)\n",
    "    for j, (train_data, test_data) in enumerate(kf.split(X, y)):\n",
    "\n",
    "        #split as before\n",
    "        #X_train, X_test, y_train, y_test = train_test_split(X, y, test_size=0.2, random_state=42, stratify=y)\n",
    "        X_train = X.iloc[train_data]\n",
    "        X_test = X.iloc[test_data]\n",
    "        y_train = y.iloc[train_data]\n",
    "        y_test = y.iloc[test_data]\n",
    "        \n",
    "        #scale as before\n",
    "        scaler = StandardScaler()\n",
    "        X_train_scaled = scaler.fit_transform(X_train)\n",
    "        X_test_scaled = scaler.transform(X_test)\n",
    "        #fit as before\n",
    "        model.fit(X_train_scaled, y_train)\n",
    "        #predict as before\n",
    "        predictions = model.predict(X_test_scaled)\n",
    "        probabilities = model.predict_proba(X_test_scaled)\n",
    "        #calculate AUC of the model\n",
    "        auc = roc_auc_score(y_test, probabilities[:,1])\n",
    "        #calculate precision of the model\n",
    "        precision = precision_score(y_test, predictions)\n",
    "        #calculate recall of the model\n",
    "        recall = recall_score(y_test, predictions)\n",
    "        window_aucs.append(auc)\n",
    "        window_precisions.append(precision)\n",
    "        window_recalls.append(recall)\n",
    "\n",
    "    aucs_testind.append(sum(window_aucs)/len(window_aucs))\n",
    "    precisions_testind.append(sum(window_precisions)/len(window_precisions))\n",
    "    recalls_testind.append(sum(window_recalls)/len(window_recalls))\n",
    "\n"
   ]
  },
  {
   "cell_type": "code",
   "execution_count": null,
   "metadata": {},
   "outputs": [],
   "source": [
    "fig, (ax1, ax2, ax3) = plt.subplots(1, 3, figsize=(15, 5))\n",
    "#Plot the AUCS against the time windows\n",
    "ax1.plot(window_ends, aucs_testind, label='Indicator Only')\n",
    "ax1.plot(window_ends, aucs, label='With Values')\n",
    "ax1.set_xlabel('Time Window')\n",
    "ax1.set_ylabel('AUC')\n",
    "ax1.set_title('AUC vs Time Window')\n",
    "ax1.legend()\n",
    "\n",
    "#Plot the precisions against the time windows\n",
    "ax2.plot(window_ends, precisions_testind, label='Indicator Only')\n",
    "ax2.plot(window_ends, precisions, label='With Values')\n",
    "ax2.set_xlabel('Time Window')\n",
    "ax2.set_ylabel('Precision')\n",
    "ax2.set_title('Precision vs Time Window')\n",
    "ax2.legend()\n",
    "\n",
    "#Plot the recalls against the time windows\n",
    "ax3.plot(window_ends, recalls_testind, label='Indicator Only')\n",
    "ax3.plot(window_ends, recalls, label='With Values')\n",
    "ax3.set_xlabel('Time Window')\n",
    "ax3.set_ylabel('Recall')\n",
    "ax3.set_title('Recall vs Time Window')\n",
    "ax3.legend()"
   ]
  },
  {
   "cell_type": "code",
   "execution_count": null,
   "metadata": {},
   "outputs": [],
   "source": [
    "# fit a 2nd degree polynomial to each of the lines of the graphs above and plot the results\n",
    "import numpy as np\n",
    "from numpy.polynomial.polynomial import Polynomial\n",
    "\n",
    "aucs_poly = Polynomial.fit(window_ends, aucs, 2)\n",
    "precisions_poly = Polynomial.fit(window_ends, precisions, 2)\n",
    "recalls_poly = Polynomial.fit(window_ends, recalls, 2)\n",
    "\n",
    "aucs_testind_poly = Polynomial.fit(window_ends, aucs_testind, 2)\n",
    "precisions_testind_poly = Polynomial.fit(window_ends, precisions_testind, 2)\n",
    "recalls_testind_poly = Polynomial.fit(window_ends, recalls_testind, 2)\n",
    "\n",
    "fig, (ax1, ax2, ax3) = plt.subplots(1, 3, figsize=(15, 5))\n",
    "#Plot the AUCS against the time windows\n",
    "ax1.plot(window_ends, aucs_testind, label='Indicator Only')\n",
    "ax1.plot(window_ends, aucs, label='With Values')\n",
    "ax1.plot(window_ends, aucs_poly(window_ends), label='Polynomial Fit')\n",
    "ax1.plot(window_ends, aucs_testind_poly(window_ends), label='Polynomial Fit Indicator Only')\n",
    "ax1.set_xlabel('Time Window')\n",
    "ax1.set_ylabel('AUC')\n",
    "ax1.set_title('AUC vs Time Window')\n",
    "ax1.legend()\n",
    "\n",
    "#Plot the precisions against the time windows\n",
    "ax2.plot(window_ends, precisions_testind, label='Indicator Only')\n",
    "ax2.plot(window_ends, precisions, label='With Values')\n",
    "ax2.plot(window_ends, precisions_poly(window_ends), label='Polynomial Fit')\n",
    "ax2.plot(window_ends, precisions_testind_poly(window_ends), label='Polynomial Fit Indicator Only')\n",
    "ax2.set_xlabel('Time Window')\n",
    "ax2.set_ylabel('Precision')\n",
    "ax2.set_title('Precision vs Time Window')\n",
    "ax2.legend()\n",
    "\n",
    "#Plot the recalls against the time windows\n",
    "ax3.plot(window_ends, recalls_testind, label='Indicator Only')\n",
    "ax3.plot(window_ends, recalls, label='With Values')\n",
    "ax3.plot(window_ends, recalls_poly(window_ends), label='Polynomial Fit')\n",
    "ax3.plot(window_ends, recalls_testind_poly(window_ends), label='Polynomial Fit Indicator Only')\n",
    "ax3.set_xlabel('Time Window')\n",
    "ax3.set_ylabel('Recall')\n",
    "ax3.set_title('Recall vs Time Window')\n",
    "ax3.legend()\n"
   ]
  },
  {
   "cell_type": "code",
   "execution_count": null,
   "metadata": {},
   "outputs": [],
   "source": []
  },
  {
   "cell_type": "code",
   "execution_count": null,
   "metadata": {},
   "outputs": [],
   "source": []
  },
  {
   "cell_type": "code",
   "execution_count": null,
   "metadata": {},
   "outputs": [],
   "source": []
  },
  {
   "cell_type": "markdown",
   "metadata": {},
   "source": [
    "# Test CNN code"
   ]
  },
  {
   "cell_type": "code",
   "execution_count": null,
   "metadata": {},
   "outputs": [],
   "source": [
    "from utils.CNN_1d import OneD_Dataset, onedCNN2, train_model, initialise_dataloaders"
   ]
  },
  {
   "cell_type": "code",
   "execution_count": null,
   "metadata": {},
   "outputs": [],
   "source": [
    "train_loader, val_loader, test_loader = initialise_dataloaders(dir+'CNN_1d_input.npy', dir+'CNN_1d_output.npy', 48)"
   ]
  },
  {
   "cell_type": "code",
   "execution_count": null,
   "metadata": {},
   "outputs": [],
   "source": [
    "dir"
   ]
  },
  {
   "cell_type": "code",
   "execution_count": null,
   "metadata": {},
   "outputs": [],
   "source": [
    "model = onedCNN2()\n",
    "train_model(model, train_loader, val_loader, 10)"
   ]
  },
  {
   "cell_type": "code",
   "execution_count": null,
   "metadata": {},
   "outputs": [],
   "source": []
  }
 ],
 "metadata": {
  "kernelspec": {
   "display_name": "LIVER_PRED",
   "language": "python",
   "name": "python3"
  },
  "language_info": {
   "codemirror_mode": {
    "name": "ipython",
    "version": 3
   },
   "file_extension": ".py",
   "mimetype": "text/x-python",
   "name": "python",
   "nbconvert_exporter": "python",
   "pygments_lexer": "ipython3",
   "version": "3.12.0"
  }
 },
 "nbformat": 4,
 "nbformat_minor": 2
}
